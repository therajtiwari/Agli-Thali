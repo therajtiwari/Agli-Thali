{
 "cells": [
  {
   "cell_type": "code",
   "execution_count": 1,
   "metadata": {},
   "outputs": [],
   "source": [
    "import numpy as np\n",
    "import pandas as pd\n",
    "import matplotlib.pyplot as plt\n",
    "import seaborn as sns\n",
    "from pylab import rcParams\n",
    "rcParams[\"figure.figsize\"] = (12, 6)\n",
    "\n"
   ]
  },
  {
   "cell_type": "code",
   "execution_count": 2,
   "metadata": {},
   "outputs": [
    {
     "output_type": "execute_result",
     "data": {
      "text/plain": [
       "             name                                        ingredients  \\\n",
       "0      Balu shahi                    Maida flour, yogurt, oil, sugar   \n",
       "1          Boondi                            Gram flour, ghee, sugar   \n",
       "2  Gajar ka halwa       Carrots, milk, sugar, ghee, cashews, raisins   \n",
       "3          Ghevar  Flour, ghee, kewra, milk, clarified butter, su...   \n",
       "4     Gulab jamun  Milk powder, plain flour, baking powder, ghee,...   \n",
       "\n",
       "         diet  prep_time  cook_time flavor_profile   course        state  \\\n",
       "0  vegetarian         45         25          sweet  dessert  West Bengal   \n",
       "1  vegetarian         80         30          sweet  dessert    Rajasthan   \n",
       "2  vegetarian         15         60          sweet  dessert       Punjab   \n",
       "3  vegetarian         15         30          sweet  dessert    Rajasthan   \n",
       "4  vegetarian         15         40          sweet  dessert  West Bengal   \n",
       "\n",
       "  region  \n",
       "0   East  \n",
       "1   West  \n",
       "2  North  \n",
       "3   West  \n",
       "4   East  "
      ],
      "text/html": "<div>\n<style scoped>\n    .dataframe tbody tr th:only-of-type {\n        vertical-align: middle;\n    }\n\n    .dataframe tbody tr th {\n        vertical-align: top;\n    }\n\n    .dataframe thead th {\n        text-align: right;\n    }\n</style>\n<table border=\"1\" class=\"dataframe\">\n  <thead>\n    <tr style=\"text-align: right;\">\n      <th></th>\n      <th>name</th>\n      <th>ingredients</th>\n      <th>diet</th>\n      <th>prep_time</th>\n      <th>cook_time</th>\n      <th>flavor_profile</th>\n      <th>course</th>\n      <th>state</th>\n      <th>region</th>\n    </tr>\n  </thead>\n  <tbody>\n    <tr>\n      <th>0</th>\n      <td>Balu shahi</td>\n      <td>Maida flour, yogurt, oil, sugar</td>\n      <td>vegetarian</td>\n      <td>45</td>\n      <td>25</td>\n      <td>sweet</td>\n      <td>dessert</td>\n      <td>West Bengal</td>\n      <td>East</td>\n    </tr>\n    <tr>\n      <th>1</th>\n      <td>Boondi</td>\n      <td>Gram flour, ghee, sugar</td>\n      <td>vegetarian</td>\n      <td>80</td>\n      <td>30</td>\n      <td>sweet</td>\n      <td>dessert</td>\n      <td>Rajasthan</td>\n      <td>West</td>\n    </tr>\n    <tr>\n      <th>2</th>\n      <td>Gajar ka halwa</td>\n      <td>Carrots, milk, sugar, ghee, cashews, raisins</td>\n      <td>vegetarian</td>\n      <td>15</td>\n      <td>60</td>\n      <td>sweet</td>\n      <td>dessert</td>\n      <td>Punjab</td>\n      <td>North</td>\n    </tr>\n    <tr>\n      <th>3</th>\n      <td>Ghevar</td>\n      <td>Flour, ghee, kewra, milk, clarified butter, su...</td>\n      <td>vegetarian</td>\n      <td>15</td>\n      <td>30</td>\n      <td>sweet</td>\n      <td>dessert</td>\n      <td>Rajasthan</td>\n      <td>West</td>\n    </tr>\n    <tr>\n      <th>4</th>\n      <td>Gulab jamun</td>\n      <td>Milk powder, plain flour, baking powder, ghee,...</td>\n      <td>vegetarian</td>\n      <td>15</td>\n      <td>40</td>\n      <td>sweet</td>\n      <td>dessert</td>\n      <td>West Bengal</td>\n      <td>East</td>\n    </tr>\n  </tbody>\n</table>\n</div>"
     },
     "metadata": {},
     "execution_count": 2
    }
   ],
   "source": [
    "# importing the csv\n",
    "data = pd.read_csv(\"./datasets/indian_food.csv\")\n",
    "data.head()"
   ]
  },
  {
   "cell_type": "code",
   "execution_count": 3,
   "metadata": {},
   "outputs": [
    {
     "output_type": "execute_result",
     "data": {
      "text/plain": [
       "(255, 9)"
      ]
     },
     "metadata": {},
     "execution_count": 3
    }
   ],
   "source": [
    "# getting some basic info\n",
    "data.shape"
   ]
  },
  {
   "cell_type": "code",
   "execution_count": 4,
   "metadata": {},
   "outputs": [
    {
     "output_type": "execute_result",
     "data": {
      "text/plain": [
       "array(['Balu shahi', 'Boondi', 'Gajar ka halwa', 'Ghevar', 'Gulab jamun',\n",
       "       'Imarti', 'Jalebi', 'Kaju katli', 'Kalakand', 'Kheer', 'Laddu',\n",
       "       'Lassi', 'Nankhatai', 'Petha', 'Phirni', 'Rabri', 'Sheera',\n",
       "       'Singori', 'Sohan halwa', 'Sohan papdi', 'Chhena jalebi',\n",
       "       'Chhena kheeri', 'Chhena poda', 'Cham cham', 'Kheer sagar',\n",
       "       'Ledikeni', 'Lyangcha', 'Malapua', 'Mihidana', 'Misti doi',\n",
       "       'Pantua', 'Pithe', 'Rasabali', 'Ras malai', 'Rasgulla', 'Sandesh',\n",
       "       'Adhirasam', 'Ariselu', 'Bandar laddu', 'Chikki', 'Dharwad pedha',\n",
       "       'Double ka meetha', 'Gavvalu', 'Kakinada khaja', 'Kuzhi paniyaram',\n",
       "       'Mysore pak', 'Obbattu holige', 'Palathalikalu', 'Poornalu',\n",
       "       'Pongal', 'Pootharekulu', 'Qubani ka meetha', 'Sheer korma',\n",
       "       'Unni Appam', 'Kajjikaya', 'Anarsa', 'Basundi', 'Dhondas',\n",
       "       'Doodhpak', 'Mahim halwa', 'Modak', 'Shankarpali', 'Shrikhand',\n",
       "       'Sutar feni', 'Maach Jhol', 'Pork Bharta', 'Chak Hao Kheer',\n",
       "       'Galho', 'Aloo gobi', 'Aloo tikki', 'Aloo matar', 'Aloo methi',\n",
       "       'Aloo shimla mirch', 'Bhatura', 'Bhindi masala', 'Biryani',\n",
       "       'Butter chicken', 'Chana masala', 'Chapati', 'Chicken razala',\n",
       "       'Chicken Tikka masala', 'Chicken Tikka', 'Chole bhature',\n",
       "       'Daal baati churma', 'Daal puri', 'Dal makhani ', 'Dal tadka',\n",
       "       'Dum aloo', 'Poha', 'Fara', 'Kachori', 'Kadai paneer',\n",
       "       'Kadhi pakoda', 'Karela bharta', 'Khichdi', 'Kofta',\n",
       "       'Kulfi falooda', 'Lauki ke kofte', 'Lauki ki subji',\n",
       "       'Litti chokha', 'Makki di roti sarson da saag', 'Misi roti',\n",
       "       'Mushroom do pyaza', 'Mushroom matar', 'Naan', 'Navrattan korma',\n",
       "       'Palak paneer', 'Paneer butter masala', 'Paneer tikka masala',\n",
       "       'Pani puri', 'Panjeeri', 'Papad', 'Paratha', 'Pattor',\n",
       "       'Pindi chana', 'Rajma chaval', 'Rongi', 'Samosa', 'Sattu ki roti',\n",
       "       'Shahi paneer', 'Shahi tukra', 'Vegetable jalfrezi',\n",
       "       'Tandoori Chicken', 'Tandoori Fish Tikka', 'Attu', 'Avial',\n",
       "       'Bisi bele bath', 'Currivepillai sadam ', 'Dosa', 'Idiappam',\n",
       "       'Idli', 'Kanji', 'Kaara kozhambu', 'Keerai kootu',\n",
       "       'Keerai masiyal', 'Keerai sadam', 'Keerai poriyal', 'Beef Fry',\n",
       "       'Kootu', 'Kos kootu', 'Koshambri', 'Kothamali sadam',\n",
       "       'Kuzhakkattai', 'Kuzhambu', 'Masala Dosa', 'Pachadi', 'Paniyaram',\n",
       "       'Papadum', 'Paravannam', 'Payasam', 'Paruppu sadam', 'Pesarattu',\n",
       "       'Poriyal', 'Puli sadam', 'Rasam', 'Puttu', 'Sambar', 'Sandige',\n",
       "       'Sevai', 'Thayir sadam', 'Theeyal', 'Uttapam', 'Vada',\n",
       "       'Chicken Varuval', 'Upma', 'Amti', 'Zunka', 'Kolim Jawla', 'Saath',\n",
       "       'Bajri no rotlo', 'Coconut vadi', 'Bhakri', 'Bombil fry',\n",
       "       'Chakali', 'Chevdo', 'Chorafali', 'Copra paak', 'Daal Dhokli',\n",
       "       'Kutchi dabeli', 'Dahi vada', 'Dalithoy', 'Dhokla', 'Dudhi halwa',\n",
       "       'Gatta curry', 'Gud papdi', 'Ghooghra', 'Handwo', 'Halvasan',\n",
       "       'Jeera Aloo', 'Kansar', 'Keri no ras', 'Khakhra', 'Khandvi',\n",
       "       'Kombdi vade', 'Laapsi', 'Koshimbir', 'Methi na Gota', 'Mohanthal',\n",
       "       'Muthiya', 'Patra', 'Pav Bhaji', 'Puri Bhaji', 'Sabudana Khichadi',\n",
       "       'Sev khamani', 'Sev tameta', 'Namakpara', 'Sukhdi', 'Surnoli',\n",
       "       'Thalipeeth', 'Undhiyu', 'Veg Kolhapuri', 'Vindaloo',\n",
       "       'Lilva Kachori', 'Mag Dhokli', 'Khichu', 'Thepla', 'Farsi Puri',\n",
       "       'Khaman', 'Turiya Patra Vatana sabji', 'Churma Ladoo',\n",
       "       'Cheera Doi', 'Gheela Pitha', 'Khar', 'Kumol Sawul', 'Luchi',\n",
       "       'Alu Pitika', 'Masor tenga', 'Bengena Pitika', 'Bilahi Maas',\n",
       "       'Black rice', 'Bora Sawul', 'Brown Rice', 'Chingri malai curry',\n",
       "       'Goja', 'Hando Guri', 'Haq Maas', 'Chingri Bhape', 'Kabiraji',\n",
       "       'Khorisa', 'Koldil Chicken', 'Konir Dom', 'Koldil Duck',\n",
       "       'Masor Koni', 'Mishti Chholar Dal', 'Pakhala', 'Pani Pitha',\n",
       "       'Payokh', 'Prawn malai curry', 'Red Rice', 'Shukto', 'Til Pitha',\n",
       "       'Bebinca', 'Shufta', 'Mawa Bati', 'Pinaca'], dtype=object)"
      ]
     },
     "metadata": {},
     "execution_count": 4
    }
   ],
   "source": [
    "data.name.unique()"
   ]
  },
  {
   "cell_type": "code",
   "execution_count": 5,
   "metadata": {},
   "outputs": [
    {
     "output_type": "execute_result",
     "data": {
      "text/plain": [
       "255"
      ]
     },
     "metadata": {},
     "execution_count": 5
    }
   ],
   "source": [
    "data.name.nunique()"
   ]
  },
  {
   "cell_type": "code",
   "execution_count": 6,
   "metadata": {},
   "outputs": [
    {
     "output_type": "execute_result",
     "data": {
      "text/plain": [
       "               name                                        ingredients  \\\n",
       "0        balu shahi                    Maida flour, yogurt, oil, sugar   \n",
       "1            boondi                            Gram flour, ghee, sugar   \n",
       "2    gajar ka halwa       Carrots, milk, sugar, ghee, cashews, raisins   \n",
       "3            ghevar  Flour, ghee, kewra, milk, clarified butter, su...   \n",
       "4       gulab jamun  Milk powder, plain flour, baking powder, ghee,...   \n",
       "..              ...                                                ...   \n",
       "250       til pitha            Glutinous rice, black sesame seeds, gur   \n",
       "251         bebinca  Coconut milk, egg yolks, clarified butter, all...   \n",
       "252          shufta  Cottage cheese, dry dates, dried rose petals, ...   \n",
       "253       mawa bati  Milk powder, dry fruits, arrowroot powder, all...   \n",
       "254          pinaca  Brown rice, fennel seeds, grated coconut, blac...   \n",
       "\n",
       "           diet  prep_time  cook_time flavor_profile   course  \\\n",
       "0    vegetarian         45         25          sweet  dessert   \n",
       "1    vegetarian         80         30          sweet  dessert   \n",
       "2    vegetarian         15         60          sweet  dessert   \n",
       "3    vegetarian         15         30          sweet  dessert   \n",
       "4    vegetarian         15         40          sweet  dessert   \n",
       "..          ...        ...        ...            ...      ...   \n",
       "250  vegetarian          5         30          sweet  dessert   \n",
       "251  vegetarian         20         60          sweet  dessert   \n",
       "252  vegetarian         -1         -1          sweet  dessert   \n",
       "253  vegetarian         20         45          sweet  dessert   \n",
       "254  vegetarian         -1         -1          sweet  dessert   \n",
       "\n",
       "               state      region  \n",
       "0        West Bengal        East  \n",
       "1          Rajasthan        West  \n",
       "2             Punjab       North  \n",
       "3          Rajasthan        West  \n",
       "4        West Bengal        East  \n",
       "..               ...         ...  \n",
       "250            Assam  North East  \n",
       "251              Goa        West  \n",
       "252  Jammu & Kashmir       North  \n",
       "253   Madhya Pradesh     Central  \n",
       "254              Goa        West  \n",
       "\n",
       "[255 rows x 9 columns]"
      ],
      "text/html": "<div>\n<style scoped>\n    .dataframe tbody tr th:only-of-type {\n        vertical-align: middle;\n    }\n\n    .dataframe tbody tr th {\n        vertical-align: top;\n    }\n\n    .dataframe thead th {\n        text-align: right;\n    }\n</style>\n<table border=\"1\" class=\"dataframe\">\n  <thead>\n    <tr style=\"text-align: right;\">\n      <th></th>\n      <th>name</th>\n      <th>ingredients</th>\n      <th>diet</th>\n      <th>prep_time</th>\n      <th>cook_time</th>\n      <th>flavor_profile</th>\n      <th>course</th>\n      <th>state</th>\n      <th>region</th>\n    </tr>\n  </thead>\n  <tbody>\n    <tr>\n      <th>0</th>\n      <td>balu shahi</td>\n      <td>Maida flour, yogurt, oil, sugar</td>\n      <td>vegetarian</td>\n      <td>45</td>\n      <td>25</td>\n      <td>sweet</td>\n      <td>dessert</td>\n      <td>West Bengal</td>\n      <td>East</td>\n    </tr>\n    <tr>\n      <th>1</th>\n      <td>boondi</td>\n      <td>Gram flour, ghee, sugar</td>\n      <td>vegetarian</td>\n      <td>80</td>\n      <td>30</td>\n      <td>sweet</td>\n      <td>dessert</td>\n      <td>Rajasthan</td>\n      <td>West</td>\n    </tr>\n    <tr>\n      <th>2</th>\n      <td>gajar ka halwa</td>\n      <td>Carrots, milk, sugar, ghee, cashews, raisins</td>\n      <td>vegetarian</td>\n      <td>15</td>\n      <td>60</td>\n      <td>sweet</td>\n      <td>dessert</td>\n      <td>Punjab</td>\n      <td>North</td>\n    </tr>\n    <tr>\n      <th>3</th>\n      <td>ghevar</td>\n      <td>Flour, ghee, kewra, milk, clarified butter, su...</td>\n      <td>vegetarian</td>\n      <td>15</td>\n      <td>30</td>\n      <td>sweet</td>\n      <td>dessert</td>\n      <td>Rajasthan</td>\n      <td>West</td>\n    </tr>\n    <tr>\n      <th>4</th>\n      <td>gulab jamun</td>\n      <td>Milk powder, plain flour, baking powder, ghee,...</td>\n      <td>vegetarian</td>\n      <td>15</td>\n      <td>40</td>\n      <td>sweet</td>\n      <td>dessert</td>\n      <td>West Bengal</td>\n      <td>East</td>\n    </tr>\n    <tr>\n      <th>...</th>\n      <td>...</td>\n      <td>...</td>\n      <td>...</td>\n      <td>...</td>\n      <td>...</td>\n      <td>...</td>\n      <td>...</td>\n      <td>...</td>\n      <td>...</td>\n    </tr>\n    <tr>\n      <th>250</th>\n      <td>til pitha</td>\n      <td>Glutinous rice, black sesame seeds, gur</td>\n      <td>vegetarian</td>\n      <td>5</td>\n      <td>30</td>\n      <td>sweet</td>\n      <td>dessert</td>\n      <td>Assam</td>\n      <td>North East</td>\n    </tr>\n    <tr>\n      <th>251</th>\n      <td>bebinca</td>\n      <td>Coconut milk, egg yolks, clarified butter, all...</td>\n      <td>vegetarian</td>\n      <td>20</td>\n      <td>60</td>\n      <td>sweet</td>\n      <td>dessert</td>\n      <td>Goa</td>\n      <td>West</td>\n    </tr>\n    <tr>\n      <th>252</th>\n      <td>shufta</td>\n      <td>Cottage cheese, dry dates, dried rose petals, ...</td>\n      <td>vegetarian</td>\n      <td>-1</td>\n      <td>-1</td>\n      <td>sweet</td>\n      <td>dessert</td>\n      <td>Jammu &amp; Kashmir</td>\n      <td>North</td>\n    </tr>\n    <tr>\n      <th>253</th>\n      <td>mawa bati</td>\n      <td>Milk powder, dry fruits, arrowroot powder, all...</td>\n      <td>vegetarian</td>\n      <td>20</td>\n      <td>45</td>\n      <td>sweet</td>\n      <td>dessert</td>\n      <td>Madhya Pradesh</td>\n      <td>Central</td>\n    </tr>\n    <tr>\n      <th>254</th>\n      <td>pinaca</td>\n      <td>Brown rice, fennel seeds, grated coconut, blac...</td>\n      <td>vegetarian</td>\n      <td>-1</td>\n      <td>-1</td>\n      <td>sweet</td>\n      <td>dessert</td>\n      <td>Goa</td>\n      <td>West</td>\n    </tr>\n  </tbody>\n</table>\n<p>255 rows × 9 columns</p>\n</div>"
     },
     "metadata": {},
     "execution_count": 6
    }
   ],
   "source": [
    "# stripping the extra spaces if any and coverting to lower case\n",
    "data.name=data.name.str.strip()\n",
    "data.name=data.name.str.lower()\n",
    "data"
   ]
  },
  {
   "cell_type": "code",
   "execution_count": 7,
   "metadata": {},
   "outputs": [
    {
     "output_type": "execute_result",
     "data": {
      "text/plain": [
       "vegetarian        226\n",
       "non vegetarian     29\n",
       "Name: diet, dtype: int64"
      ]
     },
     "metadata": {},
     "execution_count": 7
    }
   ],
   "source": [
    "# getting an overview of the columns\n",
    "data.diet.value_counts()"
   ]
  },
  {
   "cell_type": "code",
   "execution_count": 8,
   "metadata": {},
   "outputs": [
    {
     "output_type": "execute_result",
     "data": {
      "text/plain": [
       "spicy     133\n",
       "sweet      88\n",
       "-1         29\n",
       "bitter      4\n",
       "sour        1\n",
       "Name: flavor_profile, dtype: int64"
      ]
     },
     "metadata": {},
     "execution_count": 8
    }
   ],
   "source": [
    "data.flavor_profile.value_counts()"
   ]
  },
  {
   "cell_type": "code",
   "execution_count": 9,
   "metadata": {},
   "outputs": [
    {
     "output_type": "execute_result",
     "data": {
      "text/plain": [
       "main course    129\n",
       "dessert         85\n",
       "snack           39\n",
       "starter          2\n",
       "Name: course, dtype: int64"
      ]
     },
     "metadata": {},
     "execution_count": 9
    }
   ],
   "source": [
    "data.course.value_counts()"
   ]
  },
  {
   "cell_type": "code",
   "execution_count": 10,
   "metadata": {},
   "outputs": [
    {
     "output_type": "execute_result",
     "data": {
      "text/plain": [
       "West          74\n",
       "South         59\n",
       "North         49\n",
       "East          31\n",
       "North East    25\n",
       "-1            13\n",
       "Central        3\n",
       "Name: region, dtype: int64"
      ]
     },
     "metadata": {},
     "execution_count": 10
    }
   ],
   "source": [
    "data.region.value_counts()"
   ]
  },
  {
   "cell_type": "code",
   "execution_count": 11,
   "metadata": {},
   "outputs": [
    {
     "output_type": "execute_result",
     "data": {
      "text/plain": [
       "Gujarat            35\n",
       "Punjab             32\n",
       "Maharashtra        30\n",
       "-1                 24\n",
       "West Bengal        24\n",
       "Assam              21\n",
       "Tamil Nadu         20\n",
       "Andhra Pradesh     10\n",
       "Uttar Pradesh       9\n",
       "Kerala              8\n",
       "Odisha              7\n",
       "Rajasthan           6\n",
       "Karnataka           6\n",
       "Telangana           5\n",
       "Goa                 3\n",
       "Bihar               3\n",
       "Jammu & Kashmir     2\n",
       "Madhya Pradesh      2\n",
       "Manipur             2\n",
       "Uttarakhand         1\n",
       "Nagaland            1\n",
       "Tripura             1\n",
       "Chhattisgarh        1\n",
       "NCT of Delhi        1\n",
       "Haryana             1\n",
       "Name: state, dtype: int64"
      ]
     },
     "metadata": {},
     "execution_count": 11
    }
   ],
   "source": [
    "data.state.value_counts()"
   ]
  },
  {
   "cell_type": "code",
   "execution_count": 12,
   "metadata": {},
   "outputs": [
    {
     "output_type": "execute_result",
     "data": {
      "text/plain": [
       "25"
      ]
     },
     "metadata": {},
     "execution_count": 12
    }
   ],
   "source": [
    "data.state.unique()\n",
    "len(data.state.unique())"
   ]
  },
  {
   "source": [
    "## Observation\n",
    "### there are  255 dishes and 9 columns associated with each of them which describe as follow\n",
    "#### - name: name of the dish\n",
    "#### - ingredients: ingredients which are used to make particular dish\n",
    "#### - diet: It indicates that whether the dish is veg or non- veg\n",
    "#### - prep_time: prepartion time\n",
    "#### - cook_time: cooking time\n",
    "#### - flavor_profile: flavor profile include that whether the dish is spicy or sweet etc\n",
    "#### - course: course is a course of meal, the course might be main course, snack or dessert etc\n",
    "#### - state: state where the dish is famous or born\n",
    "#### - region: region where the state belongs"
   ],
   "cell_type": "markdown",
   "metadata": {}
  },
  {
   "cell_type": "code",
   "execution_count": 13,
   "metadata": {},
   "outputs": [
    {
     "output_type": "execute_result",
     "data": {
      "text/plain": [
       "name              0\n",
       "ingredients       0\n",
       "diet              0\n",
       "prep_time         0\n",
       "cook_time         0\n",
       "flavor_profile    0\n",
       "course            0\n",
       "state             0\n",
       "region            1\n",
       "dtype: int64"
      ]
     },
     "metadata": {},
     "execution_count": 13
    }
   ],
   "source": [
    "# checking for null data\n",
    "data.isna().sum()"
   ]
  },
  {
   "cell_type": "code",
   "execution_count": 14,
   "metadata": {},
   "outputs": [
    {
     "output_type": "execute_result",
     "data": {
      "text/plain": [
       "         name                                        ingredients        diet  \\\n",
       "110  panjeeri  Whole wheat flour, musk melon seeds, poppy see...  vegetarian   \n",
       "\n",
       "     prep_time  cook_time flavor_profile   course          state region  \n",
       "110         10         25          sweet  dessert  Uttar Pradesh    NaN  "
      ],
      "text/html": "<div>\n<style scoped>\n    .dataframe tbody tr th:only-of-type {\n        vertical-align: middle;\n    }\n\n    .dataframe tbody tr th {\n        vertical-align: top;\n    }\n\n    .dataframe thead th {\n        text-align: right;\n    }\n</style>\n<table border=\"1\" class=\"dataframe\">\n  <thead>\n    <tr style=\"text-align: right;\">\n      <th></th>\n      <th>name</th>\n      <th>ingredients</th>\n      <th>diet</th>\n      <th>prep_time</th>\n      <th>cook_time</th>\n      <th>flavor_profile</th>\n      <th>course</th>\n      <th>state</th>\n      <th>region</th>\n    </tr>\n  </thead>\n  <tbody>\n    <tr>\n      <th>110</th>\n      <td>panjeeri</td>\n      <td>Whole wheat flour, musk melon seeds, poppy see...</td>\n      <td>vegetarian</td>\n      <td>10</td>\n      <td>25</td>\n      <td>sweet</td>\n      <td>dessert</td>\n      <td>Uttar Pradesh</td>\n      <td>NaN</td>\n    </tr>\n  </tbody>\n</table>\n</div>"
     },
     "metadata": {},
     "execution_count": 14
    }
   ],
   "source": [
    "# getting the dish which has NaN region\n",
    "data[data.region.isna()]"
   ]
  },
  {
   "cell_type": "code",
   "execution_count": 15,
   "metadata": {},
   "outputs": [
    {
     "output_type": "execute_result",
     "data": {
      "text/plain": [
       "                name                                        ingredients  \\\n",
       "6             jalebi  Maida, corn flour, baking soda, vinegar, curd,...   \n",
       "13             petha  Firm white pumpkin, sugar, kitchen lime, alum ...   \n",
       "15             rabri                Condensed milk, sugar, spices, nuts   \n",
       "18       sohan halwa                       Corn flour, ghee, dry fruits   \n",
       "90           kachori  Moong dal, rava, garam masala, dough, fennel s...   \n",
       "95             kofta    Paneer, potato, cream, corn flour, garam masala   \n",
       "97    lauki ke kofte  Bottle gourd, garam masala powder, gram flour,...   \n",
       "105  navrattan korma  Green beans, potatoes, khus khus, low fat, gar...   \n",
       "110         panjeeri  Whole wheat flour, musk melon seeds, poppy see...   \n",
       "\n",
       "           diet  prep_time  cook_time flavor_profile       course  \\\n",
       "6    vegetarian         10         50          sweet      dessert   \n",
       "13   vegetarian         10         30          sweet      dessert   \n",
       "15   vegetarian         10         45          sweet      dessert   \n",
       "18   vegetarian         10         60          sweet      dessert   \n",
       "90   vegetarian         30         60          spicy        snack   \n",
       "95   vegetarian         20         40          spicy  main course   \n",
       "97   vegetarian         20         40          spicy  main course   \n",
       "105  vegetarian         25         40          spicy  main course   \n",
       "110  vegetarian         10         25          sweet      dessert   \n",
       "\n",
       "             state region  \n",
       "6    Uttar Pradesh  North  \n",
       "13   Uttar Pradesh  North  \n",
       "15   Uttar Pradesh  North  \n",
       "18   Uttar Pradesh  North  \n",
       "90   Uttar Pradesh  North  \n",
       "95   Uttar Pradesh  North  \n",
       "97   Uttar Pradesh  North  \n",
       "105  Uttar Pradesh  North  \n",
       "110  Uttar Pradesh    NaN  "
      ],
      "text/html": "<div>\n<style scoped>\n    .dataframe tbody tr th:only-of-type {\n        vertical-align: middle;\n    }\n\n    .dataframe tbody tr th {\n        vertical-align: top;\n    }\n\n    .dataframe thead th {\n        text-align: right;\n    }\n</style>\n<table border=\"1\" class=\"dataframe\">\n  <thead>\n    <tr style=\"text-align: right;\">\n      <th></th>\n      <th>name</th>\n      <th>ingredients</th>\n      <th>diet</th>\n      <th>prep_time</th>\n      <th>cook_time</th>\n      <th>flavor_profile</th>\n      <th>course</th>\n      <th>state</th>\n      <th>region</th>\n    </tr>\n  </thead>\n  <tbody>\n    <tr>\n      <th>6</th>\n      <td>jalebi</td>\n      <td>Maida, corn flour, baking soda, vinegar, curd,...</td>\n      <td>vegetarian</td>\n      <td>10</td>\n      <td>50</td>\n      <td>sweet</td>\n      <td>dessert</td>\n      <td>Uttar Pradesh</td>\n      <td>North</td>\n    </tr>\n    <tr>\n      <th>13</th>\n      <td>petha</td>\n      <td>Firm white pumpkin, sugar, kitchen lime, alum ...</td>\n      <td>vegetarian</td>\n      <td>10</td>\n      <td>30</td>\n      <td>sweet</td>\n      <td>dessert</td>\n      <td>Uttar Pradesh</td>\n      <td>North</td>\n    </tr>\n    <tr>\n      <th>15</th>\n      <td>rabri</td>\n      <td>Condensed milk, sugar, spices, nuts</td>\n      <td>vegetarian</td>\n      <td>10</td>\n      <td>45</td>\n      <td>sweet</td>\n      <td>dessert</td>\n      <td>Uttar Pradesh</td>\n      <td>North</td>\n    </tr>\n    <tr>\n      <th>18</th>\n      <td>sohan halwa</td>\n      <td>Corn flour, ghee, dry fruits</td>\n      <td>vegetarian</td>\n      <td>10</td>\n      <td>60</td>\n      <td>sweet</td>\n      <td>dessert</td>\n      <td>Uttar Pradesh</td>\n      <td>North</td>\n    </tr>\n    <tr>\n      <th>90</th>\n      <td>kachori</td>\n      <td>Moong dal, rava, garam masala, dough, fennel s...</td>\n      <td>vegetarian</td>\n      <td>30</td>\n      <td>60</td>\n      <td>spicy</td>\n      <td>snack</td>\n      <td>Uttar Pradesh</td>\n      <td>North</td>\n    </tr>\n    <tr>\n      <th>95</th>\n      <td>kofta</td>\n      <td>Paneer, potato, cream, corn flour, garam masala</td>\n      <td>vegetarian</td>\n      <td>20</td>\n      <td>40</td>\n      <td>spicy</td>\n      <td>main course</td>\n      <td>Uttar Pradesh</td>\n      <td>North</td>\n    </tr>\n    <tr>\n      <th>97</th>\n      <td>lauki ke kofte</td>\n      <td>Bottle gourd, garam masala powder, gram flour,...</td>\n      <td>vegetarian</td>\n      <td>20</td>\n      <td>40</td>\n      <td>spicy</td>\n      <td>main course</td>\n      <td>Uttar Pradesh</td>\n      <td>North</td>\n    </tr>\n    <tr>\n      <th>105</th>\n      <td>navrattan korma</td>\n      <td>Green beans, potatoes, khus khus, low fat, gar...</td>\n      <td>vegetarian</td>\n      <td>25</td>\n      <td>40</td>\n      <td>spicy</td>\n      <td>main course</td>\n      <td>Uttar Pradesh</td>\n      <td>North</td>\n    </tr>\n    <tr>\n      <th>110</th>\n      <td>panjeeri</td>\n      <td>Whole wheat flour, musk melon seeds, poppy see...</td>\n      <td>vegetarian</td>\n      <td>10</td>\n      <td>25</td>\n      <td>sweet</td>\n      <td>dessert</td>\n      <td>Uttar Pradesh</td>\n      <td>NaN</td>\n    </tr>\n  </tbody>\n</table>\n</div>"
     },
     "metadata": {},
     "execution_count": 15
    }
   ],
   "source": [
    "# getting the dishes of the state of the dish which has NaN region\n",
    "data.loc[data.state==\"Uttar Pradesh\"]"
   ]
  },
  {
   "cell_type": "code",
   "execution_count": 16,
   "metadata": {},
   "outputs": [],
   "source": [
    "# filling NaN with the appropriate region as per the other dishes of the same state\n",
    "data.region.fillna(\"North\",inplace=True)"
   ]
  },
  {
   "cell_type": "code",
   "execution_count": 17,
   "metadata": {},
   "outputs": [
    {
     "output_type": "execute_result",
     "data": {
      "text/plain": [
       "6      North\n",
       "13     North\n",
       "15     North\n",
       "18     North\n",
       "90     North\n",
       "95     North\n",
       "97     North\n",
       "105    North\n",
       "110    North\n",
       "Name: region, dtype: object"
      ]
     },
     "metadata": {},
     "execution_count": 17
    }
   ],
   "source": [
    "# confirming that the change has been applied\n",
    "data[data.state==\"Uttar Pradesh\"].region"
   ]
  },
  {
   "source": [
    "## Plotting and making observations"
   ],
   "cell_type": "markdown",
   "metadata": {}
  },
  {
   "cell_type": "code",
   "execution_count": 18,
   "metadata": {},
   "outputs": [
    {
     "output_type": "display_data",
     "data": {
      "text/plain": "<Figure size 864x432 with 1 Axes>",
      "image/svg+xml": "<?xml version=\"1.0\" encoding=\"utf-8\" standalone=\"no\"?>\n<!DOCTYPE svg PUBLIC \"-//W3C//DTD SVG 1.1//EN\"\n  \"http://www.w3.org/Graphics/SVG/1.1/DTD/svg11.dtd\">\n<svg height=\"386.034375pt\" version=\"1.1\" viewBox=\"0 0 723.765625 386.034375\" width=\"723.765625pt\" xmlns=\"http://www.w3.org/2000/svg\" xmlns:xlink=\"http://www.w3.org/1999/xlink\">\n <metadata>\n  <rdf:RDF xmlns:cc=\"http://creativecommons.org/ns#\" xmlns:dc=\"http://purl.org/dc/elements/1.1/\" xmlns:rdf=\"http://www.w3.org/1999/02/22-rdf-syntax-ns#\">\n   <cc:Work>\n    <dc:type rdf:resource=\"http://purl.org/dc/dcmitype/StillImage\"/>\n    <dc:date>2021-04-25T19:57:57.417382</dc:date>\n    <dc:format>image/svg+xml</dc:format>\n    <dc:creator>\n     <cc:Agent>\n      <dc:title>Matplotlib v3.4.1, https://matplotlib.org/</dc:title>\n     </cc:Agent>\n    </dc:creator>\n   </cc:Work>\n  </rdf:RDF>\n </metadata>\n <defs>\n  <style type=\"text/css\">*{stroke-linecap:butt;stroke-linejoin:round;}</style>\n </defs>\n <g id=\"figure_1\">\n  <g id=\"patch_1\">\n   <path d=\"M 0 386.034375 \nL 723.765625 386.034375 \nL 723.765625 0 \nL 0 0 \nz\n\" style=\"fill:none;\"/>\n  </g>\n  <g id=\"axes_1\">\n   <g id=\"patch_2\">\n    <path d=\"M 46.965625 348.478125 \nL 716.565625 348.478125 \nL 716.565625 22.318125 \nL 46.965625 22.318125 \nz\n\" style=\"fill:#ffffff;\"/>\n   </g>\n   <g id=\"patch_3\">\n    <path clip-path=\"url(#p0e3e1eba6d)\" d=\"M 80.445625 348.478125 \nL 348.285625 348.478125 \nL 348.285625 37.849554 \nL 80.445625 37.849554 \nz\n\" style=\"fill:#107010;\"/>\n   </g>\n   <g id=\"patch_4\">\n    <path clip-path=\"url(#p0e3e1eba6d)\" d=\"M 415.245625 348.478125 \nL 683.085625 348.478125 \nL 683.085625 308.618707 \nL 415.245625 308.618707 \nz\n\" style=\"fill:#df2020;\"/>\n   </g>\n   <g id=\"matplotlib.axis_1\">\n    <g id=\"xtick_1\">\n     <g id=\"line2d_1\">\n      <defs>\n       <path d=\"M 0 0 \nL 0 3.5 \n\" id=\"mb0e6a39e1a\" style=\"stroke:#000000;stroke-width:0.8;\"/>\n      </defs>\n      <g>\n       <use style=\"stroke:#000000;stroke-width:0.8;\" x=\"214.365625\" xlink:href=\"#mb0e6a39e1a\" y=\"348.478125\"/>\n      </g>\n     </g>\n     <g id=\"text_1\">\n      <!-- vegetarian -->\n      <g transform=\"translate(187.377344 363.076562)scale(0.1 -0.1)\">\n       <defs>\n        <path d=\"M 191 3500 \nL 800 3500 \nL 1894 563 \nL 2988 3500 \nL 3597 3500 \nL 2284 0 \nL 1503 0 \nL 191 3500 \nz\n\" id=\"DejaVuSans-76\" transform=\"scale(0.015625)\"/>\n        <path d=\"M 3597 1894 \nL 3597 1613 \nL 953 1613 \nQ 991 1019 1311 708 \nQ 1631 397 2203 397 \nQ 2534 397 2845 478 \nQ 3156 559 3463 722 \nL 3463 178 \nQ 3153 47 2828 -22 \nQ 2503 -91 2169 -91 \nQ 1331 -91 842 396 \nQ 353 884 353 1716 \nQ 353 2575 817 3079 \nQ 1281 3584 2069 3584 \nQ 2775 3584 3186 3129 \nQ 3597 2675 3597 1894 \nz\nM 3022 2063 \nQ 3016 2534 2758 2815 \nQ 2500 3097 2075 3097 \nQ 1594 3097 1305 2825 \nQ 1016 2553 972 2059 \nL 3022 2063 \nz\n\" id=\"DejaVuSans-65\" transform=\"scale(0.015625)\"/>\n        <path d=\"M 2906 1791 \nQ 2906 2416 2648 2759 \nQ 2391 3103 1925 3103 \nQ 1463 3103 1205 2759 \nQ 947 2416 947 1791 \nQ 947 1169 1205 825 \nQ 1463 481 1925 481 \nQ 2391 481 2648 825 \nQ 2906 1169 2906 1791 \nz\nM 3481 434 \nQ 3481 -459 3084 -895 \nQ 2688 -1331 1869 -1331 \nQ 1566 -1331 1297 -1286 \nQ 1028 -1241 775 -1147 \nL 775 -588 \nQ 1028 -725 1275 -790 \nQ 1522 -856 1778 -856 \nQ 2344 -856 2625 -561 \nQ 2906 -266 2906 331 \nL 2906 616 \nQ 2728 306 2450 153 \nQ 2172 0 1784 0 \nQ 1141 0 747 490 \nQ 353 981 353 1791 \nQ 353 2603 747 3093 \nQ 1141 3584 1784 3584 \nQ 2172 3584 2450 3431 \nQ 2728 3278 2906 2969 \nL 2906 3500 \nL 3481 3500 \nL 3481 434 \nz\n\" id=\"DejaVuSans-67\" transform=\"scale(0.015625)\"/>\n        <path d=\"M 1172 4494 \nL 1172 3500 \nL 2356 3500 \nL 2356 3053 \nL 1172 3053 \nL 1172 1153 \nQ 1172 725 1289 603 \nQ 1406 481 1766 481 \nL 2356 481 \nL 2356 0 \nL 1766 0 \nQ 1100 0 847 248 \nQ 594 497 594 1153 \nL 594 3053 \nL 172 3053 \nL 172 3500 \nL 594 3500 \nL 594 4494 \nL 1172 4494 \nz\n\" id=\"DejaVuSans-74\" transform=\"scale(0.015625)\"/>\n        <path d=\"M 2194 1759 \nQ 1497 1759 1228 1600 \nQ 959 1441 959 1056 \nQ 959 750 1161 570 \nQ 1363 391 1709 391 \nQ 2188 391 2477 730 \nQ 2766 1069 2766 1631 \nL 2766 1759 \nL 2194 1759 \nz\nM 3341 1997 \nL 3341 0 \nL 2766 0 \nL 2766 531 \nQ 2569 213 2275 61 \nQ 1981 -91 1556 -91 \nQ 1019 -91 701 211 \nQ 384 513 384 1019 \nQ 384 1609 779 1909 \nQ 1175 2209 1959 2209 \nL 2766 2209 \nL 2766 2266 \nQ 2766 2663 2505 2880 \nQ 2244 3097 1772 3097 \nQ 1472 3097 1187 3025 \nQ 903 2953 641 2809 \nL 641 3341 \nQ 956 3463 1253 3523 \nQ 1550 3584 1831 3584 \nQ 2591 3584 2966 3190 \nQ 3341 2797 3341 1997 \nz\n\" id=\"DejaVuSans-61\" transform=\"scale(0.015625)\"/>\n        <path d=\"M 2631 2963 \nQ 2534 3019 2420 3045 \nQ 2306 3072 2169 3072 \nQ 1681 3072 1420 2755 \nQ 1159 2438 1159 1844 \nL 1159 0 \nL 581 0 \nL 581 3500 \nL 1159 3500 \nL 1159 2956 \nQ 1341 3275 1631 3429 \nQ 1922 3584 2338 3584 \nQ 2397 3584 2469 3576 \nQ 2541 3569 2628 3553 \nL 2631 2963 \nz\n\" id=\"DejaVuSans-72\" transform=\"scale(0.015625)\"/>\n        <path d=\"M 603 3500 \nL 1178 3500 \nL 1178 0 \nL 603 0 \nL 603 3500 \nz\nM 603 4863 \nL 1178 4863 \nL 1178 4134 \nL 603 4134 \nL 603 4863 \nz\n\" id=\"DejaVuSans-69\" transform=\"scale(0.015625)\"/>\n        <path d=\"M 3513 2113 \nL 3513 0 \nL 2938 0 \nL 2938 2094 \nQ 2938 2591 2744 2837 \nQ 2550 3084 2163 3084 \nQ 1697 3084 1428 2787 \nQ 1159 2491 1159 1978 \nL 1159 0 \nL 581 0 \nL 581 3500 \nL 1159 3500 \nL 1159 2956 \nQ 1366 3272 1645 3428 \nQ 1925 3584 2291 3584 \nQ 2894 3584 3203 3211 \nQ 3513 2838 3513 2113 \nz\n\" id=\"DejaVuSans-6e\" transform=\"scale(0.015625)\"/>\n       </defs>\n       <use xlink:href=\"#DejaVuSans-76\"/>\n       <use x=\"59.179688\" xlink:href=\"#DejaVuSans-65\"/>\n       <use x=\"120.703125\" xlink:href=\"#DejaVuSans-67\"/>\n       <use x=\"184.179688\" xlink:href=\"#DejaVuSans-65\"/>\n       <use x=\"245.703125\" xlink:href=\"#DejaVuSans-74\"/>\n       <use x=\"284.912109\" xlink:href=\"#DejaVuSans-61\"/>\n       <use x=\"346.191406\" xlink:href=\"#DejaVuSans-72\"/>\n       <use x=\"387.304688\" xlink:href=\"#DejaVuSans-69\"/>\n       <use x=\"415.087891\" xlink:href=\"#DejaVuSans-61\"/>\n       <use x=\"476.367188\" xlink:href=\"#DejaVuSans-6e\"/>\n      </g>\n     </g>\n    </g>\n    <g id=\"xtick_2\">\n     <g id=\"line2d_2\">\n      <g>\n       <use style=\"stroke:#000000;stroke-width:0.8;\" x=\"549.165625\" xlink:href=\"#mb0e6a39e1a\" y=\"348.478125\"/>\n      </g>\n     </g>\n     <g id=\"text_2\">\n      <!-- non-vegetarian -->\n      <g transform=\"translate(511.107813 363.076562)scale(0.1 -0.1)\">\n       <defs>\n        <path d=\"M 1959 3097 \nQ 1497 3097 1228 2736 \nQ 959 2375 959 1747 \nQ 959 1119 1226 758 \nQ 1494 397 1959 397 \nQ 2419 397 2687 759 \nQ 2956 1122 2956 1747 \nQ 2956 2369 2687 2733 \nQ 2419 3097 1959 3097 \nz\nM 1959 3584 \nQ 2709 3584 3137 3096 \nQ 3566 2609 3566 1747 \nQ 3566 888 3137 398 \nQ 2709 -91 1959 -91 \nQ 1206 -91 779 398 \nQ 353 888 353 1747 \nQ 353 2609 779 3096 \nQ 1206 3584 1959 3584 \nz\n\" id=\"DejaVuSans-6f\" transform=\"scale(0.015625)\"/>\n        <path d=\"M 313 2009 \nL 1997 2009 \nL 1997 1497 \nL 313 1497 \nL 313 2009 \nz\n\" id=\"DejaVuSans-2d\" transform=\"scale(0.015625)\"/>\n       </defs>\n       <use xlink:href=\"#DejaVuSans-6e\"/>\n       <use x=\"63.378906\" xlink:href=\"#DejaVuSans-6f\"/>\n       <use x=\"124.560547\" xlink:href=\"#DejaVuSans-6e\"/>\n       <use x=\"187.939453\" xlink:href=\"#DejaVuSans-2d\"/>\n       <use x=\"221.398438\" xlink:href=\"#DejaVuSans-76\"/>\n       <use x=\"280.578125\" xlink:href=\"#DejaVuSans-65\"/>\n       <use x=\"342.101562\" xlink:href=\"#DejaVuSans-67\"/>\n       <use x=\"405.578125\" xlink:href=\"#DejaVuSans-65\"/>\n       <use x=\"467.101562\" xlink:href=\"#DejaVuSans-74\"/>\n       <use x=\"506.310547\" xlink:href=\"#DejaVuSans-61\"/>\n       <use x=\"567.589844\" xlink:href=\"#DejaVuSans-72\"/>\n       <use x=\"608.703125\" xlink:href=\"#DejaVuSans-69\"/>\n       <use x=\"636.486328\" xlink:href=\"#DejaVuSans-61\"/>\n       <use x=\"697.765625\" xlink:href=\"#DejaVuSans-6e\"/>\n      </g>\n     </g>\n    </g>\n    <g id=\"text_3\">\n     <!-- Diet Type -->\n     <g transform=\"translate(358.417969 376.754687)scale(0.1 -0.1)\">\n      <defs>\n       <path d=\"M 1259 4147 \nL 1259 519 \nL 2022 519 \nQ 2988 519 3436 956 \nQ 3884 1394 3884 2338 \nQ 3884 3275 3436 3711 \nQ 2988 4147 2022 4147 \nL 1259 4147 \nz\nM 628 4666 \nL 1925 4666 \nQ 3281 4666 3915 4102 \nQ 4550 3538 4550 2338 \nQ 4550 1131 3912 565 \nQ 3275 0 1925 0 \nL 628 0 \nL 628 4666 \nz\n\" id=\"DejaVuSans-44\" transform=\"scale(0.015625)\"/>\n       <path id=\"DejaVuSans-20\" transform=\"scale(0.015625)\"/>\n       <path d=\"M -19 4666 \nL 3928 4666 \nL 3928 4134 \nL 2272 4134 \nL 2272 0 \nL 1638 0 \nL 1638 4134 \nL -19 4134 \nL -19 4666 \nz\n\" id=\"DejaVuSans-54\" transform=\"scale(0.015625)\"/>\n       <path d=\"M 2059 -325 \nQ 1816 -950 1584 -1140 \nQ 1353 -1331 966 -1331 \nL 506 -1331 \nL 506 -850 \nL 844 -850 \nQ 1081 -850 1212 -737 \nQ 1344 -625 1503 -206 \nL 1606 56 \nL 191 3500 \nL 800 3500 \nL 1894 763 \nL 2988 3500 \nL 3597 3500 \nL 2059 -325 \nz\n\" id=\"DejaVuSans-79\" transform=\"scale(0.015625)\"/>\n       <path d=\"M 1159 525 \nL 1159 -1331 \nL 581 -1331 \nL 581 3500 \nL 1159 3500 \nL 1159 2969 \nQ 1341 3281 1617 3432 \nQ 1894 3584 2278 3584 \nQ 2916 3584 3314 3078 \nQ 3713 2572 3713 1747 \nQ 3713 922 3314 415 \nQ 2916 -91 2278 -91 \nQ 1894 -91 1617 61 \nQ 1341 213 1159 525 \nz\nM 3116 1747 \nQ 3116 2381 2855 2742 \nQ 2594 3103 2138 3103 \nQ 1681 3103 1420 2742 \nQ 1159 2381 1159 1747 \nQ 1159 1113 1420 752 \nQ 1681 391 2138 391 \nQ 2594 391 2855 752 \nQ 3116 1113 3116 1747 \nz\n\" id=\"DejaVuSans-70\" transform=\"scale(0.015625)\"/>\n      </defs>\n      <use xlink:href=\"#DejaVuSans-44\"/>\n      <use x=\"77.001953\" xlink:href=\"#DejaVuSans-69\"/>\n      <use x=\"104.785156\" xlink:href=\"#DejaVuSans-65\"/>\n      <use x=\"166.308594\" xlink:href=\"#DejaVuSans-74\"/>\n      <use x=\"205.517578\" xlink:href=\"#DejaVuSans-20\"/>\n      <use x=\"237.304688\" xlink:href=\"#DejaVuSans-54\"/>\n      <use x=\"282.763672\" xlink:href=\"#DejaVuSans-79\"/>\n      <use x=\"341.943359\" xlink:href=\"#DejaVuSans-70\"/>\n      <use x=\"405.419922\" xlink:href=\"#DejaVuSans-65\"/>\n     </g>\n    </g>\n   </g>\n   <g id=\"matplotlib.axis_2\">\n    <g id=\"ytick_1\">\n     <g id=\"line2d_3\">\n      <defs>\n       <path d=\"M 0 0 \nL -3.5 0 \n\" id=\"m3a9dc0d601\" style=\"stroke:#000000;stroke-width:0.8;\"/>\n      </defs>\n      <g>\n       <use style=\"stroke:#000000;stroke-width:0.8;\" x=\"46.965625\" xlink:href=\"#m3a9dc0d601\" y=\"348.478125\"/>\n      </g>\n     </g>\n     <g id=\"text_4\">\n      <!-- 0 -->\n      <g transform=\"translate(33.603125 352.277344)scale(0.1 -0.1)\">\n       <defs>\n        <path d=\"M 2034 4250 \nQ 1547 4250 1301 3770 \nQ 1056 3291 1056 2328 \nQ 1056 1369 1301 889 \nQ 1547 409 2034 409 \nQ 2525 409 2770 889 \nQ 3016 1369 3016 2328 \nQ 3016 3291 2770 3770 \nQ 2525 4250 2034 4250 \nz\nM 2034 4750 \nQ 2819 4750 3233 4129 \nQ 3647 3509 3647 2328 \nQ 3647 1150 3233 529 \nQ 2819 -91 2034 -91 \nQ 1250 -91 836 529 \nQ 422 1150 422 2328 \nQ 422 3509 836 4129 \nQ 1250 4750 2034 4750 \nz\n\" id=\"DejaVuSans-30\" transform=\"scale(0.015625)\"/>\n       </defs>\n       <use xlink:href=\"#DejaVuSans-30\"/>\n      </g>\n     </g>\n    </g>\n    <g id=\"ytick_2\">\n     <g id=\"line2d_4\">\n      <g>\n       <use style=\"stroke:#000000;stroke-width:0.8;\" x=\"46.965625\" xlink:href=\"#m3a9dc0d601\" y=\"279.75499\"/>\n      </g>\n     </g>\n     <g id=\"text_5\">\n      <!-- 50 -->\n      <g transform=\"translate(27.240625 283.554208)scale(0.1 -0.1)\">\n       <defs>\n        <path d=\"M 691 4666 \nL 3169 4666 \nL 3169 4134 \nL 1269 4134 \nL 1269 2991 \nQ 1406 3038 1543 3061 \nQ 1681 3084 1819 3084 \nQ 2600 3084 3056 2656 \nQ 3513 2228 3513 1497 \nQ 3513 744 3044 326 \nQ 2575 -91 1722 -91 \nQ 1428 -91 1123 -41 \nQ 819 9 494 109 \nL 494 744 \nQ 775 591 1075 516 \nQ 1375 441 1709 441 \nQ 2250 441 2565 725 \nQ 2881 1009 2881 1497 \nQ 2881 1984 2565 2268 \nQ 2250 2553 1709 2553 \nQ 1456 2553 1204 2497 \nQ 953 2441 691 2322 \nL 691 4666 \nz\n\" id=\"DejaVuSans-35\" transform=\"scale(0.015625)\"/>\n       </defs>\n       <use xlink:href=\"#DejaVuSans-35\"/>\n       <use x=\"63.623047\" xlink:href=\"#DejaVuSans-30\"/>\n      </g>\n     </g>\n    </g>\n    <g id=\"ytick_3\">\n     <g id=\"line2d_5\">\n      <g>\n       <use style=\"stroke:#000000;stroke-width:0.8;\" x=\"46.965625\" xlink:href=\"#m3a9dc0d601\" y=\"211.031854\"/>\n      </g>\n     </g>\n     <g id=\"text_6\">\n      <!-- 100 -->\n      <g transform=\"translate(20.878125 214.831073)scale(0.1 -0.1)\">\n       <defs>\n        <path d=\"M 794 531 \nL 1825 531 \nL 1825 4091 \nL 703 3866 \nL 703 4441 \nL 1819 4666 \nL 2450 4666 \nL 2450 531 \nL 3481 531 \nL 3481 0 \nL 794 0 \nL 794 531 \nz\n\" id=\"DejaVuSans-31\" transform=\"scale(0.015625)\"/>\n       </defs>\n       <use xlink:href=\"#DejaVuSans-31\"/>\n       <use x=\"63.623047\" xlink:href=\"#DejaVuSans-30\"/>\n       <use x=\"127.246094\" xlink:href=\"#DejaVuSans-30\"/>\n      </g>\n     </g>\n    </g>\n    <g id=\"ytick_4\">\n     <g id=\"line2d_6\">\n      <g>\n       <use style=\"stroke:#000000;stroke-width:0.8;\" x=\"46.965625\" xlink:href=\"#m3a9dc0d601\" y=\"142.308719\"/>\n      </g>\n     </g>\n     <g id=\"text_7\">\n      <!-- 150 -->\n      <g transform=\"translate(20.878125 146.107938)scale(0.1 -0.1)\">\n       <use xlink:href=\"#DejaVuSans-31\"/>\n       <use x=\"63.623047\" xlink:href=\"#DejaVuSans-35\"/>\n       <use x=\"127.246094\" xlink:href=\"#DejaVuSans-30\"/>\n      </g>\n     </g>\n    </g>\n    <g id=\"ytick_5\">\n     <g id=\"line2d_7\">\n      <g>\n       <use style=\"stroke:#000000;stroke-width:0.8;\" x=\"46.965625\" xlink:href=\"#m3a9dc0d601\" y=\"73.585584\"/>\n      </g>\n     </g>\n     <g id=\"text_8\">\n      <!-- 200 -->\n      <g transform=\"translate(20.878125 77.384803)scale(0.1 -0.1)\">\n       <defs>\n        <path d=\"M 1228 531 \nL 3431 531 \nL 3431 0 \nL 469 0 \nL 469 531 \nQ 828 903 1448 1529 \nQ 2069 2156 2228 2338 \nQ 2531 2678 2651 2914 \nQ 2772 3150 2772 3378 \nQ 2772 3750 2511 3984 \nQ 2250 4219 1831 4219 \nQ 1534 4219 1204 4116 \nQ 875 4013 500 3803 \nL 500 4441 \nQ 881 4594 1212 4672 \nQ 1544 4750 1819 4750 \nQ 2544 4750 2975 4387 \nQ 3406 4025 3406 3419 \nQ 3406 3131 3298 2873 \nQ 3191 2616 2906 2266 \nQ 2828 2175 2409 1742 \nQ 1991 1309 1228 531 \nz\n\" id=\"DejaVuSans-32\" transform=\"scale(0.015625)\"/>\n       </defs>\n       <use xlink:href=\"#DejaVuSans-32\"/>\n       <use x=\"63.623047\" xlink:href=\"#DejaVuSans-30\"/>\n       <use x=\"127.246094\" xlink:href=\"#DejaVuSans-30\"/>\n      </g>\n     </g>\n    </g>\n    <g id=\"text_9\">\n     <!-- Count -->\n     <g transform=\"translate(14.798438 200.246562)rotate(-90)scale(0.1 -0.1)\">\n      <defs>\n       <path d=\"M 4122 4306 \nL 4122 3641 \nQ 3803 3938 3442 4084 \nQ 3081 4231 2675 4231 \nQ 1875 4231 1450 3742 \nQ 1025 3253 1025 2328 \nQ 1025 1406 1450 917 \nQ 1875 428 2675 428 \nQ 3081 428 3442 575 \nQ 3803 722 4122 1019 \nL 4122 359 \nQ 3791 134 3420 21 \nQ 3050 -91 2638 -91 \nQ 1578 -91 968 557 \nQ 359 1206 359 2328 \nQ 359 3453 968 4101 \nQ 1578 4750 2638 4750 \nQ 3056 4750 3426 4639 \nQ 3797 4528 4122 4306 \nz\n\" id=\"DejaVuSans-43\" transform=\"scale(0.015625)\"/>\n       <path d=\"M 544 1381 \nL 544 3500 \nL 1119 3500 \nL 1119 1403 \nQ 1119 906 1312 657 \nQ 1506 409 1894 409 \nQ 2359 409 2629 706 \nQ 2900 1003 2900 1516 \nL 2900 3500 \nL 3475 3500 \nL 3475 0 \nL 2900 0 \nL 2900 538 \nQ 2691 219 2414 64 \nQ 2138 -91 1772 -91 \nQ 1169 -91 856 284 \nQ 544 659 544 1381 \nz\nM 1991 3584 \nL 1991 3584 \nz\n\" id=\"DejaVuSans-75\" transform=\"scale(0.015625)\"/>\n      </defs>\n      <use xlink:href=\"#DejaVuSans-43\"/>\n      <use x=\"69.824219\" xlink:href=\"#DejaVuSans-6f\"/>\n      <use x=\"131.005859\" xlink:href=\"#DejaVuSans-75\"/>\n      <use x=\"194.384766\" xlink:href=\"#DejaVuSans-6e\"/>\n      <use x=\"257.763672\" xlink:href=\"#DejaVuSans-74\"/>\n     </g>\n    </g>\n   </g>\n   <g id=\"patch_5\">\n    <path d=\"M 46.965625 348.478125 \nL 46.965625 22.318125 \n\" style=\"fill:none;stroke:#000000;stroke-linecap:square;stroke-linejoin:miter;stroke-width:0.8;\"/>\n   </g>\n   <g id=\"patch_6\">\n    <path d=\"M 716.565625 348.478125 \nL 716.565625 22.318125 \n\" style=\"fill:none;stroke:#000000;stroke-linecap:square;stroke-linejoin:miter;stroke-width:0.8;\"/>\n   </g>\n   <g id=\"patch_7\">\n    <path d=\"M 46.965625 348.478125 \nL 716.565625 348.478125 \n\" style=\"fill:none;stroke:#000000;stroke-linecap:square;stroke-linejoin:miter;stroke-width:0.8;\"/>\n   </g>\n   <g id=\"patch_8\">\n    <path d=\"M 46.965625 22.318125 \nL 716.565625 22.318125 \n\" style=\"fill:none;stroke:#000000;stroke-linecap:square;stroke-linejoin:miter;stroke-width:0.8;\"/>\n   </g>\n   <g id=\"text_10\">\n    <!-- Distribution of Diet -->\n    <g transform=\"translate(324.835 16.318125)scale(0.12 -0.12)\">\n     <defs>\n      <path d=\"M 2834 3397 \nL 2834 2853 \nQ 2591 2978 2328 3040 \nQ 2066 3103 1784 3103 \nQ 1356 3103 1142 2972 \nQ 928 2841 928 2578 \nQ 928 2378 1081 2264 \nQ 1234 2150 1697 2047 \nL 1894 2003 \nQ 2506 1872 2764 1633 \nQ 3022 1394 3022 966 \nQ 3022 478 2636 193 \nQ 2250 -91 1575 -91 \nQ 1294 -91 989 -36 \nQ 684 19 347 128 \nL 347 722 \nQ 666 556 975 473 \nQ 1284 391 1588 391 \nQ 1994 391 2212 530 \nQ 2431 669 2431 922 \nQ 2431 1156 2273 1281 \nQ 2116 1406 1581 1522 \nL 1381 1569 \nQ 847 1681 609 1914 \nQ 372 2147 372 2553 \nQ 372 3047 722 3315 \nQ 1072 3584 1716 3584 \nQ 2034 3584 2315 3537 \nQ 2597 3491 2834 3397 \nz\n\" id=\"DejaVuSans-73\" transform=\"scale(0.015625)\"/>\n      <path d=\"M 3116 1747 \nQ 3116 2381 2855 2742 \nQ 2594 3103 2138 3103 \nQ 1681 3103 1420 2742 \nQ 1159 2381 1159 1747 \nQ 1159 1113 1420 752 \nQ 1681 391 2138 391 \nQ 2594 391 2855 752 \nQ 3116 1113 3116 1747 \nz\nM 1159 2969 \nQ 1341 3281 1617 3432 \nQ 1894 3584 2278 3584 \nQ 2916 3584 3314 3078 \nQ 3713 2572 3713 1747 \nQ 3713 922 3314 415 \nQ 2916 -91 2278 -91 \nQ 1894 -91 1617 61 \nQ 1341 213 1159 525 \nL 1159 0 \nL 581 0 \nL 581 4863 \nL 1159 4863 \nL 1159 2969 \nz\n\" id=\"DejaVuSans-62\" transform=\"scale(0.015625)\"/>\n      <path d=\"M 2375 4863 \nL 2375 4384 \nL 1825 4384 \nQ 1516 4384 1395 4259 \nQ 1275 4134 1275 3809 \nL 1275 3500 \nL 2222 3500 \nL 2222 3053 \nL 1275 3053 \nL 1275 0 \nL 697 0 \nL 697 3053 \nL 147 3053 \nL 147 3500 \nL 697 3500 \nL 697 3744 \nQ 697 4328 969 4595 \nQ 1241 4863 1831 4863 \nL 2375 4863 \nz\n\" id=\"DejaVuSans-66\" transform=\"scale(0.015625)\"/>\n     </defs>\n     <use xlink:href=\"#DejaVuSans-44\"/>\n     <use x=\"77.001953\" xlink:href=\"#DejaVuSans-69\"/>\n     <use x=\"104.785156\" xlink:href=\"#DejaVuSans-73\"/>\n     <use x=\"156.884766\" xlink:href=\"#DejaVuSans-74\"/>\n     <use x=\"196.09375\" xlink:href=\"#DejaVuSans-72\"/>\n     <use x=\"237.207031\" xlink:href=\"#DejaVuSans-69\"/>\n     <use x=\"264.990234\" xlink:href=\"#DejaVuSans-62\"/>\n     <use x=\"328.466797\" xlink:href=\"#DejaVuSans-75\"/>\n     <use x=\"391.845703\" xlink:href=\"#DejaVuSans-74\"/>\n     <use x=\"431.054688\" xlink:href=\"#DejaVuSans-69\"/>\n     <use x=\"458.837891\" xlink:href=\"#DejaVuSans-6f\"/>\n     <use x=\"520.019531\" xlink:href=\"#DejaVuSans-6e\"/>\n     <use x=\"583.398438\" xlink:href=\"#DejaVuSans-20\"/>\n     <use x=\"615.185547\" xlink:href=\"#DejaVuSans-6f\"/>\n     <use x=\"676.367188\" xlink:href=\"#DejaVuSans-66\"/>\n     <use x=\"711.572266\" xlink:href=\"#DejaVuSans-20\"/>\n     <use x=\"743.359375\" xlink:href=\"#DejaVuSans-44\"/>\n     <use x=\"820.361328\" xlink:href=\"#DejaVuSans-69\"/>\n     <use x=\"848.144531\" xlink:href=\"#DejaVuSans-65\"/>\n     <use x=\"909.667969\" xlink:href=\"#DejaVuSans-74\"/>\n    </g>\n   </g>\n  </g>\n </g>\n <defs>\n  <clipPath id=\"p0e3e1eba6d\">\n   <rect height=\"326.16\" width=\"669.6\" x=\"46.965625\" y=\"22.318125\"/>\n  </clipPath>\n </defs>\n</svg>\n",
      "image/png": "[encoded data removed]"
     },
     "metadata": {
      "needs_background": "light"
     }
    }
   ],
   "source": [
    "\n",
    "# count plot graph of veg and non veg dishes\n",
    "# repalacing space with dash\n",
    "data.diet = data.diet.str.replace(\" \", \"-\")\n",
    "sns.countplot(data = data, x = \"diet\", palette = [\"green\", \"red\"])\n",
    "plt.xlabel(\"Diet Type\")\n",
    "plt.ylabel(\"Count\")\n",
    "plt.title(\"Distribution of Diet\")\n",
    "plt.show()"
   ]
  },
  {
   "cell_type": "code",
   "execution_count": 19,
   "metadata": {},
   "outputs": [
    {
     "output_type": "execute_result",
     "data": {
      "text/plain": [
       "spicy     133\n",
       "sweet      88\n",
       "-1         29\n",
       "bitter      4\n",
       "sour        1\n",
       "Name: flavor_profile, dtype: int64"
      ]
     },
     "metadata": {},
     "execution_count": 19
    }
   ],
   "source": [
    "# getting the count of different flavours\n",
    "data.flavor_profile.value_counts()"
   ]
  },
  {
   "cell_type": "code",
   "execution_count": 20,
   "metadata": {},
   "outputs": [],
   "source": [
    "# replacing -1 with other\n",
    "data.flavor_profile= data.flavor_profile.replace(\"-1\", \"other\")"
   ]
  },
  {
   "cell_type": "code",
   "execution_count": 21,
   "metadata": {},
   "outputs": [
    {
     "output_type": "display_data",
     "data": {
      "text/plain": "<Figure size 864x432 with 1 Axes>",
      "image/svg+xml": "<?xml version=\"1.0\" encoding=\"utf-8\" standalone=\"no\"?>\n<!DOCTYPE svg PUBLIC \"-//W3C//DTD SVG 1.1//EN\"\n  \"http://www.w3.org/Graphics/SVG/1.1/DTD/svg11.dtd\">\n<svg height=\"386.034375pt\" version=\"1.1\" viewBox=\"0 0 723.765625 386.034375\" width=\"723.765625pt\" xmlns=\"http://www.w3.org/2000/svg\" xmlns:xlink=\"http://www.w3.org/1999/xlink\">\n <metadata>\n  <rdf:RDF xmlns:cc=\"http://creativecommons.org/ns#\" xmlns:dc=\"http://purl.org/dc/elements/1.1/\" xmlns:rdf=\"http://www.w3.org/1999/02/22-rdf-syntax-ns#\">\n   <cc:Work>\n    <dc:type rdf:resource=\"http://purl.org/dc/dcmitype/StillImage\"/>\n    <dc:date>2021-04-25T19:57:57.720072</dc:date>\n    <dc:format>image/svg+xml</dc:format>\n    <dc:creator>\n     <cc:Agent>\n      <dc:title>Matplotlib v3.4.1, https://matplotlib.org/</dc:title>\n     </cc:Agent>\n    </dc:creator>\n   </cc:Work>\n  </rdf:RDF>\n </metadata>\n <defs>\n  <style type=\"text/css\">*{stroke-linecap:butt;stroke-linejoin:round;}</style>\n </defs>\n <g id=\"figure_1\">\n  <g id=\"patch_1\">\n   <path d=\"M 0 386.034375 \nL 723.765625 386.034375 \nL 723.765625 0 \nL 0 0 \nz\n\" style=\"fill:none;\"/>\n  </g>\n  <g id=\"axes_1\">\n   <g id=\"patch_2\">\n    <path d=\"M 46.965625 348.478125 \nL 716.565625 348.478125 \nL 716.565625 22.318125 \nL 46.965625 22.318125 \nz\n\" style=\"fill:#ffffff;\"/>\n   </g>\n   <g id=\"patch_3\">\n    <path clip-path=\"url(#p43afa4288d)\" d=\"M 60.357625 348.478125 \nL 167.493625 348.478125 \nL 167.493625 142.949446 \nL 60.357625 142.949446 \nz\n\" style=\"fill:#3274a1;\"/>\n   </g>\n   <g id=\"patch_4\">\n    <path clip-path=\"url(#p43afa4288d)\" d=\"M 194.277625 348.478125 \nL 301.413625 348.478125 \nL 301.413625 37.849554 \nL 194.277625 37.849554 \nz\n\" style=\"fill:#e1812c;\"/>\n   </g>\n   <g id=\"patch_5\">\n    <path clip-path=\"url(#p43afa4288d)\" d=\"M 328.197625 348.478125 \nL 435.333625 348.478125 \nL 435.333625 339.135912 \nL 328.197625 339.135912 \nz\n\" style=\"fill:#3a923a;\"/>\n   </g>\n   <g id=\"patch_6\">\n    <path clip-path=\"url(#p43afa4288d)\" d=\"M 462.117625 348.478125 \nL 569.253625 348.478125 \nL 569.253625 280.747083 \nL 462.117625 280.747083 \nz\n\" style=\"fill:#c03d3e;\"/>\n   </g>\n   <g id=\"patch_7\">\n    <path clip-path=\"url(#p43afa4288d)\" d=\"M 596.037625 348.478125 \nL 703.173625 348.478125 \nL 703.173625 346.142572 \nL 596.037625 346.142572 \nz\n\" style=\"fill:#9372b2;\"/>\n   </g>\n   <g id=\"matplotlib.axis_1\">\n    <g id=\"xtick_1\">\n     <g id=\"line2d_1\">\n      <defs>\n       <path d=\"M 0 0 \nL 0 3.5 \n\" id=\"me5e77e0e07\" style=\"stroke:#000000;stroke-width:0.8;\"/>\n      </defs>\n      <g>\n       <use style=\"stroke:#000000;stroke-width:0.8;\" x=\"113.925625\" xlink:href=\"#me5e77e0e07\" y=\"348.478125\"/>\n      </g>\n     </g>\n     <g id=\"text_1\">\n      <!-- sweet -->\n      <g transform=\"translate(99.118594 363.076562)scale(0.1 -0.1)\">\n       <defs>\n        <path d=\"M 2834 3397 \nL 2834 2853 \nQ 2591 2978 2328 3040 \nQ 2066 3103 1784 3103 \nQ 1356 3103 1142 2972 \nQ 928 2841 928 2578 \nQ 928 2378 1081 2264 \nQ 1234 2150 1697 2047 \nL 1894 2003 \nQ 2506 1872 2764 1633 \nQ 3022 1394 3022 966 \nQ 3022 478 2636 193 \nQ 2250 -91 1575 -91 \nQ 1294 -91 989 -36 \nQ 684 19 347 128 \nL 347 722 \nQ 666 556 975 473 \nQ 1284 391 1588 391 \nQ 1994 391 2212 530 \nQ 2431 669 2431 922 \nQ 2431 1156 2273 1281 \nQ 2116 1406 1581 1522 \nL 1381 1569 \nQ 847 1681 609 1914 \nQ 372 2147 372 2553 \nQ 372 3047 722 3315 \nQ 1072 3584 1716 3584 \nQ 2034 3584 2315 3537 \nQ 2597 3491 2834 3397 \nz\n\" id=\"DejaVuSans-73\" transform=\"scale(0.015625)\"/>\n        <path d=\"M 269 3500 \nL 844 3500 \nL 1563 769 \nL 2278 3500 \nL 2956 3500 \nL 3675 769 \nL 4391 3500 \nL 4966 3500 \nL 4050 0 \nL 3372 0 \nL 2619 2869 \nL 1863 0 \nL 1184 0 \nL 269 3500 \nz\n\" id=\"DejaVuSans-77\" transform=\"scale(0.015625)\"/>\n        <path d=\"M 3597 1894 \nL 3597 1613 \nL 953 1613 \nQ 991 1019 1311 708 \nQ 1631 397 2203 397 \nQ 2534 397 2845 478 \nQ 3156 559 3463 722 \nL 3463 178 \nQ 3153 47 2828 -22 \nQ 2503 -91 2169 -91 \nQ 1331 -91 842 396 \nQ 353 884 353 1716 \nQ 353 2575 817 3079 \nQ 1281 3584 2069 3584 \nQ 2775 3584 3186 3129 \nQ 3597 2675 3597 1894 \nz\nM 3022 2063 \nQ 3016 2534 2758 2815 \nQ 2500 3097 2075 3097 \nQ 1594 3097 1305 2825 \nQ 1016 2553 972 2059 \nL 3022 2063 \nz\n\" id=\"DejaVuSans-65\" transform=\"scale(0.015625)\"/>\n        <path d=\"M 1172 4494 \nL 1172 3500 \nL 2356 3500 \nL 2356 3053 \nL 1172 3053 \nL 1172 1153 \nQ 1172 725 1289 603 \nQ 1406 481 1766 481 \nL 2356 481 \nL 2356 0 \nL 1766 0 \nQ 1100 0 847 248 \nQ 594 497 594 1153 \nL 594 3053 \nL 172 3053 \nL 172 3500 \nL 594 3500 \nL 594 4494 \nL 1172 4494 \nz\n\" id=\"DejaVuSans-74\" transform=\"scale(0.015625)\"/>\n       </defs>\n       <use xlink:href=\"#DejaVuSans-73\"/>\n       <use x=\"52.099609\" xlink:href=\"#DejaVuSans-77\"/>\n       <use x=\"133.886719\" xlink:href=\"#DejaVuSans-65\"/>\n       <use x=\"195.410156\" xlink:href=\"#DejaVuSans-65\"/>\n       <use x=\"256.933594\" xlink:href=\"#DejaVuSans-74\"/>\n      </g>\n     </g>\n    </g>\n    <g id=\"xtick_2\">\n     <g id=\"line2d_2\">\n      <g>\n       <use style=\"stroke:#000000;stroke-width:0.8;\" x=\"247.845625\" xlink:href=\"#me5e77e0e07\" y=\"348.478125\"/>\n      </g>\n     </g>\n     <g id=\"text_2\">\n      <!-- spicy -->\n      <g transform=\"translate(234.969063 363.076562)scale(0.1 -0.1)\">\n       <defs>\n        <path d=\"M 1159 525 \nL 1159 -1331 \nL 581 -1331 \nL 581 3500 \nL 1159 3500 \nL 1159 2969 \nQ 1341 3281 1617 3432 \nQ 1894 3584 2278 3584 \nQ 2916 3584 3314 3078 \nQ 3713 2572 3713 1747 \nQ 3713 922 3314 415 \nQ 2916 -91 2278 -91 \nQ 1894 -91 1617 61 \nQ 1341 213 1159 525 \nz\nM 3116 1747 \nQ 3116 2381 2855 2742 \nQ 2594 3103 2138 3103 \nQ 1681 3103 1420 2742 \nQ 1159 2381 1159 1747 \nQ 1159 1113 1420 752 \nQ 1681 391 2138 391 \nQ 2594 391 2855 752 \nQ 3116 1113 3116 1747 \nz\n\" id=\"DejaVuSans-70\" transform=\"scale(0.015625)\"/>\n        <path d=\"M 603 3500 \nL 1178 3500 \nL 1178 0 \nL 603 0 \nL 603 3500 \nz\nM 603 4863 \nL 1178 4863 \nL 1178 4134 \nL 603 4134 \nL 603 4863 \nz\n\" id=\"DejaVuSans-69\" transform=\"scale(0.015625)\"/>\n        <path d=\"M 3122 3366 \nL 3122 2828 \nQ 2878 2963 2633 3030 \nQ 2388 3097 2138 3097 \nQ 1578 3097 1268 2742 \nQ 959 2388 959 1747 \nQ 959 1106 1268 751 \nQ 1578 397 2138 397 \nQ 2388 397 2633 464 \nQ 2878 531 3122 666 \nL 3122 134 \nQ 2881 22 2623 -34 \nQ 2366 -91 2075 -91 \nQ 1284 -91 818 406 \nQ 353 903 353 1747 \nQ 353 2603 823 3093 \nQ 1294 3584 2113 3584 \nQ 2378 3584 2631 3529 \nQ 2884 3475 3122 3366 \nz\n\" id=\"DejaVuSans-63\" transform=\"scale(0.015625)\"/>\n        <path d=\"M 2059 -325 \nQ 1816 -950 1584 -1140 \nQ 1353 -1331 966 -1331 \nL 506 -1331 \nL 506 -850 \nL 844 -850 \nQ 1081 -850 1212 -737 \nQ 1344 -625 1503 -206 \nL 1606 56 \nL 191 3500 \nL 800 3500 \nL 1894 763 \nL 2988 3500 \nL 3597 3500 \nL 2059 -325 \nz\n\" id=\"DejaVuSans-79\" transform=\"scale(0.015625)\"/>\n       </defs>\n       <use xlink:href=\"#DejaVuSans-73\"/>\n       <use x=\"52.099609\" xlink:href=\"#DejaVuSans-70\"/>\n       <use x=\"115.576172\" xlink:href=\"#DejaVuSans-69\"/>\n       <use x=\"143.359375\" xlink:href=\"#DejaVuSans-63\"/>\n       <use x=\"198.339844\" xlink:href=\"#DejaVuSans-79\"/>\n      </g>\n     </g>\n    </g>\n    <g id=\"xtick_3\">\n     <g id=\"line2d_3\">\n      <g>\n       <use style=\"stroke:#000000;stroke-width:0.8;\" x=\"381.765625\" xlink:href=\"#me5e77e0e07\" y=\"348.478125\"/>\n      </g>\n     </g>\n     <g id=\"text_3\">\n      <!-- bitter -->\n      <g transform=\"translate(368.15 363.076562)scale(0.1 -0.1)\">\n       <defs>\n        <path d=\"M 3116 1747 \nQ 3116 2381 2855 2742 \nQ 2594 3103 2138 3103 \nQ 1681 3103 1420 2742 \nQ 1159 2381 1159 1747 \nQ 1159 1113 1420 752 \nQ 1681 391 2138 391 \nQ 2594 391 2855 752 \nQ 3116 1113 3116 1747 \nz\nM 1159 2969 \nQ 1341 3281 1617 3432 \nQ 1894 3584 2278 3584 \nQ 2916 3584 3314 3078 \nQ 3713 2572 3713 1747 \nQ 3713 922 3314 415 \nQ 2916 -91 2278 -91 \nQ 1894 -91 1617 61 \nQ 1341 213 1159 525 \nL 1159 0 \nL 581 0 \nL 581 4863 \nL 1159 4863 \nL 1159 2969 \nz\n\" id=\"DejaVuSans-62\" transform=\"scale(0.015625)\"/>\n        <path d=\"M 2631 2963 \nQ 2534 3019 2420 3045 \nQ 2306 3072 2169 3072 \nQ 1681 3072 1420 2755 \nQ 1159 2438 1159 1844 \nL 1159 0 \nL 581 0 \nL 581 3500 \nL 1159 3500 \nL 1159 2956 \nQ 1341 3275 1631 3429 \nQ 1922 3584 2338 3584 \nQ 2397 3584 2469 3576 \nQ 2541 3569 2628 3553 \nL 2631 2963 \nz\n\" id=\"DejaVuSans-72\" transform=\"scale(0.015625)\"/>\n       </defs>\n       <use xlink:href=\"#DejaVuSans-62\"/>\n       <use x=\"63.476562\" xlink:href=\"#DejaVuSans-69\"/>\n       <use x=\"91.259766\" xlink:href=\"#DejaVuSans-74\"/>\n       <use x=\"130.46875\" xlink:href=\"#DejaVuSans-74\"/>\n       <use x=\"169.677734\" xlink:href=\"#DejaVuSans-65\"/>\n       <use x=\"231.201172\" xlink:href=\"#DejaVuSans-72\"/>\n      </g>\n     </g>\n    </g>\n    <g id=\"xtick_4\">\n     <g id=\"line2d_4\">\n      <g>\n       <use style=\"stroke:#000000;stroke-width:0.8;\" x=\"515.685625\" xlink:href=\"#me5e77e0e07\" y=\"348.478125\"/>\n      </g>\n     </g>\n     <g id=\"text_4\">\n      <!-- other -->\n      <g transform=\"translate(502.365313 363.076562)scale(0.1 -0.1)\">\n       <defs>\n        <path d=\"M 1959 3097 \nQ 1497 3097 1228 2736 \nQ 959 2375 959 1747 \nQ 959 1119 1226 758 \nQ 1494 397 1959 397 \nQ 2419 397 2687 759 \nQ 2956 1122 2956 1747 \nQ 2956 2369 2687 2733 \nQ 2419 3097 1959 3097 \nz\nM 1959 3584 \nQ 2709 3584 3137 3096 \nQ 3566 2609 3566 1747 \nQ 3566 888 3137 398 \nQ 2709 -91 1959 -91 \nQ 1206 -91 779 398 \nQ 353 888 353 1747 \nQ 353 2609 779 3096 \nQ 1206 3584 1959 3584 \nz\n\" id=\"DejaVuSans-6f\" transform=\"scale(0.015625)\"/>\n        <path d=\"M 3513 2113 \nL 3513 0 \nL 2938 0 \nL 2938 2094 \nQ 2938 2591 2744 2837 \nQ 2550 3084 2163 3084 \nQ 1697 3084 1428 2787 \nQ 1159 2491 1159 1978 \nL 1159 0 \nL 581 0 \nL 581 4863 \nL 1159 4863 \nL 1159 2956 \nQ 1366 3272 1645 3428 \nQ 1925 3584 2291 3584 \nQ 2894 3584 3203 3211 \nQ 3513 2838 3513 2113 \nz\n\" id=\"DejaVuSans-68\" transform=\"scale(0.015625)\"/>\n       </defs>\n       <use xlink:href=\"#DejaVuSans-6f\"/>\n       <use x=\"61.181641\" xlink:href=\"#DejaVuSans-74\"/>\n       <use x=\"100.390625\" xlink:href=\"#DejaVuSans-68\"/>\n       <use x=\"163.769531\" xlink:href=\"#DejaVuSans-65\"/>\n       <use x=\"225.292969\" xlink:href=\"#DejaVuSans-72\"/>\n      </g>\n     </g>\n    </g>\n    <g id=\"xtick_5\">\n     <g id=\"line2d_5\">\n      <g>\n       <use style=\"stroke:#000000;stroke-width:0.8;\" x=\"649.605625\" xlink:href=\"#me5e77e0e07\" y=\"348.478125\"/>\n      </g>\n     </g>\n     <g id=\"text_5\">\n      <!-- sour -->\n      <g transform=\"translate(638.717344 363.076562)scale(0.1 -0.1)\">\n       <defs>\n        <path d=\"M 544 1381 \nL 544 3500 \nL 1119 3500 \nL 1119 1403 \nQ 1119 906 1312 657 \nQ 1506 409 1894 409 \nQ 2359 409 2629 706 \nQ 2900 1003 2900 1516 \nL 2900 3500 \nL 3475 3500 \nL 3475 0 \nL 2900 0 \nL 2900 538 \nQ 2691 219 2414 64 \nQ 2138 -91 1772 -91 \nQ 1169 -91 856 284 \nQ 544 659 544 1381 \nz\nM 1991 3584 \nL 1991 3584 \nz\n\" id=\"DejaVuSans-75\" transform=\"scale(0.015625)\"/>\n       </defs>\n       <use xlink:href=\"#DejaVuSans-73\"/>\n       <use x=\"52.099609\" xlink:href=\"#DejaVuSans-6f\"/>\n       <use x=\"113.28125\" xlink:href=\"#DejaVuSans-75\"/>\n       <use x=\"176.660156\" xlink:href=\"#DejaVuSans-72\"/>\n      </g>\n     </g>\n    </g>\n    <g id=\"text_6\">\n     <!-- Flavours -->\n     <g transform=\"translate(360.589063 376.754687)scale(0.1 -0.1)\">\n      <defs>\n       <path d=\"M 628 4666 \nL 3309 4666 \nL 3309 4134 \nL 1259 4134 \nL 1259 2759 \nL 3109 2759 \nL 3109 2228 \nL 1259 2228 \nL 1259 0 \nL 628 0 \nL 628 4666 \nz\n\" id=\"DejaVuSans-46\" transform=\"scale(0.015625)\"/>\n       <path d=\"M 603 4863 \nL 1178 4863 \nL 1178 0 \nL 603 0 \nL 603 4863 \nz\n\" id=\"DejaVuSans-6c\" transform=\"scale(0.015625)\"/>\n       <path d=\"M 2194 1759 \nQ 1497 1759 1228 1600 \nQ 959 1441 959 1056 \nQ 959 750 1161 570 \nQ 1363 391 1709 391 \nQ 2188 391 2477 730 \nQ 2766 1069 2766 1631 \nL 2766 1759 \nL 2194 1759 \nz\nM 3341 1997 \nL 3341 0 \nL 2766 0 \nL 2766 531 \nQ 2569 213 2275 61 \nQ 1981 -91 1556 -91 \nQ 1019 -91 701 211 \nQ 384 513 384 1019 \nQ 384 1609 779 1909 \nQ 1175 2209 1959 2209 \nL 2766 2209 \nL 2766 2266 \nQ 2766 2663 2505 2880 \nQ 2244 3097 1772 3097 \nQ 1472 3097 1187 3025 \nQ 903 2953 641 2809 \nL 641 3341 \nQ 956 3463 1253 3523 \nQ 1550 3584 1831 3584 \nQ 2591 3584 2966 3190 \nQ 3341 2797 3341 1997 \nz\n\" id=\"DejaVuSans-61\" transform=\"scale(0.015625)\"/>\n       <path d=\"M 191 3500 \nL 800 3500 \nL 1894 563 \nL 2988 3500 \nL 3597 3500 \nL 2284 0 \nL 1503 0 \nL 191 3500 \nz\n\" id=\"DejaVuSans-76\" transform=\"scale(0.015625)\"/>\n      </defs>\n      <use xlink:href=\"#DejaVuSans-46\"/>\n      <use x=\"57.519531\" xlink:href=\"#DejaVuSans-6c\"/>\n      <use x=\"85.302734\" xlink:href=\"#DejaVuSans-61\"/>\n      <use x=\"146.582031\" xlink:href=\"#DejaVuSans-76\"/>\n      <use x=\"205.761719\" xlink:href=\"#DejaVuSans-6f\"/>\n      <use x=\"266.943359\" xlink:href=\"#DejaVuSans-75\"/>\n      <use x=\"330.322266\" xlink:href=\"#DejaVuSans-72\"/>\n      <use x=\"371.435547\" xlink:href=\"#DejaVuSans-73\"/>\n     </g>\n    </g>\n   </g>\n   <g id=\"matplotlib.axis_2\">\n    <g id=\"ytick_1\">\n     <g id=\"line2d_6\">\n      <defs>\n       <path d=\"M 0 0 \nL -3.5 0 \n\" id=\"md7a766a1f2\" style=\"stroke:#000000;stroke-width:0.8;\"/>\n      </defs>\n      <g>\n       <use style=\"stroke:#000000;stroke-width:0.8;\" x=\"46.965625\" xlink:href=\"#md7a766a1f2\" y=\"348.478125\"/>\n      </g>\n     </g>\n     <g id=\"text_7\">\n      <!-- 0 -->\n      <g transform=\"translate(33.603125 352.277344)scale(0.1 -0.1)\">\n       <defs>\n        <path d=\"M 2034 4250 \nQ 1547 4250 1301 3770 \nQ 1056 3291 1056 2328 \nQ 1056 1369 1301 889 \nQ 1547 409 2034 409 \nQ 2525 409 2770 889 \nQ 3016 1369 3016 2328 \nQ 3016 3291 2770 3770 \nQ 2525 4250 2034 4250 \nz\nM 2034 4750 \nQ 2819 4750 3233 4129 \nQ 3647 3509 3647 2328 \nQ 3647 1150 3233 529 \nQ 2819 -91 2034 -91 \nQ 1250 -91 836 529 \nQ 422 1150 422 2328 \nQ 422 3509 836 4129 \nQ 1250 4750 2034 4750 \nz\n\" id=\"DejaVuSans-30\" transform=\"scale(0.015625)\"/>\n       </defs>\n       <use xlink:href=\"#DejaVuSans-30\"/>\n      </g>\n     </g>\n    </g>\n    <g id=\"ytick_2\">\n     <g id=\"line2d_7\">\n      <g>\n       <use style=\"stroke:#000000;stroke-width:0.8;\" x=\"46.965625\" xlink:href=\"#md7a766a1f2\" y=\"301.767062\"/>\n      </g>\n     </g>\n     <g id=\"text_8\">\n      <!-- 20 -->\n      <g transform=\"translate(27.240625 305.56628)scale(0.1 -0.1)\">\n       <defs>\n        <path d=\"M 1228 531 \nL 3431 531 \nL 3431 0 \nL 469 0 \nL 469 531 \nQ 828 903 1448 1529 \nQ 2069 2156 2228 2338 \nQ 2531 2678 2651 2914 \nQ 2772 3150 2772 3378 \nQ 2772 3750 2511 3984 \nQ 2250 4219 1831 4219 \nQ 1534 4219 1204 4116 \nQ 875 4013 500 3803 \nL 500 4441 \nQ 881 4594 1212 4672 \nQ 1544 4750 1819 4750 \nQ 2544 4750 2975 4387 \nQ 3406 4025 3406 3419 \nQ 3406 3131 3298 2873 \nQ 3191 2616 2906 2266 \nQ 2828 2175 2409 1742 \nQ 1991 1309 1228 531 \nz\n\" id=\"DejaVuSans-32\" transform=\"scale(0.015625)\"/>\n       </defs>\n       <use xlink:href=\"#DejaVuSans-32\"/>\n       <use x=\"63.623047\" xlink:href=\"#DejaVuSans-30\"/>\n      </g>\n     </g>\n    </g>\n    <g id=\"ytick_3\">\n     <g id=\"line2d_8\">\n      <g>\n       <use style=\"stroke:#000000;stroke-width:0.8;\" x=\"46.965625\" xlink:href=\"#md7a766a1f2\" y=\"255.055998\"/>\n      </g>\n     </g>\n     <g id=\"text_9\">\n      <!-- 40 -->\n      <g transform=\"translate(27.240625 258.855217)scale(0.1 -0.1)\">\n       <defs>\n        <path d=\"M 2419 4116 \nL 825 1625 \nL 2419 1625 \nL 2419 4116 \nz\nM 2253 4666 \nL 3047 4666 \nL 3047 1625 \nL 3713 1625 \nL 3713 1100 \nL 3047 1100 \nL 3047 0 \nL 2419 0 \nL 2419 1100 \nL 313 1100 \nL 313 1709 \nL 2253 4666 \nz\n\" id=\"DejaVuSans-34\" transform=\"scale(0.015625)\"/>\n       </defs>\n       <use xlink:href=\"#DejaVuSans-34\"/>\n       <use x=\"63.623047\" xlink:href=\"#DejaVuSans-30\"/>\n      </g>\n     </g>\n    </g>\n    <g id=\"ytick_4\">\n     <g id=\"line2d_9\">\n      <g>\n       <use style=\"stroke:#000000;stroke-width:0.8;\" x=\"46.965625\" xlink:href=\"#md7a766a1f2\" y=\"208.344935\"/>\n      </g>\n     </g>\n     <g id=\"text_10\">\n      <!-- 60 -->\n      <g transform=\"translate(27.240625 212.144154)scale(0.1 -0.1)\">\n       <defs>\n        <path d=\"M 2113 2584 \nQ 1688 2584 1439 2293 \nQ 1191 2003 1191 1497 \nQ 1191 994 1439 701 \nQ 1688 409 2113 409 \nQ 2538 409 2786 701 \nQ 3034 994 3034 1497 \nQ 3034 2003 2786 2293 \nQ 2538 2584 2113 2584 \nz\nM 3366 4563 \nL 3366 3988 \nQ 3128 4100 2886 4159 \nQ 2644 4219 2406 4219 \nQ 1781 4219 1451 3797 \nQ 1122 3375 1075 2522 \nQ 1259 2794 1537 2939 \nQ 1816 3084 2150 3084 \nQ 2853 3084 3261 2657 \nQ 3669 2231 3669 1497 \nQ 3669 778 3244 343 \nQ 2819 -91 2113 -91 \nQ 1303 -91 875 529 \nQ 447 1150 447 2328 \nQ 447 3434 972 4092 \nQ 1497 4750 2381 4750 \nQ 2619 4750 2861 4703 \nQ 3103 4656 3366 4563 \nz\n\" id=\"DejaVuSans-36\" transform=\"scale(0.015625)\"/>\n       </defs>\n       <use xlink:href=\"#DejaVuSans-36\"/>\n       <use x=\"63.623047\" xlink:href=\"#DejaVuSans-30\"/>\n      </g>\n     </g>\n    </g>\n    <g id=\"ytick_5\">\n     <g id=\"line2d_10\">\n      <g>\n       <use style=\"stroke:#000000;stroke-width:0.8;\" x=\"46.965625\" xlink:href=\"#md7a766a1f2\" y=\"161.633872\"/>\n      </g>\n     </g>\n     <g id=\"text_11\">\n      <!-- 80 -->\n      <g transform=\"translate(27.240625 165.43309)scale(0.1 -0.1)\">\n       <defs>\n        <path d=\"M 2034 2216 \nQ 1584 2216 1326 1975 \nQ 1069 1734 1069 1313 \nQ 1069 891 1326 650 \nQ 1584 409 2034 409 \nQ 2484 409 2743 651 \nQ 3003 894 3003 1313 \nQ 3003 1734 2745 1975 \nQ 2488 2216 2034 2216 \nz\nM 1403 2484 \nQ 997 2584 770 2862 \nQ 544 3141 544 3541 \nQ 544 4100 942 4425 \nQ 1341 4750 2034 4750 \nQ 2731 4750 3128 4425 \nQ 3525 4100 3525 3541 \nQ 3525 3141 3298 2862 \nQ 3072 2584 2669 2484 \nQ 3125 2378 3379 2068 \nQ 3634 1759 3634 1313 \nQ 3634 634 3220 271 \nQ 2806 -91 2034 -91 \nQ 1263 -91 848 271 \nQ 434 634 434 1313 \nQ 434 1759 690 2068 \nQ 947 2378 1403 2484 \nz\nM 1172 3481 \nQ 1172 3119 1398 2916 \nQ 1625 2713 2034 2713 \nQ 2441 2713 2670 2916 \nQ 2900 3119 2900 3481 \nQ 2900 3844 2670 4047 \nQ 2441 4250 2034 4250 \nQ 1625 4250 1398 4047 \nQ 1172 3844 1172 3481 \nz\n\" id=\"DejaVuSans-38\" transform=\"scale(0.015625)\"/>\n       </defs>\n       <use xlink:href=\"#DejaVuSans-38\"/>\n       <use x=\"63.623047\" xlink:href=\"#DejaVuSans-30\"/>\n      </g>\n     </g>\n    </g>\n    <g id=\"ytick_6\">\n     <g id=\"line2d_11\">\n      <g>\n       <use style=\"stroke:#000000;stroke-width:0.8;\" x=\"46.965625\" xlink:href=\"#md7a766a1f2\" y=\"114.922808\"/>\n      </g>\n     </g>\n     <g id=\"text_12\">\n      <!-- 100 -->\n      <g transform=\"translate(20.878125 118.722027)scale(0.1 -0.1)\">\n       <defs>\n        <path d=\"M 794 531 \nL 1825 531 \nL 1825 4091 \nL 703 3866 \nL 703 4441 \nL 1819 4666 \nL 2450 4666 \nL 2450 531 \nL 3481 531 \nL 3481 0 \nL 794 0 \nL 794 531 \nz\n\" id=\"DejaVuSans-31\" transform=\"scale(0.015625)\"/>\n       </defs>\n       <use xlink:href=\"#DejaVuSans-31\"/>\n       <use x=\"63.623047\" xlink:href=\"#DejaVuSans-30\"/>\n       <use x=\"127.246094\" xlink:href=\"#DejaVuSans-30\"/>\n      </g>\n     </g>\n    </g>\n    <g id=\"ytick_7\">\n     <g id=\"line2d_12\">\n      <g>\n       <use style=\"stroke:#000000;stroke-width:0.8;\" x=\"46.965625\" xlink:href=\"#md7a766a1f2\" y=\"68.211745\"/>\n      </g>\n     </g>\n     <g id=\"text_13\">\n      <!-- 120 -->\n      <g transform=\"translate(20.878125 72.010964)scale(0.1 -0.1)\">\n       <use xlink:href=\"#DejaVuSans-31\"/>\n       <use x=\"63.623047\" xlink:href=\"#DejaVuSans-32\"/>\n       <use x=\"127.246094\" xlink:href=\"#DejaVuSans-30\"/>\n      </g>\n     </g>\n    </g>\n    <g id=\"text_14\">\n     <!-- count -->\n     <g transform=\"translate(14.798438 199.504375)rotate(-90)scale(0.1 -0.1)\">\n      <defs>\n       <path d=\"M 3513 2113 \nL 3513 0 \nL 2938 0 \nL 2938 2094 \nQ 2938 2591 2744 2837 \nQ 2550 3084 2163 3084 \nQ 1697 3084 1428 2787 \nQ 1159 2491 1159 1978 \nL 1159 0 \nL 581 0 \nL 581 3500 \nL 1159 3500 \nL 1159 2956 \nQ 1366 3272 1645 3428 \nQ 1925 3584 2291 3584 \nQ 2894 3584 3203 3211 \nQ 3513 2838 3513 2113 \nz\n\" id=\"DejaVuSans-6e\" transform=\"scale(0.015625)\"/>\n      </defs>\n      <use xlink:href=\"#DejaVuSans-63\"/>\n      <use x=\"54.980469\" xlink:href=\"#DejaVuSans-6f\"/>\n      <use x=\"116.162109\" xlink:href=\"#DejaVuSans-75\"/>\n      <use x=\"179.541016\" xlink:href=\"#DejaVuSans-6e\"/>\n      <use x=\"242.919922\" xlink:href=\"#DejaVuSans-74\"/>\n     </g>\n    </g>\n   </g>\n   <g id=\"patch_8\">\n    <path d=\"M 46.965625 348.478125 \nL 46.965625 22.318125 \n\" style=\"fill:none;stroke:#000000;stroke-linecap:square;stroke-linejoin:miter;stroke-width:0.8;\"/>\n   </g>\n   <g id=\"patch_9\">\n    <path d=\"M 716.565625 348.478125 \nL 716.565625 22.318125 \n\" style=\"fill:none;stroke:#000000;stroke-linecap:square;stroke-linejoin:miter;stroke-width:0.8;\"/>\n   </g>\n   <g id=\"patch_10\">\n    <path d=\"M 46.965625 348.478125 \nL 716.565625 348.478125 \n\" style=\"fill:none;stroke:#000000;stroke-linecap:square;stroke-linejoin:miter;stroke-width:0.8;\"/>\n   </g>\n   <g id=\"patch_11\">\n    <path d=\"M 46.965625 22.318125 \nL 716.565625 22.318125 \n\" style=\"fill:none;stroke:#000000;stroke-linecap:square;stroke-linejoin:miter;stroke-width:0.8;\"/>\n   </g>\n   <g id=\"text_15\">\n    <!-- Distribution of food as per the flavours -->\n    <g transform=\"translate(265.585 16.318125)scale(0.12 -0.12)\">\n     <defs>\n      <path d=\"M 1259 4147 \nL 1259 519 \nL 2022 519 \nQ 2988 519 3436 956 \nQ 3884 1394 3884 2338 \nQ 3884 3275 3436 3711 \nQ 2988 4147 2022 4147 \nL 1259 4147 \nz\nM 628 4666 \nL 1925 4666 \nQ 3281 4666 3915 4102 \nQ 4550 3538 4550 2338 \nQ 4550 1131 3912 565 \nQ 3275 0 1925 0 \nL 628 0 \nL 628 4666 \nz\n\" id=\"DejaVuSans-44\" transform=\"scale(0.015625)\"/>\n      <path id=\"DejaVuSans-20\" transform=\"scale(0.015625)\"/>\n      <path d=\"M 2375 4863 \nL 2375 4384 \nL 1825 4384 \nQ 1516 4384 1395 4259 \nQ 1275 4134 1275 3809 \nL 1275 3500 \nL 2222 3500 \nL 2222 3053 \nL 1275 3053 \nL 1275 0 \nL 697 0 \nL 697 3053 \nL 147 3053 \nL 147 3500 \nL 697 3500 \nL 697 3744 \nQ 697 4328 969 4595 \nQ 1241 4863 1831 4863 \nL 2375 4863 \nz\n\" id=\"DejaVuSans-66\" transform=\"scale(0.015625)\"/>\n      <path d=\"M 2906 2969 \nL 2906 4863 \nL 3481 4863 \nL 3481 0 \nL 2906 0 \nL 2906 525 \nQ 2725 213 2448 61 \nQ 2172 -91 1784 -91 \nQ 1150 -91 751 415 \nQ 353 922 353 1747 \nQ 353 2572 751 3078 \nQ 1150 3584 1784 3584 \nQ 2172 3584 2448 3432 \nQ 2725 3281 2906 2969 \nz\nM 947 1747 \nQ 947 1113 1208 752 \nQ 1469 391 1925 391 \nQ 2381 391 2643 752 \nQ 2906 1113 2906 1747 \nQ 2906 2381 2643 2742 \nQ 2381 3103 1925 3103 \nQ 1469 3103 1208 2742 \nQ 947 2381 947 1747 \nz\n\" id=\"DejaVuSans-64\" transform=\"scale(0.015625)\"/>\n     </defs>\n     <use xlink:href=\"#DejaVuSans-44\"/>\n     <use x=\"77.001953\" xlink:href=\"#DejaVuSans-69\"/>\n     <use x=\"104.785156\" xlink:href=\"#DejaVuSans-73\"/>\n     <use x=\"156.884766\" xlink:href=\"#DejaVuSans-74\"/>\n     <use x=\"196.09375\" xlink:href=\"#DejaVuSans-72\"/>\n     <use x=\"237.207031\" xlink:href=\"#DejaVuSans-69\"/>\n     <use x=\"264.990234\" xlink:href=\"#DejaVuSans-62\"/>\n     <use x=\"328.466797\" xlink:href=\"#DejaVuSans-75\"/>\n     <use x=\"391.845703\" xlink:href=\"#DejaVuSans-74\"/>\n     <use x=\"431.054688\" xlink:href=\"#DejaVuSans-69\"/>\n     <use x=\"458.837891\" xlink:href=\"#DejaVuSans-6f\"/>\n     <use x=\"520.019531\" xlink:href=\"#DejaVuSans-6e\"/>\n     <use x=\"583.398438\" xlink:href=\"#DejaVuSans-20\"/>\n     <use x=\"615.185547\" xlink:href=\"#DejaVuSans-6f\"/>\n     <use x=\"676.367188\" xlink:href=\"#DejaVuSans-66\"/>\n     <use x=\"711.572266\" xlink:href=\"#DejaVuSans-20\"/>\n     <use x=\"743.359375\" xlink:href=\"#DejaVuSans-66\"/>\n     <use x=\"778.564453\" xlink:href=\"#DejaVuSans-6f\"/>\n     <use x=\"839.746094\" xlink:href=\"#DejaVuSans-6f\"/>\n     <use x=\"900.927734\" xlink:href=\"#DejaVuSans-64\"/>\n     <use x=\"964.404297\" xlink:href=\"#DejaVuSans-20\"/>\n     <use x=\"996.191406\" xlink:href=\"#DejaVuSans-61\"/>\n     <use x=\"1057.470703\" xlink:href=\"#DejaVuSans-73\"/>\n     <use x=\"1109.570312\" xlink:href=\"#DejaVuSans-20\"/>\n     <use x=\"1141.357422\" xlink:href=\"#DejaVuSans-70\"/>\n     <use x=\"1204.833984\" xlink:href=\"#DejaVuSans-65\"/>\n     <use x=\"1266.357422\" xlink:href=\"#DejaVuSans-72\"/>\n     <use x=\"1307.470703\" xlink:href=\"#DejaVuSans-20\"/>\n     <use x=\"1339.257812\" xlink:href=\"#DejaVuSans-74\"/>\n     <use x=\"1378.466797\" xlink:href=\"#DejaVuSans-68\"/>\n     <use x=\"1441.845703\" xlink:href=\"#DejaVuSans-65\"/>\n     <use x=\"1503.369141\" xlink:href=\"#DejaVuSans-20\"/>\n     <use x=\"1535.15625\" xlink:href=\"#DejaVuSans-66\"/>\n     <use x=\"1570.361328\" xlink:href=\"#DejaVuSans-6c\"/>\n     <use x=\"1598.144531\" xlink:href=\"#DejaVuSans-61\"/>\n     <use x=\"1659.423828\" xlink:href=\"#DejaVuSans-76\"/>\n     <use x=\"1718.603516\" xlink:href=\"#DejaVuSans-6f\"/>\n     <use x=\"1779.785156\" xlink:href=\"#DejaVuSans-75\"/>\n     <use x=\"1843.164062\" xlink:href=\"#DejaVuSans-72\"/>\n     <use x=\"1884.277344\" xlink:href=\"#DejaVuSans-73\"/>\n    </g>\n   </g>\n  </g>\n </g>\n <defs>\n  <clipPath id=\"p43afa4288d\">\n   <rect height=\"326.16\" width=\"669.6\" x=\"46.965625\" y=\"22.318125\"/>\n  </clipPath>\n </defs>\n</svg>\n",
      "image/png": "[encoded data removed]"
     },
     "metadata": {
      "needs_background": "light"
     }
    }
   ],
   "source": [
    "# count plot  of all the flavour profiles\n",
    "\n",
    "sns.countplot(data = data, x = \"flavor_profile\")\n",
    "plt.xlabel(\"Flavours\")\n",
    "plt.title(\"Distribution of food as per the flavours\")\n",
    "plt.show()"
   ]
  },
  {
   "cell_type": "code",
   "execution_count": 22,
   "metadata": {},
   "outputs": [
    {
     "output_type": "execute_result",
     "data": {
      "text/plain": [
       "Gujarat            35\n",
       "Punjab             32\n",
       "Maharashtra        30\n",
       "-1                 24\n",
       "West Bengal        24\n",
       "Assam              21\n",
       "Tamil Nadu         20\n",
       "Andhra Pradesh     10\n",
       "Uttar Pradesh       9\n",
       "Kerala              8\n",
       "Odisha              7\n",
       "Rajasthan           6\n",
       "Karnataka           6\n",
       "Telangana           5\n",
       "Goa                 3\n",
       "Bihar               3\n",
       "Jammu & Kashmir     2\n",
       "Madhya Pradesh      2\n",
       "Manipur             2\n",
       "Uttarakhand         1\n",
       "Nagaland            1\n",
       "Tripura             1\n",
       "Chhattisgarh        1\n",
       "NCT of Delhi        1\n",
       "Haryana             1\n",
       "Name: state, dtype: int64"
      ]
     },
     "metadata": {},
     "execution_count": 22
    }
   ],
   "source": [
    "# getting the count of the dishes according to the state\n",
    "data.state.value_counts()"
   ]
  },
  {
   "cell_type": "code",
   "execution_count": 23,
   "metadata": {},
   "outputs": [
    {
     "output_type": "execute_result",
     "data": {
      "text/plain": [
       "               name                                        ingredients  \\\n",
       "7        kaju katli                     Cashews, ghee, cardamom, sugar   \n",
       "9             kheer                    Milk, rice, sugar, dried fruits   \n",
       "10            laddu                            Gram flour, ghee, sugar   \n",
       "12        nankhatai  Refined flour, besan, ghee, powdered sugar, yo...   \n",
       "94          khichdi  Moong dal, green peas, ginger, tomato, green c...   \n",
       "96    kulfi falooda  Rose syrup, falooda sev, mixed nuts, saffron, ...   \n",
       "98   lauki ki subji  Bottle gourd, coconut oil, garam masala, ginge...   \n",
       "109       pani puri      Kala chana, mashed potato, boondi, sev, lemon   \n",
       "111           papad       Urad dal, sev, lemon juice, chopped tomatoes   \n",
       "115    rajma chaval  Red kidney beans, garam masala powder, ginger,...   \n",
       "117          samosa  Potatoes, green peas, garam masala, ginger, dough   \n",
       "128            dosa  Chana dal, urad dal, whole urad dal, blend ric...   \n",
       "130            idli  Split urad dal, urad dal, idli rice, thick poh...   \n",
       "144     masala dosa  Chana dal, urad dal, potatoes, idli rice, thic...   \n",
       "145         pachadi  Coconut oil, cucumber, curd, curry leaves, mus...   \n",
       "149         payasam            Rice, cashew nuts, milk, raisins, sugar   \n",
       "154           rasam  Tomato, curry leaves, garlic, mustard seeds, h...   \n",
       "156          sambar  Pigeon peas, eggplant, drumsticks, sambar powd...   \n",
       "158           sevai                     Sevai, parboiled rice, steamer   \n",
       "161         uttapam    Chana dal, urad dal, thick poha, tomato, butter   \n",
       "162            vada  Urad dal, ginger, curry leaves, green chilies,...   \n",
       "164            upma   Chana dal, urad dal, ginger, curry leaves, sugar   \n",
       "231      brown rice                   Brown rice, soy sauce, olive oil   \n",
       "248        red rice  Red pepper, red onion, butter, watercress, oli...   \n",
       "\n",
       "           diet  prep_time  cook_time flavor_profile       course state region  \n",
       "7    vegetarian         10         20          sweet      dessert    -1     -1  \n",
       "9    vegetarian         10         40          sweet      dessert    -1     -1  \n",
       "10   vegetarian         10         40          sweet      dessert    -1     -1  \n",
       "12   vegetarian         20         30          sweet      dessert    -1     -1  \n",
       "94   vegetarian         40         20          spicy  main course    -1     -1  \n",
       "96   vegetarian         45         25          sweet      dessert    -1     -1  \n",
       "98   vegetarian         10         20          spicy  main course    -1     -1  \n",
       "109  vegetarian         15          2          spicy        snack    -1     -1  \n",
       "111  vegetarian          5          5          spicy        snack    -1     -1  \n",
       "115  vegetarian         15         90          spicy  main course    -1  North  \n",
       "117  vegetarian         30         30          spicy        snack    -1     -1  \n",
       "128  vegetarian        360         90          spicy        snack    -1  South  \n",
       "130  vegetarian        360         90          spicy        snack    -1  South  \n",
       "144  vegetarian        360         90          spicy        snack    -1  South  \n",
       "145  vegetarian         10         25          other  main course    -1  South  \n",
       "149  vegetarian         15         30          sweet      dessert    -1  South  \n",
       "154  vegetarian         10         35          spicy  main course    -1  South  \n",
       "156  vegetarian         20         45          spicy  main course    -1  South  \n",
       "158  vegetarian        120         30          other  main course    -1  South  \n",
       "161  vegetarian         10         20          spicy        snack    -1  South  \n",
       "162  vegetarian         15         20          spicy        snack    -1  South  \n",
       "164  vegetarian         10         20          spicy        snack    -1     -1  \n",
       "231  vegetarian         15         25          other  main course    -1     -1  \n",
       "248  vegetarian         -1         -1          other  main course    -1     -1  "
      ],
      "text/html": "<div>\n<style scoped>\n    .dataframe tbody tr th:only-of-type {\n        vertical-align: middle;\n    }\n\n    .dataframe tbody tr th {\n        vertical-align: top;\n    }\n\n    .dataframe thead th {\n        text-align: right;\n    }\n</style>\n<table border=\"1\" class=\"dataframe\">\n  <thead>\n    <tr style=\"text-align: right;\">\n      <th></th>\n      <th>name</th>\n      <th>ingredients</th>\n      <th>diet</th>\n      <th>prep_time</th>\n      <th>cook_time</th>\n      <th>flavor_profile</th>\n      <th>course</th>\n      <th>state</th>\n      <th>region</th>\n    </tr>\n  </thead>\n  <tbody>\n    <tr>\n      <th>7</th>\n      <td>kaju katli</td>\n      <td>Cashews, ghee, cardamom, sugar</td>\n      <td>vegetarian</td>\n      <td>10</td>\n      <td>20</td>\n      <td>sweet</td>\n      <td>dessert</td>\n      <td>-1</td>\n      <td>-1</td>\n    </tr>\n    <tr>\n      <th>9</th>\n      <td>kheer</td>\n      <td>Milk, rice, sugar, dried fruits</td>\n      <td>vegetarian</td>\n      <td>10</td>\n      <td>40</td>\n      <td>sweet</td>\n      <td>dessert</td>\n      <td>-1</td>\n      <td>-1</td>\n    </tr>\n    <tr>\n      <th>10</th>\n      <td>laddu</td>\n      <td>Gram flour, ghee, sugar</td>\n      <td>vegetarian</td>\n      <td>10</td>\n      <td>40</td>\n      <td>sweet</td>\n      <td>dessert</td>\n      <td>-1</td>\n      <td>-1</td>\n    </tr>\n    <tr>\n      <th>12</th>\n      <td>nankhatai</td>\n      <td>Refined flour, besan, ghee, powdered sugar, yo...</td>\n      <td>vegetarian</td>\n      <td>20</td>\n      <td>30</td>\n      <td>sweet</td>\n      <td>dessert</td>\n      <td>-1</td>\n      <td>-1</td>\n    </tr>\n    <tr>\n      <th>94</th>\n      <td>khichdi</td>\n      <td>Moong dal, green peas, ginger, tomato, green c...</td>\n      <td>vegetarian</td>\n      <td>40</td>\n      <td>20</td>\n      <td>spicy</td>\n      <td>main course</td>\n      <td>-1</td>\n      <td>-1</td>\n    </tr>\n    <tr>\n      <th>96</th>\n      <td>kulfi falooda</td>\n      <td>Rose syrup, falooda sev, mixed nuts, saffron, ...</td>\n      <td>vegetarian</td>\n      <td>45</td>\n      <td>25</td>\n      <td>sweet</td>\n      <td>dessert</td>\n      <td>-1</td>\n      <td>-1</td>\n    </tr>\n    <tr>\n      <th>98</th>\n      <td>lauki ki subji</td>\n      <td>Bottle gourd, coconut oil, garam masala, ginge...</td>\n      <td>vegetarian</td>\n      <td>10</td>\n      <td>20</td>\n      <td>spicy</td>\n      <td>main course</td>\n      <td>-1</td>\n      <td>-1</td>\n    </tr>\n    <tr>\n      <th>109</th>\n      <td>pani puri</td>\n      <td>Kala chana, mashed potato, boondi, sev, lemon</td>\n      <td>vegetarian</td>\n      <td>15</td>\n      <td>2</td>\n      <td>spicy</td>\n      <td>snack</td>\n      <td>-1</td>\n      <td>-1</td>\n    </tr>\n    <tr>\n      <th>111</th>\n      <td>papad</td>\n      <td>Urad dal, sev, lemon juice, chopped tomatoes</td>\n      <td>vegetarian</td>\n      <td>5</td>\n      <td>5</td>\n      <td>spicy</td>\n      <td>snack</td>\n      <td>-1</td>\n      <td>-1</td>\n    </tr>\n    <tr>\n      <th>115</th>\n      <td>rajma chaval</td>\n      <td>Red kidney beans, garam masala powder, ginger,...</td>\n      <td>vegetarian</td>\n      <td>15</td>\n      <td>90</td>\n      <td>spicy</td>\n      <td>main course</td>\n      <td>-1</td>\n      <td>North</td>\n    </tr>\n    <tr>\n      <th>117</th>\n      <td>samosa</td>\n      <td>Potatoes, green peas, garam masala, ginger, dough</td>\n      <td>vegetarian</td>\n      <td>30</td>\n      <td>30</td>\n      <td>spicy</td>\n      <td>snack</td>\n      <td>-1</td>\n      <td>-1</td>\n    </tr>\n    <tr>\n      <th>128</th>\n      <td>dosa</td>\n      <td>Chana dal, urad dal, whole urad dal, blend ric...</td>\n      <td>vegetarian</td>\n      <td>360</td>\n      <td>90</td>\n      <td>spicy</td>\n      <td>snack</td>\n      <td>-1</td>\n      <td>South</td>\n    </tr>\n    <tr>\n      <th>130</th>\n      <td>idli</td>\n      <td>Split urad dal, urad dal, idli rice, thick poh...</td>\n      <td>vegetarian</td>\n      <td>360</td>\n      <td>90</td>\n      <td>spicy</td>\n      <td>snack</td>\n      <td>-1</td>\n      <td>South</td>\n    </tr>\n    <tr>\n      <th>144</th>\n      <td>masala dosa</td>\n      <td>Chana dal, urad dal, potatoes, idli rice, thic...</td>\n      <td>vegetarian</td>\n      <td>360</td>\n      <td>90</td>\n      <td>spicy</td>\n      <td>snack</td>\n      <td>-1</td>\n      <td>South</td>\n    </tr>\n    <tr>\n      <th>145</th>\n      <td>pachadi</td>\n      <td>Coconut oil, cucumber, curd, curry leaves, mus...</td>\n      <td>vegetarian</td>\n      <td>10</td>\n      <td>25</td>\n      <td>other</td>\n      <td>main course</td>\n      <td>-1</td>\n      <td>South</td>\n    </tr>\n    <tr>\n      <th>149</th>\n      <td>payasam</td>\n      <td>Rice, cashew nuts, milk, raisins, sugar</td>\n      <td>vegetarian</td>\n      <td>15</td>\n      <td>30</td>\n      <td>sweet</td>\n      <td>dessert</td>\n      <td>-1</td>\n      <td>South</td>\n    </tr>\n    <tr>\n      <th>154</th>\n      <td>rasam</td>\n      <td>Tomato, curry leaves, garlic, mustard seeds, h...</td>\n      <td>vegetarian</td>\n      <td>10</td>\n      <td>35</td>\n      <td>spicy</td>\n      <td>main course</td>\n      <td>-1</td>\n      <td>South</td>\n    </tr>\n    <tr>\n      <th>156</th>\n      <td>sambar</td>\n      <td>Pigeon peas, eggplant, drumsticks, sambar powd...</td>\n      <td>vegetarian</td>\n      <td>20</td>\n      <td>45</td>\n      <td>spicy</td>\n      <td>main course</td>\n      <td>-1</td>\n      <td>South</td>\n    </tr>\n    <tr>\n      <th>158</th>\n      <td>sevai</td>\n      <td>Sevai, parboiled rice, steamer</td>\n      <td>vegetarian</td>\n      <td>120</td>\n      <td>30</td>\n      <td>other</td>\n      <td>main course</td>\n      <td>-1</td>\n      <td>South</td>\n    </tr>\n    <tr>\n      <th>161</th>\n      <td>uttapam</td>\n      <td>Chana dal, urad dal, thick poha, tomato, butter</td>\n      <td>vegetarian</td>\n      <td>10</td>\n      <td>20</td>\n      <td>spicy</td>\n      <td>snack</td>\n      <td>-1</td>\n      <td>South</td>\n    </tr>\n    <tr>\n      <th>162</th>\n      <td>vada</td>\n      <td>Urad dal, ginger, curry leaves, green chilies,...</td>\n      <td>vegetarian</td>\n      <td>15</td>\n      <td>20</td>\n      <td>spicy</td>\n      <td>snack</td>\n      <td>-1</td>\n      <td>South</td>\n    </tr>\n    <tr>\n      <th>164</th>\n      <td>upma</td>\n      <td>Chana dal, urad dal, ginger, curry leaves, sugar</td>\n      <td>vegetarian</td>\n      <td>10</td>\n      <td>20</td>\n      <td>spicy</td>\n      <td>snack</td>\n      <td>-1</td>\n      <td>-1</td>\n    </tr>\n    <tr>\n      <th>231</th>\n      <td>brown rice</td>\n      <td>Brown rice, soy sauce, olive oil</td>\n      <td>vegetarian</td>\n      <td>15</td>\n      <td>25</td>\n      <td>other</td>\n      <td>main course</td>\n      <td>-1</td>\n      <td>-1</td>\n    </tr>\n    <tr>\n      <th>248</th>\n      <td>red rice</td>\n      <td>Red pepper, red onion, butter, watercress, oli...</td>\n      <td>vegetarian</td>\n      <td>-1</td>\n      <td>-1</td>\n      <td>other</td>\n      <td>main course</td>\n      <td>-1</td>\n      <td>-1</td>\n    </tr>\n  </tbody>\n</table>\n</div>"
     },
     "metadata": {},
     "execution_count": 23
    }
   ],
   "source": [
    "# getting the dishes which do not have any state\n",
    "data.loc[data.state == \"-1\"]"
   ]
  },
  {
   "cell_type": "code",
   "execution_count": 24,
   "metadata": {},
   "outputs": [],
   "source": [
    "# replacing the states having -1 value to All States\n",
    "data.state =data.state.replace(\"-1\", \"All State\")"
   ]
  },
  {
   "cell_type": "code",
   "execution_count": 25,
   "metadata": {},
   "outputs": [
    {
     "output_type": "display_data",
     "data": {
      "text/plain": "<Figure size 864x432 with 1 Axes>",
      "image/svg+xml": "<?xml version=\"1.0\" encoding=\"utf-8\" standalone=\"no\"?>\n<!DOCTYPE svg PUBLIC \"-//W3C//DTD SVG 1.1//EN\"\n  \"http://www.w3.org/Graphics/SVG/1.1/DTD/svg11.dtd\">\n<svg height=\"386.034375pt\" version=\"1.1\" viewBox=\"0 0 794.417187 386.034375\" width=\"794.417187pt\" xmlns=\"http://www.w3.org/2000/svg\" xmlns:xlink=\"http://www.w3.org/1999/xlink\">\n <metadata>\n  <rdf:RDF xmlns:cc=\"http://creativecommons.org/ns#\" xmlns:dc=\"http://purl.org/dc/elements/1.1/\" xmlns:rdf=\"http://www.w3.org/1999/02/22-rdf-syntax-ns#\">\n   <cc:Work>\n    <dc:type rdf:resource=\"http://purl.org/dc/dcmitype/StillImage\"/>\n    <dc:date>2021-04-25T19:57:58.211463</dc:date>\n    <dc:format>image/svg+xml</dc:format>\n    <dc:creator>\n     <cc:Agent>\n      <dc:title>Matplotlib v3.4.1, https://matplotlib.org/</dc:title>\n     </cc:Agent>\n    </dc:creator>\n   </cc:Work>\n  </rdf:RDF>\n </metadata>\n <defs>\n  <style type=\"text/css\">*{stroke-linecap:butt;stroke-linejoin:round;}</style>\n </defs>\n <g id=\"figure_1\">\n  <g id=\"patch_1\">\n   <path d=\"M 0 386.034375 \nL 794.417187 386.034375 \nL 794.417187 0 \nL 0 0 \nz\n\" style=\"fill:none;\"/>\n  </g>\n  <g id=\"axes_1\">\n   <g id=\"patch_2\">\n    <path d=\"M 117.617188 348.478125 \nL 787.217188 348.478125 \nL 787.217188 22.318125 \nL 117.617188 22.318125 \nz\n\" style=\"fill:#ffffff;\"/>\n   </g>\n   <g id=\"patch_3\">\n    <path clip-path=\"url(#p7929e4d96b)\" d=\"M 117.617188 23.622765 \nL 554.906983 23.622765 \nL 554.906983 34.059885 \nL 117.617188 34.059885 \nz\n\" style=\"fill:#ea96a3;\"/>\n   </g>\n   <g id=\"patch_4\">\n    <path clip-path=\"url(#p7929e4d96b)\" d=\"M 117.617188 36.669165 \nL 226.939636 36.669165 \nL 226.939636 47.106285 \nL 117.617188 47.106285 \nz\n\" style=\"fill:#e8968c;\"/>\n   </g>\n   <g id=\"patch_5\">\n    <path clip-path=\"url(#p7929e4d96b)\" d=\"M 117.617188 49.715565 \nL 700.670249 49.715565 \nL 700.670249 60.152685 \nL 117.617188 60.152685 \nz\n\" style=\"fill:#e2925a;\"/>\n   </g>\n   <g id=\"patch_6\">\n    <path clip-path=\"url(#p7929e4d96b)\" d=\"M 117.617188 62.761965 \nL 281.600861 62.761965 \nL 281.600861 73.199085 \nL 117.617188 73.199085 \nz\n\" style=\"fill:#cd974c;\"/>\n   </g>\n   <g id=\"patch_7\">\n    <path clip-path=\"url(#p7929e4d96b)\" d=\"M 117.617188 75.808365 \nL 554.906983 75.808365 \nL 554.906983 86.245485 \nL 117.617188 86.245485 \nz\n\" style=\"fill:#bb9b49;\"/>\n   </g>\n   <g id=\"patch_8\">\n    <path clip-path=\"url(#p7929e4d96b)\" d=\"M 117.617188 88.854765 \nL 245.160045 88.854765 \nL 245.160045 99.291885 \nL 117.617188 99.291885 \nz\n\" style=\"fill:#ab9e47;\"/>\n   </g>\n   <g id=\"patch_9\">\n    <path clip-path=\"url(#p7929e4d96b)\" d=\"M 117.617188 101.901165 \nL 664.229432 101.901165 \nL 664.229432 112.338285 \nL 117.617188 112.338285 \nz\n\" style=\"fill:#9ca146;\"/>\n   </g>\n   <g id=\"patch_10\">\n    <path clip-path=\"url(#p7929e4d96b)\" d=\"M 117.617188 114.947565 \nL 135.837596 114.947565 \nL 135.837596 125.384685 \nL 117.617188 125.384685 \nz\n\" style=\"fill:#8ba646;\"/>\n   </g>\n   <g id=\"patch_11\">\n    <path clip-path=\"url(#p7929e4d96b)\" d=\"M 117.617188 127.993965 \nL 500.245759 127.993965 \nL 500.245759 138.431085 \nL 117.617188 138.431085 \nz\n\" style=\"fill:#6fac47;\"/>\n   </g>\n   <g id=\"patch_12\">\n    <path clip-path=\"url(#p7929e4d96b)\" d=\"M 117.617188 141.040365 \nL 172.278412 141.040365 \nL 172.278412 151.477485 \nL 117.617188 151.477485 \nz\n\" style=\"fill:#48b062;\"/>\n   </g>\n   <g id=\"patch_13\">\n    <path clip-path=\"url(#p7929e4d96b)\" d=\"M 117.617188 154.086765 \nL 299.821269 154.086765 \nL 299.821269 164.523885 \nL 117.617188 164.523885 \nz\n\" style=\"fill:#49ae83;\"/>\n   </g>\n   <g id=\"patch_14\">\n    <path clip-path=\"url(#p7929e4d96b)\" d=\"M 117.617188 167.133165 \nL 226.939636 167.133165 \nL 226.939636 177.570285 \nL 117.617188 177.570285 \nz\n\" style=\"fill:#4aad93;\"/>\n   </g>\n   <g id=\"patch_15\">\n    <path clip-path=\"url(#p7929e4d96b)\" d=\"M 117.617188 180.179565 \nL 208.719228 180.179565 \nL 208.719228 190.616685 \nL 117.617188 190.616685 \nz\n\" style=\"fill:#4bac9f;\"/>\n   </g>\n   <g id=\"patch_16\">\n    <path clip-path=\"url(#p7929e4d96b)\" d=\"M 117.617188 193.225965 \nL 263.380453 193.225965 \nL 263.380453 203.663085 \nL 117.617188 203.663085 \nz\n\" style=\"fill:#4baba9;\"/>\n   </g>\n   <g id=\"patch_17\">\n    <path clip-path=\"url(#p7929e4d96b)\" d=\"M 117.617188 206.272365 \nL 482.025351 206.272365 \nL 482.025351 216.709485 \nL 117.617188 216.709485 \nz\n\" style=\"fill:#4eabb5;\"/>\n   </g>\n   <g id=\"patch_18\">\n    <path clip-path=\"url(#p7929e4d96b)\" d=\"M 117.617188 219.318765 \nL 755.331473 219.318765 \nL 755.331473 229.755885 \nL 117.617188 229.755885 \nz\n\" style=\"fill:#50acc3;\"/>\n   </g>\n   <g id=\"patch_19\">\n    <path clip-path=\"url(#p7929e4d96b)\" d=\"M 117.617188 232.365165 \nL 135.837596 232.365165 \nL 135.837596 242.802285 \nL 117.617188 242.802285 \nz\n\" style=\"fill:#55acd5;\"/>\n   </g>\n   <g id=\"patch_20\">\n    <path clip-path=\"url(#p7929e4d96b)\" d=\"M 117.617188 245.411565 \nL 154.058004 245.411565 \nL 154.058004 255.848685 \nL 117.617188 255.848685 \nz\n\" style=\"fill:#7faee5;\"/>\n   </g>\n   <g id=\"patch_21\">\n    <path clip-path=\"url(#p7929e4d96b)\" d=\"M 117.617188 258.457965 \nL 135.837596 258.457965 \nL 135.837596 268.895085 \nL 117.617188 268.895085 \nz\n\" style=\"fill:#a4acea;\"/>\n   </g>\n   <g id=\"patch_22\">\n    <path clip-path=\"url(#p7929e4d96b)\" d=\"M 117.617188 271.504365 \nL 135.837596 271.504365 \nL 135.837596 281.941485 \nL 117.617188 281.941485 \nz\n\" style=\"fill:#bba5ea;\"/>\n   </g>\n   <g id=\"patch_23\">\n    <path clip-path=\"url(#p7929e4d96b)\" d=\"M 117.617188 284.550765 \nL 154.058004 284.550765 \nL 154.058004 294.987885 \nL 117.617188 294.987885 \nz\n\" style=\"fill:#ce9be9;\"/>\n   </g>\n   <g id=\"patch_24\">\n    <path clip-path=\"url(#p7929e4d96b)\" d=\"M 117.617188 297.597165 \nL 135.837596 297.597165 \nL 135.837596 308.034285 \nL 117.617188 308.034285 \nz\n\" style=\"fill:#e28ce7;\"/>\n   </g>\n   <g id=\"patch_25\">\n    <path clip-path=\"url(#p7929e4d96b)\" d=\"M 117.617188 310.643565 \nL 135.837596 310.643565 \nL 135.837596 321.080685 \nL 117.617188 321.080685 \nz\n\" style=\"fill:#e78dd5;\"/>\n   </g>\n   <g id=\"patch_26\">\n    <path clip-path=\"url(#p7929e4d96b)\" d=\"M 117.617188 323.689965 \nL 154.058004 323.689965 \nL 154.058004 334.127085 \nL 117.617188 334.127085 \nz\n\" style=\"fill:#e890c4;\"/>\n   </g>\n   <g id=\"patch_27\">\n    <path clip-path=\"url(#p7929e4d96b)\" d=\"M 117.617188 336.736365 \nL 172.278412 336.736365 \nL 172.278412 347.173485 \nL 117.617188 347.173485 \nz\n\" style=\"fill:#e993b5;\"/>\n   </g>\n   <g id=\"matplotlib.axis_1\">\n    <g id=\"xtick_1\">\n     <g id=\"line2d_1\">\n      <defs>\n       <path d=\"M 0 0 \nL 0 3.5 \n\" id=\"m62e08c8e31\" style=\"stroke:#000000;stroke-width:0.8;\"/>\n      </defs>\n      <g>\n       <use style=\"stroke:#000000;stroke-width:0.8;\" x=\"117.617188\" xlink:href=\"#m62e08c8e31\" y=\"348.478125\"/>\n      </g>\n     </g>\n     <g id=\"text_1\">\n      <!-- 0 -->\n      <g transform=\"translate(114.435937 363.076562)scale(0.1 -0.1)\">\n       <defs>\n        <path d=\"M 2034 4250 \nQ 1547 4250 1301 3770 \nQ 1056 3291 1056 2328 \nQ 1056 1369 1301 889 \nQ 1547 409 2034 409 \nQ 2525 409 2770 889 \nQ 3016 1369 3016 2328 \nQ 3016 3291 2770 3770 \nQ 2525 4250 2034 4250 \nz\nM 2034 4750 \nQ 2819 4750 3233 4129 \nQ 3647 3509 3647 2328 \nQ 3647 1150 3233 529 \nQ 2819 -91 2034 -91 \nQ 1250 -91 836 529 \nQ 422 1150 422 2328 \nQ 422 3509 836 4129 \nQ 1250 4750 2034 4750 \nz\n\" id=\"DejaVuSans-30\" transform=\"scale(0.015625)\"/>\n       </defs>\n       <use xlink:href=\"#DejaVuSans-30\"/>\n      </g>\n     </g>\n    </g>\n    <g id=\"xtick_2\">\n     <g id=\"line2d_2\">\n      <g>\n       <use style=\"stroke:#000000;stroke-width:0.8;\" x=\"208.719228\" xlink:href=\"#m62e08c8e31\" y=\"348.478125\"/>\n      </g>\n     </g>\n     <g id=\"text_2\">\n      <!-- 5 -->\n      <g transform=\"translate(205.537978 363.076562)scale(0.1 -0.1)\">\n       <defs>\n        <path d=\"M 691 4666 \nL 3169 4666 \nL 3169 4134 \nL 1269 4134 \nL 1269 2991 \nQ 1406 3038 1543 3061 \nQ 1681 3084 1819 3084 \nQ 2600 3084 3056 2656 \nQ 3513 2228 3513 1497 \nQ 3513 744 3044 326 \nQ 2575 -91 1722 -91 \nQ 1428 -91 1123 -41 \nQ 819 9 494 109 \nL 494 744 \nQ 775 591 1075 516 \nQ 1375 441 1709 441 \nQ 2250 441 2565 725 \nQ 2881 1009 2881 1497 \nQ 2881 1984 2565 2268 \nQ 2250 2553 1709 2553 \nQ 1456 2553 1204 2497 \nQ 953 2441 691 2322 \nL 691 4666 \nz\n\" id=\"DejaVuSans-35\" transform=\"scale(0.015625)\"/>\n       </defs>\n       <use xlink:href=\"#DejaVuSans-35\"/>\n      </g>\n     </g>\n    </g>\n    <g id=\"xtick_3\">\n     <g id=\"line2d_3\">\n      <g>\n       <use style=\"stroke:#000000;stroke-width:0.8;\" x=\"299.821269\" xlink:href=\"#m62e08c8e31\" y=\"348.478125\"/>\n      </g>\n     </g>\n     <g id=\"text_3\">\n      <!-- 10 -->\n      <g transform=\"translate(293.458769 363.076562)scale(0.1 -0.1)\">\n       <defs>\n        <path d=\"M 794 531 \nL 1825 531 \nL 1825 4091 \nL 703 3866 \nL 703 4441 \nL 1819 4666 \nL 2450 4666 \nL 2450 531 \nL 3481 531 \nL 3481 0 \nL 794 0 \nL 794 531 \nz\n\" id=\"DejaVuSans-31\" transform=\"scale(0.015625)\"/>\n       </defs>\n       <use xlink:href=\"#DejaVuSans-31\"/>\n       <use x=\"63.623047\" xlink:href=\"#DejaVuSans-30\"/>\n      </g>\n     </g>\n    </g>\n    <g id=\"xtick_4\">\n     <g id=\"line2d_4\">\n      <g>\n       <use style=\"stroke:#000000;stroke-width:0.8;\" x=\"390.92331\" xlink:href=\"#m62e08c8e31\" y=\"348.478125\"/>\n      </g>\n     </g>\n     <g id=\"text_4\">\n      <!-- 15 -->\n      <g transform=\"translate(384.56081 363.076562)scale(0.1 -0.1)\">\n       <use xlink:href=\"#DejaVuSans-31\"/>\n       <use x=\"63.623047\" xlink:href=\"#DejaVuSans-35\"/>\n      </g>\n     </g>\n    </g>\n    <g id=\"xtick_5\">\n     <g id=\"line2d_5\">\n      <g>\n       <use style=\"stroke:#000000;stroke-width:0.8;\" x=\"482.025351\" xlink:href=\"#m62e08c8e31\" y=\"348.478125\"/>\n      </g>\n     </g>\n     <g id=\"text_5\">\n      <!-- 20 -->\n      <g transform=\"translate(475.662851 363.076562)scale(0.1 -0.1)\">\n       <defs>\n        <path d=\"M 1228 531 \nL 3431 531 \nL 3431 0 \nL 469 0 \nL 469 531 \nQ 828 903 1448 1529 \nQ 2069 2156 2228 2338 \nQ 2531 2678 2651 2914 \nQ 2772 3150 2772 3378 \nQ 2772 3750 2511 3984 \nQ 2250 4219 1831 4219 \nQ 1534 4219 1204 4116 \nQ 875 4013 500 3803 \nL 500 4441 \nQ 881 4594 1212 4672 \nQ 1544 4750 1819 4750 \nQ 2544 4750 2975 4387 \nQ 3406 4025 3406 3419 \nQ 3406 3131 3298 2873 \nQ 3191 2616 2906 2266 \nQ 2828 2175 2409 1742 \nQ 1991 1309 1228 531 \nz\n\" id=\"DejaVuSans-32\" transform=\"scale(0.015625)\"/>\n       </defs>\n       <use xlink:href=\"#DejaVuSans-32\"/>\n       <use x=\"63.623047\" xlink:href=\"#DejaVuSans-30\"/>\n      </g>\n     </g>\n    </g>\n    <g id=\"xtick_6\">\n     <g id=\"line2d_6\">\n      <g>\n       <use style=\"stroke:#000000;stroke-width:0.8;\" x=\"573.127392\" xlink:href=\"#m62e08c8e31\" y=\"348.478125\"/>\n      </g>\n     </g>\n     <g id=\"text_6\">\n      <!-- 25 -->\n      <g transform=\"translate(566.764892 363.076562)scale(0.1 -0.1)\">\n       <use xlink:href=\"#DejaVuSans-32\"/>\n       <use x=\"63.623047\" xlink:href=\"#DejaVuSans-35\"/>\n      </g>\n     </g>\n    </g>\n    <g id=\"xtick_7\">\n     <g id=\"line2d_7\">\n      <g>\n       <use style=\"stroke:#000000;stroke-width:0.8;\" x=\"664.229432\" xlink:href=\"#m62e08c8e31\" y=\"348.478125\"/>\n      </g>\n     </g>\n     <g id=\"text_7\">\n      <!-- 30 -->\n      <g transform=\"translate(657.866932 363.076562)scale(0.1 -0.1)\">\n       <defs>\n        <path d=\"M 2597 2516 \nQ 3050 2419 3304 2112 \nQ 3559 1806 3559 1356 \nQ 3559 666 3084 287 \nQ 2609 -91 1734 -91 \nQ 1441 -91 1130 -33 \nQ 819 25 488 141 \nL 488 750 \nQ 750 597 1062 519 \nQ 1375 441 1716 441 \nQ 2309 441 2620 675 \nQ 2931 909 2931 1356 \nQ 2931 1769 2642 2001 \nQ 2353 2234 1838 2234 \nL 1294 2234 \nL 1294 2753 \nL 1863 2753 \nQ 2328 2753 2575 2939 \nQ 2822 3125 2822 3475 \nQ 2822 3834 2567 4026 \nQ 2313 4219 1838 4219 \nQ 1578 4219 1281 4162 \nQ 984 4106 628 3988 \nL 628 4550 \nQ 988 4650 1302 4700 \nQ 1616 4750 1894 4750 \nQ 2613 4750 3031 4423 \nQ 3450 4097 3450 3541 \nQ 3450 3153 3228 2886 \nQ 3006 2619 2597 2516 \nz\n\" id=\"DejaVuSans-33\" transform=\"scale(0.015625)\"/>\n       </defs>\n       <use xlink:href=\"#DejaVuSans-33\"/>\n       <use x=\"63.623047\" xlink:href=\"#DejaVuSans-30\"/>\n      </g>\n     </g>\n    </g>\n    <g id=\"xtick_8\">\n     <g id=\"line2d_8\">\n      <g>\n       <use style=\"stroke:#000000;stroke-width:0.8;\" x=\"755.331473\" xlink:href=\"#m62e08c8e31\" y=\"348.478125\"/>\n      </g>\n     </g>\n     <g id=\"text_8\">\n      <!-- 35 -->\n      <g transform=\"translate(748.968973 363.076562)scale(0.1 -0.1)\">\n       <use xlink:href=\"#DejaVuSans-33\"/>\n       <use x=\"63.623047\" xlink:href=\"#DejaVuSans-35\"/>\n      </g>\n     </g>\n    </g>\n    <g id=\"text_9\">\n     <!-- count -->\n     <g transform=\"translate(438.310938 376.754687)scale(0.1 -0.1)\">\n      <defs>\n       <path d=\"M 3122 3366 \nL 3122 2828 \nQ 2878 2963 2633 3030 \nQ 2388 3097 2138 3097 \nQ 1578 3097 1268 2742 \nQ 959 2388 959 1747 \nQ 959 1106 1268 751 \nQ 1578 397 2138 397 \nQ 2388 397 2633 464 \nQ 2878 531 3122 666 \nL 3122 134 \nQ 2881 22 2623 -34 \nQ 2366 -91 2075 -91 \nQ 1284 -91 818 406 \nQ 353 903 353 1747 \nQ 353 2603 823 3093 \nQ 1294 3584 2113 3584 \nQ 2378 3584 2631 3529 \nQ 2884 3475 3122 3366 \nz\n\" id=\"DejaVuSans-63\" transform=\"scale(0.015625)\"/>\n       <path d=\"M 1959 3097 \nQ 1497 3097 1228 2736 \nQ 959 2375 959 1747 \nQ 959 1119 1226 758 \nQ 1494 397 1959 397 \nQ 2419 397 2687 759 \nQ 2956 1122 2956 1747 \nQ 2956 2369 2687 2733 \nQ 2419 3097 1959 3097 \nz\nM 1959 3584 \nQ 2709 3584 3137 3096 \nQ 3566 2609 3566 1747 \nQ 3566 888 3137 398 \nQ 2709 -91 1959 -91 \nQ 1206 -91 779 398 \nQ 353 888 353 1747 \nQ 353 2609 779 3096 \nQ 1206 3584 1959 3584 \nz\n\" id=\"DejaVuSans-6f\" transform=\"scale(0.015625)\"/>\n       <path d=\"M 544 1381 \nL 544 3500 \nL 1119 3500 \nL 1119 1403 \nQ 1119 906 1312 657 \nQ 1506 409 1894 409 \nQ 2359 409 2629 706 \nQ 2900 1003 2900 1516 \nL 2900 3500 \nL 3475 3500 \nL 3475 0 \nL 2900 0 \nL 2900 538 \nQ 2691 219 2414 64 \nQ 2138 -91 1772 -91 \nQ 1169 -91 856 284 \nQ 544 659 544 1381 \nz\nM 1991 3584 \nL 1991 3584 \nz\n\" id=\"DejaVuSans-75\" transform=\"scale(0.015625)\"/>\n       <path d=\"M 3513 2113 \nL 3513 0 \nL 2938 0 \nL 2938 2094 \nQ 2938 2591 2744 2837 \nQ 2550 3084 2163 3084 \nQ 1697 3084 1428 2787 \nQ 1159 2491 1159 1978 \nL 1159 0 \nL 581 0 \nL 581 3500 \nL 1159 3500 \nL 1159 2956 \nQ 1366 3272 1645 3428 \nQ 1925 3584 2291 3584 \nQ 2894 3584 3203 3211 \nQ 3513 2838 3513 2113 \nz\n\" id=\"DejaVuSans-6e\" transform=\"scale(0.015625)\"/>\n       <path d=\"M 1172 4494 \nL 1172 3500 \nL 2356 3500 \nL 2356 3053 \nL 1172 3053 \nL 1172 1153 \nQ 1172 725 1289 603 \nQ 1406 481 1766 481 \nL 2356 481 \nL 2356 0 \nL 1766 0 \nQ 1100 0 847 248 \nQ 594 497 594 1153 \nL 594 3053 \nL 172 3053 \nL 172 3500 \nL 594 3500 \nL 594 4494 \nL 1172 4494 \nz\n\" id=\"DejaVuSans-74\" transform=\"scale(0.015625)\"/>\n      </defs>\n      <use xlink:href=\"#DejaVuSans-63\"/>\n      <use x=\"54.980469\" xlink:href=\"#DejaVuSans-6f\"/>\n      <use x=\"116.162109\" xlink:href=\"#DejaVuSans-75\"/>\n      <use x=\"179.541016\" xlink:href=\"#DejaVuSans-6e\"/>\n      <use x=\"242.919922\" xlink:href=\"#DejaVuSans-74\"/>\n     </g>\n    </g>\n   </g>\n   <g id=\"matplotlib.axis_2\">\n    <g id=\"ytick_1\">\n     <g id=\"line2d_9\">\n      <defs>\n       <path d=\"M 0 0 \nL -3.5 0 \n\" id=\"m917fd03753\" style=\"stroke:#000000;stroke-width:0.8;\"/>\n      </defs>\n      <g>\n       <use style=\"stroke:#000000;stroke-width:0.8;\" x=\"117.617188\" xlink:href=\"#m917fd03753\" y=\"28.841325\"/>\n      </g>\n     </g>\n     <g id=\"text_10\">\n      <!-- West Bengal -->\n      <g transform=\"translate(48.25 32.640544)scale(0.1 -0.1)\">\n       <defs>\n        <path d=\"M 213 4666 \nL 850 4666 \nL 1831 722 \nL 2809 4666 \nL 3519 4666 \nL 4500 722 \nL 5478 4666 \nL 6119 4666 \nL 4947 0 \nL 4153 0 \nL 3169 4050 \nL 2175 0 \nL 1381 0 \nL 213 4666 \nz\n\" id=\"DejaVuSans-57\" transform=\"scale(0.015625)\"/>\n        <path d=\"M 3597 1894 \nL 3597 1613 \nL 953 1613 \nQ 991 1019 1311 708 \nQ 1631 397 2203 397 \nQ 2534 397 2845 478 \nQ 3156 559 3463 722 \nL 3463 178 \nQ 3153 47 2828 -22 \nQ 2503 -91 2169 -91 \nQ 1331 -91 842 396 \nQ 353 884 353 1716 \nQ 353 2575 817 3079 \nQ 1281 3584 2069 3584 \nQ 2775 3584 3186 3129 \nQ 3597 2675 3597 1894 \nz\nM 3022 2063 \nQ 3016 2534 2758 2815 \nQ 2500 3097 2075 3097 \nQ 1594 3097 1305 2825 \nQ 1016 2553 972 2059 \nL 3022 2063 \nz\n\" id=\"DejaVuSans-65\" transform=\"scale(0.015625)\"/>\n        <path d=\"M 2834 3397 \nL 2834 2853 \nQ 2591 2978 2328 3040 \nQ 2066 3103 1784 3103 \nQ 1356 3103 1142 2972 \nQ 928 2841 928 2578 \nQ 928 2378 1081 2264 \nQ 1234 2150 1697 2047 \nL 1894 2003 \nQ 2506 1872 2764 1633 \nQ 3022 1394 3022 966 \nQ 3022 478 2636 193 \nQ 2250 -91 1575 -91 \nQ 1294 -91 989 -36 \nQ 684 19 347 128 \nL 347 722 \nQ 666 556 975 473 \nQ 1284 391 1588 391 \nQ 1994 391 2212 530 \nQ 2431 669 2431 922 \nQ 2431 1156 2273 1281 \nQ 2116 1406 1581 1522 \nL 1381 1569 \nQ 847 1681 609 1914 \nQ 372 2147 372 2553 \nQ 372 3047 722 3315 \nQ 1072 3584 1716 3584 \nQ 2034 3584 2315 3537 \nQ 2597 3491 2834 3397 \nz\n\" id=\"DejaVuSans-73\" transform=\"scale(0.015625)\"/>\n        <path id=\"DejaVuSans-20\" transform=\"scale(0.015625)\"/>\n        <path d=\"M 1259 2228 \nL 1259 519 \nL 2272 519 \nQ 2781 519 3026 730 \nQ 3272 941 3272 1375 \nQ 3272 1813 3026 2020 \nQ 2781 2228 2272 2228 \nL 1259 2228 \nz\nM 1259 4147 \nL 1259 2741 \nL 2194 2741 \nQ 2656 2741 2882 2914 \nQ 3109 3088 3109 3444 \nQ 3109 3797 2882 3972 \nQ 2656 4147 2194 4147 \nL 1259 4147 \nz\nM 628 4666 \nL 2241 4666 \nQ 2963 4666 3353 4366 \nQ 3744 4066 3744 3513 \nQ 3744 3084 3544 2831 \nQ 3344 2578 2956 2516 \nQ 3422 2416 3680 2098 \nQ 3938 1781 3938 1306 \nQ 3938 681 3513 340 \nQ 3088 0 2303 0 \nL 628 0 \nL 628 4666 \nz\n\" id=\"DejaVuSans-42\" transform=\"scale(0.015625)\"/>\n        <path d=\"M 2906 1791 \nQ 2906 2416 2648 2759 \nQ 2391 3103 1925 3103 \nQ 1463 3103 1205 2759 \nQ 947 2416 947 1791 \nQ 947 1169 1205 825 \nQ 1463 481 1925 481 \nQ 2391 481 2648 825 \nQ 2906 1169 2906 1791 \nz\nM 3481 434 \nQ 3481 -459 3084 -895 \nQ 2688 -1331 1869 -1331 \nQ 1566 -1331 1297 -1286 \nQ 1028 -1241 775 -1147 \nL 775 -588 \nQ 1028 -725 1275 -790 \nQ 1522 -856 1778 -856 \nQ 2344 -856 2625 -561 \nQ 2906 -266 2906 331 \nL 2906 616 \nQ 2728 306 2450 153 \nQ 2172 0 1784 0 \nQ 1141 0 747 490 \nQ 353 981 353 1791 \nQ 353 2603 747 3093 \nQ 1141 3584 1784 3584 \nQ 2172 3584 2450 3431 \nQ 2728 3278 2906 2969 \nL 2906 3500 \nL 3481 3500 \nL 3481 434 \nz\n\" id=\"DejaVuSans-67\" transform=\"scale(0.015625)\"/>\n        <path d=\"M 2194 1759 \nQ 1497 1759 1228 1600 \nQ 959 1441 959 1056 \nQ 959 750 1161 570 \nQ 1363 391 1709 391 \nQ 2188 391 2477 730 \nQ 2766 1069 2766 1631 \nL 2766 1759 \nL 2194 1759 \nz\nM 3341 1997 \nL 3341 0 \nL 2766 0 \nL 2766 531 \nQ 2569 213 2275 61 \nQ 1981 -91 1556 -91 \nQ 1019 -91 701 211 \nQ 384 513 384 1019 \nQ 384 1609 779 1909 \nQ 1175 2209 1959 2209 \nL 2766 2209 \nL 2766 2266 \nQ 2766 2663 2505 2880 \nQ 2244 3097 1772 3097 \nQ 1472 3097 1187 3025 \nQ 903 2953 641 2809 \nL 641 3341 \nQ 956 3463 1253 3523 \nQ 1550 3584 1831 3584 \nQ 2591 3584 2966 3190 \nQ 3341 2797 3341 1997 \nz\n\" id=\"DejaVuSans-61\" transform=\"scale(0.015625)\"/>\n        <path d=\"M 603 4863 \nL 1178 4863 \nL 1178 0 \nL 603 0 \nL 603 4863 \nz\n\" id=\"DejaVuSans-6c\" transform=\"scale(0.015625)\"/>\n       </defs>\n       <use xlink:href=\"#DejaVuSans-57\"/>\n       <use x=\"93.001953\" xlink:href=\"#DejaVuSans-65\"/>\n       <use x=\"154.525391\" xlink:href=\"#DejaVuSans-73\"/>\n       <use x=\"206.625\" xlink:href=\"#DejaVuSans-74\"/>\n       <use x=\"245.833984\" xlink:href=\"#DejaVuSans-20\"/>\n       <use x=\"277.621094\" xlink:href=\"#DejaVuSans-42\"/>\n       <use x=\"346.224609\" xlink:href=\"#DejaVuSans-65\"/>\n       <use x=\"407.748047\" xlink:href=\"#DejaVuSans-6e\"/>\n       <use x=\"471.126953\" xlink:href=\"#DejaVuSans-67\"/>\n       <use x=\"534.603516\" xlink:href=\"#DejaVuSans-61\"/>\n       <use x=\"595.882812\" xlink:href=\"#DejaVuSans-6c\"/>\n      </g>\n     </g>\n    </g>\n    <g id=\"ytick_2\">\n     <g id=\"line2d_10\">\n      <g>\n       <use style=\"stroke:#000000;stroke-width:0.8;\" x=\"117.617188\" xlink:href=\"#m917fd03753\" y=\"41.887725\"/>\n      </g>\n     </g>\n     <g id=\"text_11\">\n      <!-- Rajasthan -->\n      <g transform=\"translate(60.926562 45.686944)scale(0.1 -0.1)\">\n       <defs>\n        <path d=\"M 2841 2188 \nQ 3044 2119 3236 1894 \nQ 3428 1669 3622 1275 \nL 4263 0 \nL 3584 0 \nL 2988 1197 \nQ 2756 1666 2539 1819 \nQ 2322 1972 1947 1972 \nL 1259 1972 \nL 1259 0 \nL 628 0 \nL 628 4666 \nL 2053 4666 \nQ 2853 4666 3247 4331 \nQ 3641 3997 3641 3322 \nQ 3641 2881 3436 2590 \nQ 3231 2300 2841 2188 \nz\nM 1259 4147 \nL 1259 2491 \nL 2053 2491 \nQ 2509 2491 2742 2702 \nQ 2975 2913 2975 3322 \nQ 2975 3731 2742 3939 \nQ 2509 4147 2053 4147 \nL 1259 4147 \nz\n\" id=\"DejaVuSans-52\" transform=\"scale(0.015625)\"/>\n        <path d=\"M 603 3500 \nL 1178 3500 \nL 1178 -63 \nQ 1178 -731 923 -1031 \nQ 669 -1331 103 -1331 \nL -116 -1331 \nL -116 -844 \nL 38 -844 \nQ 366 -844 484 -692 \nQ 603 -541 603 -63 \nL 603 3500 \nz\nM 603 4863 \nL 1178 4863 \nL 1178 4134 \nL 603 4134 \nL 603 4863 \nz\n\" id=\"DejaVuSans-6a\" transform=\"scale(0.015625)\"/>\n        <path d=\"M 3513 2113 \nL 3513 0 \nL 2938 0 \nL 2938 2094 \nQ 2938 2591 2744 2837 \nQ 2550 3084 2163 3084 \nQ 1697 3084 1428 2787 \nQ 1159 2491 1159 1978 \nL 1159 0 \nL 581 0 \nL 581 4863 \nL 1159 4863 \nL 1159 2956 \nQ 1366 3272 1645 3428 \nQ 1925 3584 2291 3584 \nQ 2894 3584 3203 3211 \nQ 3513 2838 3513 2113 \nz\n\" id=\"DejaVuSans-68\" transform=\"scale(0.015625)\"/>\n       </defs>\n       <use xlink:href=\"#DejaVuSans-52\"/>\n       <use x=\"67.232422\" xlink:href=\"#DejaVuSans-61\"/>\n       <use x=\"128.511719\" xlink:href=\"#DejaVuSans-6a\"/>\n       <use x=\"156.294922\" xlink:href=\"#DejaVuSans-61\"/>\n       <use x=\"217.574219\" xlink:href=\"#DejaVuSans-73\"/>\n       <use x=\"269.673828\" xlink:href=\"#DejaVuSans-74\"/>\n       <use x=\"308.882812\" xlink:href=\"#DejaVuSans-68\"/>\n       <use x=\"372.261719\" xlink:href=\"#DejaVuSans-61\"/>\n       <use x=\"433.541016\" xlink:href=\"#DejaVuSans-6e\"/>\n      </g>\n     </g>\n    </g>\n    <g id=\"ytick_3\">\n     <g id=\"line2d_11\">\n      <g>\n       <use style=\"stroke:#000000;stroke-width:0.8;\" x=\"117.617188\" xlink:href=\"#m917fd03753\" y=\"54.934125\"/>\n      </g>\n     </g>\n     <g id=\"text_12\">\n      <!-- Punjab -->\n      <g transform=\"translate(76.832812 58.733344)scale(0.1 -0.1)\">\n       <defs>\n        <path d=\"M 1259 4147 \nL 1259 2394 \nL 2053 2394 \nQ 2494 2394 2734 2622 \nQ 2975 2850 2975 3272 \nQ 2975 3691 2734 3919 \nQ 2494 4147 2053 4147 \nL 1259 4147 \nz\nM 628 4666 \nL 2053 4666 \nQ 2838 4666 3239 4311 \nQ 3641 3956 3641 3272 \nQ 3641 2581 3239 2228 \nQ 2838 1875 2053 1875 \nL 1259 1875 \nL 1259 0 \nL 628 0 \nL 628 4666 \nz\n\" id=\"DejaVuSans-50\" transform=\"scale(0.015625)\"/>\n        <path d=\"M 3116 1747 \nQ 3116 2381 2855 2742 \nQ 2594 3103 2138 3103 \nQ 1681 3103 1420 2742 \nQ 1159 2381 1159 1747 \nQ 1159 1113 1420 752 \nQ 1681 391 2138 391 \nQ 2594 391 2855 752 \nQ 3116 1113 3116 1747 \nz\nM 1159 2969 \nQ 1341 3281 1617 3432 \nQ 1894 3584 2278 3584 \nQ 2916 3584 3314 3078 \nQ 3713 2572 3713 1747 \nQ 3713 922 3314 415 \nQ 2916 -91 2278 -91 \nQ 1894 -91 1617 61 \nQ 1341 213 1159 525 \nL 1159 0 \nL 581 0 \nL 581 4863 \nL 1159 4863 \nL 1159 2969 \nz\n\" id=\"DejaVuSans-62\" transform=\"scale(0.015625)\"/>\n       </defs>\n       <use xlink:href=\"#DejaVuSans-50\"/>\n       <use x=\"58.552734\" xlink:href=\"#DejaVuSans-75\"/>\n       <use x=\"121.931641\" xlink:href=\"#DejaVuSans-6e\"/>\n       <use x=\"185.310547\" xlink:href=\"#DejaVuSans-6a\"/>\n       <use x=\"213.09375\" xlink:href=\"#DejaVuSans-61\"/>\n       <use x=\"274.373047\" xlink:href=\"#DejaVuSans-62\"/>\n      </g>\n     </g>\n    </g>\n    <g id=\"ytick_4\">\n     <g id=\"line2d_12\">\n      <g>\n       <use style=\"stroke:#000000;stroke-width:0.8;\" x=\"117.617188\" xlink:href=\"#m917fd03753\" y=\"67.980525\"/>\n      </g>\n     </g>\n     <g id=\"text_13\">\n      <!-- Uttar Pradesh -->\n      <g transform=\"translate(41.898438 71.779744)scale(0.1 -0.1)\">\n       <defs>\n        <path d=\"M 556 4666 \nL 1191 4666 \nL 1191 1831 \nQ 1191 1081 1462 751 \nQ 1734 422 2344 422 \nQ 2950 422 3222 751 \nQ 3494 1081 3494 1831 \nL 3494 4666 \nL 4128 4666 \nL 4128 1753 \nQ 4128 841 3676 375 \nQ 3225 -91 2344 -91 \nQ 1459 -91 1007 375 \nQ 556 841 556 1753 \nL 556 4666 \nz\n\" id=\"DejaVuSans-55\" transform=\"scale(0.015625)\"/>\n        <path d=\"M 2631 2963 \nQ 2534 3019 2420 3045 \nQ 2306 3072 2169 3072 \nQ 1681 3072 1420 2755 \nQ 1159 2438 1159 1844 \nL 1159 0 \nL 581 0 \nL 581 3500 \nL 1159 3500 \nL 1159 2956 \nQ 1341 3275 1631 3429 \nQ 1922 3584 2338 3584 \nQ 2397 3584 2469 3576 \nQ 2541 3569 2628 3553 \nL 2631 2963 \nz\n\" id=\"DejaVuSans-72\" transform=\"scale(0.015625)\"/>\n        <path d=\"M 2906 2969 \nL 2906 4863 \nL 3481 4863 \nL 3481 0 \nL 2906 0 \nL 2906 525 \nQ 2725 213 2448 61 \nQ 2172 -91 1784 -91 \nQ 1150 -91 751 415 \nQ 353 922 353 1747 \nQ 353 2572 751 3078 \nQ 1150 3584 1784 3584 \nQ 2172 3584 2448 3432 \nQ 2725 3281 2906 2969 \nz\nM 947 1747 \nQ 947 1113 1208 752 \nQ 1469 391 1925 391 \nQ 2381 391 2643 752 \nQ 2906 1113 2906 1747 \nQ 2906 2381 2643 2742 \nQ 2381 3103 1925 3103 \nQ 1469 3103 1208 2742 \nQ 947 2381 947 1747 \nz\n\" id=\"DejaVuSans-64\" transform=\"scale(0.015625)\"/>\n       </defs>\n       <use xlink:href=\"#DejaVuSans-55\"/>\n       <use x=\"73.193359\" xlink:href=\"#DejaVuSans-74\"/>\n       <use x=\"112.402344\" xlink:href=\"#DejaVuSans-74\"/>\n       <use x=\"151.611328\" xlink:href=\"#DejaVuSans-61\"/>\n       <use x=\"212.890625\" xlink:href=\"#DejaVuSans-72\"/>\n       <use x=\"254.003906\" xlink:href=\"#DejaVuSans-20\"/>\n       <use x=\"285.791016\" xlink:href=\"#DejaVuSans-50\"/>\n       <use x=\"344.34375\" xlink:href=\"#DejaVuSans-72\"/>\n       <use x=\"385.457031\" xlink:href=\"#DejaVuSans-61\"/>\n       <use x=\"446.736328\" xlink:href=\"#DejaVuSans-64\"/>\n       <use x=\"510.212891\" xlink:href=\"#DejaVuSans-65\"/>\n       <use x=\"571.736328\" xlink:href=\"#DejaVuSans-73\"/>\n       <use x=\"623.835938\" xlink:href=\"#DejaVuSans-68\"/>\n      </g>\n     </g>\n    </g>\n    <g id=\"ytick_5\">\n     <g id=\"line2d_13\">\n      <g>\n       <use style=\"stroke:#000000;stroke-width:0.8;\" x=\"117.617188\" xlink:href=\"#m917fd03753\" y=\"81.026925\"/>\n      </g>\n     </g>\n     <g id=\"text_14\">\n      <!-- All State -->\n      <g transform=\"translate(68.571875 84.826144)scale(0.1 -0.1)\">\n       <defs>\n        <path d=\"M 2188 4044 \nL 1331 1722 \nL 3047 1722 \nL 2188 4044 \nz\nM 1831 4666 \nL 2547 4666 \nL 4325 0 \nL 3669 0 \nL 3244 1197 \nL 1141 1197 \nL 716 0 \nL 50 0 \nL 1831 4666 \nz\n\" id=\"DejaVuSans-41\" transform=\"scale(0.015625)\"/>\n        <path d=\"M 3425 4513 \nL 3425 3897 \nQ 3066 4069 2747 4153 \nQ 2428 4238 2131 4238 \nQ 1616 4238 1336 4038 \nQ 1056 3838 1056 3469 \nQ 1056 3159 1242 3001 \nQ 1428 2844 1947 2747 \nL 2328 2669 \nQ 3034 2534 3370 2195 \nQ 3706 1856 3706 1288 \nQ 3706 609 3251 259 \nQ 2797 -91 1919 -91 \nQ 1588 -91 1214 -16 \nQ 841 59 441 206 \nL 441 856 \nQ 825 641 1194 531 \nQ 1563 422 1919 422 \nQ 2459 422 2753 634 \nQ 3047 847 3047 1241 \nQ 3047 1584 2836 1778 \nQ 2625 1972 2144 2069 \nL 1759 2144 \nQ 1053 2284 737 2584 \nQ 422 2884 422 3419 \nQ 422 4038 858 4394 \nQ 1294 4750 2059 4750 \nQ 2388 4750 2728 4690 \nQ 3069 4631 3425 4513 \nz\n\" id=\"DejaVuSans-53\" transform=\"scale(0.015625)\"/>\n       </defs>\n       <use xlink:href=\"#DejaVuSans-41\"/>\n       <use x=\"68.408203\" xlink:href=\"#DejaVuSans-6c\"/>\n       <use x=\"96.191406\" xlink:href=\"#DejaVuSans-6c\"/>\n       <use x=\"123.974609\" xlink:href=\"#DejaVuSans-20\"/>\n       <use x=\"155.761719\" xlink:href=\"#DejaVuSans-53\"/>\n       <use x=\"219.238281\" xlink:href=\"#DejaVuSans-74\"/>\n       <use x=\"258.447266\" xlink:href=\"#DejaVuSans-61\"/>\n       <use x=\"319.726562\" xlink:href=\"#DejaVuSans-74\"/>\n       <use x=\"358.935547\" xlink:href=\"#DejaVuSans-65\"/>\n      </g>\n     </g>\n    </g>\n    <g id=\"ytick_6\">\n     <g id=\"line2d_14\">\n      <g>\n       <use style=\"stroke:#000000;stroke-width:0.8;\" x=\"117.617188\" xlink:href=\"#m917fd03753\" y=\"94.073325\"/>\n      </g>\n     </g>\n     <g id=\"text_15\">\n      <!-- Odisha -->\n      <g transform=\"translate(75.94375 97.872544)scale(0.1 -0.1)\">\n       <defs>\n        <path d=\"M 2522 4238 \nQ 1834 4238 1429 3725 \nQ 1025 3213 1025 2328 \nQ 1025 1447 1429 934 \nQ 1834 422 2522 422 \nQ 3209 422 3611 934 \nQ 4013 1447 4013 2328 \nQ 4013 3213 3611 3725 \nQ 3209 4238 2522 4238 \nz\nM 2522 4750 \nQ 3503 4750 4090 4092 \nQ 4678 3434 4678 2328 \nQ 4678 1225 4090 567 \nQ 3503 -91 2522 -91 \nQ 1538 -91 948 565 \nQ 359 1222 359 2328 \nQ 359 3434 948 4092 \nQ 1538 4750 2522 4750 \nz\n\" id=\"DejaVuSans-4f\" transform=\"scale(0.015625)\"/>\n        <path d=\"M 603 3500 \nL 1178 3500 \nL 1178 0 \nL 603 0 \nL 603 3500 \nz\nM 603 4863 \nL 1178 4863 \nL 1178 4134 \nL 603 4134 \nL 603 4863 \nz\n\" id=\"DejaVuSans-69\" transform=\"scale(0.015625)\"/>\n       </defs>\n       <use xlink:href=\"#DejaVuSans-4f\"/>\n       <use x=\"78.710938\" xlink:href=\"#DejaVuSans-64\"/>\n       <use x=\"142.1875\" xlink:href=\"#DejaVuSans-69\"/>\n       <use x=\"169.970703\" xlink:href=\"#DejaVuSans-73\"/>\n       <use x=\"222.070312\" xlink:href=\"#DejaVuSans-68\"/>\n       <use x=\"285.449219\" xlink:href=\"#DejaVuSans-61\"/>\n      </g>\n     </g>\n    </g>\n    <g id=\"ytick_7\">\n     <g id=\"line2d_15\">\n      <g>\n       <use style=\"stroke:#000000;stroke-width:0.8;\" x=\"117.617188\" xlink:href=\"#m917fd03753\" y=\"107.119725\"/>\n      </g>\n     </g>\n     <g id=\"text_16\">\n      <!-- Maharashtra -->\n      <g transform=\"translate(47.45 110.918944)scale(0.1 -0.1)\">\n       <defs>\n        <path d=\"M 628 4666 \nL 1569 4666 \nL 2759 1491 \nL 3956 4666 \nL 4897 4666 \nL 4897 0 \nL 4281 0 \nL 4281 4097 \nL 3078 897 \nL 2444 897 \nL 1241 4097 \nL 1241 0 \nL 628 0 \nL 628 4666 \nz\n\" id=\"DejaVuSans-4d\" transform=\"scale(0.015625)\"/>\n       </defs>\n       <use xlink:href=\"#DejaVuSans-4d\"/>\n       <use x=\"86.279297\" xlink:href=\"#DejaVuSans-61\"/>\n       <use x=\"147.558594\" xlink:href=\"#DejaVuSans-68\"/>\n       <use x=\"210.9375\" xlink:href=\"#DejaVuSans-61\"/>\n       <use x=\"272.216797\" xlink:href=\"#DejaVuSans-72\"/>\n       <use x=\"313.330078\" xlink:href=\"#DejaVuSans-61\"/>\n       <use x=\"374.609375\" xlink:href=\"#DejaVuSans-73\"/>\n       <use x=\"426.708984\" xlink:href=\"#DejaVuSans-68\"/>\n       <use x=\"490.087891\" xlink:href=\"#DejaVuSans-74\"/>\n       <use x=\"529.296875\" xlink:href=\"#DejaVuSans-72\"/>\n       <use x=\"570.410156\" xlink:href=\"#DejaVuSans-61\"/>\n      </g>\n     </g>\n    </g>\n    <g id=\"ytick_8\">\n     <g id=\"line2d_16\">\n      <g>\n       <use style=\"stroke:#000000;stroke-width:0.8;\" x=\"117.617188\" xlink:href=\"#m917fd03753\" y=\"120.166125\"/>\n      </g>\n     </g>\n     <g id=\"text_17\">\n      <!-- Uttarakhand -->\n      <g transform=\"translate(48.148438 123.965344)scale(0.1 -0.1)\">\n       <defs>\n        <path d=\"M 581 4863 \nL 1159 4863 \nL 1159 1991 \nL 2875 3500 \nL 3609 3500 \nL 1753 1863 \nL 3688 0 \nL 2938 0 \nL 1159 1709 \nL 1159 0 \nL 581 0 \nL 581 4863 \nz\n\" id=\"DejaVuSans-6b\" transform=\"scale(0.015625)\"/>\n       </defs>\n       <use xlink:href=\"#DejaVuSans-55\"/>\n       <use x=\"73.193359\" xlink:href=\"#DejaVuSans-74\"/>\n       <use x=\"112.402344\" xlink:href=\"#DejaVuSans-74\"/>\n       <use x=\"151.611328\" xlink:href=\"#DejaVuSans-61\"/>\n       <use x=\"212.890625\" xlink:href=\"#DejaVuSans-72\"/>\n       <use x=\"254.003906\" xlink:href=\"#DejaVuSans-61\"/>\n       <use x=\"315.283203\" xlink:href=\"#DejaVuSans-6b\"/>\n       <use x=\"373.193359\" xlink:href=\"#DejaVuSans-68\"/>\n       <use x=\"436.572266\" xlink:href=\"#DejaVuSans-61\"/>\n       <use x=\"497.851562\" xlink:href=\"#DejaVuSans-6e\"/>\n       <use x=\"561.230469\" xlink:href=\"#DejaVuSans-64\"/>\n      </g>\n     </g>\n    </g>\n    <g id=\"ytick_9\">\n     <g id=\"line2d_17\">\n      <g>\n       <use style=\"stroke:#000000;stroke-width:0.8;\" x=\"117.617188\" xlink:href=\"#m917fd03753\" y=\"133.212525\"/>\n      </g>\n     </g>\n     <g id=\"text_18\">\n      <!-- Assam -->\n      <g transform=\"translate(77.489062 137.011744)scale(0.1 -0.1)\">\n       <defs>\n        <path d=\"M 3328 2828 \nQ 3544 3216 3844 3400 \nQ 4144 3584 4550 3584 \nQ 5097 3584 5394 3201 \nQ 5691 2819 5691 2113 \nL 5691 0 \nL 5113 0 \nL 5113 2094 \nQ 5113 2597 4934 2840 \nQ 4756 3084 4391 3084 \nQ 3944 3084 3684 2787 \nQ 3425 2491 3425 1978 \nL 3425 0 \nL 2847 0 \nL 2847 2094 \nQ 2847 2600 2669 2842 \nQ 2491 3084 2119 3084 \nQ 1678 3084 1418 2786 \nQ 1159 2488 1159 1978 \nL 1159 0 \nL 581 0 \nL 581 3500 \nL 1159 3500 \nL 1159 2956 \nQ 1356 3278 1631 3431 \nQ 1906 3584 2284 3584 \nQ 2666 3584 2933 3390 \nQ 3200 3197 3328 2828 \nz\n\" id=\"DejaVuSans-6d\" transform=\"scale(0.015625)\"/>\n       </defs>\n       <use xlink:href=\"#DejaVuSans-41\"/>\n       <use x=\"68.408203\" xlink:href=\"#DejaVuSans-73\"/>\n       <use x=\"120.507812\" xlink:href=\"#DejaVuSans-73\"/>\n       <use x=\"172.607422\" xlink:href=\"#DejaVuSans-61\"/>\n       <use x=\"233.886719\" xlink:href=\"#DejaVuSans-6d\"/>\n      </g>\n     </g>\n    </g>\n    <g id=\"ytick_10\">\n     <g id=\"line2d_18\">\n      <g>\n       <use style=\"stroke:#000000;stroke-width:0.8;\" x=\"117.617188\" xlink:href=\"#m917fd03753\" y=\"146.258925\"/>\n      </g>\n     </g>\n     <g id=\"text_19\">\n      <!-- Bihar -->\n      <g transform=\"translate(84.401562 150.058144)scale(0.1 -0.1)\">\n       <use xlink:href=\"#DejaVuSans-42\"/>\n       <use x=\"68.603516\" xlink:href=\"#DejaVuSans-69\"/>\n       <use x=\"96.386719\" xlink:href=\"#DejaVuSans-68\"/>\n       <use x=\"159.765625\" xlink:href=\"#DejaVuSans-61\"/>\n       <use x=\"221.044922\" xlink:href=\"#DejaVuSans-72\"/>\n      </g>\n     </g>\n    </g>\n    <g id=\"ytick_11\">\n     <g id=\"line2d_19\">\n      <g>\n       <use style=\"stroke:#000000;stroke-width:0.8;\" x=\"117.617188\" xlink:href=\"#m917fd03753\" y=\"159.305325\"/>\n      </g>\n     </g>\n     <g id=\"text_20\">\n      <!-- Andhra Pradesh -->\n      <g transform=\"translate(31.19375 163.104544)scale(0.1 -0.1)\">\n       <use xlink:href=\"#DejaVuSans-41\"/>\n       <use x=\"68.408203\" xlink:href=\"#DejaVuSans-6e\"/>\n       <use x=\"131.787109\" xlink:href=\"#DejaVuSans-64\"/>\n       <use x=\"195.263672\" xlink:href=\"#DejaVuSans-68\"/>\n       <use x=\"258.642578\" xlink:href=\"#DejaVuSans-72\"/>\n       <use x=\"299.755859\" xlink:href=\"#DejaVuSans-61\"/>\n       <use x=\"361.035156\" xlink:href=\"#DejaVuSans-20\"/>\n       <use x=\"392.822266\" xlink:href=\"#DejaVuSans-50\"/>\n       <use x=\"451.375\" xlink:href=\"#DejaVuSans-72\"/>\n       <use x=\"492.488281\" xlink:href=\"#DejaVuSans-61\"/>\n       <use x=\"553.767578\" xlink:href=\"#DejaVuSans-64\"/>\n       <use x=\"617.244141\" xlink:href=\"#DejaVuSans-65\"/>\n       <use x=\"678.767578\" xlink:href=\"#DejaVuSans-73\"/>\n       <use x=\"730.867188\" xlink:href=\"#DejaVuSans-68\"/>\n      </g>\n     </g>\n    </g>\n    <g id=\"ytick_12\">\n     <g id=\"line2d_20\">\n      <g>\n       <use style=\"stroke:#000000;stroke-width:0.8;\" x=\"117.617188\" xlink:href=\"#m917fd03753\" y=\"172.351725\"/>\n      </g>\n     </g>\n     <g id=\"text_21\">\n      <!-- Karnataka -->\n      <g transform=\"translate(59.9125 176.150944)scale(0.1 -0.1)\">\n       <defs>\n        <path d=\"M 628 4666 \nL 1259 4666 \nL 1259 2694 \nL 3353 4666 \nL 4166 4666 \nL 1850 2491 \nL 4331 0 \nL 3500 0 \nL 1259 2247 \nL 1259 0 \nL 628 0 \nL 628 4666 \nz\n\" id=\"DejaVuSans-4b\" transform=\"scale(0.015625)\"/>\n       </defs>\n       <use xlink:href=\"#DejaVuSans-4b\"/>\n       <use x=\"63.826172\" xlink:href=\"#DejaVuSans-61\"/>\n       <use x=\"125.105469\" xlink:href=\"#DejaVuSans-72\"/>\n       <use x=\"164.46875\" xlink:href=\"#DejaVuSans-6e\"/>\n       <use x=\"227.847656\" xlink:href=\"#DejaVuSans-61\"/>\n       <use x=\"289.126953\" xlink:href=\"#DejaVuSans-74\"/>\n       <use x=\"328.335938\" xlink:href=\"#DejaVuSans-61\"/>\n       <use x=\"389.615234\" xlink:href=\"#DejaVuSans-6b\"/>\n       <use x=\"445.775391\" xlink:href=\"#DejaVuSans-61\"/>\n      </g>\n     </g>\n    </g>\n    <g id=\"ytick_13\">\n     <g id=\"line2d_21\">\n      <g>\n       <use style=\"stroke:#000000;stroke-width:0.8;\" x=\"117.617188\" xlink:href=\"#m917fd03753\" y=\"185.398125\"/>\n      </g>\n     </g>\n     <g id=\"text_22\">\n      <!-- Telangana -->\n      <g transform=\"translate(59.870312 189.197344)scale(0.1 -0.1)\">\n       <defs>\n        <path d=\"M -19 4666 \nL 3928 4666 \nL 3928 4134 \nL 2272 4134 \nL 2272 0 \nL 1638 0 \nL 1638 4134 \nL -19 4134 \nL -19 4666 \nz\n\" id=\"DejaVuSans-54\" transform=\"scale(0.015625)\"/>\n       </defs>\n       <use xlink:href=\"#DejaVuSans-54\"/>\n       <use x=\"44.083984\" xlink:href=\"#DejaVuSans-65\"/>\n       <use x=\"105.607422\" xlink:href=\"#DejaVuSans-6c\"/>\n       <use x=\"133.390625\" xlink:href=\"#DejaVuSans-61\"/>\n       <use x=\"194.669922\" xlink:href=\"#DejaVuSans-6e\"/>\n       <use x=\"258.048828\" xlink:href=\"#DejaVuSans-67\"/>\n       <use x=\"321.525391\" xlink:href=\"#DejaVuSans-61\"/>\n       <use x=\"382.804688\" xlink:href=\"#DejaVuSans-6e\"/>\n       <use x=\"446.183594\" xlink:href=\"#DejaVuSans-61\"/>\n      </g>\n     </g>\n    </g>\n    <g id=\"ytick_14\">\n     <g id=\"line2d_22\">\n      <g>\n       <use style=\"stroke:#000000;stroke-width:0.8;\" x=\"117.617188\" xlink:href=\"#m917fd03753\" y=\"198.444525\"/>\n      </g>\n     </g>\n     <g id=\"text_23\">\n      <!-- Kerala -->\n      <g transform=\"translate(79.260937 202.243744)scale(0.1 -0.1)\">\n       <use xlink:href=\"#DejaVuSans-4b\"/>\n       <use x=\"60.576172\" xlink:href=\"#DejaVuSans-65\"/>\n       <use x=\"122.099609\" xlink:href=\"#DejaVuSans-72\"/>\n       <use x=\"163.212891\" xlink:href=\"#DejaVuSans-61\"/>\n       <use x=\"224.492188\" xlink:href=\"#DejaVuSans-6c\"/>\n       <use x=\"252.275391\" xlink:href=\"#DejaVuSans-61\"/>\n      </g>\n     </g>\n    </g>\n    <g id=\"ytick_15\">\n     <g id=\"line2d_23\">\n      <g>\n       <use style=\"stroke:#000000;stroke-width:0.8;\" x=\"117.617188\" xlink:href=\"#m917fd03753\" y=\"211.490925\"/>\n      </g>\n     </g>\n     <g id=\"text_24\">\n      <!-- Tamil Nadu -->\n      <g transform=\"translate(55.260937 215.290144)scale(0.1 -0.1)\">\n       <defs>\n        <path d=\"M 628 4666 \nL 1478 4666 \nL 3547 763 \nL 3547 4666 \nL 4159 4666 \nL 4159 0 \nL 3309 0 \nL 1241 3903 \nL 1241 0 \nL 628 0 \nL 628 4666 \nz\n\" id=\"DejaVuSans-4e\" transform=\"scale(0.015625)\"/>\n       </defs>\n       <use xlink:href=\"#DejaVuSans-54\"/>\n       <use x=\"44.583984\" xlink:href=\"#DejaVuSans-61\"/>\n       <use x=\"105.863281\" xlink:href=\"#DejaVuSans-6d\"/>\n       <use x=\"203.275391\" xlink:href=\"#DejaVuSans-69\"/>\n       <use x=\"231.058594\" xlink:href=\"#DejaVuSans-6c\"/>\n       <use x=\"258.841797\" xlink:href=\"#DejaVuSans-20\"/>\n       <use x=\"290.628906\" xlink:href=\"#DejaVuSans-4e\"/>\n       <use x=\"365.433594\" xlink:href=\"#DejaVuSans-61\"/>\n       <use x=\"426.712891\" xlink:href=\"#DejaVuSans-64\"/>\n       <use x=\"490.189453\" xlink:href=\"#DejaVuSans-75\"/>\n      </g>\n     </g>\n    </g>\n    <g id=\"ytick_16\">\n     <g id=\"line2d_24\">\n      <g>\n       <use style=\"stroke:#000000;stroke-width:0.8;\" x=\"117.617188\" xlink:href=\"#m917fd03753\" y=\"224.537325\"/>\n      </g>\n     </g>\n     <g id=\"text_25\">\n      <!-- Gujarat -->\n      <g transform=\"translate(73.465625 228.336544)scale(0.1 -0.1)\">\n       <defs>\n        <path d=\"M 3809 666 \nL 3809 1919 \nL 2778 1919 \nL 2778 2438 \nL 4434 2438 \nL 4434 434 \nQ 4069 175 3628 42 \nQ 3188 -91 2688 -91 \nQ 1594 -91 976 548 \nQ 359 1188 359 2328 \nQ 359 3472 976 4111 \nQ 1594 4750 2688 4750 \nQ 3144 4750 3555 4637 \nQ 3966 4525 4313 4306 \nL 4313 3634 \nQ 3963 3931 3569 4081 \nQ 3175 4231 2741 4231 \nQ 1884 4231 1454 3753 \nQ 1025 3275 1025 2328 \nQ 1025 1384 1454 906 \nQ 1884 428 2741 428 \nQ 3075 428 3337 486 \nQ 3600 544 3809 666 \nz\n\" id=\"DejaVuSans-47\" transform=\"scale(0.015625)\"/>\n       </defs>\n       <use xlink:href=\"#DejaVuSans-47\"/>\n       <use x=\"77.490234\" xlink:href=\"#DejaVuSans-75\"/>\n       <use x=\"140.869141\" xlink:href=\"#DejaVuSans-6a\"/>\n       <use x=\"168.652344\" xlink:href=\"#DejaVuSans-61\"/>\n       <use x=\"229.931641\" xlink:href=\"#DejaVuSans-72\"/>\n       <use x=\"271.044922\" xlink:href=\"#DejaVuSans-61\"/>\n       <use x=\"332.324219\" xlink:href=\"#DejaVuSans-74\"/>\n      </g>\n     </g>\n    </g>\n    <g id=\"ytick_17\">\n     <g id=\"line2d_25\">\n      <g>\n       <use style=\"stroke:#000000;stroke-width:0.8;\" x=\"117.617188\" xlink:href=\"#m917fd03753\" y=\"237.583725\"/>\n      </g>\n     </g>\n     <g id=\"text_26\">\n      <!-- Tripura -->\n      <g transform=\"translate(76.170312 241.382944)scale(0.1 -0.1)\">\n       <defs>\n        <path d=\"M 1159 525 \nL 1159 -1331 \nL 581 -1331 \nL 581 3500 \nL 1159 3500 \nL 1159 2969 \nQ 1341 3281 1617 3432 \nQ 1894 3584 2278 3584 \nQ 2916 3584 3314 3078 \nQ 3713 2572 3713 1747 \nQ 3713 922 3314 415 \nQ 2916 -91 2278 -91 \nQ 1894 -91 1617 61 \nQ 1341 213 1159 525 \nz\nM 3116 1747 \nQ 3116 2381 2855 2742 \nQ 2594 3103 2138 3103 \nQ 1681 3103 1420 2742 \nQ 1159 2381 1159 1747 \nQ 1159 1113 1420 752 \nQ 1681 391 2138 391 \nQ 2594 391 2855 752 \nQ 3116 1113 3116 1747 \nz\n\" id=\"DejaVuSans-70\" transform=\"scale(0.015625)\"/>\n       </defs>\n       <use xlink:href=\"#DejaVuSans-54\"/>\n       <use x=\"46.333984\" xlink:href=\"#DejaVuSans-72\"/>\n       <use x=\"87.447266\" xlink:href=\"#DejaVuSans-69\"/>\n       <use x=\"115.230469\" xlink:href=\"#DejaVuSans-70\"/>\n       <use x=\"178.707031\" xlink:href=\"#DejaVuSans-75\"/>\n       <use x=\"242.085938\" xlink:href=\"#DejaVuSans-72\"/>\n       <use x=\"283.199219\" xlink:href=\"#DejaVuSans-61\"/>\n      </g>\n     </g>\n    </g>\n    <g id=\"ytick_18\">\n     <g id=\"line2d_26\">\n      <g>\n       <use style=\"stroke:#000000;stroke-width:0.8;\" x=\"117.617188\" xlink:href=\"#m917fd03753\" y=\"250.630125\"/>\n      </g>\n     </g>\n     <g id=\"text_27\">\n      <!-- Manipur -->\n      <g transform=\"translate(69.948437 254.429344)scale(0.1 -0.1)\">\n       <use xlink:href=\"#DejaVuSans-4d\"/>\n       <use x=\"86.279297\" xlink:href=\"#DejaVuSans-61\"/>\n       <use x=\"147.558594\" xlink:href=\"#DejaVuSans-6e\"/>\n       <use x=\"210.9375\" xlink:href=\"#DejaVuSans-69\"/>\n       <use x=\"238.720703\" xlink:href=\"#DejaVuSans-70\"/>\n       <use x=\"302.197266\" xlink:href=\"#DejaVuSans-75\"/>\n       <use x=\"365.576172\" xlink:href=\"#DejaVuSans-72\"/>\n      </g>\n     </g>\n    </g>\n    <g id=\"ytick_19\">\n     <g id=\"line2d_27\">\n      <g>\n       <use style=\"stroke:#000000;stroke-width:0.8;\" x=\"117.617188\" xlink:href=\"#m917fd03753\" y=\"263.676525\"/>\n      </g>\n     </g>\n     <g id=\"text_28\">\n      <!-- Nagaland -->\n      <g transform=\"translate(62.939062 267.475744)scale(0.1 -0.1)\">\n       <use xlink:href=\"#DejaVuSans-4e\"/>\n       <use x=\"74.804688\" xlink:href=\"#DejaVuSans-61\"/>\n       <use x=\"136.083984\" xlink:href=\"#DejaVuSans-67\"/>\n       <use x=\"199.560547\" xlink:href=\"#DejaVuSans-61\"/>\n       <use x=\"260.839844\" xlink:href=\"#DejaVuSans-6c\"/>\n       <use x=\"288.623047\" xlink:href=\"#DejaVuSans-61\"/>\n       <use x=\"349.902344\" xlink:href=\"#DejaVuSans-6e\"/>\n       <use x=\"413.28125\" xlink:href=\"#DejaVuSans-64\"/>\n      </g>\n     </g>\n    </g>\n    <g id=\"ytick_20\">\n     <g id=\"line2d_28\">\n      <g>\n       <use style=\"stroke:#000000;stroke-width:0.8;\" x=\"117.617188\" xlink:href=\"#m917fd03753\" y=\"276.722925\"/>\n      </g>\n     </g>\n     <g id=\"text_29\">\n      <!-- NCT of Delhi -->\n      <g transform=\"translate(48.303125 280.522144)scale(0.1 -0.1)\">\n       <defs>\n        <path d=\"M 4122 4306 \nL 4122 3641 \nQ 3803 3938 3442 4084 \nQ 3081 4231 2675 4231 \nQ 1875 4231 1450 3742 \nQ 1025 3253 1025 2328 \nQ 1025 1406 1450 917 \nQ 1875 428 2675 428 \nQ 3081 428 3442 575 \nQ 3803 722 4122 1019 \nL 4122 359 \nQ 3791 134 3420 21 \nQ 3050 -91 2638 -91 \nQ 1578 -91 968 557 \nQ 359 1206 359 2328 \nQ 359 3453 968 4101 \nQ 1578 4750 2638 4750 \nQ 3056 4750 3426 4639 \nQ 3797 4528 4122 4306 \nz\n\" id=\"DejaVuSans-43\" transform=\"scale(0.015625)\"/>\n        <path d=\"M 2375 4863 \nL 2375 4384 \nL 1825 4384 \nQ 1516 4384 1395 4259 \nQ 1275 4134 1275 3809 \nL 1275 3500 \nL 2222 3500 \nL 2222 3053 \nL 1275 3053 \nL 1275 0 \nL 697 0 \nL 697 3053 \nL 147 3053 \nL 147 3500 \nL 697 3500 \nL 697 3744 \nQ 697 4328 969 4595 \nQ 1241 4863 1831 4863 \nL 2375 4863 \nz\n\" id=\"DejaVuSans-66\" transform=\"scale(0.015625)\"/>\n        <path d=\"M 1259 4147 \nL 1259 519 \nL 2022 519 \nQ 2988 519 3436 956 \nQ 3884 1394 3884 2338 \nQ 3884 3275 3436 3711 \nQ 2988 4147 2022 4147 \nL 1259 4147 \nz\nM 628 4666 \nL 1925 4666 \nQ 3281 4666 3915 4102 \nQ 4550 3538 4550 2338 \nQ 4550 1131 3912 565 \nQ 3275 0 1925 0 \nL 628 0 \nL 628 4666 \nz\n\" id=\"DejaVuSans-44\" transform=\"scale(0.015625)\"/>\n       </defs>\n       <use xlink:href=\"#DejaVuSans-4e\"/>\n       <use x=\"74.804688\" xlink:href=\"#DejaVuSans-43\"/>\n       <use x=\"144.628906\" xlink:href=\"#DejaVuSans-54\"/>\n       <use x=\"205.712891\" xlink:href=\"#DejaVuSans-20\"/>\n       <use x=\"237.5\" xlink:href=\"#DejaVuSans-6f\"/>\n       <use x=\"298.681641\" xlink:href=\"#DejaVuSans-66\"/>\n       <use x=\"333.886719\" xlink:href=\"#DejaVuSans-20\"/>\n       <use x=\"365.673828\" xlink:href=\"#DejaVuSans-44\"/>\n       <use x=\"442.675781\" xlink:href=\"#DejaVuSans-65\"/>\n       <use x=\"504.199219\" xlink:href=\"#DejaVuSans-6c\"/>\n       <use x=\"531.982422\" xlink:href=\"#DejaVuSans-68\"/>\n       <use x=\"595.361328\" xlink:href=\"#DejaVuSans-69\"/>\n      </g>\n     </g>\n    </g>\n    <g id=\"ytick_21\">\n     <g id=\"line2d_29\">\n      <g>\n       <use style=\"stroke:#000000;stroke-width:0.8;\" x=\"117.617188\" xlink:href=\"#m917fd03753\" y=\"289.769325\"/>\n      </g>\n     </g>\n     <g id=\"text_30\">\n      <!-- Jammu &amp; Kashmir -->\n      <g transform=\"translate(20.878125 293.568544)scale(0.1 -0.1)\">\n       <defs>\n        <path d=\"M 628 4666 \nL 1259 4666 \nL 1259 325 \nQ 1259 -519 939 -900 \nQ 619 -1281 -91 -1281 \nL -331 -1281 \nL -331 -750 \nL -134 -750 \nQ 284 -750 456 -515 \nQ 628 -281 628 325 \nL 628 4666 \nz\n\" id=\"DejaVuSans-4a\" transform=\"scale(0.015625)\"/>\n        <path d=\"M 1556 2509 \nQ 1272 2256 1139 2004 \nQ 1006 1753 1006 1478 \nQ 1006 1022 1337 719 \nQ 1669 416 2169 416 \nQ 2466 416 2725 514 \nQ 2984 613 3213 813 \nL 1556 2509 \nz\nM 1997 2859 \nL 3584 1234 \nQ 3769 1513 3872 1830 \nQ 3975 2147 3994 2503 \nL 4575 2503 \nQ 4538 2091 4375 1687 \nQ 4213 1284 3922 891 \nL 4794 0 \nL 4006 0 \nL 3559 459 \nQ 3234 181 2878 45 \nQ 2522 -91 2113 -91 \nQ 1359 -91 881 339 \nQ 403 769 403 1441 \nQ 403 1841 612 2192 \nQ 822 2544 1241 2853 \nQ 1091 3050 1012 3245 \nQ 934 3441 934 3628 \nQ 934 4134 1281 4442 \nQ 1628 4750 2203 4750 \nQ 2463 4750 2720 4694 \nQ 2978 4638 3244 4525 \nL 3244 3956 \nQ 2972 4103 2725 4179 \nQ 2478 4256 2266 4256 \nQ 1938 4256 1733 4082 \nQ 1528 3909 1528 3634 \nQ 1528 3475 1620 3314 \nQ 1713 3153 1997 2859 \nz\n\" id=\"DejaVuSans-26\" transform=\"scale(0.015625)\"/>\n       </defs>\n       <use xlink:href=\"#DejaVuSans-4a\"/>\n       <use x=\"29.492188\" xlink:href=\"#DejaVuSans-61\"/>\n       <use x=\"90.771484\" xlink:href=\"#DejaVuSans-6d\"/>\n       <use x=\"188.183594\" xlink:href=\"#DejaVuSans-6d\"/>\n       <use x=\"285.595703\" xlink:href=\"#DejaVuSans-75\"/>\n       <use x=\"348.974609\" xlink:href=\"#DejaVuSans-20\"/>\n       <use x=\"380.761719\" xlink:href=\"#DejaVuSans-26\"/>\n       <use x=\"458.740234\" xlink:href=\"#DejaVuSans-20\"/>\n       <use x=\"490.527344\" xlink:href=\"#DejaVuSans-4b\"/>\n       <use x=\"554.353516\" xlink:href=\"#DejaVuSans-61\"/>\n       <use x=\"615.632812\" xlink:href=\"#DejaVuSans-73\"/>\n       <use x=\"667.732422\" xlink:href=\"#DejaVuSans-68\"/>\n       <use x=\"731.111328\" xlink:href=\"#DejaVuSans-6d\"/>\n       <use x=\"828.523438\" xlink:href=\"#DejaVuSans-69\"/>\n       <use x=\"856.306641\" xlink:href=\"#DejaVuSans-72\"/>\n      </g>\n     </g>\n    </g>\n    <g id=\"ytick_22\">\n     <g id=\"line2d_30\">\n      <g>\n       <use style=\"stroke:#000000;stroke-width:0.8;\" x=\"117.617188\" xlink:href=\"#m917fd03753\" y=\"302.815725\"/>\n      </g>\n     </g>\n     <g id=\"text_31\">\n      <!-- Chhattisgarh -->\n      <g transform=\"translate(46.253125 306.614944)scale(0.1 -0.1)\">\n       <use xlink:href=\"#DejaVuSans-43\"/>\n       <use x=\"69.824219\" xlink:href=\"#DejaVuSans-68\"/>\n       <use x=\"133.203125\" xlink:href=\"#DejaVuSans-68\"/>\n       <use x=\"196.582031\" xlink:href=\"#DejaVuSans-61\"/>\n       <use x=\"257.861328\" xlink:href=\"#DejaVuSans-74\"/>\n       <use x=\"297.070312\" xlink:href=\"#DejaVuSans-74\"/>\n       <use x=\"336.279297\" xlink:href=\"#DejaVuSans-69\"/>\n       <use x=\"364.0625\" xlink:href=\"#DejaVuSans-73\"/>\n       <use x=\"416.162109\" xlink:href=\"#DejaVuSans-67\"/>\n       <use x=\"479.638672\" xlink:href=\"#DejaVuSans-61\"/>\n       <use x=\"540.917969\" xlink:href=\"#DejaVuSans-72\"/>\n       <use x=\"580.28125\" xlink:href=\"#DejaVuSans-68\"/>\n      </g>\n     </g>\n    </g>\n    <g id=\"ytick_23\">\n     <g id=\"line2d_31\">\n      <g>\n       <use style=\"stroke:#000000;stroke-width:0.8;\" x=\"117.617188\" xlink:href=\"#m917fd03753\" y=\"315.862125\"/>\n      </g>\n     </g>\n     <g id=\"text_32\">\n      <!-- Haryana -->\n      <g transform=\"translate(68.345313 319.661344)scale(0.1 -0.1)\">\n       <defs>\n        <path d=\"M 628 4666 \nL 1259 4666 \nL 1259 2753 \nL 3553 2753 \nL 3553 4666 \nL 4184 4666 \nL 4184 0 \nL 3553 0 \nL 3553 2222 \nL 1259 2222 \nL 1259 0 \nL 628 0 \nL 628 4666 \nz\n\" id=\"DejaVuSans-48\" transform=\"scale(0.015625)\"/>\n        <path d=\"M 2059 -325 \nQ 1816 -950 1584 -1140 \nQ 1353 -1331 966 -1331 \nL 506 -1331 \nL 506 -850 \nL 844 -850 \nQ 1081 -850 1212 -737 \nQ 1344 -625 1503 -206 \nL 1606 56 \nL 191 3500 \nL 800 3500 \nL 1894 763 \nL 2988 3500 \nL 3597 3500 \nL 2059 -325 \nz\n\" id=\"DejaVuSans-79\" transform=\"scale(0.015625)\"/>\n       </defs>\n       <use xlink:href=\"#DejaVuSans-48\"/>\n       <use x=\"75.195312\" xlink:href=\"#DejaVuSans-61\"/>\n       <use x=\"136.474609\" xlink:href=\"#DejaVuSans-72\"/>\n       <use x=\"177.587891\" xlink:href=\"#DejaVuSans-79\"/>\n       <use x=\"236.767578\" xlink:href=\"#DejaVuSans-61\"/>\n       <use x=\"298.046875\" xlink:href=\"#DejaVuSans-6e\"/>\n       <use x=\"361.425781\" xlink:href=\"#DejaVuSans-61\"/>\n      </g>\n     </g>\n    </g>\n    <g id=\"ytick_24\">\n     <g id=\"line2d_32\">\n      <g>\n       <use style=\"stroke:#000000;stroke-width:0.8;\" x=\"117.617188\" xlink:href=\"#m917fd03753\" y=\"328.908525\"/>\n      </g>\n     </g>\n     <g id=\"text_33\">\n      <!-- Madhya Pradesh -->\n      <g transform=\"translate(27.807812 332.707744)scale(0.1 -0.1)\">\n       <use xlink:href=\"#DejaVuSans-4d\"/>\n       <use x=\"86.279297\" xlink:href=\"#DejaVuSans-61\"/>\n       <use x=\"147.558594\" xlink:href=\"#DejaVuSans-64\"/>\n       <use x=\"211.035156\" xlink:href=\"#DejaVuSans-68\"/>\n       <use x=\"274.414062\" xlink:href=\"#DejaVuSans-79\"/>\n       <use x=\"333.59375\" xlink:href=\"#DejaVuSans-61\"/>\n       <use x=\"394.873047\" xlink:href=\"#DejaVuSans-20\"/>\n       <use x=\"426.660156\" xlink:href=\"#DejaVuSans-50\"/>\n       <use x=\"485.212891\" xlink:href=\"#DejaVuSans-72\"/>\n       <use x=\"526.326172\" xlink:href=\"#DejaVuSans-61\"/>\n       <use x=\"587.605469\" xlink:href=\"#DejaVuSans-64\"/>\n       <use x=\"651.082031\" xlink:href=\"#DejaVuSans-65\"/>\n       <use x=\"712.605469\" xlink:href=\"#DejaVuSans-73\"/>\n       <use x=\"764.705078\" xlink:href=\"#DejaVuSans-68\"/>\n      </g>\n     </g>\n    </g>\n    <g id=\"ytick_25\">\n     <g id=\"line2d_33\">\n      <g>\n       <use style=\"stroke:#000000;stroke-width:0.8;\" x=\"117.617188\" xlink:href=\"#m917fd03753\" y=\"341.954925\"/>\n      </g>\n     </g>\n     <g id=\"text_34\">\n      <!-- Goa -->\n      <g transform=\"translate(90.621875 345.754144)scale(0.1 -0.1)\">\n       <use xlink:href=\"#DejaVuSans-47\"/>\n       <use x=\"77.490234\" xlink:href=\"#DejaVuSans-6f\"/>\n       <use x=\"138.671875\" xlink:href=\"#DejaVuSans-61\"/>\n      </g>\n     </g>\n    </g>\n    <g id=\"text_35\">\n     <!-- States -->\n     <g transform=\"translate(14.798437 201.237969)rotate(-90)scale(0.1 -0.1)\">\n      <use xlink:href=\"#DejaVuSans-53\"/>\n      <use x=\"63.476562\" xlink:href=\"#DejaVuSans-74\"/>\n      <use x=\"102.685547\" xlink:href=\"#DejaVuSans-61\"/>\n      <use x=\"163.964844\" xlink:href=\"#DejaVuSans-74\"/>\n      <use x=\"203.173828\" xlink:href=\"#DejaVuSans-65\"/>\n      <use x=\"264.697266\" xlink:href=\"#DejaVuSans-73\"/>\n     </g>\n    </g>\n   </g>\n   <g id=\"patch_28\">\n    <path d=\"M 117.617188 348.478125 \nL 117.617188 22.318125 \n\" style=\"fill:none;stroke:#000000;stroke-linecap:square;stroke-linejoin:miter;stroke-width:0.8;\"/>\n   </g>\n   <g id=\"patch_29\">\n    <path d=\"M 787.217188 348.478125 \nL 787.217188 22.318125 \n\" style=\"fill:none;stroke:#000000;stroke-linecap:square;stroke-linejoin:miter;stroke-width:0.8;\"/>\n   </g>\n   <g id=\"patch_30\">\n    <path d=\"M 117.617188 348.478125 \nL 787.217187 348.478125 \n\" style=\"fill:none;stroke:#000000;stroke-linecap:square;stroke-linejoin:miter;stroke-width:0.8;\"/>\n   </g>\n   <g id=\"patch_31\">\n    <path d=\"M 117.617188 22.318125 \nL 787.217187 22.318125 \n\" style=\"fill:none;stroke:#000000;stroke-linecap:square;stroke-linejoin:miter;stroke-width:0.8;\"/>\n   </g>\n   <g id=\"text_36\">\n    <!-- Number of dishes as per the states -->\n    <g transform=\"translate(346.926875 16.318125)scale(0.12 -0.12)\">\n     <use xlink:href=\"#DejaVuSans-4e\"/>\n     <use x=\"74.804688\" xlink:href=\"#DejaVuSans-75\"/>\n     <use x=\"138.183594\" xlink:href=\"#DejaVuSans-6d\"/>\n     <use x=\"235.595703\" xlink:href=\"#DejaVuSans-62\"/>\n     <use x=\"299.072266\" xlink:href=\"#DejaVuSans-65\"/>\n     <use x=\"360.595703\" xlink:href=\"#DejaVuSans-72\"/>\n     <use x=\"401.708984\" xlink:href=\"#DejaVuSans-20\"/>\n     <use x=\"433.496094\" xlink:href=\"#DejaVuSans-6f\"/>\n     <use x=\"494.677734\" xlink:href=\"#DejaVuSans-66\"/>\n     <use x=\"529.882812\" xlink:href=\"#DejaVuSans-20\"/>\n     <use x=\"561.669922\" xlink:href=\"#DejaVuSans-64\"/>\n     <use x=\"625.146484\" xlink:href=\"#DejaVuSans-69\"/>\n     <use x=\"652.929688\" xlink:href=\"#DejaVuSans-73\"/>\n     <use x=\"705.029297\" xlink:href=\"#DejaVuSans-68\"/>\n     <use x=\"768.408203\" xlink:href=\"#DejaVuSans-65\"/>\n     <use x=\"829.931641\" xlink:href=\"#DejaVuSans-73\"/>\n     <use x=\"882.03125\" xlink:href=\"#DejaVuSans-20\"/>\n     <use x=\"913.818359\" xlink:href=\"#DejaVuSans-61\"/>\n     <use x=\"975.097656\" xlink:href=\"#DejaVuSans-73\"/>\n     <use x=\"1027.197266\" xlink:href=\"#DejaVuSans-20\"/>\n     <use x=\"1058.984375\" xlink:href=\"#DejaVuSans-70\"/>\n     <use x=\"1122.460938\" xlink:href=\"#DejaVuSans-65\"/>\n     <use x=\"1183.984375\" xlink:href=\"#DejaVuSans-72\"/>\n     <use x=\"1225.097656\" xlink:href=\"#DejaVuSans-20\"/>\n     <use x=\"1256.884766\" xlink:href=\"#DejaVuSans-74\"/>\n     <use x=\"1296.09375\" xlink:href=\"#DejaVuSans-68\"/>\n     <use x=\"1359.472656\" xlink:href=\"#DejaVuSans-65\"/>\n     <use x=\"1420.996094\" xlink:href=\"#DejaVuSans-20\"/>\n     <use x=\"1452.783203\" xlink:href=\"#DejaVuSans-73\"/>\n     <use x=\"1504.882812\" xlink:href=\"#DejaVuSans-74\"/>\n     <use x=\"1544.091797\" xlink:href=\"#DejaVuSans-61\"/>\n     <use x=\"1605.371094\" xlink:href=\"#DejaVuSans-74\"/>\n     <use x=\"1644.580078\" xlink:href=\"#DejaVuSans-65\"/>\n     <use x=\"1706.103516\" xlink:href=\"#DejaVuSans-73\"/>\n    </g>\n   </g>\n  </g>\n </g>\n <defs>\n  <clipPath id=\"p7929e4d96b\">\n   <rect height=\"326.16\" width=\"669.6\" x=\"117.617188\" y=\"22.318125\"/>\n  </clipPath>\n </defs>\n</svg>\n",
      "image/png": "[encoded data removed]"
     },
     "metadata": {
      "needs_background": "light"
     }
    }
   ],
   "source": [
    "#plotting the number of dishes as per the states\n",
    "\n",
    "sns.countplot(data = data, y = \"state\")\n",
    "plt.title(\"Number of dishes as per the states\")\n",
    "plt.ylabel(\"States\")\n",
    "plt.show()"
   ]
  },
  {
   "cell_type": "code",
   "execution_count": 26,
   "metadata": {},
   "outputs": [
    {
     "output_type": "execute_result",
     "data": {
      "text/plain": [
       "          name                                        ingredients        diet  \\\n",
       "7   kaju katli                     Cashews, ghee, cardamom, sugar  vegetarian   \n",
       "9        kheer                    Milk, rice, sugar, dried fruits  vegetarian   \n",
       "10       laddu                            Gram flour, ghee, sugar  vegetarian   \n",
       "12   nankhatai  Refined flour, besan, ghee, powdered sugar, yo...  vegetarian   \n",
       "94     khichdi  Moong dal, green peas, ginger, tomato, green c...  vegetarian   \n",
       "\n",
       "    prep_time  cook_time flavor_profile       course      state region  \n",
       "7          10         20          sweet      dessert  All State     -1  \n",
       "9          10         40          sweet      dessert  All State     -1  \n",
       "10         10         40          sweet      dessert  All State     -1  \n",
       "12         20         30          sweet      dessert  All State     -1  \n",
       "94         40         20          spicy  main course  All State     -1  "
      ],
      "text/html": "<div>\n<style scoped>\n    .dataframe tbody tr th:only-of-type {\n        vertical-align: middle;\n    }\n\n    .dataframe tbody tr th {\n        vertical-align: top;\n    }\n\n    .dataframe thead th {\n        text-align: right;\n    }\n</style>\n<table border=\"1\" class=\"dataframe\">\n  <thead>\n    <tr style=\"text-align: right;\">\n      <th></th>\n      <th>name</th>\n      <th>ingredients</th>\n      <th>diet</th>\n      <th>prep_time</th>\n      <th>cook_time</th>\n      <th>flavor_profile</th>\n      <th>course</th>\n      <th>state</th>\n      <th>region</th>\n    </tr>\n  </thead>\n  <tbody>\n    <tr>\n      <th>7</th>\n      <td>kaju katli</td>\n      <td>Cashews, ghee, cardamom, sugar</td>\n      <td>vegetarian</td>\n      <td>10</td>\n      <td>20</td>\n      <td>sweet</td>\n      <td>dessert</td>\n      <td>All State</td>\n      <td>-1</td>\n    </tr>\n    <tr>\n      <th>9</th>\n      <td>kheer</td>\n      <td>Milk, rice, sugar, dried fruits</td>\n      <td>vegetarian</td>\n      <td>10</td>\n      <td>40</td>\n      <td>sweet</td>\n      <td>dessert</td>\n      <td>All State</td>\n      <td>-1</td>\n    </tr>\n    <tr>\n      <th>10</th>\n      <td>laddu</td>\n      <td>Gram flour, ghee, sugar</td>\n      <td>vegetarian</td>\n      <td>10</td>\n      <td>40</td>\n      <td>sweet</td>\n      <td>dessert</td>\n      <td>All State</td>\n      <td>-1</td>\n    </tr>\n    <tr>\n      <th>12</th>\n      <td>nankhatai</td>\n      <td>Refined flour, besan, ghee, powdered sugar, yo...</td>\n      <td>vegetarian</td>\n      <td>20</td>\n      <td>30</td>\n      <td>sweet</td>\n      <td>dessert</td>\n      <td>All State</td>\n      <td>-1</td>\n    </tr>\n    <tr>\n      <th>94</th>\n      <td>khichdi</td>\n      <td>Moong dal, green peas, ginger, tomato, green c...</td>\n      <td>vegetarian</td>\n      <td>40</td>\n      <td>20</td>\n      <td>spicy</td>\n      <td>main course</td>\n      <td>All State</td>\n      <td>-1</td>\n    </tr>\n  </tbody>\n</table>\n</div>"
     },
     "metadata": {},
     "execution_count": 26
    }
   ],
   "source": [
    "# getting the count of the dishes according to the regions\n",
    "data.region.value_counts()\n",
    "data[data.region == \"-1\"].head()"
   ]
  },
  {
   "cell_type": "code",
   "execution_count": 27,
   "metadata": {},
   "outputs": [],
   "source": [
    "# replacing the dishes having -1 value  of regions to All Region\n",
    "data.region = data.region.replace(\"-1\", \"All Region\")"
   ]
  },
  {
   "cell_type": "code",
   "execution_count": 28,
   "metadata": {},
   "outputs": [
    {
     "output_type": "display_data",
     "data": {
      "text/plain": "<Figure size 864x432 with 1 Axes>",
      "image/svg+xml": "<?xml version=\"1.0\" encoding=\"utf-8\" standalone=\"no\"?>\n<!DOCTYPE svg PUBLIC \"-//W3C//DTD SVG 1.1//EN\"\n  \"http://www.w3.org/Graphics/SVG/1.1/DTD/svg11.dtd\">\n<svg height=\"386.034375pt\" version=\"1.1\" viewBox=\"0 0 717.403125 386.034375\" width=\"717.403125pt\" xmlns=\"http://www.w3.org/2000/svg\" xmlns:xlink=\"http://www.w3.org/1999/xlink\">\n <metadata>\n  <rdf:RDF xmlns:cc=\"http://creativecommons.org/ns#\" xmlns:dc=\"http://purl.org/dc/elements/1.1/\" xmlns:rdf=\"http://www.w3.org/1999/02/22-rdf-syntax-ns#\">\n   <cc:Work>\n    <dc:type rdf:resource=\"http://purl.org/dc/dcmitype/StillImage\"/>\n    <dc:date>2021-04-25T19:57:58.613404</dc:date>\n    <dc:format>image/svg+xml</dc:format>\n    <dc:creator>\n     <cc:Agent>\n      <dc:title>Matplotlib v3.4.1, https://matplotlib.org/</dc:title>\n     </cc:Agent>\n    </dc:creator>\n   </cc:Work>\n  </rdf:RDF>\n </metadata>\n <defs>\n  <style type=\"text/css\">*{stroke-linecap:butt;stroke-linejoin:round;}</style>\n </defs>\n <g id=\"figure_1\">\n  <g id=\"patch_1\">\n   <path d=\"M 0 386.034375 \nL 717.403125 386.034375 \nL 717.403125 0 \nL 0 0 \nz\n\" style=\"fill:none;\"/>\n  </g>\n  <g id=\"axes_1\">\n   <g id=\"patch_2\">\n    <path d=\"M 40.603125 348.478125 \nL 710.203125 348.478125 \nL 710.203125 22.318125 \nL 40.603125 22.318125 \nz\n\" style=\"fill:#ffffff;\"/>\n   </g>\n   <g id=\"patch_3\">\n    <path clip-path=\"url(#pab01093719)\" d=\"M 50.168839 348.478125 \nL 126.694554 348.478125 \nL 126.694554 218.34994 \nL 50.168839 218.34994 \nz\n\" style=\"fill:#3274a1;\"/>\n   </g>\n   <g id=\"patch_4\">\n    <path clip-path=\"url(#pab01093719)\" d=\"M 145.825982 348.478125 \nL 222.351696 348.478125 \nL 222.351696 37.849554 \nL 145.825982 37.849554 \nz\n\" style=\"fill:#e1812c;\"/>\n   </g>\n   <g id=\"patch_5\">\n    <path clip-path=\"url(#pab01093719)\" d=\"M 241.483125 348.478125 \nL 318.008839 348.478125 \nL 318.008839 138.593955 \nL 241.483125 138.593955 \nz\n\" style=\"fill:#3a923a;\"/>\n   </g>\n   <g id=\"patch_6\">\n    <path clip-path=\"url(#pab01093719)\" d=\"M 337.140268 348.478125 \nL 413.665982 348.478125 \nL 413.665982 293.908241 \nL 337.140268 293.908241 \nz\n\" style=\"fill:#c03d3e;\"/>\n   </g>\n   <g id=\"patch_7\">\n    <path clip-path=\"url(#pab01093719)\" d=\"M 432.797411 348.478125 \nL 509.323125 348.478125 \nL 509.323125 243.53604 \nL 432.797411 243.53604 \nz\n\" style=\"fill:#9372b2;\"/>\n   </g>\n   <g id=\"patch_8\">\n    <path clip-path=\"url(#pab01093719)\" d=\"M 528.454554 348.478125 \nL 604.980268 348.478125 \nL 604.980268 100.814805 \nL 528.454554 100.814805 \nz\n\" style=\"fill:#845b53;\"/>\n   </g>\n   <g id=\"patch_9\">\n    <path clip-path=\"url(#pab01093719)\" d=\"M 624.111696 348.478125 \nL 700.637411 348.478125 \nL 700.637411 335.885075 \nL 624.111696 335.885075 \nz\n\" style=\"fill:#d684bd;\"/>\n   </g>\n   <g id=\"matplotlib.axis_1\">\n    <g id=\"xtick_1\">\n     <g id=\"line2d_1\">\n      <defs>\n       <path d=\"M 0 0 \nL 0 3.5 \n\" id=\"m6d5a7e7fb2\" style=\"stroke:#000000;stroke-width:0.8;\"/>\n      </defs>\n      <g>\n       <use style=\"stroke:#000000;stroke-width:0.8;\" x=\"88.431696\" xlink:href=\"#m6d5a7e7fb2\" y=\"348.478125\"/>\n      </g>\n     </g>\n     <g id=\"text_1\">\n      <!-- East -->\n      <g transform=\"translate(77.643415 363.076562)scale(0.1 -0.1)\">\n       <defs>\n        <path d=\"M 628 4666 \nL 3578 4666 \nL 3578 4134 \nL 1259 4134 \nL 1259 2753 \nL 3481 2753 \nL 3481 2222 \nL 1259 2222 \nL 1259 531 \nL 3634 531 \nL 3634 0 \nL 628 0 \nL 628 4666 \nz\n\" id=\"DejaVuSans-45\" transform=\"scale(0.015625)\"/>\n        <path d=\"M 2194 1759 \nQ 1497 1759 1228 1600 \nQ 959 1441 959 1056 \nQ 959 750 1161 570 \nQ 1363 391 1709 391 \nQ 2188 391 2477 730 \nQ 2766 1069 2766 1631 \nL 2766 1759 \nL 2194 1759 \nz\nM 3341 1997 \nL 3341 0 \nL 2766 0 \nL 2766 531 \nQ 2569 213 2275 61 \nQ 1981 -91 1556 -91 \nQ 1019 -91 701 211 \nQ 384 513 384 1019 \nQ 384 1609 779 1909 \nQ 1175 2209 1959 2209 \nL 2766 2209 \nL 2766 2266 \nQ 2766 2663 2505 2880 \nQ 2244 3097 1772 3097 \nQ 1472 3097 1187 3025 \nQ 903 2953 641 2809 \nL 641 3341 \nQ 956 3463 1253 3523 \nQ 1550 3584 1831 3584 \nQ 2591 3584 2966 3190 \nQ 3341 2797 3341 1997 \nz\n\" id=\"DejaVuSans-61\" transform=\"scale(0.015625)\"/>\n        <path d=\"M 2834 3397 \nL 2834 2853 \nQ 2591 2978 2328 3040 \nQ 2066 3103 1784 3103 \nQ 1356 3103 1142 2972 \nQ 928 2841 928 2578 \nQ 928 2378 1081 2264 \nQ 1234 2150 1697 2047 \nL 1894 2003 \nQ 2506 1872 2764 1633 \nQ 3022 1394 3022 966 \nQ 3022 478 2636 193 \nQ 2250 -91 1575 -91 \nQ 1294 -91 989 -36 \nQ 684 19 347 128 \nL 347 722 \nQ 666 556 975 473 \nQ 1284 391 1588 391 \nQ 1994 391 2212 530 \nQ 2431 669 2431 922 \nQ 2431 1156 2273 1281 \nQ 2116 1406 1581 1522 \nL 1381 1569 \nQ 847 1681 609 1914 \nQ 372 2147 372 2553 \nQ 372 3047 722 3315 \nQ 1072 3584 1716 3584 \nQ 2034 3584 2315 3537 \nQ 2597 3491 2834 3397 \nz\n\" id=\"DejaVuSans-73\" transform=\"scale(0.015625)\"/>\n        <path d=\"M 1172 4494 \nL 1172 3500 \nL 2356 3500 \nL 2356 3053 \nL 1172 3053 \nL 1172 1153 \nQ 1172 725 1289 603 \nQ 1406 481 1766 481 \nL 2356 481 \nL 2356 0 \nL 1766 0 \nQ 1100 0 847 248 \nQ 594 497 594 1153 \nL 594 3053 \nL 172 3053 \nL 172 3500 \nL 594 3500 \nL 594 4494 \nL 1172 4494 \nz\n\" id=\"DejaVuSans-74\" transform=\"scale(0.015625)\"/>\n       </defs>\n       <use xlink:href=\"#DejaVuSans-45\"/>\n       <use x=\"63.183594\" xlink:href=\"#DejaVuSans-61\"/>\n       <use x=\"124.462891\" xlink:href=\"#DejaVuSans-73\"/>\n       <use x=\"176.5625\" xlink:href=\"#DejaVuSans-74\"/>\n      </g>\n     </g>\n    </g>\n    <g id=\"xtick_2\">\n     <g id=\"line2d_2\">\n      <g>\n       <use style=\"stroke:#000000;stroke-width:0.8;\" x=\"184.088839\" xlink:href=\"#m6d5a7e7fb2\" y=\"348.478125\"/>\n      </g>\n     </g>\n     <g id=\"text_2\">\n      <!-- West -->\n      <g transform=\"translate(171.797433 363.076562)scale(0.1 -0.1)\">\n       <defs>\n        <path d=\"M 213 4666 \nL 850 4666 \nL 1831 722 \nL 2809 4666 \nL 3519 4666 \nL 4500 722 \nL 5478 4666 \nL 6119 4666 \nL 4947 0 \nL 4153 0 \nL 3169 4050 \nL 2175 0 \nL 1381 0 \nL 213 4666 \nz\n\" id=\"DejaVuSans-57\" transform=\"scale(0.015625)\"/>\n        <path d=\"M 3597 1894 \nL 3597 1613 \nL 953 1613 \nQ 991 1019 1311 708 \nQ 1631 397 2203 397 \nQ 2534 397 2845 478 \nQ 3156 559 3463 722 \nL 3463 178 \nQ 3153 47 2828 -22 \nQ 2503 -91 2169 -91 \nQ 1331 -91 842 396 \nQ 353 884 353 1716 \nQ 353 2575 817 3079 \nQ 1281 3584 2069 3584 \nQ 2775 3584 3186 3129 \nQ 3597 2675 3597 1894 \nz\nM 3022 2063 \nQ 3016 2534 2758 2815 \nQ 2500 3097 2075 3097 \nQ 1594 3097 1305 2825 \nQ 1016 2553 972 2059 \nL 3022 2063 \nz\n\" id=\"DejaVuSans-65\" transform=\"scale(0.015625)\"/>\n       </defs>\n       <use xlink:href=\"#DejaVuSans-57\"/>\n       <use x=\"93.001953\" xlink:href=\"#DejaVuSans-65\"/>\n       <use x=\"154.525391\" xlink:href=\"#DejaVuSans-73\"/>\n       <use x=\"206.625\" xlink:href=\"#DejaVuSans-74\"/>\n      </g>\n     </g>\n    </g>\n    <g id=\"xtick_3\">\n     <g id=\"line2d_3\">\n      <g>\n       <use style=\"stroke:#000000;stroke-width:0.8;\" x=\"279.745982\" xlink:href=\"#m6d5a7e7fb2\" y=\"348.478125\"/>\n      </g>\n     </g>\n     <g id=\"text_3\">\n      <!-- North -->\n      <g transform=\"translate(265.761607 363.076562)scale(0.1 -0.1)\">\n       <defs>\n        <path d=\"M 628 4666 \nL 1478 4666 \nL 3547 763 \nL 3547 4666 \nL 4159 4666 \nL 4159 0 \nL 3309 0 \nL 1241 3903 \nL 1241 0 \nL 628 0 \nL 628 4666 \nz\n\" id=\"DejaVuSans-4e\" transform=\"scale(0.015625)\"/>\n        <path d=\"M 1959 3097 \nQ 1497 3097 1228 2736 \nQ 959 2375 959 1747 \nQ 959 1119 1226 758 \nQ 1494 397 1959 397 \nQ 2419 397 2687 759 \nQ 2956 1122 2956 1747 \nQ 2956 2369 2687 2733 \nQ 2419 3097 1959 3097 \nz\nM 1959 3584 \nQ 2709 3584 3137 3096 \nQ 3566 2609 3566 1747 \nQ 3566 888 3137 398 \nQ 2709 -91 1959 -91 \nQ 1206 -91 779 398 \nQ 353 888 353 1747 \nQ 353 2609 779 3096 \nQ 1206 3584 1959 3584 \nz\n\" id=\"DejaVuSans-6f\" transform=\"scale(0.015625)\"/>\n        <path d=\"M 2631 2963 \nQ 2534 3019 2420 3045 \nQ 2306 3072 2169 3072 \nQ 1681 3072 1420 2755 \nQ 1159 2438 1159 1844 \nL 1159 0 \nL 581 0 \nL 581 3500 \nL 1159 3500 \nL 1159 2956 \nQ 1341 3275 1631 3429 \nQ 1922 3584 2338 3584 \nQ 2397 3584 2469 3576 \nQ 2541 3569 2628 3553 \nL 2631 2963 \nz\n\" id=\"DejaVuSans-72\" transform=\"scale(0.015625)\"/>\n        <path d=\"M 3513 2113 \nL 3513 0 \nL 2938 0 \nL 2938 2094 \nQ 2938 2591 2744 2837 \nQ 2550 3084 2163 3084 \nQ 1697 3084 1428 2787 \nQ 1159 2491 1159 1978 \nL 1159 0 \nL 581 0 \nL 581 4863 \nL 1159 4863 \nL 1159 2956 \nQ 1366 3272 1645 3428 \nQ 1925 3584 2291 3584 \nQ 2894 3584 3203 3211 \nQ 3513 2838 3513 2113 \nz\n\" id=\"DejaVuSans-68\" transform=\"scale(0.015625)\"/>\n       </defs>\n       <use xlink:href=\"#DejaVuSans-4e\"/>\n       <use x=\"74.804688\" xlink:href=\"#DejaVuSans-6f\"/>\n       <use x=\"135.986328\" xlink:href=\"#DejaVuSans-72\"/>\n       <use x=\"177.099609\" xlink:href=\"#DejaVuSans-74\"/>\n       <use x=\"216.308594\" xlink:href=\"#DejaVuSans-68\"/>\n      </g>\n     </g>\n    </g>\n    <g id=\"xtick_4\">\n     <g id=\"line2d_4\">\n      <g>\n       <use style=\"stroke:#000000;stroke-width:0.8;\" x=\"375.403125\" xlink:href=\"#m6d5a7e7fb2\" y=\"348.478125\"/>\n      </g>\n     </g>\n     <g id=\"text_4\">\n      <!-- All Region -->\n      <g transform=\"translate(350.498438 363.076562)scale(0.1 -0.1)\">\n       <defs>\n        <path d=\"M 2188 4044 \nL 1331 1722 \nL 3047 1722 \nL 2188 4044 \nz\nM 1831 4666 \nL 2547 4666 \nL 4325 0 \nL 3669 0 \nL 3244 1197 \nL 1141 1197 \nL 716 0 \nL 50 0 \nL 1831 4666 \nz\n\" id=\"DejaVuSans-41\" transform=\"scale(0.015625)\"/>\n        <path d=\"M 603 4863 \nL 1178 4863 \nL 1178 0 \nL 603 0 \nL 603 4863 \nz\n\" id=\"DejaVuSans-6c\" transform=\"scale(0.015625)\"/>\n        <path id=\"DejaVuSans-20\" transform=\"scale(0.015625)\"/>\n        <path d=\"M 2841 2188 \nQ 3044 2119 3236 1894 \nQ 3428 1669 3622 1275 \nL 4263 0 \nL 3584 0 \nL 2988 1197 \nQ 2756 1666 2539 1819 \nQ 2322 1972 1947 1972 \nL 1259 1972 \nL 1259 0 \nL 628 0 \nL 628 4666 \nL 2053 4666 \nQ 2853 4666 3247 4331 \nQ 3641 3997 3641 3322 \nQ 3641 2881 3436 2590 \nQ 3231 2300 2841 2188 \nz\nM 1259 4147 \nL 1259 2491 \nL 2053 2491 \nQ 2509 2491 2742 2702 \nQ 2975 2913 2975 3322 \nQ 2975 3731 2742 3939 \nQ 2509 4147 2053 4147 \nL 1259 4147 \nz\n\" id=\"DejaVuSans-52\" transform=\"scale(0.015625)\"/>\n        <path d=\"M 2906 1791 \nQ 2906 2416 2648 2759 \nQ 2391 3103 1925 3103 \nQ 1463 3103 1205 2759 \nQ 947 2416 947 1791 \nQ 947 1169 1205 825 \nQ 1463 481 1925 481 \nQ 2391 481 2648 825 \nQ 2906 1169 2906 1791 \nz\nM 3481 434 \nQ 3481 -459 3084 -895 \nQ 2688 -1331 1869 -1331 \nQ 1566 -1331 1297 -1286 \nQ 1028 -1241 775 -1147 \nL 775 -588 \nQ 1028 -725 1275 -790 \nQ 1522 -856 1778 -856 \nQ 2344 -856 2625 -561 \nQ 2906 -266 2906 331 \nL 2906 616 \nQ 2728 306 2450 153 \nQ 2172 0 1784 0 \nQ 1141 0 747 490 \nQ 353 981 353 1791 \nQ 353 2603 747 3093 \nQ 1141 3584 1784 3584 \nQ 2172 3584 2450 3431 \nQ 2728 3278 2906 2969 \nL 2906 3500 \nL 3481 3500 \nL 3481 434 \nz\n\" id=\"DejaVuSans-67\" transform=\"scale(0.015625)\"/>\n        <path d=\"M 603 3500 \nL 1178 3500 \nL 1178 0 \nL 603 0 \nL 603 3500 \nz\nM 603 4863 \nL 1178 4863 \nL 1178 4134 \nL 603 4134 \nL 603 4863 \nz\n\" id=\"DejaVuSans-69\" transform=\"scale(0.015625)\"/>\n        <path d=\"M 3513 2113 \nL 3513 0 \nL 2938 0 \nL 2938 2094 \nQ 2938 2591 2744 2837 \nQ 2550 3084 2163 3084 \nQ 1697 3084 1428 2787 \nQ 1159 2491 1159 1978 \nL 1159 0 \nL 581 0 \nL 581 3500 \nL 1159 3500 \nL 1159 2956 \nQ 1366 3272 1645 3428 \nQ 1925 3584 2291 3584 \nQ 2894 3584 3203 3211 \nQ 3513 2838 3513 2113 \nz\n\" id=\"DejaVuSans-6e\" transform=\"scale(0.015625)\"/>\n       </defs>\n       <use xlink:href=\"#DejaVuSans-41\"/>\n       <use x=\"68.408203\" xlink:href=\"#DejaVuSans-6c\"/>\n       <use x=\"96.191406\" xlink:href=\"#DejaVuSans-6c\"/>\n       <use x=\"123.974609\" xlink:href=\"#DejaVuSans-20\"/>\n       <use x=\"155.761719\" xlink:href=\"#DejaVuSans-52\"/>\n       <use x=\"220.744141\" xlink:href=\"#DejaVuSans-65\"/>\n       <use x=\"282.267578\" xlink:href=\"#DejaVuSans-67\"/>\n       <use x=\"345.744141\" xlink:href=\"#DejaVuSans-69\"/>\n       <use x=\"373.527344\" xlink:href=\"#DejaVuSans-6f\"/>\n       <use x=\"434.708984\" xlink:href=\"#DejaVuSans-6e\"/>\n      </g>\n     </g>\n    </g>\n    <g id=\"xtick_5\">\n     <g id=\"line2d_5\">\n      <g>\n       <use style=\"stroke:#000000;stroke-width:0.8;\" x=\"471.060268\" xlink:href=\"#m6d5a7e7fb2\" y=\"348.478125\"/>\n      </g>\n     </g>\n     <g id=\"text_5\">\n      <!-- North East -->\n      <g transform=\"translate(444.698549 363.076562)scale(0.1 -0.1)\">\n       <use xlink:href=\"#DejaVuSans-4e\"/>\n       <use x=\"74.804688\" xlink:href=\"#DejaVuSans-6f\"/>\n       <use x=\"135.986328\" xlink:href=\"#DejaVuSans-72\"/>\n       <use x=\"177.099609\" xlink:href=\"#DejaVuSans-74\"/>\n       <use x=\"216.308594\" xlink:href=\"#DejaVuSans-68\"/>\n       <use x=\"279.6875\" xlink:href=\"#DejaVuSans-20\"/>\n       <use x=\"311.474609\" xlink:href=\"#DejaVuSans-45\"/>\n       <use x=\"374.658203\" xlink:href=\"#DejaVuSans-61\"/>\n       <use x=\"435.9375\" xlink:href=\"#DejaVuSans-73\"/>\n       <use x=\"488.037109\" xlink:href=\"#DejaVuSans-74\"/>\n      </g>\n     </g>\n    </g>\n    <g id=\"xtick_6\">\n     <g id=\"line2d_6\">\n      <g>\n       <use style=\"stroke:#000000;stroke-width:0.8;\" x=\"566.717411\" xlink:href=\"#m6d5a7e7fb2\" y=\"348.478125\"/>\n      </g>\n     </g>\n     <g id=\"text_6\">\n      <!-- South -->\n      <g transform=\"translate(552.186161 363.076562)scale(0.1 -0.1)\">\n       <defs>\n        <path d=\"M 3425 4513 \nL 3425 3897 \nQ 3066 4069 2747 4153 \nQ 2428 4238 2131 4238 \nQ 1616 4238 1336 4038 \nQ 1056 3838 1056 3469 \nQ 1056 3159 1242 3001 \nQ 1428 2844 1947 2747 \nL 2328 2669 \nQ 3034 2534 3370 2195 \nQ 3706 1856 3706 1288 \nQ 3706 609 3251 259 \nQ 2797 -91 1919 -91 \nQ 1588 -91 1214 -16 \nQ 841 59 441 206 \nL 441 856 \nQ 825 641 1194 531 \nQ 1563 422 1919 422 \nQ 2459 422 2753 634 \nQ 3047 847 3047 1241 \nQ 3047 1584 2836 1778 \nQ 2625 1972 2144 2069 \nL 1759 2144 \nQ 1053 2284 737 2584 \nQ 422 2884 422 3419 \nQ 422 4038 858 4394 \nQ 1294 4750 2059 4750 \nQ 2388 4750 2728 4690 \nQ 3069 4631 3425 4513 \nz\n\" id=\"DejaVuSans-53\" transform=\"scale(0.015625)\"/>\n        <path d=\"M 544 1381 \nL 544 3500 \nL 1119 3500 \nL 1119 1403 \nQ 1119 906 1312 657 \nQ 1506 409 1894 409 \nQ 2359 409 2629 706 \nQ 2900 1003 2900 1516 \nL 2900 3500 \nL 3475 3500 \nL 3475 0 \nL 2900 0 \nL 2900 538 \nQ 2691 219 2414 64 \nQ 2138 -91 1772 -91 \nQ 1169 -91 856 284 \nQ 544 659 544 1381 \nz\nM 1991 3584 \nL 1991 3584 \nz\n\" id=\"DejaVuSans-75\" transform=\"scale(0.015625)\"/>\n       </defs>\n       <use xlink:href=\"#DejaVuSans-53\"/>\n       <use x=\"63.476562\" xlink:href=\"#DejaVuSans-6f\"/>\n       <use x=\"124.658203\" xlink:href=\"#DejaVuSans-75\"/>\n       <use x=\"188.037109\" xlink:href=\"#DejaVuSans-74\"/>\n       <use x=\"227.246094\" xlink:href=\"#DejaVuSans-68\"/>\n      </g>\n     </g>\n    </g>\n    <g id=\"xtick_7\">\n     <g id=\"line2d_7\">\n      <g>\n       <use style=\"stroke:#000000;stroke-width:0.8;\" x=\"662.374554\" xlink:href=\"#m6d5a7e7fb2\" y=\"348.478125\"/>\n      </g>\n     </g>\n     <g id=\"text_7\">\n      <!-- Central -->\n      <g transform=\"translate(644.169085 363.076562)scale(0.1 -0.1)\">\n       <defs>\n        <path d=\"M 4122 4306 \nL 4122 3641 \nQ 3803 3938 3442 4084 \nQ 3081 4231 2675 4231 \nQ 1875 4231 1450 3742 \nQ 1025 3253 1025 2328 \nQ 1025 1406 1450 917 \nQ 1875 428 2675 428 \nQ 3081 428 3442 575 \nQ 3803 722 4122 1019 \nL 4122 359 \nQ 3791 134 3420 21 \nQ 3050 -91 2638 -91 \nQ 1578 -91 968 557 \nQ 359 1206 359 2328 \nQ 359 3453 968 4101 \nQ 1578 4750 2638 4750 \nQ 3056 4750 3426 4639 \nQ 3797 4528 4122 4306 \nz\n\" id=\"DejaVuSans-43\" transform=\"scale(0.015625)\"/>\n       </defs>\n       <use xlink:href=\"#DejaVuSans-43\"/>\n       <use x=\"69.824219\" xlink:href=\"#DejaVuSans-65\"/>\n       <use x=\"131.347656\" xlink:href=\"#DejaVuSans-6e\"/>\n       <use x=\"194.726562\" xlink:href=\"#DejaVuSans-74\"/>\n       <use x=\"233.935547\" xlink:href=\"#DejaVuSans-72\"/>\n       <use x=\"275.048828\" xlink:href=\"#DejaVuSans-61\"/>\n       <use x=\"336.328125\" xlink:href=\"#DejaVuSans-6c\"/>\n      </g>\n     </g>\n    </g>\n    <g id=\"text_8\">\n     <!-- Regions -->\n     <g transform=\"translate(355.68125 376.754687)scale(0.1 -0.1)\">\n      <use xlink:href=\"#DejaVuSans-52\"/>\n      <use x=\"64.982422\" xlink:href=\"#DejaVuSans-65\"/>\n      <use x=\"126.505859\" xlink:href=\"#DejaVuSans-67\"/>\n      <use x=\"189.982422\" xlink:href=\"#DejaVuSans-69\"/>\n      <use x=\"217.765625\" xlink:href=\"#DejaVuSans-6f\"/>\n      <use x=\"278.947266\" xlink:href=\"#DejaVuSans-6e\"/>\n      <use x=\"342.326172\" xlink:href=\"#DejaVuSans-73\"/>\n     </g>\n    </g>\n   </g>\n   <g id=\"matplotlib.axis_2\">\n    <g id=\"ytick_1\">\n     <g id=\"line2d_8\">\n      <defs>\n       <path d=\"M 0 0 \nL -3.5 0 \n\" id=\"m94a69d325e\" style=\"stroke:#000000;stroke-width:0.8;\"/>\n      </defs>\n      <g>\n       <use style=\"stroke:#000000;stroke-width:0.8;\" x=\"40.603125\" xlink:href=\"#m94a69d325e\" y=\"348.478125\"/>\n      </g>\n     </g>\n     <g id=\"text_9\">\n      <!-- 0 -->\n      <g transform=\"translate(27.240625 352.277344)scale(0.1 -0.1)\">\n       <defs>\n        <path d=\"M 2034 4250 \nQ 1547 4250 1301 3770 \nQ 1056 3291 1056 2328 \nQ 1056 1369 1301 889 \nQ 1547 409 2034 409 \nQ 2525 409 2770 889 \nQ 3016 1369 3016 2328 \nQ 3016 3291 2770 3770 \nQ 2525 4250 2034 4250 \nz\nM 2034 4750 \nQ 2819 4750 3233 4129 \nQ 3647 3509 3647 2328 \nQ 3647 1150 3233 529 \nQ 2819 -91 2034 -91 \nQ 1250 -91 836 529 \nQ 422 1150 422 2328 \nQ 422 3509 836 4129 \nQ 1250 4750 2034 4750 \nz\n\" id=\"DejaVuSans-30\" transform=\"scale(0.015625)\"/>\n       </defs>\n       <use xlink:href=\"#DejaVuSans-30\"/>\n      </g>\n     </g>\n    </g>\n    <g id=\"ytick_2\">\n     <g id=\"line2d_9\">\n      <g>\n       <use style=\"stroke:#000000;stroke-width:0.8;\" x=\"40.603125\" xlink:href=\"#m94a69d325e\" y=\"306.501291\"/>\n      </g>\n     </g>\n     <g id=\"text_10\">\n      <!-- 10 -->\n      <g transform=\"translate(20.878125 310.30051)scale(0.1 -0.1)\">\n       <defs>\n        <path d=\"M 794 531 \nL 1825 531 \nL 1825 4091 \nL 703 3866 \nL 703 4441 \nL 1819 4666 \nL 2450 4666 \nL 2450 531 \nL 3481 531 \nL 3481 0 \nL 794 0 \nL 794 531 \nz\n\" id=\"DejaVuSans-31\" transform=\"scale(0.015625)\"/>\n       </defs>\n       <use xlink:href=\"#DejaVuSans-31\"/>\n       <use x=\"63.623047\" xlink:href=\"#DejaVuSans-30\"/>\n      </g>\n     </g>\n    </g>\n    <g id=\"ytick_3\">\n     <g id=\"line2d_10\">\n      <g>\n       <use style=\"stroke:#000000;stroke-width:0.8;\" x=\"40.603125\" xlink:href=\"#m94a69d325e\" y=\"264.524457\"/>\n      </g>\n     </g>\n     <g id=\"text_11\">\n      <!-- 20 -->\n      <g transform=\"translate(20.878125 268.323676)scale(0.1 -0.1)\">\n       <defs>\n        <path d=\"M 1228 531 \nL 3431 531 \nL 3431 0 \nL 469 0 \nL 469 531 \nQ 828 903 1448 1529 \nQ 2069 2156 2228 2338 \nQ 2531 2678 2651 2914 \nQ 2772 3150 2772 3378 \nQ 2772 3750 2511 3984 \nQ 2250 4219 1831 4219 \nQ 1534 4219 1204 4116 \nQ 875 4013 500 3803 \nL 500 4441 \nQ 881 4594 1212 4672 \nQ 1544 4750 1819 4750 \nQ 2544 4750 2975 4387 \nQ 3406 4025 3406 3419 \nQ 3406 3131 3298 2873 \nQ 3191 2616 2906 2266 \nQ 2828 2175 2409 1742 \nQ 1991 1309 1228 531 \nz\n\" id=\"DejaVuSans-32\" transform=\"scale(0.015625)\"/>\n       </defs>\n       <use xlink:href=\"#DejaVuSans-32\"/>\n       <use x=\"63.623047\" xlink:href=\"#DejaVuSans-30\"/>\n      </g>\n     </g>\n    </g>\n    <g id=\"ytick_4\">\n     <g id=\"line2d_11\">\n      <g>\n       <use style=\"stroke:#000000;stroke-width:0.8;\" x=\"40.603125\" xlink:href=\"#m94a69d325e\" y=\"222.547623\"/>\n      </g>\n     </g>\n     <g id=\"text_12\">\n      <!-- 30 -->\n      <g transform=\"translate(20.878125 226.346842)scale(0.1 -0.1)\">\n       <defs>\n        <path d=\"M 2597 2516 \nQ 3050 2419 3304 2112 \nQ 3559 1806 3559 1356 \nQ 3559 666 3084 287 \nQ 2609 -91 1734 -91 \nQ 1441 -91 1130 -33 \nQ 819 25 488 141 \nL 488 750 \nQ 750 597 1062 519 \nQ 1375 441 1716 441 \nQ 2309 441 2620 675 \nQ 2931 909 2931 1356 \nQ 2931 1769 2642 2001 \nQ 2353 2234 1838 2234 \nL 1294 2234 \nL 1294 2753 \nL 1863 2753 \nQ 2328 2753 2575 2939 \nQ 2822 3125 2822 3475 \nQ 2822 3834 2567 4026 \nQ 2313 4219 1838 4219 \nQ 1578 4219 1281 4162 \nQ 984 4106 628 3988 \nL 628 4550 \nQ 988 4650 1302 4700 \nQ 1616 4750 1894 4750 \nQ 2613 4750 3031 4423 \nQ 3450 4097 3450 3541 \nQ 3450 3153 3228 2886 \nQ 3006 2619 2597 2516 \nz\n\" id=\"DejaVuSans-33\" transform=\"scale(0.015625)\"/>\n       </defs>\n       <use xlink:href=\"#DejaVuSans-33\"/>\n       <use x=\"63.623047\" xlink:href=\"#DejaVuSans-30\"/>\n      </g>\n     </g>\n    </g>\n    <g id=\"ytick_5\">\n     <g id=\"line2d_12\">\n      <g>\n       <use style=\"stroke:#000000;stroke-width:0.8;\" x=\"40.603125\" xlink:href=\"#m94a69d325e\" y=\"180.570789\"/>\n      </g>\n     </g>\n     <g id=\"text_13\">\n      <!-- 40 -->\n      <g transform=\"translate(20.878125 184.370008)scale(0.1 -0.1)\">\n       <defs>\n        <path d=\"M 2419 4116 \nL 825 1625 \nL 2419 1625 \nL 2419 4116 \nz\nM 2253 4666 \nL 3047 4666 \nL 3047 1625 \nL 3713 1625 \nL 3713 1100 \nL 3047 1100 \nL 3047 0 \nL 2419 0 \nL 2419 1100 \nL 313 1100 \nL 313 1709 \nL 2253 4666 \nz\n\" id=\"DejaVuSans-34\" transform=\"scale(0.015625)\"/>\n       </defs>\n       <use xlink:href=\"#DejaVuSans-34\"/>\n       <use x=\"63.623047\" xlink:href=\"#DejaVuSans-30\"/>\n      </g>\n     </g>\n    </g>\n    <g id=\"ytick_6\">\n     <g id=\"line2d_13\">\n      <g>\n       <use style=\"stroke:#000000;stroke-width:0.8;\" x=\"40.603125\" xlink:href=\"#m94a69d325e\" y=\"138.593955\"/>\n      </g>\n     </g>\n     <g id=\"text_14\">\n      <!-- 50 -->\n      <g transform=\"translate(20.878125 142.393174)scale(0.1 -0.1)\">\n       <defs>\n        <path d=\"M 691 4666 \nL 3169 4666 \nL 3169 4134 \nL 1269 4134 \nL 1269 2991 \nQ 1406 3038 1543 3061 \nQ 1681 3084 1819 3084 \nQ 2600 3084 3056 2656 \nQ 3513 2228 3513 1497 \nQ 3513 744 3044 326 \nQ 2575 -91 1722 -91 \nQ 1428 -91 1123 -41 \nQ 819 9 494 109 \nL 494 744 \nQ 775 591 1075 516 \nQ 1375 441 1709 441 \nQ 2250 441 2565 725 \nQ 2881 1009 2881 1497 \nQ 2881 1984 2565 2268 \nQ 2250 2553 1709 2553 \nQ 1456 2553 1204 2497 \nQ 953 2441 691 2322 \nL 691 4666 \nz\n\" id=\"DejaVuSans-35\" transform=\"scale(0.015625)\"/>\n       </defs>\n       <use xlink:href=\"#DejaVuSans-35\"/>\n       <use x=\"63.623047\" xlink:href=\"#DejaVuSans-30\"/>\n      </g>\n     </g>\n    </g>\n    <g id=\"ytick_7\">\n     <g id=\"line2d_14\">\n      <g>\n       <use style=\"stroke:#000000;stroke-width:0.8;\" x=\"40.603125\" xlink:href=\"#m94a69d325e\" y=\"96.617121\"/>\n      </g>\n     </g>\n     <g id=\"text_15\">\n      <!-- 60 -->\n      <g transform=\"translate(20.878125 100.41634)scale(0.1 -0.1)\">\n       <defs>\n        <path d=\"M 2113 2584 \nQ 1688 2584 1439 2293 \nQ 1191 2003 1191 1497 \nQ 1191 994 1439 701 \nQ 1688 409 2113 409 \nQ 2538 409 2786 701 \nQ 3034 994 3034 1497 \nQ 3034 2003 2786 2293 \nQ 2538 2584 2113 2584 \nz\nM 3366 4563 \nL 3366 3988 \nQ 3128 4100 2886 4159 \nQ 2644 4219 2406 4219 \nQ 1781 4219 1451 3797 \nQ 1122 3375 1075 2522 \nQ 1259 2794 1537 2939 \nQ 1816 3084 2150 3084 \nQ 2853 3084 3261 2657 \nQ 3669 2231 3669 1497 \nQ 3669 778 3244 343 \nQ 2819 -91 2113 -91 \nQ 1303 -91 875 529 \nQ 447 1150 447 2328 \nQ 447 3434 972 4092 \nQ 1497 4750 2381 4750 \nQ 2619 4750 2861 4703 \nQ 3103 4656 3366 4563 \nz\n\" id=\"DejaVuSans-36\" transform=\"scale(0.015625)\"/>\n       </defs>\n       <use xlink:href=\"#DejaVuSans-36\"/>\n       <use x=\"63.623047\" xlink:href=\"#DejaVuSans-30\"/>\n      </g>\n     </g>\n    </g>\n    <g id=\"ytick_8\">\n     <g id=\"line2d_15\">\n      <g>\n       <use style=\"stroke:#000000;stroke-width:0.8;\" x=\"40.603125\" xlink:href=\"#m94a69d325e\" y=\"54.640287\"/>\n      </g>\n     </g>\n     <g id=\"text_16\">\n      <!-- 70 -->\n      <g transform=\"translate(20.878125 58.439506)scale(0.1 -0.1)\">\n       <defs>\n        <path d=\"M 525 4666 \nL 3525 4666 \nL 3525 4397 \nL 1831 0 \nL 1172 0 \nL 2766 4134 \nL 525 4134 \nL 525 4666 \nz\n\" id=\"DejaVuSans-37\" transform=\"scale(0.015625)\"/>\n       </defs>\n       <use xlink:href=\"#DejaVuSans-37\"/>\n       <use x=\"63.623047\" xlink:href=\"#DejaVuSans-30\"/>\n      </g>\n     </g>\n    </g>\n    <g id=\"text_17\">\n     <!-- count -->\n     <g transform=\"translate(14.798437 199.504375)rotate(-90)scale(0.1 -0.1)\">\n      <defs>\n       <path d=\"M 3122 3366 \nL 3122 2828 \nQ 2878 2963 2633 3030 \nQ 2388 3097 2138 3097 \nQ 1578 3097 1268 2742 \nQ 959 2388 959 1747 \nQ 959 1106 1268 751 \nQ 1578 397 2138 397 \nQ 2388 397 2633 464 \nQ 2878 531 3122 666 \nL 3122 134 \nQ 2881 22 2623 -34 \nQ 2366 -91 2075 -91 \nQ 1284 -91 818 406 \nQ 353 903 353 1747 \nQ 353 2603 823 3093 \nQ 1294 3584 2113 3584 \nQ 2378 3584 2631 3529 \nQ 2884 3475 3122 3366 \nz\n\" id=\"DejaVuSans-63\" transform=\"scale(0.015625)\"/>\n      </defs>\n      <use xlink:href=\"#DejaVuSans-63\"/>\n      <use x=\"54.980469\" xlink:href=\"#DejaVuSans-6f\"/>\n      <use x=\"116.162109\" xlink:href=\"#DejaVuSans-75\"/>\n      <use x=\"179.541016\" xlink:href=\"#DejaVuSans-6e\"/>\n      <use x=\"242.919922\" xlink:href=\"#DejaVuSans-74\"/>\n     </g>\n    </g>\n   </g>\n   <g id=\"patch_10\">\n    <path d=\"M 40.603125 348.478125 \nL 40.603125 22.318125 \n\" style=\"fill:none;stroke:#000000;stroke-linecap:square;stroke-linejoin:miter;stroke-width:0.8;\"/>\n   </g>\n   <g id=\"patch_11\">\n    <path d=\"M 710.203125 348.478125 \nL 710.203125 22.318125 \n\" style=\"fill:none;stroke:#000000;stroke-linecap:square;stroke-linejoin:miter;stroke-width:0.8;\"/>\n   </g>\n   <g id=\"patch_12\">\n    <path d=\"M 40.603125 348.478125 \nL 710.203125 348.478125 \n\" style=\"fill:none;stroke:#000000;stroke-linecap:square;stroke-linejoin:miter;stroke-width:0.8;\"/>\n   </g>\n   <g id=\"patch_13\">\n    <path d=\"M 40.603125 22.318125 \nL 710.203125 22.318125 \n\" style=\"fill:none;stroke:#000000;stroke-linecap:square;stroke-linejoin:miter;stroke-width:0.8;\"/>\n   </g>\n   <g id=\"text_18\">\n    <!-- Number of Dishes as per the regions of India -->\n    <g transform=\"translate(241.005 16.318125)scale(0.12 -0.12)\">\n     <defs>\n      <path d=\"M 3328 2828 \nQ 3544 3216 3844 3400 \nQ 4144 3584 4550 3584 \nQ 5097 3584 5394 3201 \nQ 5691 2819 5691 2113 \nL 5691 0 \nL 5113 0 \nL 5113 2094 \nQ 5113 2597 4934 2840 \nQ 4756 3084 4391 3084 \nQ 3944 3084 3684 2787 \nQ 3425 2491 3425 1978 \nL 3425 0 \nL 2847 0 \nL 2847 2094 \nQ 2847 2600 2669 2842 \nQ 2491 3084 2119 3084 \nQ 1678 3084 1418 2786 \nQ 1159 2488 1159 1978 \nL 1159 0 \nL 581 0 \nL 581 3500 \nL 1159 3500 \nL 1159 2956 \nQ 1356 3278 1631 3431 \nQ 1906 3584 2284 3584 \nQ 2666 3584 2933 3390 \nQ 3200 3197 3328 2828 \nz\n\" id=\"DejaVuSans-6d\" transform=\"scale(0.015625)\"/>\n      <path d=\"M 3116 1747 \nQ 3116 2381 2855 2742 \nQ 2594 3103 2138 3103 \nQ 1681 3103 1420 2742 \nQ 1159 2381 1159 1747 \nQ 1159 1113 1420 752 \nQ 1681 391 2138 391 \nQ 2594 391 2855 752 \nQ 3116 1113 3116 1747 \nz\nM 1159 2969 \nQ 1341 3281 1617 3432 \nQ 1894 3584 2278 3584 \nQ 2916 3584 3314 3078 \nQ 3713 2572 3713 1747 \nQ 3713 922 3314 415 \nQ 2916 -91 2278 -91 \nQ 1894 -91 1617 61 \nQ 1341 213 1159 525 \nL 1159 0 \nL 581 0 \nL 581 4863 \nL 1159 4863 \nL 1159 2969 \nz\n\" id=\"DejaVuSans-62\" transform=\"scale(0.015625)\"/>\n      <path d=\"M 2375 4863 \nL 2375 4384 \nL 1825 4384 \nQ 1516 4384 1395 4259 \nQ 1275 4134 1275 3809 \nL 1275 3500 \nL 2222 3500 \nL 2222 3053 \nL 1275 3053 \nL 1275 0 \nL 697 0 \nL 697 3053 \nL 147 3053 \nL 147 3500 \nL 697 3500 \nL 697 3744 \nQ 697 4328 969 4595 \nQ 1241 4863 1831 4863 \nL 2375 4863 \nz\n\" id=\"DejaVuSans-66\" transform=\"scale(0.015625)\"/>\n      <path d=\"M 1259 4147 \nL 1259 519 \nL 2022 519 \nQ 2988 519 3436 956 \nQ 3884 1394 3884 2338 \nQ 3884 3275 3436 3711 \nQ 2988 4147 2022 4147 \nL 1259 4147 \nz\nM 628 4666 \nL 1925 4666 \nQ 3281 4666 3915 4102 \nQ 4550 3538 4550 2338 \nQ 4550 1131 3912 565 \nQ 3275 0 1925 0 \nL 628 0 \nL 628 4666 \nz\n\" id=\"DejaVuSans-44\" transform=\"scale(0.015625)\"/>\n      <path d=\"M 1159 525 \nL 1159 -1331 \nL 581 -1331 \nL 581 3500 \nL 1159 3500 \nL 1159 2969 \nQ 1341 3281 1617 3432 \nQ 1894 3584 2278 3584 \nQ 2916 3584 3314 3078 \nQ 3713 2572 3713 1747 \nQ 3713 922 3314 415 \nQ 2916 -91 2278 -91 \nQ 1894 -91 1617 61 \nQ 1341 213 1159 525 \nz\nM 3116 1747 \nQ 3116 2381 2855 2742 \nQ 2594 3103 2138 3103 \nQ 1681 3103 1420 2742 \nQ 1159 2381 1159 1747 \nQ 1159 1113 1420 752 \nQ 1681 391 2138 391 \nQ 2594 391 2855 752 \nQ 3116 1113 3116 1747 \nz\n\" id=\"DejaVuSans-70\" transform=\"scale(0.015625)\"/>\n      <path d=\"M 628 4666 \nL 1259 4666 \nL 1259 0 \nL 628 0 \nL 628 4666 \nz\n\" id=\"DejaVuSans-49\" transform=\"scale(0.015625)\"/>\n      <path d=\"M 2906 2969 \nL 2906 4863 \nL 3481 4863 \nL 3481 0 \nL 2906 0 \nL 2906 525 \nQ 2725 213 2448 61 \nQ 2172 -91 1784 -91 \nQ 1150 -91 751 415 \nQ 353 922 353 1747 \nQ 353 2572 751 3078 \nQ 1150 3584 1784 3584 \nQ 2172 3584 2448 3432 \nQ 2725 3281 2906 2969 \nz\nM 947 1747 \nQ 947 1113 1208 752 \nQ 1469 391 1925 391 \nQ 2381 391 2643 752 \nQ 2906 1113 2906 1747 \nQ 2906 2381 2643 2742 \nQ 2381 3103 1925 3103 \nQ 1469 3103 1208 2742 \nQ 947 2381 947 1747 \nz\n\" id=\"DejaVuSans-64\" transform=\"scale(0.015625)\"/>\n     </defs>\n     <use xlink:href=\"#DejaVuSans-4e\"/>\n     <use x=\"74.804688\" xlink:href=\"#DejaVuSans-75\"/>\n     <use x=\"138.183594\" xlink:href=\"#DejaVuSans-6d\"/>\n     <use x=\"235.595703\" xlink:href=\"#DejaVuSans-62\"/>\n     <use x=\"299.072266\" xlink:href=\"#DejaVuSans-65\"/>\n     <use x=\"360.595703\" xlink:href=\"#DejaVuSans-72\"/>\n     <use x=\"401.708984\" xlink:href=\"#DejaVuSans-20\"/>\n     <use x=\"433.496094\" xlink:href=\"#DejaVuSans-6f\"/>\n     <use x=\"494.677734\" xlink:href=\"#DejaVuSans-66\"/>\n     <use x=\"529.882812\" xlink:href=\"#DejaVuSans-20\"/>\n     <use x=\"561.669922\" xlink:href=\"#DejaVuSans-44\"/>\n     <use x=\"638.671875\" xlink:href=\"#DejaVuSans-69\"/>\n     <use x=\"666.455078\" xlink:href=\"#DejaVuSans-73\"/>\n     <use x=\"718.554688\" xlink:href=\"#DejaVuSans-68\"/>\n     <use x=\"781.933594\" xlink:href=\"#DejaVuSans-65\"/>\n     <use x=\"843.457031\" xlink:href=\"#DejaVuSans-73\"/>\n     <use x=\"895.556641\" xlink:href=\"#DejaVuSans-20\"/>\n     <use x=\"927.34375\" xlink:href=\"#DejaVuSans-61\"/>\n     <use x=\"988.623047\" xlink:href=\"#DejaVuSans-73\"/>\n     <use x=\"1040.722656\" xlink:href=\"#DejaVuSans-20\"/>\n     <use x=\"1072.509766\" xlink:href=\"#DejaVuSans-70\"/>\n     <use x=\"1135.986328\" xlink:href=\"#DejaVuSans-65\"/>\n     <use x=\"1197.509766\" xlink:href=\"#DejaVuSans-72\"/>\n     <use x=\"1238.623047\" xlink:href=\"#DejaVuSans-20\"/>\n     <use x=\"1270.410156\" xlink:href=\"#DejaVuSans-74\"/>\n     <use x=\"1309.619141\" xlink:href=\"#DejaVuSans-68\"/>\n     <use x=\"1372.998047\" xlink:href=\"#DejaVuSans-65\"/>\n     <use x=\"1434.521484\" xlink:href=\"#DejaVuSans-20\"/>\n     <use x=\"1466.308594\" xlink:href=\"#DejaVuSans-72\"/>\n     <use x=\"1505.171875\" xlink:href=\"#DejaVuSans-65\"/>\n     <use x=\"1566.695312\" xlink:href=\"#DejaVuSans-67\"/>\n     <use x=\"1630.171875\" xlink:href=\"#DejaVuSans-69\"/>\n     <use x=\"1657.955078\" xlink:href=\"#DejaVuSans-6f\"/>\n     <use x=\"1719.136719\" xlink:href=\"#DejaVuSans-6e\"/>\n     <use x=\"1782.515625\" xlink:href=\"#DejaVuSans-73\"/>\n     <use x=\"1834.615234\" xlink:href=\"#DejaVuSans-20\"/>\n     <use x=\"1866.402344\" xlink:href=\"#DejaVuSans-6f\"/>\n     <use x=\"1927.583984\" xlink:href=\"#DejaVuSans-66\"/>\n     <use x=\"1962.789062\" xlink:href=\"#DejaVuSans-20\"/>\n     <use x=\"1994.576172\" xlink:href=\"#DejaVuSans-49\"/>\n     <use x=\"2024.068359\" xlink:href=\"#DejaVuSans-6e\"/>\n     <use x=\"2087.447266\" xlink:href=\"#DejaVuSans-64\"/>\n     <use x=\"2150.923828\" xlink:href=\"#DejaVuSans-69\"/>\n     <use x=\"2178.707031\" xlink:href=\"#DejaVuSans-61\"/>\n    </g>\n   </g>\n  </g>\n </g>\n <defs>\n  <clipPath id=\"pab01093719\">\n   <rect height=\"326.16\" width=\"669.6\" x=\"40.603125\" y=\"22.318125\"/>\n  </clipPath>\n </defs>\n</svg>\n",
      "image/png": "[encoded data removed]"
     },
     "metadata": {
      "needs_background": "light"
     }
    }
   ],
   "source": [
    "#plotting the number of dishes as per the region\n",
    "\n",
    "sns.countplot(data = data, x = \"region\")\n",
    "plt.title(\"Number of Dishes as per the regions of India\")\n",
    "plt.xlabel(\"Regions\")\n",
    "plt.show()"
   ]
  },
  {
   "cell_type": "code",
   "execution_count": 29,
   "metadata": {},
   "outputs": [
    {
     "output_type": "execute_result",
     "data": {
      "text/plain": [
       "array([ 45,  80,  15,  10,  20,   5,  30,  -1,  40,  25, 480, 180, 240,\n",
       "       120,  60, 500, 150, 360, 495,  70,  35,  12])"
      ]
     },
     "metadata": {},
     "execution_count": 29
    }
   ],
   "source": [
    "#getting the prep time of the dishes\n",
    "data.prep_time.unique()"
   ]
  },
  {
   "cell_type": "code",
   "execution_count": 30,
   "metadata": {},
   "outputs": [
    {
     "output_type": "execute_result",
     "data": {
      "text/plain": [
       "               name                                        ingredients  \\\n",
       "19      sohan papdi            Gram flour, ghee, sugar, milk, cardamom   \n",
       "21    chhena kheeri                                Chhena, sugar, milk   \n",
       "65      pork bharta   Boiled pork, onions, chillies, ginger and garlic   \n",
       "132  kaara kozhambu  Sesame oil, drumstick, tamarind paste, sambar ...   \n",
       "134  keerai masiyal  Urad dal, curry leaves, sugar, mustard seeds, ...   \n",
       "\n",
       "               diet  prep_time  cook_time flavor_profile       course  \\\n",
       "19       vegetarian         -1         60          sweet      dessert   \n",
       "21       vegetarian         -1         60          sweet      dessert   \n",
       "65   non-vegetarian         -1         -1          spicy  main course   \n",
       "132      vegetarian         -1         -1          spicy  main course   \n",
       "134      vegetarian         -1         -1          spicy  main course   \n",
       "\n",
       "           state      region  \n",
       "19   Maharashtra        West  \n",
       "21        Odisha        East  \n",
       "65       Tripura  North East  \n",
       "132   Tamil Nadu       South  \n",
       "134   Tamil Nadu       South  "
      ],
      "text/html": "<div>\n<style scoped>\n    .dataframe tbody tr th:only-of-type {\n        vertical-align: middle;\n    }\n\n    .dataframe tbody tr th {\n        vertical-align: top;\n    }\n\n    .dataframe thead th {\n        text-align: right;\n    }\n</style>\n<table border=\"1\" class=\"dataframe\">\n  <thead>\n    <tr style=\"text-align: right;\">\n      <th></th>\n      <th>name</th>\n      <th>ingredients</th>\n      <th>diet</th>\n      <th>prep_time</th>\n      <th>cook_time</th>\n      <th>flavor_profile</th>\n      <th>course</th>\n      <th>state</th>\n      <th>region</th>\n    </tr>\n  </thead>\n  <tbody>\n    <tr>\n      <th>19</th>\n      <td>sohan papdi</td>\n      <td>Gram flour, ghee, sugar, milk, cardamom</td>\n      <td>vegetarian</td>\n      <td>-1</td>\n      <td>60</td>\n      <td>sweet</td>\n      <td>dessert</td>\n      <td>Maharashtra</td>\n      <td>West</td>\n    </tr>\n    <tr>\n      <th>21</th>\n      <td>chhena kheeri</td>\n      <td>Chhena, sugar, milk</td>\n      <td>vegetarian</td>\n      <td>-1</td>\n      <td>60</td>\n      <td>sweet</td>\n      <td>dessert</td>\n      <td>Odisha</td>\n      <td>East</td>\n    </tr>\n    <tr>\n      <th>65</th>\n      <td>pork bharta</td>\n      <td>Boiled pork, onions, chillies, ginger and garlic</td>\n      <td>non-vegetarian</td>\n      <td>-1</td>\n      <td>-1</td>\n      <td>spicy</td>\n      <td>main course</td>\n      <td>Tripura</td>\n      <td>North East</td>\n    </tr>\n    <tr>\n      <th>132</th>\n      <td>kaara kozhambu</td>\n      <td>Sesame oil, drumstick, tamarind paste, sambar ...</td>\n      <td>vegetarian</td>\n      <td>-1</td>\n      <td>-1</td>\n      <td>spicy</td>\n      <td>main course</td>\n      <td>Tamil Nadu</td>\n      <td>South</td>\n    </tr>\n    <tr>\n      <th>134</th>\n      <td>keerai masiyal</td>\n      <td>Urad dal, curry leaves, sugar, mustard seeds, ...</td>\n      <td>vegetarian</td>\n      <td>-1</td>\n      <td>-1</td>\n      <td>spicy</td>\n      <td>main course</td>\n      <td>Tamil Nadu</td>\n      <td>South</td>\n    </tr>\n  </tbody>\n</table>\n</div>"
     },
     "metadata": {},
     "execution_count": 30
    }
   ],
   "source": [
    "data.loc[data.prep_time == -1].head()\n",
    "# will resolve later"
   ]
  },
  {
   "cell_type": "code",
   "execution_count": 31,
   "metadata": {},
   "outputs": [
    {
     "output_type": "execute_result",
     "data": {
      "text/plain": [
       "array([ 25,  30,  60,  40,  50,  20,   5,  45, 120,  35,  90,  75,  15,\n",
       "       720,  55,  -1,  10,   2,   6])"
      ]
     },
     "metadata": {},
     "execution_count": 31
    }
   ],
   "source": [
    "\n",
    "data.cook_time.unique()"
   ]
  },
  {
   "cell_type": "code",
   "execution_count": 32,
   "metadata": {},
   "outputs": [
    {
     "output_type": "execute_result",
     "data": {
      "text/plain": [
       "               name                                        ingredients  \\\n",
       "65      pork bharta   Boiled pork, onions, chillies, ginger and garlic   \n",
       "132  kaara kozhambu  Sesame oil, drumstick, tamarind paste, sambar ...   \n",
       "134  keerai masiyal  Urad dal, curry leaves, sugar, mustard seeds, ...   \n",
       "148      paravannam                           Raw rice,  jaggery, milk   \n",
       "152         poriyal       Chana dal, urad dal, beans, coconut, mustard   \n",
       "\n",
       "               diet  prep_time  cook_time flavor_profile       course  \\\n",
       "65   non-vegetarian         -1         -1          spicy  main course   \n",
       "132      vegetarian         -1         -1          spicy  main course   \n",
       "134      vegetarian         -1         -1          spicy  main course   \n",
       "148      vegetarian         -1         -1          spicy  main course   \n",
       "152      vegetarian         -1         -1          spicy  main course   \n",
       "\n",
       "          state      region  \n",
       "65      Tripura  North East  \n",
       "132  Tamil Nadu       South  \n",
       "134  Tamil Nadu       South  \n",
       "148      Kerala       South  \n",
       "152  Tamil Nadu       South  "
      ],
      "text/html": "<div>\n<style scoped>\n    .dataframe tbody tr th:only-of-type {\n        vertical-align: middle;\n    }\n\n    .dataframe tbody tr th {\n        vertical-align: top;\n    }\n\n    .dataframe thead th {\n        text-align: right;\n    }\n</style>\n<table border=\"1\" class=\"dataframe\">\n  <thead>\n    <tr style=\"text-align: right;\">\n      <th></th>\n      <th>name</th>\n      <th>ingredients</th>\n      <th>diet</th>\n      <th>prep_time</th>\n      <th>cook_time</th>\n      <th>flavor_profile</th>\n      <th>course</th>\n      <th>state</th>\n      <th>region</th>\n    </tr>\n  </thead>\n  <tbody>\n    <tr>\n      <th>65</th>\n      <td>pork bharta</td>\n      <td>Boiled pork, onions, chillies, ginger and garlic</td>\n      <td>non-vegetarian</td>\n      <td>-1</td>\n      <td>-1</td>\n      <td>spicy</td>\n      <td>main course</td>\n      <td>Tripura</td>\n      <td>North East</td>\n    </tr>\n    <tr>\n      <th>132</th>\n      <td>kaara kozhambu</td>\n      <td>Sesame oil, drumstick, tamarind paste, sambar ...</td>\n      <td>vegetarian</td>\n      <td>-1</td>\n      <td>-1</td>\n      <td>spicy</td>\n      <td>main course</td>\n      <td>Tamil Nadu</td>\n      <td>South</td>\n    </tr>\n    <tr>\n      <th>134</th>\n      <td>keerai masiyal</td>\n      <td>Urad dal, curry leaves, sugar, mustard seeds, ...</td>\n      <td>vegetarian</td>\n      <td>-1</td>\n      <td>-1</td>\n      <td>spicy</td>\n      <td>main course</td>\n      <td>Tamil Nadu</td>\n      <td>South</td>\n    </tr>\n    <tr>\n      <th>148</th>\n      <td>paravannam</td>\n      <td>Raw rice,  jaggery, milk</td>\n      <td>vegetarian</td>\n      <td>-1</td>\n      <td>-1</td>\n      <td>spicy</td>\n      <td>main course</td>\n      <td>Kerala</td>\n      <td>South</td>\n    </tr>\n    <tr>\n      <th>152</th>\n      <td>poriyal</td>\n      <td>Chana dal, urad dal, beans, coconut, mustard</td>\n      <td>vegetarian</td>\n      <td>-1</td>\n      <td>-1</td>\n      <td>spicy</td>\n      <td>main course</td>\n      <td>Tamil Nadu</td>\n      <td>South</td>\n    </tr>\n  </tbody>\n</table>\n</div>"
     },
     "metadata": {},
     "execution_count": 32
    }
   ],
   "source": [
    "data.loc[data.cook_time == -1].head()"
   ]
  },
  {
   "cell_type": "code",
   "execution_count": 33,
   "metadata": {},
   "outputs": [
    {
     "output_type": "execute_result",
     "data": {
      "text/plain": [
       "<AxesSubplot:xlabel='prep_time', ylabel='cook_time'>"
      ]
     },
     "metadata": {},
     "execution_count": 33
    },
    {
     "output_type": "display_data",
     "data": {
      "text/plain": "<Figure size 864x432 with 1 Axes>",
      "image/svg+xml": "<?xml version=\"1.0\" encoding=\"utf-8\" standalone=\"no\"?>\n<!DOCTYPE svg PUBLIC \"-//W3C//DTD SVG 1.1//EN\"\n  \"http://www.w3.org/Graphics/SVG/1.1/DTD/svg11.dtd\">\n<svg height=\"371.194375pt\" version=\"1.1\" viewBox=\"0 0 724.04375 371.194375\" width=\"724.04375pt\" xmlns=\"http://www.w3.org/2000/svg\" xmlns:xlink=\"http://www.w3.org/1999/xlink\">\n <metadata>\n  <rdf:RDF xmlns:cc=\"http://creativecommons.org/ns#\" xmlns:dc=\"http://purl.org/dc/elements/1.1/\" xmlns:rdf=\"http://www.w3.org/1999/02/22-rdf-syntax-ns#\">\n   <cc:Work>\n    <dc:type rdf:resource=\"http://purl.org/dc/dcmitype/StillImage\"/>\n    <dc:date>2021-04-25T19:57:59.680171</dc:date>\n    <dc:format>image/svg+xml</dc:format>\n    <dc:creator>\n     <cc:Agent>\n      <dc:title>Matplotlib v3.4.1, https://matplotlib.org/</dc:title>\n     </cc:Agent>\n    </dc:creator>\n   </cc:Work>\n  </rdf:RDF>\n </metadata>\n <defs>\n  <style type=\"text/css\">*{stroke-linecap:butt;stroke-linejoin:round;}</style>\n </defs>\n <g id=\"figure_1\">\n  <g id=\"patch_1\">\n   <path d=\"M 0 371.194375 \nL 724.04375 371.194375 \nL 724.04375 0 \nL 0 0 \nz\n\" style=\"fill:none;\"/>\n  </g>\n  <g id=\"axes_1\">\n   <g id=\"patch_2\">\n    <path d=\"M 47.24375 333.36 \nL 716.84375 333.36 \nL 716.84375 7.2 \nL 47.24375 7.2 \nz\n\" style=\"fill:#ffffff;\"/>\n   </g>\n   <g id=\"PathCollection_1\">\n    <defs>\n     <path d=\"M 0 3 \nC 0.795609 3 1.55874 2.683901 2.12132 2.12132 \nC 2.683901 1.55874 3 0.795609 3 -0 \nC 3 -0.795609 2.683901 -1.55874 2.12132 -2.12132 \nC 1.55874 -2.683901 0.795609 -3 0 -3 \nC -0.795609 -3 -1.55874 -2.683901 -2.12132 -2.12132 \nC -2.683901 -1.55874 -3 -0.795609 -3 0 \nC -3 0.795609 -2.683901 1.55874 -2.12132 2.12132 \nC -1.55874 2.683901 -0.795609 3 0 3 \nz\n\" id=\"C0_0_8a4b915967\"/>\n    </defs>\n    <g clip-path=\"url(#pf317509e70)\">\n     <use style=\"fill:#008000;stroke:#ffffff;stroke-width:0.48;\" x=\"133.57124\" xlink:href=\"#C0_0_8a4b915967\" y=\"307.842123\"/>\n    </g>\n    <g clip-path=\"url(#pf317509e70)\">\n     <use style=\"fill:#008000;stroke:#ffffff;stroke-width:0.48;\" x=\"176.097098\" xlink:href=\"#C0_0_8a4b915967\" y=\"305.785888\"/>\n    </g>\n    <g clip-path=\"url(#pf317509e70)\">\n     <use style=\"fill:#008000;stroke:#ffffff;stroke-width:0.48;\" x=\"97.120506\" xlink:href=\"#C0_0_8a4b915967\" y=\"293.448478\"/>\n    </g>\n    <g clip-path=\"url(#pf317509e70)\">\n     <use style=\"fill:#008000;stroke:#ffffff;stroke-width:0.48;\" x=\"97.120506\" xlink:href=\"#C0_0_8a4b915967\" y=\"305.785888\"/>\n    </g>\n    <g clip-path=\"url(#pf317509e70)\">\n     <use style=\"fill:#008000;stroke:#ffffff;stroke-width:0.48;\" x=\"97.120506\" xlink:href=\"#C0_0_8a4b915967\" y=\"301.673418\"/>\n    </g>\n    <g clip-path=\"url(#pf317509e70)\">\n     <use style=\"fill:#008000;stroke:#ffffff;stroke-width:0.48;\" x=\"91.045383\" xlink:href=\"#C0_0_8a4b915967\" y=\"297.560948\"/>\n    </g>\n    <g clip-path=\"url(#pf317509e70)\">\n     <use style=\"fill:#008000;stroke:#ffffff;stroke-width:0.48;\" x=\"91.045383\" xlink:href=\"#C0_0_8a4b915967\" y=\"297.560948\"/>\n    </g>\n    <g clip-path=\"url(#pf317509e70)\">\n     <use style=\"fill:#008000;stroke:#ffffff;stroke-width:0.48;\" x=\"91.045383\" xlink:href=\"#C0_0_8a4b915967\" y=\"309.898358\"/>\n    </g>\n    <g clip-path=\"url(#pf317509e70)\">\n     <use style=\"fill:#008000;stroke:#ffffff;stroke-width:0.48;\" x=\"103.195628\" xlink:href=\"#C0_0_8a4b915967\" y=\"305.785888\"/>\n    </g>\n    <g clip-path=\"url(#pf317509e70)\">\n     <use style=\"fill:#008000;stroke:#ffffff;stroke-width:0.48;\" x=\"91.045383\" xlink:href=\"#C0_0_8a4b915967\" y=\"301.673418\"/>\n    </g>\n    <g clip-path=\"url(#pf317509e70)\">\n     <use style=\"fill:#008000;stroke:#ffffff;stroke-width:0.48;\" x=\"91.045383\" xlink:href=\"#C0_0_8a4b915967\" y=\"301.673418\"/>\n    </g>\n    <g clip-path=\"url(#pf317509e70)\">\n     <use style=\"fill:#008000;stroke:#ffffff;stroke-width:0.48;\" x=\"84.970261\" xlink:href=\"#C0_0_8a4b915967\" y=\"316.067063\"/>\n    </g>\n    <g clip-path=\"url(#pf317509e70)\">\n     <use style=\"fill:#008000;stroke:#ffffff;stroke-width:0.48;\" x=\"103.195628\" xlink:href=\"#C0_0_8a4b915967\" y=\"305.785888\"/>\n    </g>\n    <g clip-path=\"url(#pf317509e70)\">\n     <use style=\"fill:#008000;stroke:#ffffff;stroke-width:0.48;\" x=\"91.045383\" xlink:href=\"#C0_0_8a4b915967\" y=\"305.785888\"/>\n    </g>\n    <g clip-path=\"url(#pf317509e70)\">\n     <use style=\"fill:#008000;stroke:#ffffff;stroke-width:0.48;\" x=\"115.345873\" xlink:href=\"#C0_0_8a4b915967\" y=\"309.898358\"/>\n    </g>\n    <g clip-path=\"url(#pf317509e70)\">\n     <use style=\"fill:#008000;stroke:#ffffff;stroke-width:0.48;\" x=\"91.045383\" xlink:href=\"#C0_0_8a4b915967\" y=\"299.617183\"/>\n    </g>\n    <g clip-path=\"url(#pf317509e70)\">\n     <use style=\"fill:#008000;stroke:#ffffff;stroke-width:0.48;\" x=\"91.045383\" xlink:href=\"#C0_0_8a4b915967\" y=\"307.842123\"/>\n    </g>\n    <g clip-path=\"url(#pf317509e70)\">\n     <use style=\"fill:#008000;stroke:#ffffff;stroke-width:0.48;\" x=\"91.045383\" xlink:href=\"#C0_0_8a4b915967\" y=\"309.898358\"/>\n    </g>\n    <g clip-path=\"url(#pf317509e70)\">\n     <use style=\"fill:#008000;stroke:#ffffff;stroke-width:0.48;\" x=\"91.045383\" xlink:href=\"#C0_0_8a4b915967\" y=\"293.448478\"/>\n    </g>\n    <g clip-path=\"url(#pf317509e70)\">\n     <use style=\"fill:#008000;stroke:#ffffff;stroke-width:0.48;\" x=\"77.680114\" xlink:href=\"#C0_0_8a4b915967\" y=\"293.448478\"/>\n    </g>\n    <g clip-path=\"url(#pf317509e70)\">\n     <use style=\"fill:#008000;stroke:#ffffff;stroke-width:0.48;\" x=\"91.045383\" xlink:href=\"#C0_0_8a4b915967\" y=\"297.560948\"/>\n    </g>\n    <g clip-path=\"url(#pf317509e70)\">\n     <use style=\"fill:#008000;stroke:#ffffff;stroke-width:0.48;\" x=\"77.680114\" xlink:href=\"#C0_0_8a4b915967\" y=\"293.448478\"/>\n    </g>\n    <g clip-path=\"url(#pf317509e70)\">\n     <use style=\"fill:#008000;stroke:#ffffff;stroke-width:0.48;\" x=\"91.045383\" xlink:href=\"#C0_0_8a4b915967\" y=\"299.617183\"/>\n    </g>\n    <g clip-path=\"url(#pf317509e70)\">\n     <use style=\"fill:#008000;stroke:#ffffff;stroke-width:0.48;\" x=\"127.496118\" xlink:href=\"#C0_0_8a4b915967\" y=\"293.448478\"/>\n    </g>\n    <g clip-path=\"url(#pf317509e70)\">\n     <use style=\"fill:#008000;stroke:#ffffff;stroke-width:0.48;\" x=\"109.270751\" xlink:href=\"#C0_0_8a4b915967\" y=\"293.448478\"/>\n    </g>\n    <g clip-path=\"url(#pf317509e70)\">\n     <use style=\"fill:#008000;stroke:#ffffff;stroke-width:0.48;\" x=\"133.57124\" xlink:href=\"#C0_0_8a4b915967\" y=\"299.617183\"/>\n    </g>\n    <g clip-path=\"url(#pf317509e70)\">\n     <use style=\"fill:#008000;stroke:#ffffff;stroke-width:0.48;\" x=\"103.195628\" xlink:href=\"#C0_0_8a4b915967\" y=\"305.785888\"/>\n    </g>\n    <g clip-path=\"url(#pf317509e70)\">\n     <use style=\"fill:#008000;stroke:#ffffff;stroke-width:0.48;\" x=\"91.045383\" xlink:href=\"#C0_0_8a4b915967\" y=\"268.773658\"/>\n    </g>\n    <g clip-path=\"url(#pf317509e70)\">\n     <use style=\"fill:#008000;stroke:#ffffff;stroke-width:0.48;\" x=\"97.120506\" xlink:href=\"#C0_0_8a4b915967\" y=\"305.785888\"/>\n    </g>\n    <g clip-path=\"url(#pf317509e70)\">\n     <use style=\"fill:#008000;stroke:#ffffff;stroke-width:0.48;\" x=\"662.106896\" xlink:href=\"#C0_0_8a4b915967\" y=\"305.785888\"/>\n    </g>\n    <g clip-path=\"url(#pf317509e70)\">\n     <use style=\"fill:#008000;stroke:#ffffff;stroke-width:0.48;\" x=\"133.57124\" xlink:href=\"#C0_0_8a4b915967\" y=\"299.617183\"/>\n    </g>\n    <g clip-path=\"url(#pf317509e70)\">\n     <use style=\"fill:#008000;stroke:#ffffff;stroke-width:0.48;\" x=\"97.120506\" xlink:href=\"#C0_0_8a4b915967\" y=\"303.729653\"/>\n    </g>\n    <g clip-path=\"url(#pf317509e70)\">\n     <use style=\"fill:#008000;stroke:#ffffff;stroke-width:0.48;\" x=\"97.120506\" xlink:href=\"#C0_0_8a4b915967\" y=\"305.785888\"/>\n    </g>\n    <g clip-path=\"url(#pf317509e70)\">\n     <use style=\"fill:#008000;stroke:#ffffff;stroke-width:0.48;\" x=\"297.599547\" xlink:href=\"#C0_0_8a4b915967\" y=\"293.448478\"/>\n    </g>\n    <g clip-path=\"url(#pf317509e70)\">\n     <use style=\"fill:#008000;stroke:#ffffff;stroke-width:0.48;\" x=\"91.045383\" xlink:href=\"#C0_0_8a4b915967\" y=\"281.111068\"/>\n    </g>\n    <g clip-path=\"url(#pf317509e70)\">\n     <use style=\"fill:#008000;stroke:#ffffff;stroke-width:0.48;\" x=\"115.345873\" xlink:href=\"#C0_0_8a4b915967\" y=\"309.898358\"/>\n    </g>\n    <g clip-path=\"url(#pf317509e70)\">\n     <use style=\"fill:#008000;stroke:#ffffff;stroke-width:0.48;\" x=\"91.045383\" xlink:href=\"#C0_0_8a4b915967\" y=\"297.560948\"/>\n    </g>\n    <g clip-path=\"url(#pf317509e70)\">\n     <use style=\"fill:#008000;stroke:#ffffff;stroke-width:0.48;\" x=\"97.120506\" xlink:href=\"#C0_0_8a4b915967\" y=\"287.279773\"/>\n    </g>\n    <g clip-path=\"url(#pf317509e70)\">\n     <use style=\"fill:#008000;stroke:#ffffff;stroke-width:0.48;\" x=\"84.970261\" xlink:href=\"#C0_0_8a4b915967\" y=\"303.729653\"/>\n    </g>\n    <g clip-path=\"url(#pf317509e70)\">\n     <use style=\"fill:#008000;stroke:#ffffff;stroke-width:0.48;\" x=\"91.045383\" xlink:href=\"#C0_0_8a4b915967\" y=\"309.898358\"/>\n    </g>\n    <g clip-path=\"url(#pf317509e70)\">\n     <use style=\"fill:#008000;stroke:#ffffff;stroke-width:0.48;\" x=\"103.195628\" xlink:href=\"#C0_0_8a4b915967\" y=\"293.448478\"/>\n    </g>\n    <g clip-path=\"url(#pf317509e70)\">\n     <use style=\"fill:#008000;stroke:#ffffff;stroke-width:0.48;\" x=\"103.195628\" xlink:href=\"#C0_0_8a4b915967\" y=\"305.785888\"/>\n    </g>\n    <g clip-path=\"url(#pf317509e70)\">\n     <use style=\"fill:#008000;stroke:#ffffff;stroke-width:0.48;\" x=\"91.045383\" xlink:href=\"#C0_0_8a4b915967\" y=\"305.785888\"/>\n    </g>\n    <g clip-path=\"url(#pf317509e70)\">\n     <use style=\"fill:#008000;stroke:#ffffff;stroke-width:0.48;\" x=\"91.045383\" xlink:href=\"#C0_0_8a4b915967\" y=\"305.785888\"/>\n    </g>\n    <g clip-path=\"url(#pf317509e70)\">\n     <use style=\"fill:#008000;stroke:#ffffff;stroke-width:0.48;\" x=\"91.045383\" xlink:href=\"#C0_0_8a4b915967\" y=\"309.898358\"/>\n    </g>\n    <g clip-path=\"url(#pf317509e70)\">\n     <use style=\"fill:#008000;stroke:#ffffff;stroke-width:0.48;\" x=\"84.970261\" xlink:href=\"#C0_0_8a4b915967\" y=\"309.898358\"/>\n    </g>\n    <g clip-path=\"url(#pf317509e70)\">\n     <use style=\"fill:#008000;stroke:#ffffff;stroke-width:0.48;\" x=\"297.599547\" xlink:href=\"#C0_0_8a4b915967\" y=\"293.448478\"/>\n    </g>\n    <g clip-path=\"url(#pf317509e70)\">\n     <use style=\"fill:#008000;stroke:#ffffff;stroke-width:0.48;\" x=\"91.045383\" xlink:href=\"#C0_0_8a4b915967\" y=\"307.842123\"/>\n    </g>\n    <g clip-path=\"url(#pf317509e70)\">\n     <use style=\"fill:#008000;stroke:#ffffff;stroke-width:0.48;\" x=\"370.501017\" xlink:href=\"#C0_0_8a4b915967\" y=\"293.448478\"/>\n    </g>\n    <g clip-path=\"url(#pf317509e70)\">\n     <use style=\"fill:#008000;stroke:#ffffff;stroke-width:0.48;\" x=\"84.970261\" xlink:href=\"#C0_0_8a4b915967\" y=\"309.898358\"/>\n    </g>\n    <g clip-path=\"url(#pf317509e70)\">\n     <use style=\"fill:#008000;stroke:#ffffff;stroke-width:0.48;\" x=\"91.045383\" xlink:href=\"#C0_0_8a4b915967\" y=\"293.448478\"/>\n    </g>\n    <g clip-path=\"url(#pf317509e70)\">\n     <use style=\"fill:#008000;stroke:#ffffff;stroke-width:0.48;\" x=\"91.045383\" xlink:href=\"#C0_0_8a4b915967\" y=\"309.898358\"/>\n    </g>\n    <g clip-path=\"url(#pf317509e70)\">\n     <use style=\"fill:#008000;stroke:#ffffff;stroke-width:0.48;\" x=\"91.045383\" xlink:href=\"#C0_0_8a4b915967\" y=\"309.898358\"/>\n    </g>\n    <g clip-path=\"url(#pf317509e70)\">\n     <use style=\"fill:#008000;stroke:#ffffff;stroke-width:0.48;\" x=\"91.045383\" xlink:href=\"#C0_0_8a4b915967\" y=\"309.898358\"/>\n    </g>\n    <g clip-path=\"url(#pf317509e70)\">\n     <use style=\"fill:#008000;stroke:#ffffff;stroke-width:0.48;\" x=\"127.496118\" xlink:href=\"#C0_0_8a4b915967\" y=\"311.954593\"/>\n    </g>\n    <g clip-path=\"url(#pf317509e70)\">\n     <use style=\"fill:#008000;stroke:#ffffff;stroke-width:0.48;\" x=\"91.045383\" xlink:href=\"#C0_0_8a4b915967\" y=\"297.560948\"/>\n    </g>\n    <g clip-path=\"url(#pf317509e70)\">\n     <use style=\"fill:#008000;stroke:#ffffff;stroke-width:0.48;\" x=\"91.045383\" xlink:href=\"#C0_0_8a4b915967\" y=\"303.729653\"/>\n    </g>\n    <g clip-path=\"url(#pf317509e70)\">\n     <use style=\"fill:#008000;stroke:#ffffff;stroke-width:0.48;\" x=\"91.045383\" xlink:href=\"#C0_0_8a4b915967\" y=\"297.560948\"/>\n    </g>\n    <g clip-path=\"url(#pf317509e70)\">\n     <use style=\"fill:#008000;stroke:#ffffff;stroke-width:0.48;\" x=\"91.045383\" xlink:href=\"#C0_0_8a4b915967\" y=\"293.448478\"/>\n    </g>\n    <g clip-path=\"url(#pf317509e70)\">\n     <use style=\"fill:#008000;stroke:#ffffff;stroke-width:0.48;\" x=\"91.045383\" xlink:href=\"#C0_0_8a4b915967\" y=\"307.842123\"/>\n    </g>\n    <g clip-path=\"url(#pf317509e70)\">\n     <use style=\"fill:#008000;stroke:#ffffff;stroke-width:0.48;\" x=\"91.045383\" xlink:href=\"#C0_0_8a4b915967\" y=\"311.954593\"/>\n    </g>\n    <g clip-path=\"url(#pf317509e70)\">\n     <use style=\"fill:#008000;stroke:#ffffff;stroke-width:0.48;\" x=\"91.045383\" xlink:href=\"#C0_0_8a4b915967\" y=\"303.729653\"/>\n    </g>\n    <g clip-path=\"url(#pf317509e70)\">\n     <use style=\"fill:#008000;stroke:#ffffff;stroke-width:0.48;\" x=\"91.045383\" xlink:href=\"#C0_0_8a4b915967\" y=\"22.025455\"/>\n    </g>\n    <g clip-path=\"url(#pf317509e70)\">\n     <use style=\"fill:#008000;stroke:#ffffff;stroke-width:0.48;\" x=\"97.120506\" xlink:href=\"#C0_0_8a4b915967\" y=\"295.504713\"/>\n    </g>\n    <g clip-path=\"url(#pf317509e70)\">\n     <use style=\"fill:#ff0000;stroke:#ffffff;stroke-width:0.48;\" x=\"91.045383\" xlink:href=\"#C0_0_8a4b915967\" y=\"301.673418\"/>\n    </g>\n    <g clip-path=\"url(#pf317509e70)\">\n     <use style=\"fill:#ff0000;stroke:#ffffff;stroke-width:0.48;\" x=\"77.680114\" xlink:href=\"#C0_0_8a4b915967\" y=\"318.534545\"/>\n    </g>\n    <g clip-path=\"url(#pf317509e70)\">\n     <use style=\"fill:#008000;stroke:#ffffff;stroke-width:0.48;\" x=\"370.501017\" xlink:href=\"#C0_0_8a4b915967\" y=\"299.617183\"/>\n    </g>\n    <g clip-path=\"url(#pf317509e70)\">\n     <use style=\"fill:#ff0000;stroke:#ffffff;stroke-width:0.48;\" x=\"84.970261\" xlink:href=\"#C0_0_8a4b915967\" y=\"311.954593\"/>\n    </g>\n    <g clip-path=\"url(#pf317509e70)\">\n     <use style=\"fill:#008000;stroke:#ffffff;stroke-width:0.48;\" x=\"91.045383\" xlink:href=\"#C0_0_8a4b915967\" y=\"309.898358\"/>\n    </g>\n    <g clip-path=\"url(#pf317509e70)\">\n     <use style=\"fill:#008000;stroke:#ffffff;stroke-width:0.48;\" x=\"84.970261\" xlink:href=\"#C0_0_8a4b915967\" y=\"309.898358\"/>\n    </g>\n    <g clip-path=\"url(#pf317509e70)\">\n     <use style=\"fill:#008000;stroke:#ffffff;stroke-width:0.48;\" x=\"84.970261\" xlink:href=\"#C0_0_8a4b915967\" y=\"301.673418\"/>\n    </g>\n    <g clip-path=\"url(#pf317509e70)\">\n     <use style=\"fill:#008000;stroke:#ffffff;stroke-width:0.48;\" x=\"91.045383\" xlink:href=\"#C0_0_8a4b915967\" y=\"301.673418\"/>\n    </g>\n    <g clip-path=\"url(#pf317509e70)\">\n     <use style=\"fill:#008000;stroke:#ffffff;stroke-width:0.48;\" x=\"91.045383\" xlink:href=\"#C0_0_8a4b915967\" y=\"301.673418\"/>\n    </g>\n    <g clip-path=\"url(#pf317509e70)\">\n     <use style=\"fill:#008000;stroke:#ffffff;stroke-width:0.48;\" x=\"103.195628\" xlink:href=\"#C0_0_8a4b915967\" y=\"309.898358\"/>\n    </g>\n    <g clip-path=\"url(#pf317509e70)\">\n     <use style=\"fill:#008000;stroke:#ffffff;stroke-width:0.48;\" x=\"103.195628\" xlink:href=\"#C0_0_8a4b915967\" y=\"305.785888\"/>\n    </g>\n    <g clip-path=\"url(#pf317509e70)\">\n     <use style=\"fill:#ff0000;stroke:#ffffff;stroke-width:0.48;\" x=\"115.345873\" xlink:href=\"#C0_0_8a4b915967\" y=\"268.773658\"/>\n    </g>\n    <g clip-path=\"url(#pf317509e70)\">\n     <use style=\"fill:#ff0000;stroke:#ffffff;stroke-width:0.48;\" x=\"91.045383\" xlink:href=\"#C0_0_8a4b915967\" y=\"303.729653\"/>\n    </g>\n    <g clip-path=\"url(#pf317509e70)\">\n     <use style=\"fill:#008000;stroke:#ffffff;stroke-width:0.48;\" x=\"103.195628\" xlink:href=\"#C0_0_8a4b915967\" y=\"305.785888\"/>\n    </g>\n    <g clip-path=\"url(#pf317509e70)\">\n     <use style=\"fill:#008000;stroke:#ffffff;stroke-width:0.48;\" x=\"91.045383\" xlink:href=\"#C0_0_8a4b915967\" y=\"314.010828\"/>\n    </g>\n    <g clip-path=\"url(#pf317509e70)\">\n     <use style=\"fill:#ff0000;stroke:#ffffff;stroke-width:0.48;\" x=\"91.045383\" xlink:href=\"#C0_0_8a4b915967\" y=\"303.729653\"/>\n    </g>\n    <g clip-path=\"url(#pf317509e70)\">\n     <use style=\"fill:#ff0000;stroke:#ffffff;stroke-width:0.48;\" x=\"91.045383\" xlink:href=\"#C0_0_8a4b915967\" y=\"297.560948\"/>\n    </g>\n    <g clip-path=\"url(#pf317509e70)\">\n     <use style=\"fill:#ff0000;stroke:#ffffff;stroke-width:0.48;\" x=\"224.698078\" xlink:href=\"#C0_0_8a4b915967\" y=\"299.617183\"/>\n    </g>\n    <g clip-path=\"url(#pf317509e70)\">\n     <use style=\"fill:#008000;stroke:#ffffff;stroke-width:0.48;\" x=\"103.195628\" xlink:href=\"#C0_0_8a4b915967\" y=\"305.785888\"/>\n    </g>\n    <g clip-path=\"url(#pf317509e70)\">\n     <use style=\"fill:#008000;stroke:#ffffff;stroke-width:0.48;\" x=\"91.045383\" xlink:href=\"#C0_0_8a4b915967\" y=\"281.111068\"/>\n    </g>\n    <g clip-path=\"url(#pf317509e70)\">\n     <use style=\"fill:#008000;stroke:#ffffff;stroke-width:0.48;\" x=\"115.345873\" xlink:href=\"#C0_0_8a4b915967\" y=\"305.785888\"/>\n    </g>\n    <g clip-path=\"url(#pf317509e70)\">\n     <use style=\"fill:#008000;stroke:#ffffff;stroke-width:0.48;\" x=\"91.045383\" xlink:href=\"#C0_0_8a4b915967\" y=\"293.448478\"/>\n    </g>\n    <g clip-path=\"url(#pf317509e70)\">\n     <use style=\"fill:#008000;stroke:#ffffff;stroke-width:0.48;\" x=\"91.045383\" xlink:href=\"#C0_0_8a4b915967\" y=\"305.785888\"/>\n    </g>\n    <g clip-path=\"url(#pf317509e70)\">\n     <use style=\"fill:#008000;stroke:#ffffff;stroke-width:0.48;\" x=\"103.195628\" xlink:href=\"#C0_0_8a4b915967\" y=\"297.560948\"/>\n    </g>\n    <g clip-path=\"url(#pf317509e70)\">\n     <use style=\"fill:#008000;stroke:#ffffff;stroke-width:0.48;\" x=\"103.195628\" xlink:href=\"#C0_0_8a4b915967\" y=\"305.785888\"/>\n    </g>\n    <g clip-path=\"url(#pf317509e70)\">\n     <use style=\"fill:#008000;stroke:#ffffff;stroke-width:0.48;\" x=\"91.045383\" xlink:href=\"#C0_0_8a4b915967\" y=\"293.448478\"/>\n    </g>\n    <g clip-path=\"url(#pf317509e70)\">\n     <use style=\"fill:#008000;stroke:#ffffff;stroke-width:0.48;\" x=\"115.345873\" xlink:href=\"#C0_0_8a4b915967\" y=\"293.448478\"/>\n    </g>\n    <g clip-path=\"url(#pf317509e70)\">\n     <use style=\"fill:#008000;stroke:#ffffff;stroke-width:0.48;\" x=\"103.195628\" xlink:href=\"#C0_0_8a4b915967\" y=\"305.785888\"/>\n    </g>\n    <g clip-path=\"url(#pf317509e70)\">\n     <use style=\"fill:#008000;stroke:#ffffff;stroke-width:0.48;\" x=\"91.045383\" xlink:href=\"#C0_0_8a4b915967\" y=\"293.448478\"/>\n    </g>\n    <g clip-path=\"url(#pf317509e70)\">\n     <use style=\"fill:#008000;stroke:#ffffff;stroke-width:0.48;\" x=\"103.195628\" xlink:href=\"#C0_0_8a4b915967\" y=\"297.560948\"/>\n    </g>\n    <g clip-path=\"url(#pf317509e70)\">\n     <use style=\"fill:#008000;stroke:#ffffff;stroke-width:0.48;\" x=\"127.496118\" xlink:href=\"#C0_0_8a4b915967\" y=\"309.898358\"/>\n    </g>\n    <g clip-path=\"url(#pf317509e70)\">\n     <use style=\"fill:#008000;stroke:#ffffff;stroke-width:0.48;\" x=\"103.195628\" xlink:href=\"#C0_0_8a4b915967\" y=\"301.673418\"/>\n    </g>\n    <g clip-path=\"url(#pf317509e70)\">\n     <use style=\"fill:#008000;stroke:#ffffff;stroke-width:0.48;\" x=\"133.57124\" xlink:href=\"#C0_0_8a4b915967\" y=\"307.842123\"/>\n    </g>\n    <g clip-path=\"url(#pf317509e70)\">\n     <use style=\"fill:#008000;stroke:#ffffff;stroke-width:0.48;\" x=\"103.195628\" xlink:href=\"#C0_0_8a4b915967\" y=\"301.673418\"/>\n    </g>\n    <g clip-path=\"url(#pf317509e70)\">\n     <use style=\"fill:#008000;stroke:#ffffff;stroke-width:0.48;\" x=\"91.045383\" xlink:href=\"#C0_0_8a4b915967\" y=\"309.898358\"/>\n    </g>\n    <g clip-path=\"url(#pf317509e70)\">\n     <use style=\"fill:#008000;stroke:#ffffff;stroke-width:0.48;\" x=\"133.57124\" xlink:href=\"#C0_0_8a4b915967\" y=\"293.448478\"/>\n    </g>\n    <g clip-path=\"url(#pf317509e70)\">\n     <use style=\"fill:#008000;stroke:#ffffff;stroke-width:0.48;\" x=\"109.270751\" xlink:href=\"#C0_0_8a4b915967\" y=\"305.785888\"/>\n    </g>\n    <g clip-path=\"url(#pf317509e70)\">\n     <use style=\"fill:#008000;stroke:#ffffff;stroke-width:0.48;\" x=\"115.345873\" xlink:href=\"#C0_0_8a4b915967\" y=\"305.785888\"/>\n    </g>\n    <g clip-path=\"url(#pf317509e70)\">\n     <use style=\"fill:#008000;stroke:#ffffff;stroke-width:0.48;\" x=\"91.045383\" xlink:href=\"#C0_0_8a4b915967\" y=\"305.785888\"/>\n    </g>\n    <g clip-path=\"url(#pf317509e70)\">\n     <use style=\"fill:#008000;stroke:#ffffff;stroke-width:0.48;\" x=\"91.045383\" xlink:href=\"#C0_0_8a4b915967\" y=\"305.785888\"/>\n    </g>\n    <g clip-path=\"url(#pf317509e70)\">\n     <use style=\"fill:#008000;stroke:#ffffff;stroke-width:0.48;\" x=\"151.796608\" xlink:href=\"#C0_0_8a4b915967\" y=\"305.785888\"/>\n    </g>\n    <g clip-path=\"url(#pf317509e70)\">\n     <use style=\"fill:#008000;stroke:#ffffff;stroke-width:0.48;\" x=\"109.270751\" xlink:href=\"#C0_0_8a4b915967\" y=\"301.673418\"/>\n    </g>\n    <g clip-path=\"url(#pf317509e70)\">\n     <use style=\"fill:#008000;stroke:#ffffff;stroke-width:0.48;\" x=\"103.195628\" xlink:href=\"#C0_0_8a4b915967\" y=\"301.673418\"/>\n    </g>\n    <g clip-path=\"url(#pf317509e70)\">\n     <use style=\"fill:#008000;stroke:#ffffff;stroke-width:0.48;\" x=\"103.195628\" xlink:href=\"#C0_0_8a4b915967\" y=\"301.673418\"/>\n    </g>\n    <g clip-path=\"url(#pf317509e70)\">\n     <use style=\"fill:#008000;stroke:#ffffff;stroke-width:0.48;\" x=\"103.195628\" xlink:href=\"#C0_0_8a4b915967\" y=\"301.673418\"/>\n    </g>\n    <g clip-path=\"url(#pf317509e70)\">\n     <use style=\"fill:#008000;stroke:#ffffff;stroke-width:0.48;\" x=\"97.120506\" xlink:href=\"#C0_0_8a4b915967\" y=\"317.300804\"/>\n    </g>\n    <g clip-path=\"url(#pf317509e70)\">\n     <use style=\"fill:#008000;stroke:#ffffff;stroke-width:0.48;\" x=\"91.045383\" xlink:href=\"#C0_0_8a4b915967\" y=\"307.842123\"/>\n    </g>\n    <g clip-path=\"url(#pf317509e70)\">\n     <use style=\"fill:#008000;stroke:#ffffff;stroke-width:0.48;\" x=\"84.970261\" xlink:href=\"#C0_0_8a4b915967\" y=\"316.067063\"/>\n    </g>\n    <g clip-path=\"url(#pf317509e70)\">\n     <use style=\"fill:#008000;stroke:#ffffff;stroke-width:0.48;\" x=\"97.120506\" xlink:href=\"#C0_0_8a4b915967\" y=\"299.617183\"/>\n    </g>\n    <g clip-path=\"url(#pf317509e70)\">\n     <use style=\"fill:#008000;stroke:#ffffff;stroke-width:0.48;\" x=\"91.045383\" xlink:href=\"#C0_0_8a4b915967\" y=\"305.785888\"/>\n    </g>\n    <g clip-path=\"url(#pf317509e70)\">\n     <use style=\"fill:#008000;stroke:#ffffff;stroke-width:0.48;\" x=\"686.407386\" xlink:href=\"#C0_0_8a4b915967\" y=\"268.773658\"/>\n    </g>\n    <g clip-path=\"url(#pf317509e70)\">\n     <use style=\"fill:#008000;stroke:#ffffff;stroke-width:0.48;\" x=\"97.120506\" xlink:href=\"#C0_0_8a4b915967\" y=\"281.111068\"/>\n    </g>\n    <g clip-path=\"url(#pf317509e70)\">\n     <use style=\"fill:#008000;stroke:#ffffff;stroke-width:0.48;\" x=\"91.045383\" xlink:href=\"#C0_0_8a4b915967\" y=\"305.785888\"/>\n    </g>\n    <g clip-path=\"url(#pf317509e70)\">\n     <use style=\"fill:#008000;stroke:#ffffff;stroke-width:0.48;\" x=\"115.345873\" xlink:href=\"#C0_0_8a4b915967\" y=\"305.785888\"/>\n    </g>\n    <g clip-path=\"url(#pf317509e70)\">\n     <use style=\"fill:#008000;stroke:#ffffff;stroke-width:0.48;\" x=\"91.045383\" xlink:href=\"#C0_0_8a4b915967\" y=\"309.898358\"/>\n    </g>\n    <g clip-path=\"url(#pf317509e70)\">\n     <use style=\"fill:#008000;stroke:#ffffff;stroke-width:0.48;\" x=\"103.195628\" xlink:href=\"#C0_0_8a4b915967\" y=\"301.673418\"/>\n    </g>\n    <g clip-path=\"url(#pf317509e70)\">\n     <use style=\"fill:#008000;stroke:#ffffff;stroke-width:0.48;\" x=\"91.045383\" xlink:href=\"#C0_0_8a4b915967\" y=\"305.785888\"/>\n    </g>\n    <g clip-path=\"url(#pf317509e70)\">\n     <use style=\"fill:#008000;stroke:#ffffff;stroke-width:0.48;\" x=\"91.045383\" xlink:href=\"#C0_0_8a4b915967\" y=\"305.785888\"/>\n    </g>\n    <g clip-path=\"url(#pf317509e70)\">\n     <use style=\"fill:#ff0000;stroke:#ffffff;stroke-width:0.48;\" x=\"370.501017\" xlink:href=\"#C0_0_8a4b915967\" y=\"305.785888\"/>\n    </g>\n    <g clip-path=\"url(#pf317509e70)\">\n     <use style=\"fill:#ff0000;stroke:#ffffff;stroke-width:0.48;\" x=\"370.501017\" xlink:href=\"#C0_0_8a4b915967\" y=\"305.785888\"/>\n    </g>\n    <g clip-path=\"url(#pf317509e70)\">\n     <use style=\"fill:#008000;stroke:#ffffff;stroke-width:0.48;\" x=\"261.148813\" xlink:href=\"#C0_0_8a4b915967\" y=\"307.842123\"/>\n    </g>\n    <g clip-path=\"url(#pf317509e70)\">\n     <use style=\"fill:#008000;stroke:#ffffff;stroke-width:0.48;\" x=\"115.345873\" xlink:href=\"#C0_0_8a4b915967\" y=\"299.617183\"/>\n    </g>\n    <g clip-path=\"url(#pf317509e70)\">\n     <use style=\"fill:#008000;stroke:#ffffff;stroke-width:0.48;\" x=\"115.345873\" xlink:href=\"#C0_0_8a4b915967\" y=\"299.617183\"/>\n    </g>\n    <g clip-path=\"url(#pf317509e70)\">\n     <use style=\"fill:#008000;stroke:#ffffff;stroke-width:0.48;\" x=\"91.045383\" xlink:href=\"#C0_0_8a4b915967\" y=\"309.898358\"/>\n    </g>\n    <g clip-path=\"url(#pf317509e70)\">\n     <use style=\"fill:#008000;stroke:#ffffff;stroke-width:0.48;\" x=\"516.303957\" xlink:href=\"#C0_0_8a4b915967\" y=\"281.111068\"/>\n    </g>\n    <g clip-path=\"url(#pf317509e70)\">\n     <use style=\"fill:#008000;stroke:#ffffff;stroke-width:0.48;\" x=\"224.698078\" xlink:href=\"#C0_0_8a4b915967\" y=\"305.785888\"/>\n    </g>\n    <g clip-path=\"url(#pf317509e70)\">\n     <use style=\"fill:#008000;stroke:#ffffff;stroke-width:0.48;\" x=\"516.303957\" xlink:href=\"#C0_0_8a4b915967\" y=\"281.111068\"/>\n    </g>\n    <g clip-path=\"url(#pf317509e70)\">\n     <use style=\"fill:#008000;stroke:#ffffff;stroke-width:0.48;\" x=\"91.045383\" xlink:href=\"#C0_0_8a4b915967\" y=\"299.617183\"/>\n    </g>\n    <g clip-path=\"url(#pf317509e70)\">\n     <use style=\"fill:#008000;stroke:#ffffff;stroke-width:0.48;\" x=\"77.680114\" xlink:href=\"#C0_0_8a4b915967\" y=\"318.534545\"/>\n    </g>\n    <g clip-path=\"url(#pf317509e70)\">\n     <use style=\"fill:#008000;stroke:#ffffff;stroke-width:0.48;\" x=\"103.195628\" xlink:href=\"#C0_0_8a4b915967\" y=\"305.785888\"/>\n    </g>\n    <g clip-path=\"url(#pf317509e70)\">\n     <use style=\"fill:#008000;stroke:#ffffff;stroke-width:0.48;\" x=\"77.680114\" xlink:href=\"#C0_0_8a4b915967\" y=\"318.534545\"/>\n    </g>\n    <g clip-path=\"url(#pf317509e70)\">\n     <use style=\"fill:#008000;stroke:#ffffff;stroke-width:0.48;\" x=\"91.045383\" xlink:href=\"#C0_0_8a4b915967\" y=\"309.898358\"/>\n    </g>\n    <g clip-path=\"url(#pf317509e70)\">\n     <use style=\"fill:#008000;stroke:#ffffff;stroke-width:0.48;\" x=\"103.195628\" xlink:href=\"#C0_0_8a4b915967\" y=\"305.785888\"/>\n    </g>\n    <g clip-path=\"url(#pf317509e70)\">\n     <use style=\"fill:#ff0000;stroke:#ffffff;stroke-width:0.48;\" x=\"91.045383\" xlink:href=\"#C0_0_8a4b915967\" y=\"293.448478\"/>\n    </g>\n    <g clip-path=\"url(#pf317509e70)\">\n     <use style=\"fill:#008000;stroke:#ffffff;stroke-width:0.48;\" x=\"91.045383\" xlink:href=\"#C0_0_8a4b915967\" y=\"311.954593\"/>\n    </g>\n    <g clip-path=\"url(#pf317509e70)\">\n     <use style=\"fill:#008000;stroke:#ffffff;stroke-width:0.48;\" x=\"91.045383\" xlink:href=\"#C0_0_8a4b915967\" y=\"309.898358\"/>\n    </g>\n    <g clip-path=\"url(#pf317509e70)\">\n     <use style=\"fill:#008000;stroke:#ffffff;stroke-width:0.48;\" x=\"91.045383\" xlink:href=\"#C0_0_8a4b915967\" y=\"309.898358\"/>\n    </g>\n    <g clip-path=\"url(#pf317509e70)\">\n     <use style=\"fill:#008000;stroke:#ffffff;stroke-width:0.48;\" x=\"91.045383\" xlink:href=\"#C0_0_8a4b915967\" y=\"309.898358\"/>\n    </g>\n    <g clip-path=\"url(#pf317509e70)\">\n     <use style=\"fill:#008000;stroke:#ffffff;stroke-width:0.48;\" x=\"91.045383\" xlink:href=\"#C0_0_8a4b915967\" y=\"281.111068\"/>\n    </g>\n    <g clip-path=\"url(#pf317509e70)\">\n     <use style=\"fill:#008000;stroke:#ffffff;stroke-width:0.48;\" x=\"84.970261\" xlink:href=\"#C0_0_8a4b915967\" y=\"305.785888\"/>\n    </g>\n    <g clip-path=\"url(#pf317509e70)\">\n     <use style=\"fill:#008000;stroke:#ffffff;stroke-width:0.48;\" x=\"516.303957\" xlink:href=\"#C0_0_8a4b915967\" y=\"281.111068\"/>\n    </g>\n    <g clip-path=\"url(#pf317509e70)\">\n     <use style=\"fill:#008000;stroke:#ffffff;stroke-width:0.48;\" x=\"91.045383\" xlink:href=\"#C0_0_8a4b915967\" y=\"307.842123\"/>\n    </g>\n    <g clip-path=\"url(#pf317509e70)\">\n     <use style=\"fill:#008000;stroke:#ffffff;stroke-width:0.48;\" x=\"91.045383\" xlink:href=\"#C0_0_8a4b915967\" y=\"309.898358\"/>\n    </g>\n    <g clip-path=\"url(#pf317509e70)\">\n     <use style=\"fill:#008000;stroke:#ffffff;stroke-width:0.48;\" x=\"84.970261\" xlink:href=\"#C0_0_8a4b915967\" y=\"316.067063\"/>\n    </g>\n    <g clip-path=\"url(#pf317509e70)\">\n     <use style=\"fill:#008000;stroke:#ffffff;stroke-width:0.48;\" x=\"77.680114\" xlink:href=\"#C0_0_8a4b915967\" y=\"318.534545\"/>\n    </g>\n    <g clip-path=\"url(#pf317509e70)\">\n     <use style=\"fill:#008000;stroke:#ffffff;stroke-width:0.48;\" x=\"97.120506\" xlink:href=\"#C0_0_8a4b915967\" y=\"305.785888\"/>\n    </g>\n    <g clip-path=\"url(#pf317509e70)\">\n     <use style=\"fill:#008000;stroke:#ffffff;stroke-width:0.48;\" x=\"91.045383\" xlink:href=\"#C0_0_8a4b915967\" y=\"309.898358\"/>\n    </g>\n    <g clip-path=\"url(#pf317509e70)\">\n     <use style=\"fill:#008000;stroke:#ffffff;stroke-width:0.48;\" x=\"224.698078\" xlink:href=\"#C0_0_8a4b915967\" y=\"309.898358\"/>\n    </g>\n    <g clip-path=\"url(#pf317509e70)\">\n     <use style=\"fill:#008000;stroke:#ffffff;stroke-width:0.48;\" x=\"77.680114\" xlink:href=\"#C0_0_8a4b915967\" y=\"318.534545\"/>\n    </g>\n    <g clip-path=\"url(#pf317509e70)\">\n     <use style=\"fill:#008000;stroke:#ffffff;stroke-width:0.48;\" x=\"91.045383\" xlink:href=\"#C0_0_8a4b915967\" y=\"309.898358\"/>\n    </g>\n    <g clip-path=\"url(#pf317509e70)\">\n     <use style=\"fill:#008000;stroke:#ffffff;stroke-width:0.48;\" x=\"91.045383\" xlink:href=\"#C0_0_8a4b915967\" y=\"303.729653\"/>\n    </g>\n    <g clip-path=\"url(#pf317509e70)\">\n     <use style=\"fill:#008000;stroke:#ffffff;stroke-width:0.48;\" x=\"680.332264\" xlink:href=\"#C0_0_8a4b915967\" y=\"301.673418\"/>\n    </g>\n    <g clip-path=\"url(#pf317509e70)\">\n     <use style=\"fill:#008000;stroke:#ffffff;stroke-width:0.48;\" x=\"103.195628\" xlink:href=\"#C0_0_8a4b915967\" y=\"299.617183\"/>\n    </g>\n    <g clip-path=\"url(#pf317509e70)\">\n     <use style=\"fill:#008000;stroke:#ffffff;stroke-width:0.48;\" x=\"224.698078\" xlink:href=\"#C0_0_8a4b915967\" y=\"293.448478\"/>\n    </g>\n    <g clip-path=\"url(#pf317509e70)\">\n     <use style=\"fill:#008000;stroke:#ffffff;stroke-width:0.48;\" x=\"224.698078\" xlink:href=\"#C0_0_8a4b915967\" y=\"305.785888\"/>\n    </g>\n    <g clip-path=\"url(#pf317509e70)\">\n     <use style=\"fill:#008000;stroke:#ffffff;stroke-width:0.48;\" x=\"91.045383\" xlink:href=\"#C0_0_8a4b915967\" y=\"309.898358\"/>\n    </g>\n    <g clip-path=\"url(#pf317509e70)\">\n     <use style=\"fill:#008000;stroke:#ffffff;stroke-width:0.48;\" x=\"97.120506\" xlink:href=\"#C0_0_8a4b915967\" y=\"309.898358\"/>\n    </g>\n    <g clip-path=\"url(#pf317509e70)\">\n     <use style=\"fill:#008000;stroke:#ffffff;stroke-width:0.48;\" x=\"91.045383\" xlink:href=\"#C0_0_8a4b915967\" y=\"309.898358\"/>\n    </g>\n    <g clip-path=\"url(#pf317509e70)\">\n     <use style=\"fill:#008000;stroke:#ffffff;stroke-width:0.48;\" x=\"97.120506\" xlink:href=\"#C0_0_8a4b915967\" y=\"309.898358\"/>\n    </g>\n    <g clip-path=\"url(#pf317509e70)\">\n     <use style=\"fill:#ff0000;stroke:#ffffff;stroke-width:0.48;\" x=\"91.045383\" xlink:href=\"#C0_0_8a4b915967\" y=\"303.729653\"/>\n    </g>\n    <g clip-path=\"url(#pf317509e70)\">\n     <use style=\"fill:#008000;stroke:#ffffff;stroke-width:0.48;\" x=\"91.045383\" xlink:href=\"#C0_0_8a4b915967\" y=\"309.898358\"/>\n    </g>\n    <g clip-path=\"url(#pf317509e70)\">\n     <use style=\"fill:#008000;stroke:#ffffff;stroke-width:0.48;\" x=\"91.045383\" xlink:href=\"#C0_0_8a4b915967\" y=\"299.617183\"/>\n    </g>\n    <g clip-path=\"url(#pf317509e70)\">\n     <use style=\"fill:#008000;stroke:#ffffff;stroke-width:0.48;\" x=\"91.045383\" xlink:href=\"#C0_0_8a4b915967\" y=\"307.842123\"/>\n    </g>\n    <g clip-path=\"url(#pf317509e70)\">\n     <use style=\"fill:#ff0000;stroke:#ffffff;stroke-width:0.48;\" x=\"77.680114\" xlink:href=\"#C0_0_8a4b915967\" y=\"318.534545\"/>\n    </g>\n    <g clip-path=\"url(#pf317509e70)\">\n     <use style=\"fill:#008000;stroke:#ffffff;stroke-width:0.48;\" x=\"103.195628\" xlink:href=\"#C0_0_8a4b915967\" y=\"301.673418\"/>\n    </g>\n    <g clip-path=\"url(#pf317509e70)\">\n     <use style=\"fill:#008000;stroke:#ffffff;stroke-width:0.48;\" x=\"91.045383\" xlink:href=\"#C0_0_8a4b915967\" y=\"314.010828\"/>\n    </g>\n    <g clip-path=\"url(#pf317509e70)\">\n     <use style=\"fill:#008000;stroke:#ffffff;stroke-width:0.48;\" x=\"103.195628\" xlink:href=\"#C0_0_8a4b915967\" y=\"305.785888\"/>\n    </g>\n    <g clip-path=\"url(#pf317509e70)\">\n     <use style=\"fill:#008000;stroke:#ffffff;stroke-width:0.48;\" x=\"103.195628\" xlink:href=\"#C0_0_8a4b915967\" y=\"307.842123\"/>\n    </g>\n    <g clip-path=\"url(#pf317509e70)\">\n     <use style=\"fill:#ff0000;stroke:#ffffff;stroke-width:0.48;\" x=\"77.680114\" xlink:href=\"#C0_0_8a4b915967\" y=\"318.534545\"/>\n    </g>\n    <g clip-path=\"url(#pf317509e70)\">\n     <use style=\"fill:#008000;stroke:#ffffff;stroke-width:0.48;\" x=\"91.045383\" xlink:href=\"#C0_0_8a4b915967\" y=\"301.673418\"/>\n    </g>\n    <g clip-path=\"url(#pf317509e70)\">\n     <use style=\"fill:#008000;stroke:#ffffff;stroke-width:0.48;\" x=\"103.195628\" xlink:href=\"#C0_0_8a4b915967\" y=\"305.785888\"/>\n    </g>\n    <g clip-path=\"url(#pf317509e70)\">\n     <use style=\"fill:#008000;stroke:#ffffff;stroke-width:0.48;\" x=\"84.970261\" xlink:href=\"#C0_0_8a4b915967\" y=\"311.954593\"/>\n    </g>\n    <g clip-path=\"url(#pf317509e70)\">\n     <use style=\"fill:#008000;stroke:#ffffff;stroke-width:0.48;\" x=\"103.195628\" xlink:href=\"#C0_0_8a4b915967\" y=\"305.785888\"/>\n    </g>\n    <g clip-path=\"url(#pf317509e70)\">\n     <use style=\"fill:#008000;stroke:#ffffff;stroke-width:0.48;\" x=\"103.195628\" xlink:href=\"#C0_0_8a4b915967\" y=\"305.785888\"/>\n    </g>\n    <g clip-path=\"url(#pf317509e70)\">\n     <use style=\"fill:#008000;stroke:#ffffff;stroke-width:0.48;\" x=\"115.345873\" xlink:href=\"#C0_0_8a4b915967\" y=\"314.010828\"/>\n    </g>\n    <g clip-path=\"url(#pf317509e70)\">\n     <use style=\"fill:#008000;stroke:#ffffff;stroke-width:0.48;\" x=\"115.345873\" xlink:href=\"#C0_0_8a4b915967\" y=\"305.785888\"/>\n    </g>\n    <g clip-path=\"url(#pf317509e70)\">\n     <use style=\"fill:#008000;stroke:#ffffff;stroke-width:0.48;\" x=\"84.970261\" xlink:href=\"#C0_0_8a4b915967\" y=\"309.898358\"/>\n    </g>\n    <g clip-path=\"url(#pf317509e70)\">\n     <use style=\"fill:#008000;stroke:#ffffff;stroke-width:0.48;\" x=\"91.045383\" xlink:href=\"#C0_0_8a4b915967\" y=\"309.898358\"/>\n    </g>\n    <g clip-path=\"url(#pf317509e70)\">\n     <use style=\"fill:#008000;stroke:#ffffff;stroke-width:0.48;\" x=\"97.120506\" xlink:href=\"#C0_0_8a4b915967\" y=\"305.785888\"/>\n    </g>\n    <g clip-path=\"url(#pf317509e70)\">\n     <use style=\"fill:#008000;stroke:#ffffff;stroke-width:0.48;\" x=\"91.045383\" xlink:href=\"#C0_0_8a4b915967\" y=\"309.898358\"/>\n    </g>\n    <g clip-path=\"url(#pf317509e70)\">\n     <use style=\"fill:#008000;stroke:#ffffff;stroke-width:0.48;\" x=\"91.045383\" xlink:href=\"#C0_0_8a4b915967\" y=\"309.898358\"/>\n    </g>\n    <g clip-path=\"url(#pf317509e70)\">\n     <use style=\"fill:#008000;stroke:#ffffff;stroke-width:0.48;\" x=\"77.680114\" xlink:href=\"#C0_0_8a4b915967\" y=\"318.534545\"/>\n    </g>\n    <g clip-path=\"url(#pf317509e70)\">\n     <use style=\"fill:#008000;stroke:#ffffff;stroke-width:0.48;\" x=\"103.195628\" xlink:href=\"#C0_0_8a4b915967\" y=\"305.785888\"/>\n    </g>\n    <g clip-path=\"url(#pf317509e70)\">\n     <use style=\"fill:#008000;stroke:#ffffff;stroke-width:0.48;\" x=\"77.680114\" xlink:href=\"#C0_0_8a4b915967\" y=\"318.534545\"/>\n    </g>\n    <g clip-path=\"url(#pf317509e70)\">\n     <use style=\"fill:#008000;stroke:#ffffff;stroke-width:0.48;\" x=\"91.045383\" xlink:href=\"#C0_0_8a4b915967\" y=\"305.785888\"/>\n    </g>\n    <g clip-path=\"url(#pf317509e70)\">\n     <use style=\"fill:#008000;stroke:#ffffff;stroke-width:0.48;\" x=\"91.045383\" xlink:href=\"#C0_0_8a4b915967\" y=\"301.673418\"/>\n    </g>\n    <g clip-path=\"url(#pf317509e70)\">\n     <use style=\"fill:#008000;stroke:#ffffff;stroke-width:0.48;\" x=\"91.045383\" xlink:href=\"#C0_0_8a4b915967\" y=\"314.010828\"/>\n    </g>\n    <g clip-path=\"url(#pf317509e70)\">\n     <use style=\"fill:#008000;stroke:#ffffff;stroke-width:0.48;\" x=\"103.195628\" xlink:href=\"#C0_0_8a4b915967\" y=\"301.673418\"/>\n    </g>\n    <g clip-path=\"url(#pf317509e70)\">\n     <use style=\"fill:#008000;stroke:#ffffff;stroke-width:0.48;\" x=\"103.195628\" xlink:href=\"#C0_0_8a4b915967\" y=\"299.617183\"/>\n    </g>\n    <g clip-path=\"url(#pf317509e70)\">\n     <use style=\"fill:#008000;stroke:#ffffff;stroke-width:0.48;\" x=\"91.045383\" xlink:href=\"#C0_0_8a4b915967\" y=\"307.842123\"/>\n    </g>\n    <g clip-path=\"url(#pf317509e70)\">\n     <use style=\"fill:#008000;stroke:#ffffff;stroke-width:0.48;\" x=\"91.045383\" xlink:href=\"#C0_0_8a4b915967\" y=\"301.673418\"/>\n    </g>\n    <g clip-path=\"url(#pf317509e70)\">\n     <use style=\"fill:#008000;stroke:#ffffff;stroke-width:0.48;\" x=\"91.045383\" xlink:href=\"#C0_0_8a4b915967\" y=\"314.010828\"/>\n    </g>\n    <g clip-path=\"url(#pf317509e70)\">\n     <use style=\"fill:#008000;stroke:#ffffff;stroke-width:0.48;\" x=\"97.120506\" xlink:href=\"#C0_0_8a4b915967\" y=\"305.785888\"/>\n    </g>\n    <g clip-path=\"url(#pf317509e70)\">\n     <use style=\"fill:#008000;stroke:#ffffff;stroke-width:0.48;\" x=\"84.970261\" xlink:href=\"#C0_0_8a4b915967\" y=\"299.617183\"/>\n    </g>\n    <g clip-path=\"url(#pf317509e70)\">\n     <use style=\"fill:#008000;stroke:#ffffff;stroke-width:0.48;\" x=\"97.120506\" xlink:href=\"#C0_0_8a4b915967\" y=\"305.785888\"/>\n    </g>\n    <g clip-path=\"url(#pf317509e70)\">\n     <use style=\"fill:#008000;stroke:#ffffff;stroke-width:0.48;\" x=\"91.045383\" xlink:href=\"#C0_0_8a4b915967\" y=\"301.673418\"/>\n    </g>\n    <g clip-path=\"url(#pf317509e70)\">\n     <use style=\"fill:#008000;stroke:#ffffff;stroke-width:0.48;\" x=\"103.195628\" xlink:href=\"#C0_0_8a4b915967\" y=\"301.673418\"/>\n    </g>\n    <g clip-path=\"url(#pf317509e70)\">\n     <use style=\"fill:#008000;stroke:#ffffff;stroke-width:0.48;\" x=\"91.045383\" xlink:href=\"#C0_0_8a4b915967\" y=\"305.785888\"/>\n    </g>\n    <g clip-path=\"url(#pf317509e70)\">\n     <use style=\"fill:#008000;stroke:#ffffff;stroke-width:0.48;\" x=\"163.946853\" xlink:href=\"#C0_0_8a4b915967\" y=\"305.785888\"/>\n    </g>\n    <g clip-path=\"url(#pf317509e70)\">\n     <use style=\"fill:#008000;stroke:#ffffff;stroke-width:0.48;\" x=\"103.195628\" xlink:href=\"#C0_0_8a4b915967\" y=\"305.785888\"/>\n    </g>\n    <g clip-path=\"url(#pf317509e70)\">\n     <use style=\"fill:#008000;stroke:#ffffff;stroke-width:0.48;\" x=\"103.195628\" xlink:href=\"#C0_0_8a4b915967\" y=\"305.785888\"/>\n    </g>\n    <g clip-path=\"url(#pf317509e70)\">\n     <use style=\"fill:#008000;stroke:#ffffff;stroke-width:0.48;\" x=\"91.045383\" xlink:href=\"#C0_0_8a4b915967\" y=\"303.729653\"/>\n    </g>\n    <g clip-path=\"url(#pf317509e70)\">\n     <use style=\"fill:#008000;stroke:#ffffff;stroke-width:0.48;\" x=\"91.045383\" xlink:href=\"#C0_0_8a4b915967\" y=\"309.898358\"/>\n    </g>\n    <g clip-path=\"url(#pf317509e70)\">\n     <use style=\"fill:#008000;stroke:#ffffff;stroke-width:0.48;\" x=\"151.796608\" xlink:href=\"#C0_0_8a4b915967\" y=\"314.010828\"/>\n    </g>\n    <g clip-path=\"url(#pf317509e70)\">\n     <use style=\"fill:#008000;stroke:#ffffff;stroke-width:0.48;\" x=\"109.270751\" xlink:href=\"#C0_0_8a4b915967\" y=\"305.785888\"/>\n    </g>\n    <g clip-path=\"url(#pf317509e70)\">\n     <use style=\"fill:#008000;stroke:#ffffff;stroke-width:0.48;\" x=\"109.270751\" xlink:href=\"#C0_0_8a4b915967\" y=\"293.448478\"/>\n    </g>\n    <g clip-path=\"url(#pf317509e70)\">\n     <use style=\"fill:#008000;stroke:#ffffff;stroke-width:0.48;\" x=\"103.195628\" xlink:href=\"#C0_0_8a4b915967\" y=\"305.785888\"/>\n    </g>\n    <g clip-path=\"url(#pf317509e70)\">\n     <use style=\"fill:#ff0000;stroke:#ffffff;stroke-width:0.48;\" x=\"91.045383\" xlink:href=\"#C0_0_8a4b915967\" y=\"301.673418\"/>\n    </g>\n    <g clip-path=\"url(#pf317509e70)\">\n     <use style=\"fill:#008000;stroke:#ffffff;stroke-width:0.48;\" x=\"115.345873\" xlink:href=\"#C0_0_8a4b915967\" y=\"315.655816\"/>\n    </g>\n    <g clip-path=\"url(#pf317509e70)\">\n     <use style=\"fill:#008000;stroke:#ffffff;stroke-width:0.48;\" x=\"77.680114\" xlink:href=\"#C0_0_8a4b915967\" y=\"318.534545\"/>\n    </g>\n    <g clip-path=\"url(#pf317509e70)\">\n     <use style=\"fill:#008000;stroke:#ffffff;stroke-width:0.48;\" x=\"84.970261\" xlink:href=\"#C0_0_8a4b915967\" y=\"314.010828\"/>\n    </g>\n    <g clip-path=\"url(#pf317509e70)\">\n     <use style=\"fill:#008000;stroke:#ffffff;stroke-width:0.48;\" x=\"97.120506\" xlink:href=\"#C0_0_8a4b915967\" y=\"305.785888\"/>\n    </g>\n    <g clip-path=\"url(#pf317509e70)\">\n     <use style=\"fill:#008000;stroke:#ffffff;stroke-width:0.48;\" x=\"77.680114\" xlink:href=\"#C0_0_8a4b915967\" y=\"318.534545\"/>\n    </g>\n    <g clip-path=\"url(#pf317509e70)\">\n     <use style=\"fill:#008000;stroke:#ffffff;stroke-width:0.48;\" x=\"91.045383\" xlink:href=\"#C0_0_8a4b915967\" y=\"309.898358\"/>\n    </g>\n    <g clip-path=\"url(#pf317509e70)\">\n     <use style=\"fill:#008000;stroke:#ffffff;stroke-width:0.48;\" x=\"121.420996\" xlink:href=\"#C0_0_8a4b915967\" y=\"301.673418\"/>\n    </g>\n    <g clip-path=\"url(#pf317509e70)\">\n     <use style=\"fill:#008000;stroke:#ffffff;stroke-width:0.48;\" x=\"93.475432\" xlink:href=\"#C0_0_8a4b915967\" y=\"301.673418\"/>\n    </g>\n    <g clip-path=\"url(#pf317509e70)\">\n     <use style=\"fill:#008000;stroke:#ffffff;stroke-width:0.48;\" x=\"77.680114\" xlink:href=\"#C0_0_8a4b915967\" y=\"318.534545\"/>\n    </g>\n    <g clip-path=\"url(#pf317509e70)\">\n     <use style=\"fill:#008000;stroke:#ffffff;stroke-width:0.48;\" x=\"91.045383\" xlink:href=\"#C0_0_8a4b915967\" y=\"305.785888\"/>\n    </g>\n    <g clip-path=\"url(#pf317509e70)\">\n     <use style=\"fill:#008000;stroke:#ffffff;stroke-width:0.48;\" x=\"91.045383\" xlink:href=\"#C0_0_8a4b915967\" y=\"309.898358\"/>\n    </g>\n    <g clip-path=\"url(#pf317509e70)\">\n     <use style=\"fill:#ff0000;stroke:#ffffff;stroke-width:0.48;\" x=\"77.680114\" xlink:href=\"#C0_0_8a4b915967\" y=\"318.534545\"/>\n    </g>\n    <g clip-path=\"url(#pf317509e70)\">\n     <use style=\"fill:#008000;stroke:#ffffff;stroke-width:0.48;\" x=\"103.195628\" xlink:href=\"#C0_0_8a4b915967\" y=\"305.785888\"/>\n    </g>\n    <g clip-path=\"url(#pf317509e70)\">\n     <use style=\"fill:#ff0000;stroke:#ffffff;stroke-width:0.48;\" x=\"84.970261\" xlink:href=\"#C0_0_8a4b915967\" y=\"309.898358\"/>\n    </g>\n    <g clip-path=\"url(#pf317509e70)\">\n     <use style=\"fill:#ff0000;stroke:#ffffff;stroke-width:0.48;\" x=\"97.120506\" xlink:href=\"#C0_0_8a4b915967\" y=\"307.842123\"/>\n    </g>\n    <g clip-path=\"url(#pf317509e70)\">\n     <use style=\"fill:#008000;stroke:#ffffff;stroke-width:0.48;\" x=\"77.680114\" xlink:href=\"#C0_0_8a4b915967\" y=\"318.534545\"/>\n    </g>\n    <g clip-path=\"url(#pf317509e70)\">\n     <use style=\"fill:#ff0000;stroke:#ffffff;stroke-width:0.48;\" x=\"91.045383\" xlink:href=\"#C0_0_8a4b915967\" y=\"309.898358\"/>\n    </g>\n    <g clip-path=\"url(#pf317509e70)\">\n     <use style=\"fill:#ff0000;stroke:#ffffff;stroke-width:0.48;\" x=\"77.680114\" xlink:href=\"#C0_0_8a4b915967\" y=\"318.534545\"/>\n    </g>\n    <g clip-path=\"url(#pf317509e70)\">\n     <use style=\"fill:#008000;stroke:#ffffff;stroke-width:0.48;\" x=\"77.680114\" xlink:href=\"#C0_0_8a4b915967\" y=\"318.534545\"/>\n    </g>\n    <g clip-path=\"url(#pf317509e70)\">\n     <use style=\"fill:#008000;stroke:#ffffff;stroke-width:0.48;\" x=\"97.120506\" xlink:href=\"#C0_0_8a4b915967\" y=\"307.842123\"/>\n    </g>\n    <g clip-path=\"url(#pf317509e70)\">\n     <use style=\"fill:#ff0000;stroke:#ffffff;stroke-width:0.48;\" x=\"91.045383\" xlink:href=\"#C0_0_8a4b915967\" y=\"301.673418\"/>\n    </g>\n    <g clip-path=\"url(#pf317509e70)\">\n     <use style=\"fill:#008000;stroke:#ffffff;stroke-width:0.48;\" x=\"103.195628\" xlink:href=\"#C0_0_8a4b915967\" y=\"293.448478\"/>\n    </g>\n    <g clip-path=\"url(#pf317509e70)\">\n     <use style=\"fill:#008000;stroke:#ffffff;stroke-width:0.48;\" x=\"77.680114\" xlink:href=\"#C0_0_8a4b915967\" y=\"318.534545\"/>\n    </g>\n    <g clip-path=\"url(#pf317509e70)\">\n     <use style=\"fill:#ff0000;stroke:#ffffff;stroke-width:0.48;\" x=\"103.195628\" xlink:href=\"#C0_0_8a4b915967\" y=\"301.673418\"/>\n    </g>\n    <g clip-path=\"url(#pf317509e70)\">\n     <use style=\"fill:#ff0000;stroke:#ffffff;stroke-width:0.48;\" x=\"97.120506\" xlink:href=\"#C0_0_8a4b915967\" y=\"305.785888\"/>\n    </g>\n    <g clip-path=\"url(#pf317509e70)\">\n     <use style=\"fill:#ff0000;stroke:#ffffff;stroke-width:0.48;\" x=\"77.680114\" xlink:href=\"#C0_0_8a4b915967\" y=\"318.534545\"/>\n    </g>\n    <g clip-path=\"url(#pf317509e70)\">\n     <use style=\"fill:#008000;stroke:#ffffff;stroke-width:0.48;\" x=\"77.680114\" xlink:href=\"#C0_0_8a4b915967\" y=\"318.534545\"/>\n    </g>\n    <g clip-path=\"url(#pf317509e70)\">\n     <use style=\"fill:#ff0000;stroke:#ffffff;stroke-width:0.48;\" x=\"77.680114\" xlink:href=\"#C0_0_8a4b915967\" y=\"318.534545\"/>\n    </g>\n    <g clip-path=\"url(#pf317509e70)\">\n     <use style=\"fill:#ff0000;stroke:#ffffff;stroke-width:0.48;\" x=\"77.680114\" xlink:href=\"#C0_0_8a4b915967\" y=\"318.534545\"/>\n    </g>\n    <g clip-path=\"url(#pf317509e70)\">\n     <use style=\"fill:#ff0000;stroke:#ffffff;stroke-width:0.48;\" x=\"77.680114\" xlink:href=\"#C0_0_8a4b915967\" y=\"318.534545\"/>\n    </g>\n    <g clip-path=\"url(#pf317509e70)\">\n     <use style=\"fill:#ff0000;stroke:#ffffff;stroke-width:0.48;\" x=\"77.680114\" xlink:href=\"#C0_0_8a4b915967\" y=\"318.534545\"/>\n    </g>\n    <g clip-path=\"url(#pf317509e70)\">\n     <use style=\"fill:#008000;stroke:#ffffff;stroke-width:0.48;\" x=\"91.045383\" xlink:href=\"#C0_0_8a4b915967\" y=\"305.785888\"/>\n    </g>\n    <g clip-path=\"url(#pf317509e70)\">\n     <use style=\"fill:#008000;stroke:#ffffff;stroke-width:0.48;\" x=\"77.680114\" xlink:href=\"#C0_0_8a4b915967\" y=\"318.534545\"/>\n    </g>\n    <g clip-path=\"url(#pf317509e70)\">\n     <use style=\"fill:#008000;stroke:#ffffff;stroke-width:0.48;\" x=\"91.045383\" xlink:href=\"#C0_0_8a4b915967\" y=\"309.898358\"/>\n    </g>\n    <g clip-path=\"url(#pf317509e70)\">\n     <use style=\"fill:#008000;stroke:#ffffff;stroke-width:0.48;\" x=\"77.680114\" xlink:href=\"#C0_0_8a4b915967\" y=\"318.534545\"/>\n    </g>\n    <g clip-path=\"url(#pf317509e70)\">\n     <use style=\"fill:#ff0000;stroke:#ffffff;stroke-width:0.48;\" x=\"97.120506\" xlink:href=\"#C0_0_8a4b915967\" y=\"297.560948\"/>\n    </g>\n    <g clip-path=\"url(#pf317509e70)\">\n     <use style=\"fill:#008000;stroke:#ffffff;stroke-width:0.48;\" x=\"77.680114\" xlink:href=\"#C0_0_8a4b915967\" y=\"318.534545\"/>\n    </g>\n    <g clip-path=\"url(#pf317509e70)\">\n     <use style=\"fill:#008000;stroke:#ffffff;stroke-width:0.48;\" x=\"91.045383\" xlink:href=\"#C0_0_8a4b915967\" y=\"309.898358\"/>\n    </g>\n    <g clip-path=\"url(#pf317509e70)\">\n     <use style=\"fill:#008000;stroke:#ffffff;stroke-width:0.48;\" x=\"84.970261\" xlink:href=\"#C0_0_8a4b915967\" y=\"305.785888\"/>\n    </g>\n    <g clip-path=\"url(#pf317509e70)\">\n     <use style=\"fill:#008000;stroke:#ffffff;stroke-width:0.48;\" x=\"103.195628\" xlink:href=\"#C0_0_8a4b915967\" y=\"293.448478\"/>\n    </g>\n    <g clip-path=\"url(#pf317509e70)\">\n     <use style=\"fill:#008000;stroke:#ffffff;stroke-width:0.48;\" x=\"77.680114\" xlink:href=\"#C0_0_8a4b915967\" y=\"318.534545\"/>\n    </g>\n    <g clip-path=\"url(#pf317509e70)\">\n     <use style=\"fill:#008000;stroke:#ffffff;stroke-width:0.48;\" x=\"103.195628\" xlink:href=\"#C0_0_8a4b915967\" y=\"299.617183\"/>\n    </g>\n    <g clip-path=\"url(#pf317509e70)\">\n     <use style=\"fill:#008000;stroke:#ffffff;stroke-width:0.48;\" x=\"77.680114\" xlink:href=\"#C0_0_8a4b915967\" y=\"318.534545\"/>\n    </g>\n   </g>\n   <g id=\"PathCollection_2\"/>\n   <g id=\"PathCollection_3\"/>\n   <g id=\"matplotlib.axis_1\">\n    <g id=\"xtick_1\">\n     <g id=\"line2d_1\">\n      <defs>\n       <path d=\"M 0 0 \nL 0 3.5 \n\" id=\"mf5efbb6c6a\" style=\"stroke:#000000;stroke-width:0.8;\"/>\n      </defs>\n      <g>\n       <use style=\"stroke:#000000;stroke-width:0.8;\" x=\"78.895138\" xlink:href=\"#mf5efbb6c6a\" y=\"333.36\"/>\n      </g>\n     </g>\n     <g id=\"text_1\">\n      <!-- 0 -->\n      <g transform=\"translate(75.713888 347.958438)scale(0.1 -0.1)\">\n       <defs>\n        <path d=\"M 2034 4250 \nQ 1547 4250 1301 3770 \nQ 1056 3291 1056 2328 \nQ 1056 1369 1301 889 \nQ 1547 409 2034 409 \nQ 2525 409 2770 889 \nQ 3016 1369 3016 2328 \nQ 3016 3291 2770 3770 \nQ 2525 4250 2034 4250 \nz\nM 2034 4750 \nQ 2819 4750 3233 4129 \nQ 3647 3509 3647 2328 \nQ 3647 1150 3233 529 \nQ 2819 -91 2034 -91 \nQ 1250 -91 836 529 \nQ 422 1150 422 2328 \nQ 422 3509 836 4129 \nQ 1250 4750 2034 4750 \nz\n\" id=\"DejaVuSans-30\" transform=\"scale(0.015625)\"/>\n       </defs>\n       <use xlink:href=\"#DejaVuSans-30\"/>\n      </g>\n     </g>\n    </g>\n    <g id=\"xtick_2\">\n     <g id=\"line2d_2\">\n      <g>\n       <use style=\"stroke:#000000;stroke-width:0.8;\" x=\"200.397588\" xlink:href=\"#mf5efbb6c6a\" y=\"333.36\"/>\n      </g>\n     </g>\n     <g id=\"text_2\">\n      <!-- 100 -->\n      <g transform=\"translate(190.853838 347.958438)scale(0.1 -0.1)\">\n       <defs>\n        <path d=\"M 794 531 \nL 1825 531 \nL 1825 4091 \nL 703 3866 \nL 703 4441 \nL 1819 4666 \nL 2450 4666 \nL 2450 531 \nL 3481 531 \nL 3481 0 \nL 794 0 \nL 794 531 \nz\n\" id=\"DejaVuSans-31\" transform=\"scale(0.015625)\"/>\n       </defs>\n       <use xlink:href=\"#DejaVuSans-31\"/>\n       <use x=\"63.623047\" xlink:href=\"#DejaVuSans-30\"/>\n       <use x=\"127.246094\" xlink:href=\"#DejaVuSans-30\"/>\n      </g>\n     </g>\n    </g>\n    <g id=\"xtick_3\">\n     <g id=\"line2d_3\">\n      <g>\n       <use style=\"stroke:#000000;stroke-width:0.8;\" x=\"321.900037\" xlink:href=\"#mf5efbb6c6a\" y=\"333.36\"/>\n      </g>\n     </g>\n     <g id=\"text_3\">\n      <!-- 200 -->\n      <g transform=\"translate(312.356287 347.958438)scale(0.1 -0.1)\">\n       <defs>\n        <path d=\"M 1228 531 \nL 3431 531 \nL 3431 0 \nL 469 0 \nL 469 531 \nQ 828 903 1448 1529 \nQ 2069 2156 2228 2338 \nQ 2531 2678 2651 2914 \nQ 2772 3150 2772 3378 \nQ 2772 3750 2511 3984 \nQ 2250 4219 1831 4219 \nQ 1534 4219 1204 4116 \nQ 875 4013 500 3803 \nL 500 4441 \nQ 881 4594 1212 4672 \nQ 1544 4750 1819 4750 \nQ 2544 4750 2975 4387 \nQ 3406 4025 3406 3419 \nQ 3406 3131 3298 2873 \nQ 3191 2616 2906 2266 \nQ 2828 2175 2409 1742 \nQ 1991 1309 1228 531 \nz\n\" id=\"DejaVuSans-32\" transform=\"scale(0.015625)\"/>\n       </defs>\n       <use xlink:href=\"#DejaVuSans-32\"/>\n       <use x=\"63.623047\" xlink:href=\"#DejaVuSans-30\"/>\n       <use x=\"127.246094\" xlink:href=\"#DejaVuSans-30\"/>\n      </g>\n     </g>\n    </g>\n    <g id=\"xtick_4\">\n     <g id=\"line2d_4\">\n      <g>\n       <use style=\"stroke:#000000;stroke-width:0.8;\" x=\"443.402487\" xlink:href=\"#mf5efbb6c6a\" y=\"333.36\"/>\n      </g>\n     </g>\n     <g id=\"text_4\">\n      <!-- 300 -->\n      <g transform=\"translate(433.858737 347.958438)scale(0.1 -0.1)\">\n       <defs>\n        <path d=\"M 2597 2516 \nQ 3050 2419 3304 2112 \nQ 3559 1806 3559 1356 \nQ 3559 666 3084 287 \nQ 2609 -91 1734 -91 \nQ 1441 -91 1130 -33 \nQ 819 25 488 141 \nL 488 750 \nQ 750 597 1062 519 \nQ 1375 441 1716 441 \nQ 2309 441 2620 675 \nQ 2931 909 2931 1356 \nQ 2931 1769 2642 2001 \nQ 2353 2234 1838 2234 \nL 1294 2234 \nL 1294 2753 \nL 1863 2753 \nQ 2328 2753 2575 2939 \nQ 2822 3125 2822 3475 \nQ 2822 3834 2567 4026 \nQ 2313 4219 1838 4219 \nQ 1578 4219 1281 4162 \nQ 984 4106 628 3988 \nL 628 4550 \nQ 988 4650 1302 4700 \nQ 1616 4750 1894 4750 \nQ 2613 4750 3031 4423 \nQ 3450 4097 3450 3541 \nQ 3450 3153 3228 2886 \nQ 3006 2619 2597 2516 \nz\n\" id=\"DejaVuSans-33\" transform=\"scale(0.015625)\"/>\n       </defs>\n       <use xlink:href=\"#DejaVuSans-33\"/>\n       <use x=\"63.623047\" xlink:href=\"#DejaVuSans-30\"/>\n       <use x=\"127.246094\" xlink:href=\"#DejaVuSans-30\"/>\n      </g>\n     </g>\n    </g>\n    <g id=\"xtick_5\">\n     <g id=\"line2d_5\">\n      <g>\n       <use style=\"stroke:#000000;stroke-width:0.8;\" x=\"564.904937\" xlink:href=\"#mf5efbb6c6a\" y=\"333.36\"/>\n      </g>\n     </g>\n     <g id=\"text_5\">\n      <!-- 400 -->\n      <g transform=\"translate(555.361187 347.958438)scale(0.1 -0.1)\">\n       <defs>\n        <path d=\"M 2419 4116 \nL 825 1625 \nL 2419 1625 \nL 2419 4116 \nz\nM 2253 4666 \nL 3047 4666 \nL 3047 1625 \nL 3713 1625 \nL 3713 1100 \nL 3047 1100 \nL 3047 0 \nL 2419 0 \nL 2419 1100 \nL 313 1100 \nL 313 1709 \nL 2253 4666 \nz\n\" id=\"DejaVuSans-34\" transform=\"scale(0.015625)\"/>\n       </defs>\n       <use xlink:href=\"#DejaVuSans-34\"/>\n       <use x=\"63.623047\" xlink:href=\"#DejaVuSans-30\"/>\n       <use x=\"127.246094\" xlink:href=\"#DejaVuSans-30\"/>\n      </g>\n     </g>\n    </g>\n    <g id=\"xtick_6\">\n     <g id=\"line2d_6\">\n      <g>\n       <use style=\"stroke:#000000;stroke-width:0.8;\" x=\"686.407386\" xlink:href=\"#mf5efbb6c6a\" y=\"333.36\"/>\n      </g>\n     </g>\n     <g id=\"text_6\">\n      <!-- 500 -->\n      <g transform=\"translate(676.863636 347.958438)scale(0.1 -0.1)\">\n       <defs>\n        <path d=\"M 691 4666 \nL 3169 4666 \nL 3169 4134 \nL 1269 4134 \nL 1269 2991 \nQ 1406 3038 1543 3061 \nQ 1681 3084 1819 3084 \nQ 2600 3084 3056 2656 \nQ 3513 2228 3513 1497 \nQ 3513 744 3044 326 \nQ 2575 -91 1722 -91 \nQ 1428 -91 1123 -41 \nQ 819 9 494 109 \nL 494 744 \nQ 775 591 1075 516 \nQ 1375 441 1709 441 \nQ 2250 441 2565 725 \nQ 2881 1009 2881 1497 \nQ 2881 1984 2565 2268 \nQ 2250 2553 1709 2553 \nQ 1456 2553 1204 2497 \nQ 953 2441 691 2322 \nL 691 4666 \nz\n\" id=\"DejaVuSans-35\" transform=\"scale(0.015625)\"/>\n       </defs>\n       <use xlink:href=\"#DejaVuSans-35\"/>\n       <use x=\"63.623047\" xlink:href=\"#DejaVuSans-30\"/>\n       <use x=\"127.246094\" xlink:href=\"#DejaVuSans-30\"/>\n      </g>\n     </g>\n    </g>\n    <g id=\"text_7\">\n     <!-- prep_time -->\n     <g transform=\"translate(356.879688 361.636563)scale(0.1 -0.1)\">\n      <defs>\n       <path d=\"M 1159 525 \nL 1159 -1331 \nL 581 -1331 \nL 581 3500 \nL 1159 3500 \nL 1159 2969 \nQ 1341 3281 1617 3432 \nQ 1894 3584 2278 3584 \nQ 2916 3584 3314 3078 \nQ 3713 2572 3713 1747 \nQ 3713 922 3314 415 \nQ 2916 -91 2278 -91 \nQ 1894 -91 1617 61 \nQ 1341 213 1159 525 \nz\nM 3116 1747 \nQ 3116 2381 2855 2742 \nQ 2594 3103 2138 3103 \nQ 1681 3103 1420 2742 \nQ 1159 2381 1159 1747 \nQ 1159 1113 1420 752 \nQ 1681 391 2138 391 \nQ 2594 391 2855 752 \nQ 3116 1113 3116 1747 \nz\n\" id=\"DejaVuSans-70\" transform=\"scale(0.015625)\"/>\n       <path d=\"M 2631 2963 \nQ 2534 3019 2420 3045 \nQ 2306 3072 2169 3072 \nQ 1681 3072 1420 2755 \nQ 1159 2438 1159 1844 \nL 1159 0 \nL 581 0 \nL 581 3500 \nL 1159 3500 \nL 1159 2956 \nQ 1341 3275 1631 3429 \nQ 1922 3584 2338 3584 \nQ 2397 3584 2469 3576 \nQ 2541 3569 2628 3553 \nL 2631 2963 \nz\n\" id=\"DejaVuSans-72\" transform=\"scale(0.015625)\"/>\n       <path d=\"M 3597 1894 \nL 3597 1613 \nL 953 1613 \nQ 991 1019 1311 708 \nQ 1631 397 2203 397 \nQ 2534 397 2845 478 \nQ 3156 559 3463 722 \nL 3463 178 \nQ 3153 47 2828 -22 \nQ 2503 -91 2169 -91 \nQ 1331 -91 842 396 \nQ 353 884 353 1716 \nQ 353 2575 817 3079 \nQ 1281 3584 2069 3584 \nQ 2775 3584 3186 3129 \nQ 3597 2675 3597 1894 \nz\nM 3022 2063 \nQ 3016 2534 2758 2815 \nQ 2500 3097 2075 3097 \nQ 1594 3097 1305 2825 \nQ 1016 2553 972 2059 \nL 3022 2063 \nz\n\" id=\"DejaVuSans-65\" transform=\"scale(0.015625)\"/>\n       <path d=\"M 3263 -1063 \nL 3263 -1509 \nL -63 -1509 \nL -63 -1063 \nL 3263 -1063 \nz\n\" id=\"DejaVuSans-5f\" transform=\"scale(0.015625)\"/>\n       <path d=\"M 1172 4494 \nL 1172 3500 \nL 2356 3500 \nL 2356 3053 \nL 1172 3053 \nL 1172 1153 \nQ 1172 725 1289 603 \nQ 1406 481 1766 481 \nL 2356 481 \nL 2356 0 \nL 1766 0 \nQ 1100 0 847 248 \nQ 594 497 594 1153 \nL 594 3053 \nL 172 3053 \nL 172 3500 \nL 594 3500 \nL 594 4494 \nL 1172 4494 \nz\n\" id=\"DejaVuSans-74\" transform=\"scale(0.015625)\"/>\n       <path d=\"M 603 3500 \nL 1178 3500 \nL 1178 0 \nL 603 0 \nL 603 3500 \nz\nM 603 4863 \nL 1178 4863 \nL 1178 4134 \nL 603 4134 \nL 603 4863 \nz\n\" id=\"DejaVuSans-69\" transform=\"scale(0.015625)\"/>\n       <path d=\"M 3328 2828 \nQ 3544 3216 3844 3400 \nQ 4144 3584 4550 3584 \nQ 5097 3584 5394 3201 \nQ 5691 2819 5691 2113 \nL 5691 0 \nL 5113 0 \nL 5113 2094 \nQ 5113 2597 4934 2840 \nQ 4756 3084 4391 3084 \nQ 3944 3084 3684 2787 \nQ 3425 2491 3425 1978 \nL 3425 0 \nL 2847 0 \nL 2847 2094 \nQ 2847 2600 2669 2842 \nQ 2491 3084 2119 3084 \nQ 1678 3084 1418 2786 \nQ 1159 2488 1159 1978 \nL 1159 0 \nL 581 0 \nL 581 3500 \nL 1159 3500 \nL 1159 2956 \nQ 1356 3278 1631 3431 \nQ 1906 3584 2284 3584 \nQ 2666 3584 2933 3390 \nQ 3200 3197 3328 2828 \nz\n\" id=\"DejaVuSans-6d\" transform=\"scale(0.015625)\"/>\n      </defs>\n      <use xlink:href=\"#DejaVuSans-70\"/>\n      <use x=\"63.476562\" xlink:href=\"#DejaVuSans-72\"/>\n      <use x=\"102.339844\" xlink:href=\"#DejaVuSans-65\"/>\n      <use x=\"163.863281\" xlink:href=\"#DejaVuSans-70\"/>\n      <use x=\"227.339844\" xlink:href=\"#DejaVuSans-5f\"/>\n      <use x=\"277.339844\" xlink:href=\"#DejaVuSans-74\"/>\n      <use x=\"316.548828\" xlink:href=\"#DejaVuSans-69\"/>\n      <use x=\"344.332031\" xlink:href=\"#DejaVuSans-6d\"/>\n      <use x=\"441.744141\" xlink:href=\"#DejaVuSans-65\"/>\n     </g>\n    </g>\n   </g>\n   <g id=\"matplotlib.axis_2\">\n    <g id=\"ytick_1\">\n     <g id=\"line2d_7\">\n      <defs>\n       <path d=\"M 0 0 \nL -3.5 0 \n\" id=\"m7236324040\" style=\"stroke:#000000;stroke-width:0.8;\"/>\n      </defs>\n      <g>\n       <use style=\"stroke:#000000;stroke-width:0.8;\" x=\"47.24375\" xlink:href=\"#m7236324040\" y=\"318.123298\"/>\n      </g>\n     </g>\n     <g id=\"text_8\">\n      <!-- 0 -->\n      <g transform=\"translate(33.88125 321.922517)scale(0.1 -0.1)\">\n       <use xlink:href=\"#DejaVuSans-30\"/>\n      </g>\n     </g>\n    </g>\n    <g id=\"ytick_2\">\n     <g id=\"line2d_8\">\n      <g>\n       <use style=\"stroke:#000000;stroke-width:0.8;\" x=\"47.24375\" xlink:href=\"#m7236324040\" y=\"276.998598\"/>\n      </g>\n     </g>\n     <g id=\"text_9\">\n      <!-- 100 -->\n      <g transform=\"translate(21.15625 280.797817)scale(0.1 -0.1)\">\n       <use xlink:href=\"#DejaVuSans-31\"/>\n       <use x=\"63.623047\" xlink:href=\"#DejaVuSans-30\"/>\n       <use x=\"127.246094\" xlink:href=\"#DejaVuSans-30\"/>\n      </g>\n     </g>\n    </g>\n    <g id=\"ytick_3\">\n     <g id=\"line2d_9\">\n      <g>\n       <use style=\"stroke:#000000;stroke-width:0.8;\" x=\"47.24375\" xlink:href=\"#m7236324040\" y=\"235.873897\"/>\n      </g>\n     </g>\n     <g id=\"text_10\">\n      <!-- 200 -->\n      <g transform=\"translate(21.15625 239.673116)scale(0.1 -0.1)\">\n       <use xlink:href=\"#DejaVuSans-32\"/>\n       <use x=\"63.623047\" xlink:href=\"#DejaVuSans-30\"/>\n       <use x=\"127.246094\" xlink:href=\"#DejaVuSans-30\"/>\n      </g>\n     </g>\n    </g>\n    <g id=\"ytick_4\">\n     <g id=\"line2d_10\">\n      <g>\n       <use style=\"stroke:#000000;stroke-width:0.8;\" x=\"47.24375\" xlink:href=\"#m7236324040\" y=\"194.749197\"/>\n      </g>\n     </g>\n     <g id=\"text_11\">\n      <!-- 300 -->\n      <g transform=\"translate(21.15625 198.548416)scale(0.1 -0.1)\">\n       <use xlink:href=\"#DejaVuSans-33\"/>\n       <use x=\"63.623047\" xlink:href=\"#DejaVuSans-30\"/>\n       <use x=\"127.246094\" xlink:href=\"#DejaVuSans-30\"/>\n      </g>\n     </g>\n    </g>\n    <g id=\"ytick_5\">\n     <g id=\"line2d_11\">\n      <g>\n       <use style=\"stroke:#000000;stroke-width:0.8;\" x=\"47.24375\" xlink:href=\"#m7236324040\" y=\"153.624496\"/>\n      </g>\n     </g>\n     <g id=\"text_12\">\n      <!-- 400 -->\n      <g transform=\"translate(21.15625 157.423715)scale(0.1 -0.1)\">\n       <use xlink:href=\"#DejaVuSans-34\"/>\n       <use x=\"63.623047\" xlink:href=\"#DejaVuSans-30\"/>\n       <use x=\"127.246094\" xlink:href=\"#DejaVuSans-30\"/>\n      </g>\n     </g>\n    </g>\n    <g id=\"ytick_6\">\n     <g id=\"line2d_12\">\n      <g>\n       <use style=\"stroke:#000000;stroke-width:0.8;\" x=\"47.24375\" xlink:href=\"#m7236324040\" y=\"112.499796\"/>\n      </g>\n     </g>\n     <g id=\"text_13\">\n      <!-- 500 -->\n      <g transform=\"translate(21.15625 116.299014)scale(0.1 -0.1)\">\n       <use xlink:href=\"#DejaVuSans-35\"/>\n       <use x=\"63.623047\" xlink:href=\"#DejaVuSans-30\"/>\n       <use x=\"127.246094\" xlink:href=\"#DejaVuSans-30\"/>\n      </g>\n     </g>\n    </g>\n    <g id=\"ytick_7\">\n     <g id=\"line2d_13\">\n      <g>\n       <use style=\"stroke:#000000;stroke-width:0.8;\" x=\"47.24375\" xlink:href=\"#m7236324040\" y=\"71.375095\"/>\n      </g>\n     </g>\n     <g id=\"text_14\">\n      <!-- 600 -->\n      <g transform=\"translate(21.15625 75.174314)scale(0.1 -0.1)\">\n       <defs>\n        <path d=\"M 2113 2584 \nQ 1688 2584 1439 2293 \nQ 1191 2003 1191 1497 \nQ 1191 994 1439 701 \nQ 1688 409 2113 409 \nQ 2538 409 2786 701 \nQ 3034 994 3034 1497 \nQ 3034 2003 2786 2293 \nQ 2538 2584 2113 2584 \nz\nM 3366 4563 \nL 3366 3988 \nQ 3128 4100 2886 4159 \nQ 2644 4219 2406 4219 \nQ 1781 4219 1451 3797 \nQ 1122 3375 1075 2522 \nQ 1259 2794 1537 2939 \nQ 1816 3084 2150 3084 \nQ 2853 3084 3261 2657 \nQ 3669 2231 3669 1497 \nQ 3669 778 3244 343 \nQ 2819 -91 2113 -91 \nQ 1303 -91 875 529 \nQ 447 1150 447 2328 \nQ 447 3434 972 4092 \nQ 1497 4750 2381 4750 \nQ 2619 4750 2861 4703 \nQ 3103 4656 3366 4563 \nz\n\" id=\"DejaVuSans-36\" transform=\"scale(0.015625)\"/>\n       </defs>\n       <use xlink:href=\"#DejaVuSans-36\"/>\n       <use x=\"63.623047\" xlink:href=\"#DejaVuSans-30\"/>\n       <use x=\"127.246094\" xlink:href=\"#DejaVuSans-30\"/>\n      </g>\n     </g>\n    </g>\n    <g id=\"ytick_8\">\n     <g id=\"line2d_14\">\n      <g>\n       <use style=\"stroke:#000000;stroke-width:0.8;\" x=\"47.24375\" xlink:href=\"#m7236324040\" y=\"30.250395\"/>\n      </g>\n     </g>\n     <g id=\"text_15\">\n      <!-- 700 -->\n      <g transform=\"translate(21.15625 34.049613)scale(0.1 -0.1)\">\n       <defs>\n        <path d=\"M 525 4666 \nL 3525 4666 \nL 3525 4397 \nL 1831 0 \nL 1172 0 \nL 2766 4134 \nL 525 4134 \nL 525 4666 \nz\n\" id=\"DejaVuSans-37\" transform=\"scale(0.015625)\"/>\n       </defs>\n       <use xlink:href=\"#DejaVuSans-37\"/>\n       <use x=\"63.623047\" xlink:href=\"#DejaVuSans-30\"/>\n       <use x=\"127.246094\" xlink:href=\"#DejaVuSans-30\"/>\n      </g>\n     </g>\n    </g>\n    <g id=\"text_16\">\n     <!-- cook_time -->\n     <g transform=\"translate(14.798438 195.839375)rotate(-90)scale(0.1 -0.1)\">\n      <defs>\n       <path d=\"M 3122 3366 \nL 3122 2828 \nQ 2878 2963 2633 3030 \nQ 2388 3097 2138 3097 \nQ 1578 3097 1268 2742 \nQ 959 2388 959 1747 \nQ 959 1106 1268 751 \nQ 1578 397 2138 397 \nQ 2388 397 2633 464 \nQ 2878 531 3122 666 \nL 3122 134 \nQ 2881 22 2623 -34 \nQ 2366 -91 2075 -91 \nQ 1284 -91 818 406 \nQ 353 903 353 1747 \nQ 353 2603 823 3093 \nQ 1294 3584 2113 3584 \nQ 2378 3584 2631 3529 \nQ 2884 3475 3122 3366 \nz\n\" id=\"DejaVuSans-63\" transform=\"scale(0.015625)\"/>\n       <path d=\"M 1959 3097 \nQ 1497 3097 1228 2736 \nQ 959 2375 959 1747 \nQ 959 1119 1226 758 \nQ 1494 397 1959 397 \nQ 2419 397 2687 759 \nQ 2956 1122 2956 1747 \nQ 2956 2369 2687 2733 \nQ 2419 3097 1959 3097 \nz\nM 1959 3584 \nQ 2709 3584 3137 3096 \nQ 3566 2609 3566 1747 \nQ 3566 888 3137 398 \nQ 2709 -91 1959 -91 \nQ 1206 -91 779 398 \nQ 353 888 353 1747 \nQ 353 2609 779 3096 \nQ 1206 3584 1959 3584 \nz\n\" id=\"DejaVuSans-6f\" transform=\"scale(0.015625)\"/>\n       <path d=\"M 581 4863 \nL 1159 4863 \nL 1159 1991 \nL 2875 3500 \nL 3609 3500 \nL 1753 1863 \nL 3688 0 \nL 2938 0 \nL 1159 1709 \nL 1159 0 \nL 581 0 \nL 581 4863 \nz\n\" id=\"DejaVuSans-6b\" transform=\"scale(0.015625)\"/>\n      </defs>\n      <use xlink:href=\"#DejaVuSans-63\"/>\n      <use x=\"54.980469\" xlink:href=\"#DejaVuSans-6f\"/>\n      <use x=\"116.162109\" xlink:href=\"#DejaVuSans-6f\"/>\n      <use x=\"177.34375\" xlink:href=\"#DejaVuSans-6b\"/>\n      <use x=\"235.253906\" xlink:href=\"#DejaVuSans-5f\"/>\n      <use x=\"285.253906\" xlink:href=\"#DejaVuSans-74\"/>\n      <use x=\"324.462891\" xlink:href=\"#DejaVuSans-69\"/>\n      <use x=\"352.246094\" xlink:href=\"#DejaVuSans-6d\"/>\n      <use x=\"449.658203\" xlink:href=\"#DejaVuSans-65\"/>\n     </g>\n    </g>\n   </g>\n   <g id=\"patch_3\">\n    <path d=\"M 47.24375 333.36 \nL 47.24375 7.2 \n\" style=\"fill:none;stroke:#000000;stroke-linecap:square;stroke-linejoin:miter;stroke-width:0.8;\"/>\n   </g>\n   <g id=\"patch_4\">\n    <path d=\"M 716.84375 333.36 \nL 716.84375 7.2 \n\" style=\"fill:none;stroke:#000000;stroke-linecap:square;stroke-linejoin:miter;stroke-width:0.8;\"/>\n   </g>\n   <g id=\"patch_5\">\n    <path d=\"M 47.24375 333.36 \nL 716.84375 333.36 \n\" style=\"fill:none;stroke:#000000;stroke-linecap:square;stroke-linejoin:miter;stroke-width:0.8;\"/>\n   </g>\n   <g id=\"patch_6\">\n    <path d=\"M 47.24375 7.2 \nL 716.84375 7.2 \n\" style=\"fill:none;stroke:#000000;stroke-linecap:square;stroke-linejoin:miter;stroke-width:0.8;\"/>\n   </g>\n   <g id=\"legend_1\">\n    <g id=\"patch_7\">\n     <path d=\"M 601.728125 59.234375 \nL 709.84375 59.234375 \nQ 711.84375 59.234375 711.84375 57.234375 \nL 711.84375 14.2 \nQ 711.84375 12.2 709.84375 12.2 \nL 601.728125 12.2 \nQ 599.728125 12.2 599.728125 14.2 \nL 599.728125 57.234375 \nQ 599.728125 59.234375 601.728125 59.234375 \nz\n\" style=\"fill:#ffffff;opacity:0.8;stroke:#cccccc;stroke-linejoin:miter;\"/>\n    </g>\n    <g id=\"text_17\">\n     <!-- diet -->\n     <g transform=\"translate(646.185938 23.798437)scale(0.1 -0.1)\">\n      <defs>\n       <path d=\"M 2906 2969 \nL 2906 4863 \nL 3481 4863 \nL 3481 0 \nL 2906 0 \nL 2906 525 \nQ 2725 213 2448 61 \nQ 2172 -91 1784 -91 \nQ 1150 -91 751 415 \nQ 353 922 353 1747 \nQ 353 2572 751 3078 \nQ 1150 3584 1784 3584 \nQ 2172 3584 2448 3432 \nQ 2725 3281 2906 2969 \nz\nM 947 1747 \nQ 947 1113 1208 752 \nQ 1469 391 1925 391 \nQ 2381 391 2643 752 \nQ 2906 1113 2906 1747 \nQ 2906 2381 2643 2742 \nQ 2381 3103 1925 3103 \nQ 1469 3103 1208 2742 \nQ 947 2381 947 1747 \nz\n\" id=\"DejaVuSans-64\" transform=\"scale(0.015625)\"/>\n      </defs>\n      <use xlink:href=\"#DejaVuSans-64\"/>\n      <use x=\"63.476562\" xlink:href=\"#DejaVuSans-69\"/>\n      <use x=\"91.259766\" xlink:href=\"#DejaVuSans-65\"/>\n      <use x=\"152.783203\" xlink:href=\"#DejaVuSans-74\"/>\n     </g>\n    </g>\n    <g id=\"PathCollection_4\">\n     <defs>\n      <path d=\"M 0 3 \nC 0.795609 3 1.55874 2.683901 2.12132 2.12132 \nC 2.683901 1.55874 3 0.795609 3 0 \nC 3 -0.795609 2.683901 -1.55874 2.12132 -2.12132 \nC 1.55874 -2.683901 0.795609 -3 0 -3 \nC -0.795609 -3 -1.55874 -2.683901 -2.12132 -2.12132 \nC -2.683901 -1.55874 -3 -0.795609 -3 0 \nC -3 0.795609 -2.683901 1.55874 -2.12132 2.12132 \nC -1.55874 2.683901 -0.795609 3 0 3 \nz\n\" id=\"m1bdcb12e0d\" style=\"stroke:#008000;\"/>\n     </defs>\n     <g>\n      <use style=\"fill:#008000;stroke:#008000;\" x=\"613.728125\" xlink:href=\"#m1bdcb12e0d\" y=\"35.851562\"/>\n     </g>\n    </g>\n    <g id=\"text_18\">\n     <!-- vegetarian -->\n     <g transform=\"translate(631.728125 38.476562)scale(0.1 -0.1)\">\n      <defs>\n       <path d=\"M 191 3500 \nL 800 3500 \nL 1894 563 \nL 2988 3500 \nL 3597 3500 \nL 2284 0 \nL 1503 0 \nL 191 3500 \nz\n\" id=\"DejaVuSans-76\" transform=\"scale(0.015625)\"/>\n       <path d=\"M 2906 1791 \nQ 2906 2416 2648 2759 \nQ 2391 3103 1925 3103 \nQ 1463 3103 1205 2759 \nQ 947 2416 947 1791 \nQ 947 1169 1205 825 \nQ 1463 481 1925 481 \nQ 2391 481 2648 825 \nQ 2906 1169 2906 1791 \nz\nM 3481 434 \nQ 3481 -459 3084 -895 \nQ 2688 -1331 1869 -1331 \nQ 1566 -1331 1297 -1286 \nQ 1028 -1241 775 -1147 \nL 775 -588 \nQ 1028 -725 1275 -790 \nQ 1522 -856 1778 -856 \nQ 2344 -856 2625 -561 \nQ 2906 -266 2906 331 \nL 2906 616 \nQ 2728 306 2450 153 \nQ 2172 0 1784 0 \nQ 1141 0 747 490 \nQ 353 981 353 1791 \nQ 353 2603 747 3093 \nQ 1141 3584 1784 3584 \nQ 2172 3584 2450 3431 \nQ 2728 3278 2906 2969 \nL 2906 3500 \nL 3481 3500 \nL 3481 434 \nz\n\" id=\"DejaVuSans-67\" transform=\"scale(0.015625)\"/>\n       <path d=\"M 2194 1759 \nQ 1497 1759 1228 1600 \nQ 959 1441 959 1056 \nQ 959 750 1161 570 \nQ 1363 391 1709 391 \nQ 2188 391 2477 730 \nQ 2766 1069 2766 1631 \nL 2766 1759 \nL 2194 1759 \nz\nM 3341 1997 \nL 3341 0 \nL 2766 0 \nL 2766 531 \nQ 2569 213 2275 61 \nQ 1981 -91 1556 -91 \nQ 1019 -91 701 211 \nQ 384 513 384 1019 \nQ 384 1609 779 1909 \nQ 1175 2209 1959 2209 \nL 2766 2209 \nL 2766 2266 \nQ 2766 2663 2505 2880 \nQ 2244 3097 1772 3097 \nQ 1472 3097 1187 3025 \nQ 903 2953 641 2809 \nL 641 3341 \nQ 956 3463 1253 3523 \nQ 1550 3584 1831 3584 \nQ 2591 3584 2966 3190 \nQ 3341 2797 3341 1997 \nz\n\" id=\"DejaVuSans-61\" transform=\"scale(0.015625)\"/>\n       <path d=\"M 3513 2113 \nL 3513 0 \nL 2938 0 \nL 2938 2094 \nQ 2938 2591 2744 2837 \nQ 2550 3084 2163 3084 \nQ 1697 3084 1428 2787 \nQ 1159 2491 1159 1978 \nL 1159 0 \nL 581 0 \nL 581 3500 \nL 1159 3500 \nL 1159 2956 \nQ 1366 3272 1645 3428 \nQ 1925 3584 2291 3584 \nQ 2894 3584 3203 3211 \nQ 3513 2838 3513 2113 \nz\n\" id=\"DejaVuSans-6e\" transform=\"scale(0.015625)\"/>\n      </defs>\n      <use xlink:href=\"#DejaVuSans-76\"/>\n      <use x=\"59.179688\" xlink:href=\"#DejaVuSans-65\"/>\n      <use x=\"120.703125\" xlink:href=\"#DejaVuSans-67\"/>\n      <use x=\"184.179688\" xlink:href=\"#DejaVuSans-65\"/>\n      <use x=\"245.703125\" xlink:href=\"#DejaVuSans-74\"/>\n      <use x=\"284.912109\" xlink:href=\"#DejaVuSans-61\"/>\n      <use x=\"346.191406\" xlink:href=\"#DejaVuSans-72\"/>\n      <use x=\"387.304688\" xlink:href=\"#DejaVuSans-69\"/>\n      <use x=\"415.087891\" xlink:href=\"#DejaVuSans-61\"/>\n      <use x=\"476.367188\" xlink:href=\"#DejaVuSans-6e\"/>\n     </g>\n    </g>\n    <g id=\"PathCollection_5\">\n     <defs>\n      <path d=\"M 0 3 \nC 0.795609 3 1.55874 2.683901 2.12132 2.12132 \nC 2.683901 1.55874 3 0.795609 3 0 \nC 3 -0.795609 2.683901 -1.55874 2.12132 -2.12132 \nC 1.55874 -2.683901 0.795609 -3 0 -3 \nC -0.795609 -3 -1.55874 -2.683901 -2.12132 -2.12132 \nC -2.683901 -1.55874 -3 -0.795609 -3 0 \nC -3 0.795609 -2.683901 1.55874 -2.12132 2.12132 \nC -1.55874 2.683901 -0.795609 3 0 3 \nz\n\" id=\"m28b6f5245b\" style=\"stroke:#ff0000;\"/>\n     </defs>\n     <g>\n      <use style=\"fill:#ff0000;stroke:#ff0000;\" x=\"613.728125\" xlink:href=\"#m28b6f5245b\" y=\"50.529688\"/>\n     </g>\n    </g>\n    <g id=\"text_19\">\n     <!-- non-vegetarian -->\n     <g transform=\"translate(631.728125 53.154688)scale(0.1 -0.1)\">\n      <defs>\n       <path d=\"M 313 2009 \nL 1997 2009 \nL 1997 1497 \nL 313 1497 \nL 313 2009 \nz\n\" id=\"DejaVuSans-2d\" transform=\"scale(0.015625)\"/>\n      </defs>\n      <use xlink:href=\"#DejaVuSans-6e\"/>\n      <use x=\"63.378906\" xlink:href=\"#DejaVuSans-6f\"/>\n      <use x=\"124.560547\" xlink:href=\"#DejaVuSans-6e\"/>\n      <use x=\"187.939453\" xlink:href=\"#DejaVuSans-2d\"/>\n      <use x=\"221.398438\" xlink:href=\"#DejaVuSans-76\"/>\n      <use x=\"280.578125\" xlink:href=\"#DejaVuSans-65\"/>\n      <use x=\"342.101562\" xlink:href=\"#DejaVuSans-67\"/>\n      <use x=\"405.578125\" xlink:href=\"#DejaVuSans-65\"/>\n      <use x=\"467.101562\" xlink:href=\"#DejaVuSans-74\"/>\n      <use x=\"506.310547\" xlink:href=\"#DejaVuSans-61\"/>\n      <use x=\"567.589844\" xlink:href=\"#DejaVuSans-72\"/>\n      <use x=\"608.703125\" xlink:href=\"#DejaVuSans-69\"/>\n      <use x=\"636.486328\" xlink:href=\"#DejaVuSans-61\"/>\n      <use x=\"697.765625\" xlink:href=\"#DejaVuSans-6e\"/>\n     </g>\n    </g>\n   </g>\n  </g>\n </g>\n <defs>\n  <clipPath id=\"pf317509e70\">\n   <rect height=\"326.16\" width=\"669.6\" x=\"47.24375\" y=\"7.2\"/>\n  </clipPath>\n </defs>\n</svg>\n",
      "image/png": "[encoded data removed]"
     },
     "metadata": {
      "needs_background": "light"
     }
    }
   ],
   "source": [
    "# plotting prep time and cook time\n",
    "sns.scatterplot(data = data, x = \"prep_time\", y = \"cook_time\",hue = \"diet\", palette=[\"green\", \"red\"])\n",
    "\n"
   ]
  },
  {
   "cell_type": "code",
   "execution_count": 34,
   "metadata": {},
   "outputs": [
    {
     "output_type": "execute_result",
     "data": {
      "text/plain": [
       "255"
      ]
     },
     "metadata": {},
     "execution_count": 34
    }
   ],
   "source": [
    "# analyzing the ingrediets which are used to make a particular dish\n",
    "\n",
    "# converting all ingredients into lower case \n",
    "data.ingredients = data.ingredients.str.lower()\n",
    "\n",
    "# we split the ingredients and divide into veg and non-veg type\n",
    "veg_ingredients =data.loc[data.diet == \"vegetarian\", \"ingredients\"]\n",
    "non_veg_ingredients =data.loc[data.diet == \"non-vegetarian\", \"ingredients\"]\n",
    "\n",
    "# checking the size of both type of ingredients and verifying if the total sums up to the total size of the dataset\n",
    "veg_ingredients.size + non_veg_ingredients.size"
   ]
  },
  {
   "cell_type": "code",
   "execution_count": 35,
   "metadata": {},
   "outputs": [
    {
     "output_type": "execute_result",
     "data": {
      "text/plain": [
       "0                        maida flour, yogurt, oil, sugar\n",
       "1                                gram flour, ghee, sugar\n",
       "2           carrots, milk, sugar, ghee, cashews, raisins\n",
       "3      flour, ghee, kewra, milk, clarified butter, su...\n",
       "4      milk powder, plain flour, baking powder, ghee,...\n",
       "                             ...                        \n",
       "250              glutinous rice, black sesame seeds, gur\n",
       "251    coconut milk, egg yolks, clarified butter, all...\n",
       "252    cottage cheese, dry dates, dried rose petals, ...\n",
       "253    milk powder, dry fruits, arrowroot powder, all...\n",
       "254    brown rice, fennel seeds, grated coconut, blac...\n",
       "Name: ingredients, Length: 226, dtype: object"
      ]
     },
     "metadata": {},
     "execution_count": 35
    }
   ],
   "source": [
    "veg_ingredients"
   ]
  },
  {
   "cell_type": "code",
   "execution_count": 36,
   "metadata": {},
   "outputs": [
    {
     "output_type": "execute_result",
     "data": {
      "text/plain": [
       "64         fish, potol, tomato, chillies, ginger, garlic\n",
       "65      boiled pork, onions, chillies, ginger and garlic\n",
       "67              rice, axone, salt, water, chillies, pork\n",
       "75     chicken thighs, basmati rice, star anise, swee...\n",
       "76     chicken, greek yogurt, cream, garam masala pow...\n",
       "79     chicken, dahi, sesame seeds, garam masala powd...\n",
       "80     naan bread, tomato sauce, skinless chicken bre...\n",
       "81     chicken, whole wheat bread, rice flour, garam ...\n",
       "122    greek yogurt, garam masala, kasuri methi, mari...\n",
       "123    chickpea flour, biryani masala powder, yogurt,...\n",
       "137    beef, coconut, garam masala, curry leaves, gre...\n",
       "163    meat curry powder, chicken chunks, ginger, tom...\n",
       "167    baingan, fish, coconut oil, fresh coconut, ginger\n",
       "172    bombay duck, malvani masala, rice flour, bomba...\n",
       "211    chicken, coconut oil, wine vinegar, ginger, gr...\n",
       "223                         rice, eggs, carrot, beetroot\n",
       "225          potatoes, mustard oil, fish, green chillies\n",
       "226      ridge gourd, fish, lemon, tomatoes, mustard oil\n",
       "228    potatoes, garam masala, tomatoes, mustard oil,...\n",
       "229    forbidden black rice, chicken, olive oil, sliv...\n",
       "232    coconut milk, lobster, fresh green chilli, gin...\n",
       "235    lamb, garam masala powder, curd, turmeric, bay...\n",
       "236     coconut, prawns, curd, mustard seed, green chili\n",
       "237              fish fillet, besan, lemon, mint, ginger\n",
       "239    banana flower, chicken, green chili, mustard o...\n",
       "240    aloo, tomatoes, mustard oil, bay leaf, cinnamo...\n",
       "241    rice flour, mutton, banana, gram flour, olive ...\n",
       "242    fish roe, pumpkin flowers, mustard oil, turmer...\n",
       "247        coconut milk, prawns, garlic, turmeric, sugar\n",
       "Name: ingredients, dtype: object"
      ]
     },
     "metadata": {},
     "execution_count": 36
    }
   ],
   "source": [
    "non_veg_ingredients"
   ]
  },
  {
   "cell_type": "code",
   "execution_count": 37,
   "metadata": {},
   "outputs": [],
   "source": [
    "\n",
    "# removing unnecessary space\n",
    "veg_ingredients = veg_ingredients.str.strip()\n",
    "non_veg_ingredients = non_veg_ingredients.str.strip()\n",
    "\n",
    "veg_cleaned_ingredients = []\n",
    "non_veg_cleaned_ingredients = []\n",
    "\n",
    "for i in veg_ingredients.str.split(\",\"): # splitting  by \",\" & iterating through all the ingredients and appending it to list\n",
    "    veg_cleaned_ingredients += i\n",
    "\n",
    "for i in non_veg_ingredients.str.split(\",\"):#splitting by , & iterating through all the ingredients and appending it to list\n",
    "    non_veg_cleaned_ingredients += i"
   ]
  },
  {
   "cell_type": "code",
   "execution_count": 38,
   "metadata": {},
   "outputs": [
    {
     "output_type": "execute_result",
     "data": {
      "text/plain": [
       "['maida flour',\n",
       " ' yogurt',\n",
       " ' oil',\n",
       " ' sugar',\n",
       " 'gram flour',\n",
       " ' ghee',\n",
       " ' sugar',\n",
       " 'carrots',\n",
       " ' milk',\n",
       " ' sugar',\n",
       " ' ghee',\n",
       " ' cashews',\n",
       " ' raisins',\n",
       " 'flour',\n",
       " ' ghee',\n",
       " ' kewra',\n",
       " ' milk',\n",
       " ' clarified butter',\n",
       " ' sugar',\n",
       " ' almonds',\n",
       " ' pistachio',\n",
       " ' saffron',\n",
       " ' green cardamom',\n",
       " 'milk powder',\n",
       " ' plain flour',\n",
       " ' baking powder',\n",
       " ' ghee',\n",
       " ' milk',\n",
       " ' sugar',\n",
       " ' water',\n",
       " ' rose water',\n",
       " 'sugar syrup',\n",
       " ' lentil flour',\n",
       " 'maida',\n",
       " ' corn flour',\n",
       " ' baking soda',\n",
       " ' vinegar',\n",
       " ' curd',\n",
       " ' water',\n",
       " ' turmeric',\n",
       " ' saffron',\n",
       " ' cardamom',\n",
       " 'cashews',\n",
       " ' ghee',\n",
       " ' cardamom',\n",
       " ' sugar',\n",
       " 'milk',\n",
       " ' cottage cheese',\n",
       " ' sugar',\n",
       " 'milk',\n",
       " ' rice',\n",
       " ' sugar',\n",
       " ' dried fruits',\n",
       " 'gram flour',\n",
       " ' ghee',\n",
       " ' sugar',\n",
       " 'yogurt',\n",
       " ' milk',\n",
       " ' nuts',\n",
       " ' sugar',\n",
       " 'refined flour',\n",
       " ' besan',\n",
       " ' ghee',\n",
       " ' powdered sugar',\n",
       " ' yoghurt',\n",
       " ' green cardamom',\n",
       " 'firm white pumpkin',\n",
       " ' sugar',\n",
       " ' kitchen lime',\n",
       " ' alum powder',\n",
       " 'rice',\n",
       " ' sugar',\n",
       " ' nuts',\n",
       " 'condensed milk',\n",
       " ' sugar',\n",
       " ' spices',\n",
       " ' nuts',\n",
       " 'semolina',\n",
       " ' ghee',\n",
       " ' nuts',\n",
       " ' milk',\n",
       " 'khoa',\n",
       " ' coconut',\n",
       " ' molu leaf',\n",
       " 'corn flour',\n",
       " ' ghee',\n",
       " ' dry fruits',\n",
       " 'gram flour',\n",
       " ' ghee',\n",
       " ' sugar',\n",
       " ' milk',\n",
       " ' cardamom',\n",
       " 'chhena',\n",
       " ' sugar',\n",
       " ' ghee',\n",
       " 'chhena',\n",
       " ' sugar',\n",
       " ' milk',\n",
       " 'sugar',\n",
       " ' chenna cheese',\n",
       " 'flour',\n",
       " ' cream',\n",
       " ' sugar',\n",
       " ' saffron',\n",
       " ' lemon juice',\n",
       " ' coconut flakes',\n",
       " 'chenna',\n",
       " ' condensed milk',\n",
       " ' sugar',\n",
       " ' saffron',\n",
       " ' cardamom',\n",
       " 'chhena',\n",
       " ' sugar',\n",
       " ' ghee',\n",
       " 'flour',\n",
       " ' fried milk power',\n",
       " ' sugar syrup',\n",
       " 'yoghurt',\n",
       " ' refined flour',\n",
       " ' ghee',\n",
       " ' fennel seeds',\n",
       " 'besan flour',\n",
       " ' sugar',\n",
       " ' ghee',\n",
       " 'milk',\n",
       " ' jaggery',\n",
       " 'chhena',\n",
       " ' sugar',\n",
       " ' ghee',\n",
       " ' flour',\n",
       " 'rice flour',\n",
       " ' wheat flour',\n",
       " 'chenna',\n",
       " ' sweetened milk',\n",
       " 'chhena',\n",
       " ' reduced milk',\n",
       " ' pistachio',\n",
       " 'chhena',\n",
       " ' sugar',\n",
       " ' cardamom',\n",
       " 'milk',\n",
       " ' sugar',\n",
       " ' saffron',\n",
       " ' cardamom',\n",
       " 'rice flour',\n",
       " ' jaggery',\n",
       " ' ghee',\n",
       " ' vegetable oil',\n",
       " ' elachi',\n",
       " 'rice flour',\n",
       " ' jaggery',\n",
       " ' ghee',\n",
       " 'besan',\n",
       " ' jaggery',\n",
       " ' cardamom powder',\n",
       " ' ghee',\n",
       " ' cashews and raisins',\n",
       " ' jaggery syrup',\n",
       " ' sugar',\n",
       " 'peanuts',\n",
       " ' jaggery',\n",
       " 'milk',\n",
       " ' sugar',\n",
       " ' dharwadi buffalo milk',\n",
       " 'loaf bread',\n",
       " ' milk',\n",
       " 'rice flour',\n",
       " ' sugar',\n",
       " ' salt',\n",
       " ' ghee',\n",
       " ' semolina',\n",
       " 'wheat flour',\n",
       " ' sugar',\n",
       " 'black lentils',\n",
       " ' rice',\n",
       " 'besan flour',\n",
       " ' semolina',\n",
       " ' mung bean',\n",
       " ' jaggery',\n",
       " ' coconut',\n",
       " ' skimmed milk powder',\n",
       " ' sugar',\n",
       " ' ghee',\n",
       " 'maida flour',\n",
       " ' turmeric',\n",
       " ' coconut',\n",
       " ' chickpeas',\n",
       " ' jaggery',\n",
       " ' ghee',\n",
       " ' cardamom',\n",
       " 'rice flour',\n",
       " ' milk',\n",
       " 'chana dal',\n",
       " ' jaggery',\n",
       " 'rice',\n",
       " ' jaggery',\n",
       " ' cashews',\n",
       " ' ghee',\n",
       " 'rice flour',\n",
       " ' powdered sugar',\n",
       " ' ghee',\n",
       " 'apricots',\n",
       " ' sugar syrup',\n",
       " 'vermicelli pudding',\n",
       " ' milk',\n",
       " 'rice flour',\n",
       " ' banana',\n",
       " ' jaggery',\n",
       " ' coconut',\n",
       " 'rice flour',\n",
       " ' jaggery',\n",
       " ' coconut',\n",
       " 'rice flour',\n",
       " ' jaggery',\n",
       " ' khus-khus seeds',\n",
       " 'sugar',\n",
       " ' milk',\n",
       " ' nuts',\n",
       " 'cucumber',\n",
       " ' rava',\n",
       " 'milk',\n",
       " ' rice',\n",
       " ' sugar',\n",
       " ' dry fruits',\n",
       " 'semolina',\n",
       " ' sugar',\n",
       " 'rice flour',\n",
       " ' coconut',\n",
       " ' jaggery',\n",
       " 'sugar',\n",
       " ' ghee',\n",
       " ' maida flour',\n",
       " ' semolina',\n",
       " 'curd',\n",
       " ' sugar',\n",
       " ' saffron',\n",
       " ' cardamom',\n",
       " 'maida',\n",
       " ' sugar',\n",
       " ' ghee',\n",
       " 'rice',\n",
       " ' milk',\n",
       " ' sugar',\n",
       " ' cardamom',\n",
       " 'cauliflower',\n",
       " ' potato',\n",
       " ' garam masala',\n",
       " ' turmeric',\n",
       " ' curry leaves',\n",
       " 'rice flour',\n",
       " ' potato',\n",
       " ' bread crumbs',\n",
       " ' garam masala',\n",
       " ' salt',\n",
       " 'potato',\n",
       " ' peas',\n",
       " ' chillies',\n",
       " ' ginger',\n",
       " ' garam masala',\n",
       " ' garlic',\n",
       " 'potato',\n",
       " ' fenugreek leaves',\n",
       " ' chillies',\n",
       " ' salt',\n",
       " ' oil',\n",
       " 'potato',\n",
       " ' shimla mirch',\n",
       " ' garam masala',\n",
       " ' amchur powder',\n",
       " ' salt',\n",
       " 'chole',\n",
       " ' rava',\n",
       " ' yogurt',\n",
       " ' plain flour',\n",
       " ' baking soda',\n",
       " 'ladies finger',\n",
       " ' garam masala',\n",
       " ' kasuri methi',\n",
       " ' tomatoes',\n",
       " ' chili powder',\n",
       " 'chickpeas',\n",
       " ' tomato paste',\n",
       " ' garam masala',\n",
       " ' ginger',\n",
       " ' red onion',\n",
       " ' avocado oil',\n",
       " 'whole wheat flour',\n",
       " ' olive oil',\n",
       " ' hot water',\n",
       " ' all purpose flour',\n",
       " 'chole',\n",
       " ' bhatura',\n",
       " ' garam masala',\n",
       " ' bay leaf',\n",
       " ' cinnamon stick',\n",
       " 'moong dal',\n",
       " ' masoor dal',\n",
       " ' chana dal',\n",
       " ' wheat flour',\n",
       " ' almond',\n",
       " 'moong dal',\n",
       " ' garam masala powder',\n",
       " ' garlic',\n",
       " ' green chilli',\n",
       " ' all purpose flour',\n",
       " 'red kidney beans',\n",
       " ' urad dal',\n",
       " ' cream',\n",
       " ' garam masala',\n",
       " ' chili powder',\n",
       " 'pigeon peas',\n",
       " ' garam masala',\n",
       " ' ginger',\n",
       " ' red onion',\n",
       " ' kasuri methi',\n",
       " 'baby potatoes',\n",
       " ' garam masala',\n",
       " ' cashew nuts',\n",
       " ' kasuri methi',\n",
       " ' tomatoes',\n",
       " 'beaten rice flakes',\n",
       " ' potato',\n",
       " ' curry leaves',\n",
       " ' green chilies',\n",
       " ' lemon juice',\n",
       " 'chana dal',\n",
       " ' whole wheat flour',\n",
       " ' arhar dal',\n",
       " ' white urad dal',\n",
       " ' garam masala powder',\n",
       " 'moong dal',\n",
       " ' rava',\n",
       " ' garam masala',\n",
       " ' dough',\n",
       " ' fennel seeds',\n",
       " 'cottage cheese',\n",
       " ' bell peppers',\n",
       " ' gravy',\n",
       " ' garam masala',\n",
       " ' cashew nuts',\n",
       " 'besan',\n",
       " ' garam masala powder',\n",
       " ' gram flour',\n",
       " ' ginger',\n",
       " ' curry leaves',\n",
       " 'bitter gourd',\n",
       " ' fennel',\n",
       " ' garam masala powder',\n",
       " ' chili powder',\n",
       " ' amchur powder',\n",
       " 'moong dal',\n",
       " ' green peas',\n",
       " ' ginger',\n",
       " ' tomato',\n",
       " ' green chili',\n",
       " 'paneer',\n",
       " ' potato',\n",
       " ' cream',\n",
       " ' corn flour',\n",
       " ' garam masala',\n",
       " 'rose syrup',\n",
       " ' falooda sev',\n",
       " ' mixed nuts',\n",
       " ' saffron',\n",
       " ' sugar',\n",
       " 'bottle gourd',\n",
       " ' garam masala powder',\n",
       " ' gram flour',\n",
       " ' ginger',\n",
       " ' chillies',\n",
       " 'bottle gourd',\n",
       " ' coconut oil',\n",
       " ' garam masala',\n",
       " ' ginger',\n",
       " ' green chillies',\n",
       " 'wheat flour',\n",
       " ' roasted gram flour',\n",
       " ' tomato',\n",
       " ' nigella seeds',\n",
       " ' chilli',\n",
       " 'palak',\n",
       " ' makki atta',\n",
       " ' mustard green',\n",
       " ' garam masala',\n",
       " ' ginger',\n",
       " 'whole wheat flour',\n",
       " ' chickpea flour',\n",
       " ' green chilies',\n",
       " 'mushroom',\n",
       " ' malai',\n",
       " ' garam masala',\n",
       " ' ginger',\n",
       " ' capsicum',\n",
       " 'canned coconut milk',\n",
       " ' frozen green peas',\n",
       " ' wild mushrooms',\n",
       " ' garam masala',\n",
       " ' tomatoes',\n",
       " 'whole wheat flour',\n",
       " ' honey',\n",
       " ' butter',\n",
       " ' garlic',\n",
       " 'green beans',\n",
       " ' potatoes',\n",
       " ' khus khus',\n",
       " ' low fat',\n",
       " ' garam masala powder',\n",
       " 'cottage cheese',\n",
       " ' palak',\n",
       " ' cream',\n",
       " ' garam masala',\n",
       " ' butter',\n",
       " 'paneer',\n",
       " ' whipping cream',\n",
       " ' garam masala',\n",
       " ' cashew nuts',\n",
       " ' butter',\n",
       " 'paneer',\n",
       " ' greek yogurt',\n",
       " ' tandoori masala',\n",
       " ' cream',\n",
       " ' bell pepper',\n",
       " 'kala chana',\n",
       " ' mashed potato',\n",
       " ' boondi',\n",
       " ' sev',\n",
       " ' lemon',\n",
       " 'whole wheat flour',\n",
       " ' musk melon seeds',\n",
       " ' poppy seeds',\n",
       " ' edible gum',\n",
       " ' semolina',\n",
       " 'urad dal',\n",
       " ' sev',\n",
       " ' lemon juice',\n",
       " ' chopped tomatoes',\n",
       " 'wheat flour',\n",
       " ' butter',\n",
       " ' potato',\n",
       " ' coriander',\n",
       " 'arbi ke patte',\n",
       " ' sesame seeds',\n",
       " ' gur',\n",
       " ' bengal gram flour',\n",
       " ' imli',\n",
       " 'fennel',\n",
       " ' tea bags',\n",
       " ' tomato',\n",
       " ' kasuri methi',\n",
       " ' cinnamon',\n",
       " 'red kidney beans',\n",
       " ' garam masala powder',\n",
       " ' ginger',\n",
       " ' tomato',\n",
       " ' mustard oil',\n",
       " 'garam masala powder',\n",
       " ' tomato',\n",
       " ' kasuri methi',\n",
       " ' cinnamon',\n",
       " ' mustard oil',\n",
       " 'potatoes',\n",
       " ' green peas',\n",
       " ' garam masala',\n",
       " ' ginger',\n",
       " ' dough',\n",
       " 'sattu',\n",
       " ' atta',\n",
       " ' dough',\n",
       " ' filling',\n",
       " ' mustard oil',\n",
       " 'cottage cheese',\n",
       " ' malai',\n",
       " ' garam masala',\n",
       " ' ginger',\n",
       " ' tomato',\n",
       " 'rose water',\n",
       " ' milk',\n",
       " ' white bread slices',\n",
       " ' saffron',\n",
       " ' almonds',\n",
       " 'baby corn',\n",
       " ' french beans',\n",
       " ' garam masala',\n",
       " ' ginger',\n",
       " ' carrot',\n",
       " 'whole wheat flour',\n",
       " ' arhar dal',\n",
       " ' ginger',\n",
       " ' kala jeera',\n",
       " ' green chilli',\n",
       " 'raw banana',\n",
       " ' elephant foot yam',\n",
       " ' long beans',\n",
       " ' tindora',\n",
       " ' urad dal',\n",
       " 'split pigeon peas',\n",
       " ' chana dal',\n",
       " ' urad dal',\n",
       " ' green peas',\n",
       " ' french beans',\n",
       " 'chana dal',\n",
       " ' urad dal',\n",
       " ' fresh coconut',\n",
       " ' sesame seeds',\n",
       " ' curry leaves',\n",
       " 'chana dal',\n",
       " ' urad dal',\n",
       " ' whole urad dal',\n",
       " ' blend rice',\n",
       " ' rock salt',\n",
       " 'rice flour',\n",
       " ' hot water',\n",
       " ' grated coconut',\n",
       " 'split urad dal',\n",
       " ' urad dal',\n",
       " ' idli rice',\n",
       " ' thick poha',\n",
       " ' rock salt',\n",
       " 'carrot',\n",
       " ' yellow mustard',\n",
       " ' red chilli',\n",
       " ' black salt',\n",
       " 'sesame oil',\n",
       " ' drumstick',\n",
       " ' tamarind paste',\n",
       " ' sambar powder',\n",
       " ' tomato',\n",
       " 'moong dal',\n",
       " ' chana dal',\n",
       " ' spinach',\n",
       " ' urad dal',\n",
       " ' coconut oil',\n",
       " 'urad dal',\n",
       " ' curry leaves',\n",
       " ' sugar',\n",
       " ' mustard seeds',\n",
       " ' spinach',\n",
       " 'greens',\n",
       " ' tomato',\n",
       " ' mustard seeds',\n",
       " ' fenugreek seeds',\n",
       " 'amaranth leaves',\n",
       " ' split urad dal',\n",
       " ' mustard seeds',\n",
       " ' grated coconut',\n",
       " ' red chili',\n",
       " 'chana dal',\n",
       " ' urad dal',\n",
       " ' potato',\n",
       " ' beans',\n",
       " ' peas',\n",
       " 'moong dal',\n",
       " ' chana dal',\n",
       " ' cabbage',\n",
       " ' tamarind',\n",
       " ' curry leaves',\n",
       " 'moong dal',\n",
       " ' cucumber',\n",
       " ' curry leaves',\n",
       " ' green chili',\n",
       " ' lemon juice',\n",
       " 'chana dal',\n",
       " ' urad dal',\n",
       " ' gooseberry',\n",
       " ' raw rice',\n",
       " ' curry leaves',\n",
       " 'sesame oil',\n",
       " ' raw rice',\n",
       " ' jaggery',\n",
       " ' grated coconut',\n",
       " 'pearl onions',\n",
       " ' urad dal',\n",
       " ' drumsticks',\n",
       " ' tomato',\n",
       " ' curry leaves',\n",
       " 'chana dal',\n",
       " ' urad dal',\n",
       " ' potatoes',\n",
       " ' idli rice',\n",
       " ' thick poha',\n",
       " 'coconut oil',\n",
       " ' cucumber',\n",
       " ' curd',\n",
       " ' curry leaves',\n",
       " ' mustard seeds',\n",
       " 'yogurt',\n",
       " ' ginger',\n",
       " ' curry leaves',\n",
       " ' baking soda',\n",
       " ' green chilli',\n",
       " 'lentils',\n",
       " ' black pepper',\n",
       " ' vegetable oil',\n",
       " 'raw rice',\n",
       " '  jaggery',\n",
       " ' milk',\n",
       " 'rice',\n",
       " ' cashew nuts',\n",
       " ' milk',\n",
       " ' raisins',\n",
       " ' sugar',\n",
       " 'arhar dal',\n",
       " ' sambar powder',\n",
       " ' tomato',\n",
       " ' curry leaves',\n",
       " ' fennel seeds',\n",
       " 'green moong beans',\n",
       " ' rice flour',\n",
       " 'chana dal',\n",
       " ' urad dal',\n",
       " ' beans',\n",
       " ' coconut',\n",
       " ' mustard',\n",
       " 'urad dal',\n",
       " ' lemon',\n",
       " ' tamarind',\n",
       " ' cooked rice',\n",
       " ' curry leaves',\n",
       " 'tomato',\n",
       " ' curry leaves',\n",
       " ' garlic',\n",
       " ' mustard seeds',\n",
       " ' hot water',\n",
       " 'brown rice flour',\n",
       " ' sugar',\n",
       " ' grated coconut',\n",
       " 'pigeon peas',\n",
       " ' eggplant',\n",
       " ' drumsticks',\n",
       " ' sambar powder',\n",
       " ' tamarind',\n",
       " 'thin rice flakes',\n",
       " ' black sesame seeds',\n",
       " ' curry leaves',\n",
       " 'sevai',\n",
       " ' parboiled rice',\n",
       " ' steamer',\n",
       " 'urad dal',\n",
       " ' curd',\n",
       " ' sesame oil',\n",
       " ' ginger',\n",
       " ' curry leaves',\n",
       " ' mustard seeds',\n",
       " 'coconut',\n",
       " ' whole red beans',\n",
       " ' masala',\n",
       " ' sesame oil',\n",
       " ' tamarind',\n",
       " 'chana dal',\n",
       " ' urad dal',\n",
       " ' thick poha',\n",
       " ' tomato',\n",
       " ' butter',\n",
       " 'urad dal',\n",
       " ' ginger',\n",
       " ' curry leaves',\n",
       " ' green chilies',\n",
       " ' black pepper',\n",
       " 'chana dal',\n",
       " ' urad dal',\n",
       " ' ginger',\n",
       " ' curry leaves',\n",
       " ' sugar',\n",
       " 'kala masala',\n",
       " ' arhar dal',\n",
       " ' curry leaves',\n",
       " ' mustard seeds',\n",
       " ' hot water',\n",
       " 'gram flour',\n",
       " ' mustard',\n",
       " ' garlic',\n",
       " ' turmeric',\n",
       " ' red chilli',\n",
       " 'urad dal',\n",
       " ' potatoes',\n",
       " ' wheat flour',\n",
       " ' sooji',\n",
       " 'wheat flour',\n",
       " ' pearl millet flour',\n",
       " ' hot water',\n",
       " 'condensed milk',\n",
       " ' mawa',\n",
       " ' desiccated coconut',\n",
       " ' almonds',\n",
       " ' cashews',\n",
       " 'jowar flour',\n",
       " ' sesame seeds',\n",
       " 'rice flour',\n",
       " ' sesame',\n",
       " ' plain flour',\n",
       " ' turmeric',\n",
       " ' red chilli',\n",
       " 'citric acid',\n",
       " ' fry',\n",
       " ' raisins',\n",
       " ' sugar',\n",
       " ' chana daal',\n",
       " 'urad dal',\n",
       " ' bengal gram flour',\n",
       " ' dried mango',\n",
       " ' baking soda',\n",
       " ' black salt',\n",
       " 'condensed milk',\n",
       " ' nestle cream',\n",
       " ' coconut ice',\n",
       " ' red food coloring',\n",
       " ' desiccated coconut',\n",
       " 'whole wheat flour',\n",
       " ' dal',\n",
       " ' kokum',\n",
       " ' gur',\n",
       " ' bengal gram flour',\n",
       " 'pav',\n",
       " ' aloo',\n",
       " ' peanut',\n",
       " ' pomegranate',\n",
       " ' star anise',\n",
       " 'urad dal',\n",
       " ' bhuna chana',\n",
       " ' garam masala',\n",
       " ' dates',\n",
       " ' tamarind',\n",
       " 'arhar dal',\n",
       " ' coconut oil',\n",
       " ' curry leaves',\n",
       " ' mustard seeds',\n",
       " ' red chilli',\n",
       " 'rava',\n",
       " ' coconut',\n",
       " ' gram flour',\n",
       " ' mustard',\n",
       " ' sesame',\n",
       " 'bottle gourd',\n",
       " ' green',\n",
       " ' raisins',\n",
       " ' sugar',\n",
       " ' clarified butter',\n",
       " 'yogurt',\n",
       " ' besan',\n",
       " ' sauce',\n",
       " ' garam masala powder',\n",
       " ' gram flour',\n",
       " 'wheat flour',\n",
       " ' jaggery',\n",
       " ' clarified butter',\n",
       " ' sliced almonds',\n",
       " 'dry fruits',\n",
       " ' semolina',\n",
       " ' all purpose flour',\n",
       " 'bottle gourd',\n",
       " ' chana dal',\n",
       " ' cabbage',\n",
       " ' urad dal',\n",
       " ' toor dal',\n",
       " 'whole wheat rava',\n",
       " ' chia seed',\n",
       " ' lemon',\n",
       " ' edible gum',\n",
       " ' litre milk',\n",
       " 'green chilies',\n",
       " ' lemon juice',\n",
       " ' chili powder',\n",
       " ' boiled potatoes',\n",
       " 'wheat flour',\n",
       " ' cashews',\n",
       " ' rapeseed oil',\n",
       " 'mango',\n",
       " ' sugar',\n",
       " 'whole wheat flour',\n",
       " ' low fat',\n",
       " ' bengal gram flour',\n",
       " 'green chili paste',\n",
       " ' white sesame seeds',\n",
       " ' gram flour',\n",
       " ' curry leaves',\n",
       " ' green chili',\n",
       " 'rice flour',\n",
       " ' urad dal',\n",
       " ' wheat flour',\n",
       " ' gram flour',\n",
       " ' turmeric',\n",
       " 'cinnamon',\n",
       " ' jaggery',\n",
       " ' clarified butter',\n",
       " ' dry roasted',\n",
       " 'cucumber',\n",
       " ' carrot',\n",
       " ' tomatoes',\n",
       " ' cilantro',\n",
       " 'rava',\n",
       " ' gram flour',\n",
       " ' lemon juice',\n",
       " ' turmeric',\n",
       " ' fenugreek leaves',\n",
       " 'rose water',\n",
       " ' pistachio',\n",
       " ' badam',\n",
       " ' bengal gram flour',\n",
       " ' saffron',\n",
       " 'bottle gourd',\n",
       " ' whole wheat flour',\n",
       " ' rava',\n",
       " ' sesame seeds',\n",
       " ' bengal gram flour',\n",
       " 'arbi ke patte',\n",
       " ' sesame seeds',\n",
       " ' gur',\n",
       " ' bengal gram flour',\n",
       " ' imli',\n",
       " 'pav bhaji masala',\n",
       " ' gobi',\n",
       " ' potatoes',\n",
       " ' green peas',\n",
       " ' dinner rolls',\n",
       " 'aloo',\n",
       " ' urad dal',\n",
       " ' mustard',\n",
       " ' ginger',\n",
       " ' curry leaves',\n",
       " 'raw peanuts',\n",
       " ' sabudana',\n",
       " ' lemon',\n",
       " ' avocado oil',\n",
       " ' curry leaves',\n",
       " ' green chili',\n",
       " 'khaman',\n",
       " ' pomegranate',\n",
       " ' sev',\n",
       " ' powdered sugar',\n",
       " ' garlic',\n",
       " 'sev',\n",
       " ' ginger',\n",
       " ' tomato',\n",
       " ' sugar',\n",
       " 'wheat flour',\n",
       " ' baking soda',\n",
       " ' all purpose flour',\n",
       " ' black pepper',\n",
       " ' sunflower oil',\n",
       " 'whole wheat flour',\n",
       " ' gur',\n",
       " ' clarified butter',\n",
       " 'rice flakes',\n",
       " ' yogurt',\n",
       " ' raw rice',\n",
       " ' jaggery',\n",
       " ' grated coconut',\n",
       " 'whole wheat flour',\n",
       " ' rice flour',\n",
       " ' pearl millet flour',\n",
       " ' sorghum flour',\n",
       " ' sesame seeds',\n",
       " 'sweet potato',\n",
       " ' surti papdi',\n",
       " ' baby potatoes',\n",
       " ' valor papdi',\n",
       " ' green peas',\n",
       " 'gobi',\n",
       " ' potato',\n",
       " ' beans',\n",
       " ' khus khus',\n",
       " ' coconut',\n",
       " 'green garlic chutney',\n",
       " ' fresh green peas',\n",
       " ' ginger',\n",
       " ' lemon juice',\n",
       " ' plain flour',\n",
       " 'moong beans',\n",
       " ' jaggery',\n",
       " ' red chillies',\n",
       " ' oil',\n",
       " ' salt',\n",
       " 'rice flour',\n",
       " ' sesame seeds',\n",
       " ' baking soda',\n",
       " ' peanut oil',\n",
       " 'chickpea flour',\n",
       " ' methi leaves',\n",
       " ' jowar flour',\n",
       " ' wheat flour',\n",
       " 'semolina',\n",
       " ' clarified butter',\n",
       " ' oil',\n",
       " ' white flour',\n",
       " ' black pepper',\n",
       " 'yogurt',\n",
       " ' fresh coconut',\n",
       " ' sesame seeds',\n",
       " ' semolina',\n",
       " ' gram flour',\n",
       " 'ridge gourd',\n",
       " ' baking soda',\n",
       " ' sugar',\n",
       " ' grated coconut',\n",
       " ' peas',\n",
       " 'whole wheat flour',\n",
       " ' khus khus',\n",
       " ' sesame seeds',\n",
       " ' dry coconut',\n",
       " ' gur',\n",
       " 'rice',\n",
       " ' mango',\n",
       " ' curd',\n",
       " 'sticky rice',\n",
       " ' rice flour',\n",
       " ' jaggery',\n",
       " ' orange rind',\n",
       " 'raw papaya',\n",
       " ' panch phoran masala',\n",
       " ' nigella seeds',\n",
       " ' mustard oil',\n",
       " ' fennel seeds',\n",
       " 'maida',\n",
       " ' vegetable oil',\n",
       " 'brinjal',\n",
       " ' onions',\n",
       " ' salt',\n",
       " ' sesame seeds',\n",
       " ' coriander',\n",
       " 'biryani masala',\n",
       " ' mixed vegetables',\n",
       " ' yellow moong daal',\n",
       " ' whole red',\n",
       " ' mustard seeds',\n",
       " 'brown rice',\n",
       " ' soy sauce',\n",
       " ' olive oil',\n",
       " 'baking soda',\n",
       " ' clarified butter',\n",
       " ' oil',\n",
       " ' all purpose flour',\n",
       " 'jaggery',\n",
       " ' raisins',\n",
       " 'fermented bamboo shoot',\n",
       " ' potato',\n",
       " ' ginger',\n",
       " ' green',\n",
       " ' mustard oil',\n",
       " 'chana dal',\n",
       " ' fresh coconut',\n",
       " ' ginger',\n",
       " ' cinnamon',\n",
       " ' raisins',\n",
       " 'curd',\n",
       " ' cooked rice',\n",
       " ' curry leaves',\n",
       " ' dry chilli',\n",
       " 'tea leaves',\n",
       " ' white sesame seeds',\n",
       " ' dry coconut',\n",
       " ' soaked rice',\n",
       " 'basmati rice',\n",
       " ' rose water',\n",
       " ' sugar',\n",
       " ' clarified butter',\n",
       " ' cardamom pods',\n",
       " 'red pepper',\n",
       " ' red onion',\n",
       " ' butter',\n",
       " ' watercress',\n",
       " ' olive oil',\n",
       " 'green beans',\n",
       " ' bitter gourd',\n",
       " ' ridge gourd',\n",
       " ' banana',\n",
       " ' brinjal',\n",
       " 'glutinous rice',\n",
       " ' black sesame seeds',\n",
       " ' gur',\n",
       " 'coconut milk',\n",
       " ' egg yolks',\n",
       " ' clarified butter',\n",
       " ' all purpose flour',\n",
       " 'cottage cheese',\n",
       " ' dry dates',\n",
       " ' dried rose petals',\n",
       " ' pistachio',\n",
       " ' badam',\n",
       " 'milk powder',\n",
       " ' dry fruits',\n",
       " ' arrowroot powder',\n",
       " ' all purpose flour',\n",
       " 'brown rice',\n",
       " ' fennel seeds',\n",
       " ' grated coconut',\n",
       " ' black pepper',\n",
       " ' ginger powder']"
      ]
     },
     "metadata": {},
     "execution_count": 38
    }
   ],
   "source": [
    "veg_cleaned_ingredients"
   ]
  },
  {
   "cell_type": "code",
   "execution_count": 39,
   "metadata": {},
   "outputs": [
    {
     "output_type": "execute_result",
     "data": {
      "text/plain": [
       "['fish',\n",
       " ' potol',\n",
       " ' tomato',\n",
       " ' chillies',\n",
       " ' ginger',\n",
       " ' garlic',\n",
       " 'boiled pork',\n",
       " ' onions',\n",
       " ' chillies',\n",
       " ' ginger and garlic',\n",
       " 'rice',\n",
       " ' axone',\n",
       " ' salt',\n",
       " ' water',\n",
       " ' chillies',\n",
       " ' pork',\n",
       " 'chicken thighs',\n",
       " ' basmati rice',\n",
       " ' star anise',\n",
       " ' sweet',\n",
       " ' green chillies',\n",
       " 'chicken',\n",
       " ' greek yogurt',\n",
       " ' cream',\n",
       " ' garam masala powder',\n",
       " ' cashew nuts',\n",
       " ' butter',\n",
       " 'chicken',\n",
       " ' dahi',\n",
       " ' sesame seeds',\n",
       " ' garam masala powder',\n",
       " ' cashew nuts',\n",
       " ' saffron',\n",
       " 'naan bread',\n",
       " ' tomato sauce',\n",
       " ' skinless chicken breasts',\n",
       " ' heavy cream',\n",
       " ' garam masala',\n",
       " 'chicken',\n",
       " ' whole wheat bread',\n",
       " ' rice flour',\n",
       " ' garam masala powder',\n",
       " ' whole egg',\n",
       " 'greek yogurt',\n",
       " ' garam masala',\n",
       " ' kasuri methi',\n",
       " ' marinade',\n",
       " ' mustard oil',\n",
       " 'chickpea flour',\n",
       " ' biryani masala powder',\n",
       " ' yogurt',\n",
       " ' fish fillets',\n",
       " ' green bell pepper',\n",
       " 'beef',\n",
       " ' coconut',\n",
       " ' garam masala',\n",
       " ' curry leaves',\n",
       " ' green chilies',\n",
       " ' chili powder',\n",
       " 'meat curry powder',\n",
       " ' chicken chunks',\n",
       " ' ginger',\n",
       " ' tomato',\n",
       " ' cinnamon',\n",
       " 'baingan',\n",
       " ' fish',\n",
       " ' coconut oil',\n",
       " ' fresh coconut',\n",
       " ' ginger',\n",
       " 'bombay duck',\n",
       " ' malvani masala',\n",
       " ' rice flour',\n",
       " ' bombay rava',\n",
       " ' green chilies',\n",
       " 'chicken',\n",
       " ' coconut oil',\n",
       " ' wine vinegar',\n",
       " ' ginger',\n",
       " ' green',\n",
       " ' cinnamon',\n",
       " 'rice',\n",
       " ' eggs',\n",
       " ' carrot',\n",
       " ' beetroot',\n",
       " 'potatoes',\n",
       " ' mustard oil',\n",
       " ' fish',\n",
       " ' green chillies',\n",
       " 'ridge gourd',\n",
       " ' fish',\n",
       " ' lemon',\n",
       " ' tomatoes',\n",
       " ' mustard oil',\n",
       " 'potatoes',\n",
       " ' garam masala',\n",
       " ' tomatoes',\n",
       " ' mustard oil',\n",
       " ' bay leaf',\n",
       " 'forbidden black rice',\n",
       " ' chicken',\n",
       " ' olive oil',\n",
       " ' slivered almonds',\n",
       " ' garlic powder',\n",
       " 'coconut milk',\n",
       " ' lobster',\n",
       " ' fresh green chilli',\n",
       " ' ginger',\n",
       " ' red onion',\n",
       " 'lamb',\n",
       " ' garam masala powder',\n",
       " ' curd',\n",
       " ' turmeric',\n",
       " ' bay leaf',\n",
       " 'coconut',\n",
       " ' prawns',\n",
       " ' curd',\n",
       " ' mustard seed',\n",
       " ' green chili',\n",
       " 'fish fillet',\n",
       " ' besan',\n",
       " ' lemon',\n",
       " ' mint',\n",
       " ' ginger',\n",
       " 'banana flower',\n",
       " ' chicken',\n",
       " ' green chili',\n",
       " ' mustard oil',\n",
       " ' lemon juice',\n",
       " 'aloo',\n",
       " ' tomatoes',\n",
       " ' mustard oil',\n",
       " ' bay leaf',\n",
       " ' cinnamon stick',\n",
       " 'rice flour',\n",
       " ' mutton',\n",
       " ' banana',\n",
       " ' gram flour',\n",
       " ' olive oil',\n",
       " ' baking powder',\n",
       " 'fish roe',\n",
       " ' pumpkin flowers',\n",
       " ' mustard oil',\n",
       " ' turmeric',\n",
       " ' tomato',\n",
       " 'coconut milk',\n",
       " ' prawns',\n",
       " ' garlic',\n",
       " ' turmeric',\n",
       " ' sugar']"
      ]
     },
     "metadata": {},
     "execution_count": 39
    }
   ],
   "source": [
    "non_veg_cleaned_ingredients"
   ]
  },
  {
   "cell_type": "code",
   "execution_count": 40,
   "metadata": {},
   "outputs": [],
   "source": [
    "# making a series of veg and non veg ingredients\n",
    "final_veg_ingredients = pd.Series(veg_cleaned_ingredients)\n",
    "final_non_veg_ingredients = pd.Series(non_veg_cleaned_ingredients)\n",
    "\n",
    "# removing extra spaces\n",
    "final_veg_ingredients = final_veg_ingredients.str.strip()\n",
    "final_non_veg_ingredients = final_non_veg_ingredients.str.strip()\n",
    "\n",
    "# counting how many time ingredients are repeated and making a data frame\n",
    "final_veg_ingredients = final_veg_ingredients.value_counts().reset_index()\n",
    "final_veg_ingredients.columns = [\"ingredients\", \"count\"]\n",
    "\n",
    "final_non_veg_ingredients = final_non_veg_ingredients.value_counts().reset_index()\n",
    "final_non_veg_ingredients.columns = [\"ingredients\", \"count\"]"
   ]
  },
  {
   "cell_type": "code",
   "execution_count": 41,
   "metadata": {},
   "outputs": [
    {
     "output_type": "execute_result",
     "data": {
      "text/plain": [
       "      ingredients  count\n",
       "0           sugar     47\n",
       "1        urad dal     25\n",
       "2            ghee     25\n",
       "3    curry leaves     24\n",
       "4    garam masala     23\n",
       "..            ...    ...\n",
       "316  reduced milk      1\n",
       "317    star anise      1\n",
       "318    kala jeera      1\n",
       "319     mung bean      1\n",
       "320     whole red      1\n",
       "\n",
       "[321 rows x 2 columns]"
      ],
      "text/html": "<div>\n<style scoped>\n    .dataframe tbody tr th:only-of-type {\n        vertical-align: middle;\n    }\n\n    .dataframe tbody tr th {\n        vertical-align: top;\n    }\n\n    .dataframe thead th {\n        text-align: right;\n    }\n</style>\n<table border=\"1\" class=\"dataframe\">\n  <thead>\n    <tr style=\"text-align: right;\">\n      <th></th>\n      <th>ingredients</th>\n      <th>count</th>\n    </tr>\n  </thead>\n  <tbody>\n    <tr>\n      <th>0</th>\n      <td>sugar</td>\n      <td>47</td>\n    </tr>\n    <tr>\n      <th>1</th>\n      <td>urad dal</td>\n      <td>25</td>\n    </tr>\n    <tr>\n      <th>2</th>\n      <td>ghee</td>\n      <td>25</td>\n    </tr>\n    <tr>\n      <th>3</th>\n      <td>curry leaves</td>\n      <td>24</td>\n    </tr>\n    <tr>\n      <th>4</th>\n      <td>garam masala</td>\n      <td>23</td>\n    </tr>\n    <tr>\n      <th>...</th>\n      <td>...</td>\n      <td>...</td>\n    </tr>\n    <tr>\n      <th>316</th>\n      <td>reduced milk</td>\n      <td>1</td>\n    </tr>\n    <tr>\n      <th>317</th>\n      <td>star anise</td>\n      <td>1</td>\n    </tr>\n    <tr>\n      <th>318</th>\n      <td>kala jeera</td>\n      <td>1</td>\n    </tr>\n    <tr>\n      <th>319</th>\n      <td>mung bean</td>\n      <td>1</td>\n    </tr>\n    <tr>\n      <th>320</th>\n      <td>whole red</td>\n      <td>1</td>\n    </tr>\n  </tbody>\n</table>\n<p>321 rows × 2 columns</p>\n</div>"
     },
     "metadata": {},
     "execution_count": 41
    }
   ],
   "source": [
    "final_non_veg_ingredients\n",
    "final_veg_ingredients"
   ]
  },
  {
   "cell_type": "code",
   "execution_count": 42,
   "metadata": {},
   "outputs": [
    {
     "output_type": "display_data",
     "data": {
      "text/plain": "<Figure size 864x432 with 1 Axes>",
      "image/svg+xml": "<?xml version=\"1.0\" encoding=\"utf-8\" standalone=\"no\"?>\n<!DOCTYPE svg PUBLIC \"-//W3C//DTD SVG 1.1//EN\"\n  \"http://www.w3.org/Graphics/SVG/1.1/DTD/svg11.dtd\">\n<svg height=\"386.034375pt\" version=\"1.1\" viewBox=\"0 0 816.860937 386.034375\" width=\"816.860937pt\" xmlns=\"http://www.w3.org/2000/svg\" xmlns:xlink=\"http://www.w3.org/1999/xlink\">\n <metadata>\n  <rdf:RDF xmlns:cc=\"http://creativecommons.org/ns#\" xmlns:dc=\"http://purl.org/dc/elements/1.1/\" xmlns:rdf=\"http://www.w3.org/1999/02/22-rdf-syntax-ns#\">\n   <cc:Work>\n    <dc:type rdf:resource=\"http://purl.org/dc/dcmitype/StillImage\"/>\n    <dc:date>2021-04-25T19:58:00.749624</dc:date>\n    <dc:format>image/svg+xml</dc:format>\n    <dc:creator>\n     <cc:Agent>\n      <dc:title>Matplotlib v3.4.1, https://matplotlib.org/</dc:title>\n     </cc:Agent>\n    </dc:creator>\n   </cc:Work>\n  </rdf:RDF>\n </metadata>\n <defs>\n  <style type=\"text/css\">*{stroke-linecap:butt;stroke-linejoin:round;}</style>\n </defs>\n <g id=\"figure_1\">\n  <g id=\"patch_1\">\n   <path d=\"M 0 386.034375 \nL 816.860937 386.034375 \nL 816.860937 0 \nL 0 0 \nz\n\" style=\"fill:none;\"/>\n  </g>\n  <g id=\"axes_1\">\n   <g id=\"patch_2\">\n    <path d=\"M 140.060938 348.478125 \nL 809.660938 348.478125 \nL 809.660938 22.318125 \nL 140.060938 22.318125 \nz\n\" style=\"fill:#ffffff;\"/>\n   </g>\n   <g id=\"patch_3\">\n    <path clip-path=\"url(#p489beb5c6d)\" d=\"M 140.060938 23.948925 \nL 777.775223 23.948925 \nL 777.775223 36.995325 \nL 140.060938 36.995325 \nz\n\" style=\"fill:#ea96a3;\"/>\n   </g>\n   <g id=\"patch_4\">\n    <path clip-path=\"url(#p489beb5c6d)\" d=\"M 140.060938 40.256925 \nL 479.270664 40.256925 \nL 479.270664 53.303325 \nL 140.060938 53.303325 \nz\n\" style=\"fill:#e79683;\"/>\n   </g>\n   <g id=\"patch_5\">\n    <path clip-path=\"url(#p489beb5c6d)\" d=\"M 140.060938 56.564925 \nL 479.270664 56.564925 \nL 479.270664 69.611325 \nL 140.060938 69.611325 \nz\n\" style=\"fill:#d7944e;\"/>\n   </g>\n   <g id=\"patch_6\">\n    <path clip-path=\"url(#p489beb5c6d)\" d=\"M 140.060938 72.872925 \nL 465.702275 72.872925 \nL 465.702275 85.919325 \nL 140.060938 85.919325 \nz\n\" style=\"fill:#bf9a4a;\"/>\n   </g>\n   <g id=\"patch_7\">\n    <path clip-path=\"url(#p489beb5c6d)\" d=\"M 140.060938 89.180925 \nL 452.133886 89.180925 \nL 452.133886 102.227325 \nL 140.060938 102.227325 \nz\n\" style=\"fill:#ab9e47;\"/>\n   </g>\n   <g id=\"patch_8\">\n    <path clip-path=\"url(#p489beb5c6d)\" d=\"M 140.060938 105.488925 \nL 452.133886 105.488925 \nL 452.133886 118.535325 \nL 140.060938 118.535325 \nz\n\" style=\"fill:#98a246;\"/>\n   </g>\n   <g id=\"patch_9\">\n    <path clip-path=\"url(#p489beb5c6d)\" d=\"M 140.060938 121.796925 \nL 424.997108 121.796925 \nL 424.997108 134.843325 \nL 140.060938 134.843325 \nz\n\" style=\"fill:#7fa946;\"/>\n   </g>\n   <g id=\"patch_10\">\n    <path clip-path=\"url(#p489beb5c6d)\" d=\"M 140.060938 138.104925 \nL 424.997108 138.104925 \nL 424.997108 151.151325 \nL 140.060938 151.151325 \nz\n\" style=\"fill:#48b052;\"/>\n   </g>\n   <g id=\"patch_11\">\n    <path clip-path=\"url(#p489beb5c6d)\" d=\"M 140.060938 154.412925 \nL 384.291941 154.412925 \nL 384.291941 167.459325 \nL 140.060938 167.459325 \nz\n\" style=\"fill:#49ae83;\"/>\n   </g>\n   <g id=\"patch_12\">\n    <path clip-path=\"url(#p489beb5c6d)\" d=\"M 140.060938 170.720925 \nL 357.155162 170.720925 \nL 357.155162 183.767325 \nL 140.060938 183.767325 \nz\n\" style=\"fill:#4aad96;\"/>\n   </g>\n   <g id=\"patch_13\">\n    <path clip-path=\"url(#p489beb5c6d)\" d=\"M 140.060938 187.028925 \nL 316.449995 187.028925 \nL 316.449995 200.075325 \nL 140.060938 200.075325 \nz\n\" style=\"fill:#4baba4;\"/>\n   </g>\n   <g id=\"patch_14\">\n    <path clip-path=\"url(#p489beb5c6d)\" d=\"M 140.060938 203.336925 \nL 302.881606 203.336925 \nL 302.881606 216.383325 \nL 140.060938 216.383325 \nz\n\" style=\"fill:#4dabb2;\"/>\n   </g>\n   <g id=\"patch_15\">\n    <path clip-path=\"url(#p489beb5c6d)\" d=\"M 140.060938 219.644925 \nL 302.881606 219.644925 \nL 302.881606 232.691325 \nL 140.060938 232.691325 \nz\n\" style=\"fill:#50acc3;\"/>\n   </g>\n   <g id=\"patch_16\">\n    <path clip-path=\"url(#p489beb5c6d)\" d=\"M 140.060938 235.952925 \nL 302.881606 235.952925 \nL 302.881606 248.999325 \nL 140.060938 248.999325 \nz\n\" style=\"fill:#56addb;\"/>\n   </g>\n   <g id=\"patch_17\">\n    <path clip-path=\"url(#p489beb5c6d)\" d=\"M 140.060938 252.260925 \nL 289.313217 252.260925 \nL 289.313217 265.307325 \nL 140.060938 265.307325 \nz\n\" style=\"fill:#94aee8;\"/>\n   </g>\n   <g id=\"patch_18\">\n    <path clip-path=\"url(#p489beb5c6d)\" d=\"M 140.060938 268.568925 \nL 275.744828 268.568925 \nL 275.744828 281.615325 \nL 140.060938 281.615325 \nz\n\" style=\"fill:#b6a8eb;\"/>\n   </g>\n   <g id=\"patch_19\">\n    <path clip-path=\"url(#p489beb5c6d)\" d=\"M 140.060938 284.876925 \nL 275.744828 284.876925 \nL 275.744828 297.923325 \nL 140.060938 297.923325 \nz\n\" style=\"fill:#ce9be9;\"/>\n   </g>\n   <g id=\"patch_20\">\n    <path clip-path=\"url(#p489beb5c6d)\" d=\"M 140.060938 301.184925 \nL 262.176439 301.184925 \nL 262.176439 314.231325 \nL 140.060938 314.231325 \nz\n\" style=\"fill:#e689e4;\"/>\n   </g>\n   <g id=\"patch_21\">\n    <path clip-path=\"url(#p489beb5c6d)\" d=\"M 140.060938 317.492925 \nL 262.176439 317.492925 \nL 262.176439 330.539325 \nL 140.060938 330.539325 \nz\n\" style=\"fill:#e88fcc;\"/>\n   </g>\n   <g id=\"patch_22\">\n    <path clip-path=\"url(#p489beb5c6d)\" d=\"M 140.060938 333.800925 \nL 262.176439 333.800925 \nL 262.176439 346.847325 \nL 140.060938 346.847325 \nz\n\" style=\"fill:#e993b9;\"/>\n   </g>\n   <g id=\"matplotlib.axis_1\">\n    <g id=\"xtick_1\">\n     <g id=\"line2d_1\">\n      <defs>\n       <path d=\"M 0 0 \nL 0 3.5 \n\" id=\"m3ed2432945\" style=\"stroke:#000000;stroke-width:0.8;\"/>\n      </defs>\n      <g>\n       <use style=\"stroke:#000000;stroke-width:0.8;\" x=\"140.060938\" xlink:href=\"#m3ed2432945\" y=\"348.478125\"/>\n      </g>\n     </g>\n     <g id=\"text_1\">\n      <!-- 0 -->\n      <g transform=\"translate(136.879688 363.076562)scale(0.1 -0.1)\">\n       <defs>\n        <path d=\"M 2034 4250 \nQ 1547 4250 1301 3770 \nQ 1056 3291 1056 2328 \nQ 1056 1369 1301 889 \nQ 1547 409 2034 409 \nQ 2525 409 2770 889 \nQ 3016 1369 3016 2328 \nQ 3016 3291 2770 3770 \nQ 2525 4250 2034 4250 \nz\nM 2034 4750 \nQ 2819 4750 3233 4129 \nQ 3647 3509 3647 2328 \nQ 3647 1150 3233 529 \nQ 2819 -91 2034 -91 \nQ 1250 -91 836 529 \nQ 422 1150 422 2328 \nQ 422 3509 836 4129 \nQ 1250 4750 2034 4750 \nz\n\" id=\"DejaVuSans-30\" transform=\"scale(0.015625)\"/>\n       </defs>\n       <use xlink:href=\"#DejaVuSans-30\"/>\n      </g>\n     </g>\n    </g>\n    <g id=\"xtick_2\">\n     <g id=\"line2d_2\">\n      <g>\n       <use style=\"stroke:#000000;stroke-width:0.8;\" x=\"275.744828\" xlink:href=\"#m3ed2432945\" y=\"348.478125\"/>\n      </g>\n     </g>\n     <g id=\"text_2\">\n      <!-- 10 -->\n      <g transform=\"translate(269.382328 363.076562)scale(0.1 -0.1)\">\n       <defs>\n        <path d=\"M 794 531 \nL 1825 531 \nL 1825 4091 \nL 703 3866 \nL 703 4441 \nL 1819 4666 \nL 2450 4666 \nL 2450 531 \nL 3481 531 \nL 3481 0 \nL 794 0 \nL 794 531 \nz\n\" id=\"DejaVuSans-31\" transform=\"scale(0.015625)\"/>\n       </defs>\n       <use xlink:href=\"#DejaVuSans-31\"/>\n       <use x=\"63.623047\" xlink:href=\"#DejaVuSans-30\"/>\n      </g>\n     </g>\n    </g>\n    <g id=\"xtick_3\">\n     <g id=\"line2d_3\">\n      <g>\n       <use style=\"stroke:#000000;stroke-width:0.8;\" x=\"411.428719\" xlink:href=\"#m3ed2432945\" y=\"348.478125\"/>\n      </g>\n     </g>\n     <g id=\"text_3\">\n      <!-- 20 -->\n      <g transform=\"translate(405.066219 363.076562)scale(0.1 -0.1)\">\n       <defs>\n        <path d=\"M 1228 531 \nL 3431 531 \nL 3431 0 \nL 469 0 \nL 469 531 \nQ 828 903 1448 1529 \nQ 2069 2156 2228 2338 \nQ 2531 2678 2651 2914 \nQ 2772 3150 2772 3378 \nQ 2772 3750 2511 3984 \nQ 2250 4219 1831 4219 \nQ 1534 4219 1204 4116 \nQ 875 4013 500 3803 \nL 500 4441 \nQ 881 4594 1212 4672 \nQ 1544 4750 1819 4750 \nQ 2544 4750 2975 4387 \nQ 3406 4025 3406 3419 \nQ 3406 3131 3298 2873 \nQ 3191 2616 2906 2266 \nQ 2828 2175 2409 1742 \nQ 1991 1309 1228 531 \nz\n\" id=\"DejaVuSans-32\" transform=\"scale(0.015625)\"/>\n       </defs>\n       <use xlink:href=\"#DejaVuSans-32\"/>\n       <use x=\"63.623047\" xlink:href=\"#DejaVuSans-30\"/>\n      </g>\n     </g>\n    </g>\n    <g id=\"xtick_4\">\n     <g id=\"line2d_4\">\n      <g>\n       <use style=\"stroke:#000000;stroke-width:0.8;\" x=\"547.112609\" xlink:href=\"#m3ed2432945\" y=\"348.478125\"/>\n      </g>\n     </g>\n     <g id=\"text_4\">\n      <!-- 30 -->\n      <g transform=\"translate(540.750109 363.076562)scale(0.1 -0.1)\">\n       <defs>\n        <path d=\"M 2597 2516 \nQ 3050 2419 3304 2112 \nQ 3559 1806 3559 1356 \nQ 3559 666 3084 287 \nQ 2609 -91 1734 -91 \nQ 1441 -91 1130 -33 \nQ 819 25 488 141 \nL 488 750 \nQ 750 597 1062 519 \nQ 1375 441 1716 441 \nQ 2309 441 2620 675 \nQ 2931 909 2931 1356 \nQ 2931 1769 2642 2001 \nQ 2353 2234 1838 2234 \nL 1294 2234 \nL 1294 2753 \nL 1863 2753 \nQ 2328 2753 2575 2939 \nQ 2822 3125 2822 3475 \nQ 2822 3834 2567 4026 \nQ 2313 4219 1838 4219 \nQ 1578 4219 1281 4162 \nQ 984 4106 628 3988 \nL 628 4550 \nQ 988 4650 1302 4700 \nQ 1616 4750 1894 4750 \nQ 2613 4750 3031 4423 \nQ 3450 4097 3450 3541 \nQ 3450 3153 3228 2886 \nQ 3006 2619 2597 2516 \nz\n\" id=\"DejaVuSans-33\" transform=\"scale(0.015625)\"/>\n       </defs>\n       <use xlink:href=\"#DejaVuSans-33\"/>\n       <use x=\"63.623047\" xlink:href=\"#DejaVuSans-30\"/>\n      </g>\n     </g>\n    </g>\n    <g id=\"xtick_5\">\n     <g id=\"line2d_5\">\n      <g>\n       <use style=\"stroke:#000000;stroke-width:0.8;\" x=\"682.7965\" xlink:href=\"#m3ed2432945\" y=\"348.478125\"/>\n      </g>\n     </g>\n     <g id=\"text_5\">\n      <!-- 40 -->\n      <g transform=\"translate(676.434 363.076562)scale(0.1 -0.1)\">\n       <defs>\n        <path d=\"M 2419 4116 \nL 825 1625 \nL 2419 1625 \nL 2419 4116 \nz\nM 2253 4666 \nL 3047 4666 \nL 3047 1625 \nL 3713 1625 \nL 3713 1100 \nL 3047 1100 \nL 3047 0 \nL 2419 0 \nL 2419 1100 \nL 313 1100 \nL 313 1709 \nL 2253 4666 \nz\n\" id=\"DejaVuSans-34\" transform=\"scale(0.015625)\"/>\n       </defs>\n       <use xlink:href=\"#DejaVuSans-34\"/>\n       <use x=\"63.623047\" xlink:href=\"#DejaVuSans-30\"/>\n      </g>\n     </g>\n    </g>\n    <g id=\"text_6\">\n     <!-- count -->\n     <g transform=\"translate(460.754688 376.754687)scale(0.1 -0.1)\">\n      <defs>\n       <path d=\"M 3122 3366 \nL 3122 2828 \nQ 2878 2963 2633 3030 \nQ 2388 3097 2138 3097 \nQ 1578 3097 1268 2742 \nQ 959 2388 959 1747 \nQ 959 1106 1268 751 \nQ 1578 397 2138 397 \nQ 2388 397 2633 464 \nQ 2878 531 3122 666 \nL 3122 134 \nQ 2881 22 2623 -34 \nQ 2366 -91 2075 -91 \nQ 1284 -91 818 406 \nQ 353 903 353 1747 \nQ 353 2603 823 3093 \nQ 1294 3584 2113 3584 \nQ 2378 3584 2631 3529 \nQ 2884 3475 3122 3366 \nz\n\" id=\"DejaVuSans-63\" transform=\"scale(0.015625)\"/>\n       <path d=\"M 1959 3097 \nQ 1497 3097 1228 2736 \nQ 959 2375 959 1747 \nQ 959 1119 1226 758 \nQ 1494 397 1959 397 \nQ 2419 397 2687 759 \nQ 2956 1122 2956 1747 \nQ 2956 2369 2687 2733 \nQ 2419 3097 1959 3097 \nz\nM 1959 3584 \nQ 2709 3584 3137 3096 \nQ 3566 2609 3566 1747 \nQ 3566 888 3137 398 \nQ 2709 -91 1959 -91 \nQ 1206 -91 779 398 \nQ 353 888 353 1747 \nQ 353 2609 779 3096 \nQ 1206 3584 1959 3584 \nz\n\" id=\"DejaVuSans-6f\" transform=\"scale(0.015625)\"/>\n       <path d=\"M 544 1381 \nL 544 3500 \nL 1119 3500 \nL 1119 1403 \nQ 1119 906 1312 657 \nQ 1506 409 1894 409 \nQ 2359 409 2629 706 \nQ 2900 1003 2900 1516 \nL 2900 3500 \nL 3475 3500 \nL 3475 0 \nL 2900 0 \nL 2900 538 \nQ 2691 219 2414 64 \nQ 2138 -91 1772 -91 \nQ 1169 -91 856 284 \nQ 544 659 544 1381 \nz\nM 1991 3584 \nL 1991 3584 \nz\n\" id=\"DejaVuSans-75\" transform=\"scale(0.015625)\"/>\n       <path d=\"M 3513 2113 \nL 3513 0 \nL 2938 0 \nL 2938 2094 \nQ 2938 2591 2744 2837 \nQ 2550 3084 2163 3084 \nQ 1697 3084 1428 2787 \nQ 1159 2491 1159 1978 \nL 1159 0 \nL 581 0 \nL 581 3500 \nL 1159 3500 \nL 1159 2956 \nQ 1366 3272 1645 3428 \nQ 1925 3584 2291 3584 \nQ 2894 3584 3203 3211 \nQ 3513 2838 3513 2113 \nz\n\" id=\"DejaVuSans-6e\" transform=\"scale(0.015625)\"/>\n       <path d=\"M 1172 4494 \nL 1172 3500 \nL 2356 3500 \nL 2356 3053 \nL 1172 3053 \nL 1172 1153 \nQ 1172 725 1289 603 \nQ 1406 481 1766 481 \nL 2356 481 \nL 2356 0 \nL 1766 0 \nQ 1100 0 847 248 \nQ 594 497 594 1153 \nL 594 3053 \nL 172 3053 \nL 172 3500 \nL 594 3500 \nL 594 4494 \nL 1172 4494 \nz\n\" id=\"DejaVuSans-74\" transform=\"scale(0.015625)\"/>\n      </defs>\n      <use xlink:href=\"#DejaVuSans-63\"/>\n      <use x=\"54.980469\" xlink:href=\"#DejaVuSans-6f\"/>\n      <use x=\"116.162109\" xlink:href=\"#DejaVuSans-75\"/>\n      <use x=\"179.541016\" xlink:href=\"#DejaVuSans-6e\"/>\n      <use x=\"242.919922\" xlink:href=\"#DejaVuSans-74\"/>\n     </g>\n    </g>\n   </g>\n   <g id=\"matplotlib.axis_2\">\n    <g id=\"ytick_1\">\n     <g id=\"line2d_6\">\n      <defs>\n       <path d=\"M 0 0 \nL -3.5 0 \n\" id=\"m29c08ff5d5\" style=\"stroke:#000000;stroke-width:0.8;\"/>\n      </defs>\n      <g>\n       <use style=\"stroke:#000000;stroke-width:0.8;\" x=\"140.060938\" xlink:href=\"#m29c08ff5d5\" y=\"30.472125\"/>\n      </g>\n     </g>\n     <g id=\"text_7\">\n      <!-- sugar -->\n      <g transform=\"translate(104.926563 34.271344)scale(0.1 -0.1)\">\n       <defs>\n        <path d=\"M 2834 3397 \nL 2834 2853 \nQ 2591 2978 2328 3040 \nQ 2066 3103 1784 3103 \nQ 1356 3103 1142 2972 \nQ 928 2841 928 2578 \nQ 928 2378 1081 2264 \nQ 1234 2150 1697 2047 \nL 1894 2003 \nQ 2506 1872 2764 1633 \nQ 3022 1394 3022 966 \nQ 3022 478 2636 193 \nQ 2250 -91 1575 -91 \nQ 1294 -91 989 -36 \nQ 684 19 347 128 \nL 347 722 \nQ 666 556 975 473 \nQ 1284 391 1588 391 \nQ 1994 391 2212 530 \nQ 2431 669 2431 922 \nQ 2431 1156 2273 1281 \nQ 2116 1406 1581 1522 \nL 1381 1569 \nQ 847 1681 609 1914 \nQ 372 2147 372 2553 \nQ 372 3047 722 3315 \nQ 1072 3584 1716 3584 \nQ 2034 3584 2315 3537 \nQ 2597 3491 2834 3397 \nz\n\" id=\"DejaVuSans-73\" transform=\"scale(0.015625)\"/>\n        <path d=\"M 2906 1791 \nQ 2906 2416 2648 2759 \nQ 2391 3103 1925 3103 \nQ 1463 3103 1205 2759 \nQ 947 2416 947 1791 \nQ 947 1169 1205 825 \nQ 1463 481 1925 481 \nQ 2391 481 2648 825 \nQ 2906 1169 2906 1791 \nz\nM 3481 434 \nQ 3481 -459 3084 -895 \nQ 2688 -1331 1869 -1331 \nQ 1566 -1331 1297 -1286 \nQ 1028 -1241 775 -1147 \nL 775 -588 \nQ 1028 -725 1275 -790 \nQ 1522 -856 1778 -856 \nQ 2344 -856 2625 -561 \nQ 2906 -266 2906 331 \nL 2906 616 \nQ 2728 306 2450 153 \nQ 2172 0 1784 0 \nQ 1141 0 747 490 \nQ 353 981 353 1791 \nQ 353 2603 747 3093 \nQ 1141 3584 1784 3584 \nQ 2172 3584 2450 3431 \nQ 2728 3278 2906 2969 \nL 2906 3500 \nL 3481 3500 \nL 3481 434 \nz\n\" id=\"DejaVuSans-67\" transform=\"scale(0.015625)\"/>\n        <path d=\"M 2194 1759 \nQ 1497 1759 1228 1600 \nQ 959 1441 959 1056 \nQ 959 750 1161 570 \nQ 1363 391 1709 391 \nQ 2188 391 2477 730 \nQ 2766 1069 2766 1631 \nL 2766 1759 \nL 2194 1759 \nz\nM 3341 1997 \nL 3341 0 \nL 2766 0 \nL 2766 531 \nQ 2569 213 2275 61 \nQ 1981 -91 1556 -91 \nQ 1019 -91 701 211 \nQ 384 513 384 1019 \nQ 384 1609 779 1909 \nQ 1175 2209 1959 2209 \nL 2766 2209 \nL 2766 2266 \nQ 2766 2663 2505 2880 \nQ 2244 3097 1772 3097 \nQ 1472 3097 1187 3025 \nQ 903 2953 641 2809 \nL 641 3341 \nQ 956 3463 1253 3523 \nQ 1550 3584 1831 3584 \nQ 2591 3584 2966 3190 \nQ 3341 2797 3341 1997 \nz\n\" id=\"DejaVuSans-61\" transform=\"scale(0.015625)\"/>\n        <path d=\"M 2631 2963 \nQ 2534 3019 2420 3045 \nQ 2306 3072 2169 3072 \nQ 1681 3072 1420 2755 \nQ 1159 2438 1159 1844 \nL 1159 0 \nL 581 0 \nL 581 3500 \nL 1159 3500 \nL 1159 2956 \nQ 1341 3275 1631 3429 \nQ 1922 3584 2338 3584 \nQ 2397 3584 2469 3576 \nQ 2541 3569 2628 3553 \nL 2631 2963 \nz\n\" id=\"DejaVuSans-72\" transform=\"scale(0.015625)\"/>\n       </defs>\n       <use xlink:href=\"#DejaVuSans-73\"/>\n       <use x=\"52.099609\" xlink:href=\"#DejaVuSans-75\"/>\n       <use x=\"115.478516\" xlink:href=\"#DejaVuSans-67\"/>\n       <use x=\"178.955078\" xlink:href=\"#DejaVuSans-61\"/>\n       <use x=\"240.234375\" xlink:href=\"#DejaVuSans-72\"/>\n      </g>\n     </g>\n    </g>\n    <g id=\"ytick_2\">\n     <g id=\"line2d_7\">\n      <g>\n       <use style=\"stroke:#000000;stroke-width:0.8;\" x=\"140.060938\" xlink:href=\"#m29c08ff5d5\" y=\"46.780125\"/>\n      </g>\n     </g>\n     <g id=\"text_8\">\n      <!-- urad dal -->\n      <g transform=\"translate(91.703125 50.579344)scale(0.1 -0.1)\">\n       <defs>\n        <path d=\"M 2906 2969 \nL 2906 4863 \nL 3481 4863 \nL 3481 0 \nL 2906 0 \nL 2906 525 \nQ 2725 213 2448 61 \nQ 2172 -91 1784 -91 \nQ 1150 -91 751 415 \nQ 353 922 353 1747 \nQ 353 2572 751 3078 \nQ 1150 3584 1784 3584 \nQ 2172 3584 2448 3432 \nQ 2725 3281 2906 2969 \nz\nM 947 1747 \nQ 947 1113 1208 752 \nQ 1469 391 1925 391 \nQ 2381 391 2643 752 \nQ 2906 1113 2906 1747 \nQ 2906 2381 2643 2742 \nQ 2381 3103 1925 3103 \nQ 1469 3103 1208 2742 \nQ 947 2381 947 1747 \nz\n\" id=\"DejaVuSans-64\" transform=\"scale(0.015625)\"/>\n        <path id=\"DejaVuSans-20\" transform=\"scale(0.015625)\"/>\n        <path d=\"M 603 4863 \nL 1178 4863 \nL 1178 0 \nL 603 0 \nL 603 4863 \nz\n\" id=\"DejaVuSans-6c\" transform=\"scale(0.015625)\"/>\n       </defs>\n       <use xlink:href=\"#DejaVuSans-75\"/>\n       <use x=\"63.378906\" xlink:href=\"#DejaVuSans-72\"/>\n       <use x=\"104.492188\" xlink:href=\"#DejaVuSans-61\"/>\n       <use x=\"165.771484\" xlink:href=\"#DejaVuSans-64\"/>\n       <use x=\"229.248047\" xlink:href=\"#DejaVuSans-20\"/>\n       <use x=\"261.035156\" xlink:href=\"#DejaVuSans-64\"/>\n       <use x=\"324.511719\" xlink:href=\"#DejaVuSans-61\"/>\n       <use x=\"385.791016\" xlink:href=\"#DejaVuSans-6c\"/>\n      </g>\n     </g>\n    </g>\n    <g id=\"ytick_3\">\n     <g id=\"line2d_8\">\n      <g>\n       <use style=\"stroke:#000000;stroke-width:0.8;\" x=\"140.060938\" xlink:href=\"#m29c08ff5d5\" y=\"63.088125\"/>\n      </g>\n     </g>\n     <g id=\"text_9\">\n      <!-- ghee -->\n      <g transform=\"translate(108.06875 66.887344)scale(0.1 -0.1)\">\n       <defs>\n        <path d=\"M 3513 2113 \nL 3513 0 \nL 2938 0 \nL 2938 2094 \nQ 2938 2591 2744 2837 \nQ 2550 3084 2163 3084 \nQ 1697 3084 1428 2787 \nQ 1159 2491 1159 1978 \nL 1159 0 \nL 581 0 \nL 581 4863 \nL 1159 4863 \nL 1159 2956 \nQ 1366 3272 1645 3428 \nQ 1925 3584 2291 3584 \nQ 2894 3584 3203 3211 \nQ 3513 2838 3513 2113 \nz\n\" id=\"DejaVuSans-68\" transform=\"scale(0.015625)\"/>\n        <path d=\"M 3597 1894 \nL 3597 1613 \nL 953 1613 \nQ 991 1019 1311 708 \nQ 1631 397 2203 397 \nQ 2534 397 2845 478 \nQ 3156 559 3463 722 \nL 3463 178 \nQ 3153 47 2828 -22 \nQ 2503 -91 2169 -91 \nQ 1331 -91 842 396 \nQ 353 884 353 1716 \nQ 353 2575 817 3079 \nQ 1281 3584 2069 3584 \nQ 2775 3584 3186 3129 \nQ 3597 2675 3597 1894 \nz\nM 3022 2063 \nQ 3016 2534 2758 2815 \nQ 2500 3097 2075 3097 \nQ 1594 3097 1305 2825 \nQ 1016 2553 972 2059 \nL 3022 2063 \nz\n\" id=\"DejaVuSans-65\" transform=\"scale(0.015625)\"/>\n       </defs>\n       <use xlink:href=\"#DejaVuSans-67\"/>\n       <use x=\"63.476562\" xlink:href=\"#DejaVuSans-68\"/>\n       <use x=\"126.855469\" xlink:href=\"#DejaVuSans-65\"/>\n       <use x=\"188.378906\" xlink:href=\"#DejaVuSans-65\"/>\n      </g>\n     </g>\n    </g>\n    <g id=\"ytick_4\">\n     <g id=\"line2d_9\">\n      <g>\n       <use style=\"stroke:#000000;stroke-width:0.8;\" x=\"140.060938\" xlink:href=\"#m29c08ff5d5\" y=\"79.396125\"/>\n      </g>\n     </g>\n     <g id=\"text_10\">\n      <!-- curry leaves -->\n      <g transform=\"translate(71.740625 83.195344)scale(0.1 -0.1)\">\n       <defs>\n        <path d=\"M 2059 -325 \nQ 1816 -950 1584 -1140 \nQ 1353 -1331 966 -1331 \nL 506 -1331 \nL 506 -850 \nL 844 -850 \nQ 1081 -850 1212 -737 \nQ 1344 -625 1503 -206 \nL 1606 56 \nL 191 3500 \nL 800 3500 \nL 1894 763 \nL 2988 3500 \nL 3597 3500 \nL 2059 -325 \nz\n\" id=\"DejaVuSans-79\" transform=\"scale(0.015625)\"/>\n        <path d=\"M 191 3500 \nL 800 3500 \nL 1894 563 \nL 2988 3500 \nL 3597 3500 \nL 2284 0 \nL 1503 0 \nL 191 3500 \nz\n\" id=\"DejaVuSans-76\" transform=\"scale(0.015625)\"/>\n       </defs>\n       <use xlink:href=\"#DejaVuSans-63\"/>\n       <use x=\"54.980469\" xlink:href=\"#DejaVuSans-75\"/>\n       <use x=\"118.359375\" xlink:href=\"#DejaVuSans-72\"/>\n       <use x=\"157.722656\" xlink:href=\"#DejaVuSans-72\"/>\n       <use x=\"198.835938\" xlink:href=\"#DejaVuSans-79\"/>\n       <use x=\"258.015625\" xlink:href=\"#DejaVuSans-20\"/>\n       <use x=\"289.802734\" xlink:href=\"#DejaVuSans-6c\"/>\n       <use x=\"317.585938\" xlink:href=\"#DejaVuSans-65\"/>\n       <use x=\"379.109375\" xlink:href=\"#DejaVuSans-61\"/>\n       <use x=\"440.388672\" xlink:href=\"#DejaVuSans-76\"/>\n       <use x=\"499.568359\" xlink:href=\"#DejaVuSans-65\"/>\n       <use x=\"561.091797\" xlink:href=\"#DejaVuSans-73\"/>\n      </g>\n     </g>\n    </g>\n    <g id=\"ytick_5\">\n     <g id=\"line2d_10\">\n      <g>\n       <use style=\"stroke:#000000;stroke-width:0.8;\" x=\"140.060938\" xlink:href=\"#m29c08ff5d5\" y=\"95.704125\"/>\n      </g>\n     </g>\n     <g id=\"text_11\">\n      <!-- garam masala -->\n      <g transform=\"translate(61.314063 99.503344)scale(0.1 -0.1)\">\n       <defs>\n        <path d=\"M 3328 2828 \nQ 3544 3216 3844 3400 \nQ 4144 3584 4550 3584 \nQ 5097 3584 5394 3201 \nQ 5691 2819 5691 2113 \nL 5691 0 \nL 5113 0 \nL 5113 2094 \nQ 5113 2597 4934 2840 \nQ 4756 3084 4391 3084 \nQ 3944 3084 3684 2787 \nQ 3425 2491 3425 1978 \nL 3425 0 \nL 2847 0 \nL 2847 2094 \nQ 2847 2600 2669 2842 \nQ 2491 3084 2119 3084 \nQ 1678 3084 1418 2786 \nQ 1159 2488 1159 1978 \nL 1159 0 \nL 581 0 \nL 581 3500 \nL 1159 3500 \nL 1159 2956 \nQ 1356 3278 1631 3431 \nQ 1906 3584 2284 3584 \nQ 2666 3584 2933 3390 \nQ 3200 3197 3328 2828 \nz\n\" id=\"DejaVuSans-6d\" transform=\"scale(0.015625)\"/>\n       </defs>\n       <use xlink:href=\"#DejaVuSans-67\"/>\n       <use x=\"63.476562\" xlink:href=\"#DejaVuSans-61\"/>\n       <use x=\"124.755859\" xlink:href=\"#DejaVuSans-72\"/>\n       <use x=\"165.869141\" xlink:href=\"#DejaVuSans-61\"/>\n       <use x=\"227.148438\" xlink:href=\"#DejaVuSans-6d\"/>\n       <use x=\"324.560547\" xlink:href=\"#DejaVuSans-20\"/>\n       <use x=\"356.347656\" xlink:href=\"#DejaVuSans-6d\"/>\n       <use x=\"453.759766\" xlink:href=\"#DejaVuSans-61\"/>\n       <use x=\"515.039062\" xlink:href=\"#DejaVuSans-73\"/>\n       <use x=\"567.138672\" xlink:href=\"#DejaVuSans-61\"/>\n       <use x=\"628.417969\" xlink:href=\"#DejaVuSans-6c\"/>\n       <use x=\"656.201172\" xlink:href=\"#DejaVuSans-61\"/>\n      </g>\n     </g>\n    </g>\n    <g id=\"ytick_6\">\n     <g id=\"line2d_11\">\n      <g>\n       <use style=\"stroke:#000000;stroke-width:0.8;\" x=\"140.060938\" xlink:href=\"#m29c08ff5d5\" y=\"112.012125\"/>\n      </g>\n     </g>\n     <g id=\"text_12\">\n      <!-- ginger -->\n      <g transform=\"translate(100.984375 115.811344)scale(0.1 -0.1)\">\n       <defs>\n        <path d=\"M 603 3500 \nL 1178 3500 \nL 1178 0 \nL 603 0 \nL 603 3500 \nz\nM 603 4863 \nL 1178 4863 \nL 1178 4134 \nL 603 4134 \nL 603 4863 \nz\n\" id=\"DejaVuSans-69\" transform=\"scale(0.015625)\"/>\n       </defs>\n       <use xlink:href=\"#DejaVuSans-67\"/>\n       <use x=\"63.476562\" xlink:href=\"#DejaVuSans-69\"/>\n       <use x=\"91.259766\" xlink:href=\"#DejaVuSans-6e\"/>\n       <use x=\"154.638672\" xlink:href=\"#DejaVuSans-67\"/>\n       <use x=\"218.115234\" xlink:href=\"#DejaVuSans-65\"/>\n       <use x=\"279.638672\" xlink:href=\"#DejaVuSans-72\"/>\n      </g>\n     </g>\n    </g>\n    <g id=\"ytick_7\">\n     <g id=\"line2d_12\">\n      <g>\n       <use style=\"stroke:#000000;stroke-width:0.8;\" x=\"140.060938\" xlink:href=\"#m29c08ff5d5\" y=\"128.320125\"/>\n      </g>\n     </g>\n     <g id=\"text_13\">\n      <!-- jaggery -->\n      <g transform=\"translate(95.275 132.119344)scale(0.1 -0.1)\">\n       <defs>\n        <path d=\"M 603 3500 \nL 1178 3500 \nL 1178 -63 \nQ 1178 -731 923 -1031 \nQ 669 -1331 103 -1331 \nL -116 -1331 \nL -116 -844 \nL 38 -844 \nQ 366 -844 484 -692 \nQ 603 -541 603 -63 \nL 603 3500 \nz\nM 603 4863 \nL 1178 4863 \nL 1178 4134 \nL 603 4134 \nL 603 4863 \nz\n\" id=\"DejaVuSans-6a\" transform=\"scale(0.015625)\"/>\n       </defs>\n       <use xlink:href=\"#DejaVuSans-6a\"/>\n       <use x=\"27.783203\" xlink:href=\"#DejaVuSans-61\"/>\n       <use x=\"89.0625\" xlink:href=\"#DejaVuSans-67\"/>\n       <use x=\"152.539062\" xlink:href=\"#DejaVuSans-67\"/>\n       <use x=\"216.015625\" xlink:href=\"#DejaVuSans-65\"/>\n       <use x=\"277.539062\" xlink:href=\"#DejaVuSans-72\"/>\n       <use x=\"318.652344\" xlink:href=\"#DejaVuSans-79\"/>\n      </g>\n     </g>\n    </g>\n    <g id=\"ytick_8\">\n     <g id=\"line2d_13\">\n      <g>\n       <use style=\"stroke:#000000;stroke-width:0.8;\" x=\"140.060938\" xlink:href=\"#m29c08ff5d5\" y=\"144.628125\"/>\n      </g>\n     </g>\n     <g id=\"text_14\">\n      <!-- milk -->\n      <g transform=\"translate(111.973438 148.427344)scale(0.1 -0.1)\">\n       <defs>\n        <path d=\"M 581 4863 \nL 1159 4863 \nL 1159 1991 \nL 2875 3500 \nL 3609 3500 \nL 1753 1863 \nL 3688 0 \nL 2938 0 \nL 1159 1709 \nL 1159 0 \nL 581 0 \nL 581 4863 \nz\n\" id=\"DejaVuSans-6b\" transform=\"scale(0.015625)\"/>\n       </defs>\n       <use xlink:href=\"#DejaVuSans-6d\"/>\n       <use x=\"97.412109\" xlink:href=\"#DejaVuSans-69\"/>\n       <use x=\"125.195312\" xlink:href=\"#DejaVuSans-6c\"/>\n       <use x=\"152.978516\" xlink:href=\"#DejaVuSans-6b\"/>\n      </g>\n     </g>\n    </g>\n    <g id=\"ytick_9\">\n     <g id=\"line2d_14\">\n      <g>\n       <use style=\"stroke:#000000;stroke-width:0.8;\" x=\"140.060938\" xlink:href=\"#m29c08ff5d5\" y=\"160.936125\"/>\n      </g>\n     </g>\n     <g id=\"text_15\">\n      <!-- rice flour -->\n      <g transform=\"translate(88.476563 164.735344)scale(0.1 -0.1)\">\n       <defs>\n        <path d=\"M 2375 4863 \nL 2375 4384 \nL 1825 4384 \nQ 1516 4384 1395 4259 \nQ 1275 4134 1275 3809 \nL 1275 3500 \nL 2222 3500 \nL 2222 3053 \nL 1275 3053 \nL 1275 0 \nL 697 0 \nL 697 3053 \nL 147 3053 \nL 147 3500 \nL 697 3500 \nL 697 3744 \nQ 697 4328 969 4595 \nQ 1241 4863 1831 4863 \nL 2375 4863 \nz\n\" id=\"DejaVuSans-66\" transform=\"scale(0.015625)\"/>\n       </defs>\n       <use xlink:href=\"#DejaVuSans-72\"/>\n       <use x=\"41.113281\" xlink:href=\"#DejaVuSans-69\"/>\n       <use x=\"68.896484\" xlink:href=\"#DejaVuSans-63\"/>\n       <use x=\"123.876953\" xlink:href=\"#DejaVuSans-65\"/>\n       <use x=\"185.400391\" xlink:href=\"#DejaVuSans-20\"/>\n       <use x=\"217.1875\" xlink:href=\"#DejaVuSans-66\"/>\n       <use x=\"252.392578\" xlink:href=\"#DejaVuSans-6c\"/>\n       <use x=\"280.175781\" xlink:href=\"#DejaVuSans-6f\"/>\n       <use x=\"341.357422\" xlink:href=\"#DejaVuSans-75\"/>\n       <use x=\"404.736328\" xlink:href=\"#DejaVuSans-72\"/>\n      </g>\n     </g>\n    </g>\n    <g id=\"ytick_10\">\n     <g id=\"line2d_15\">\n      <g>\n       <use style=\"stroke:#000000;stroke-width:0.8;\" x=\"140.060938\" xlink:href=\"#m29c08ff5d5\" y=\"177.244125\"/>\n      </g>\n     </g>\n     <g id=\"text_16\">\n      <!-- chana dal -->\n      <g transform=\"translate(84.198438 181.043344)scale(0.1 -0.1)\">\n       <use xlink:href=\"#DejaVuSans-63\"/>\n       <use x=\"54.980469\" xlink:href=\"#DejaVuSans-68\"/>\n       <use x=\"118.359375\" xlink:href=\"#DejaVuSans-61\"/>\n       <use x=\"179.638672\" xlink:href=\"#DejaVuSans-6e\"/>\n       <use x=\"243.017578\" xlink:href=\"#DejaVuSans-61\"/>\n       <use x=\"304.296875\" xlink:href=\"#DejaVuSans-20\"/>\n       <use x=\"336.083984\" xlink:href=\"#DejaVuSans-64\"/>\n       <use x=\"399.560547\" xlink:href=\"#DejaVuSans-61\"/>\n       <use x=\"460.839844\" xlink:href=\"#DejaVuSans-6c\"/>\n      </g>\n     </g>\n    </g>\n    <g id=\"ytick_11\">\n     <g id=\"line2d_16\">\n      <g>\n       <use style=\"stroke:#000000;stroke-width:0.8;\" x=\"140.060938\" xlink:href=\"#m29c08ff5d5\" y=\"193.552125\"/>\n      </g>\n     </g>\n     <g id=\"text_17\">\n      <!-- tomato -->\n      <g transform=\"translate(97.114063 197.351344)scale(0.1 -0.1)\">\n       <use xlink:href=\"#DejaVuSans-74\"/>\n       <use x=\"39.208984\" xlink:href=\"#DejaVuSans-6f\"/>\n       <use x=\"100.390625\" xlink:href=\"#DejaVuSans-6d\"/>\n       <use x=\"197.802734\" xlink:href=\"#DejaVuSans-61\"/>\n       <use x=\"259.082031\" xlink:href=\"#DejaVuSans-74\"/>\n       <use x=\"298.291016\" xlink:href=\"#DejaVuSans-6f\"/>\n      </g>\n     </g>\n    </g>\n    <g id=\"ytick_12\">\n     <g id=\"line2d_17\">\n      <g>\n       <use style=\"stroke:#000000;stroke-width:0.8;\" x=\"140.060938\" xlink:href=\"#m29c08ff5d5\" y=\"209.860125\"/>\n      </g>\n     </g>\n     <g id=\"text_18\">\n      <!-- whole wheat flour -->\n      <g transform=\"translate(43.55625 213.659344)scale(0.1 -0.1)\">\n       <defs>\n        <path d=\"M 269 3500 \nL 844 3500 \nL 1563 769 \nL 2278 3500 \nL 2956 3500 \nL 3675 769 \nL 4391 3500 \nL 4966 3500 \nL 4050 0 \nL 3372 0 \nL 2619 2869 \nL 1863 0 \nL 1184 0 \nL 269 3500 \nz\n\" id=\"DejaVuSans-77\" transform=\"scale(0.015625)\"/>\n       </defs>\n       <use xlink:href=\"#DejaVuSans-77\"/>\n       <use x=\"81.787109\" xlink:href=\"#DejaVuSans-68\"/>\n       <use x=\"145.166016\" xlink:href=\"#DejaVuSans-6f\"/>\n       <use x=\"206.347656\" xlink:href=\"#DejaVuSans-6c\"/>\n       <use x=\"234.130859\" xlink:href=\"#DejaVuSans-65\"/>\n       <use x=\"295.654297\" xlink:href=\"#DejaVuSans-20\"/>\n       <use x=\"327.441406\" xlink:href=\"#DejaVuSans-77\"/>\n       <use x=\"409.228516\" xlink:href=\"#DejaVuSans-68\"/>\n       <use x=\"472.607422\" xlink:href=\"#DejaVuSans-65\"/>\n       <use x=\"534.130859\" xlink:href=\"#DejaVuSans-61\"/>\n       <use x=\"595.410156\" xlink:href=\"#DejaVuSans-74\"/>\n       <use x=\"634.619141\" xlink:href=\"#DejaVuSans-20\"/>\n       <use x=\"666.40625\" xlink:href=\"#DejaVuSans-66\"/>\n       <use x=\"701.611328\" xlink:href=\"#DejaVuSans-6c\"/>\n       <use x=\"729.394531\" xlink:href=\"#DejaVuSans-6f\"/>\n       <use x=\"790.576172\" xlink:href=\"#DejaVuSans-75\"/>\n       <use x=\"853.955078\" xlink:href=\"#DejaVuSans-72\"/>\n      </g>\n     </g>\n    </g>\n    <g id=\"ytick_13\">\n     <g id=\"line2d_18\">\n      <g>\n       <use style=\"stroke:#000000;stroke-width:0.8;\" x=\"140.060938\" xlink:href=\"#m29c08ff5d5\" y=\"226.168125\"/>\n      </g>\n     </g>\n     <g id=\"text_19\">\n      <!-- gram flour -->\n      <g transform=\"translate(80.689063 229.967344)scale(0.1 -0.1)\">\n       <use xlink:href=\"#DejaVuSans-67\"/>\n       <use x=\"63.476562\" xlink:href=\"#DejaVuSans-72\"/>\n       <use x=\"104.589844\" xlink:href=\"#DejaVuSans-61\"/>\n       <use x=\"165.869141\" xlink:href=\"#DejaVuSans-6d\"/>\n       <use x=\"263.28125\" xlink:href=\"#DejaVuSans-20\"/>\n       <use x=\"295.068359\" xlink:href=\"#DejaVuSans-66\"/>\n       <use x=\"330.273438\" xlink:href=\"#DejaVuSans-6c\"/>\n       <use x=\"358.056641\" xlink:href=\"#DejaVuSans-6f\"/>\n       <use x=\"419.238281\" xlink:href=\"#DejaVuSans-75\"/>\n       <use x=\"482.617188\" xlink:href=\"#DejaVuSans-72\"/>\n      </g>\n     </g>\n    </g>\n    <g id=\"ytick_14\">\n     <g id=\"line2d_19\">\n      <g>\n       <use style=\"stroke:#000000;stroke-width:0.8;\" x=\"140.060938\" xlink:href=\"#m29c08ff5d5\" y=\"242.476125\"/>\n      </g>\n     </g>\n     <g id=\"text_20\">\n      <!-- wheat flour -->\n      <g transform=\"translate(76.3 246.275344)scale(0.1 -0.1)\">\n       <use xlink:href=\"#DejaVuSans-77\"/>\n       <use x=\"81.787109\" xlink:href=\"#DejaVuSans-68\"/>\n       <use x=\"145.166016\" xlink:href=\"#DejaVuSans-65\"/>\n       <use x=\"206.689453\" xlink:href=\"#DejaVuSans-61\"/>\n       <use x=\"267.96875\" xlink:href=\"#DejaVuSans-74\"/>\n       <use x=\"307.177734\" xlink:href=\"#DejaVuSans-20\"/>\n       <use x=\"338.964844\" xlink:href=\"#DejaVuSans-66\"/>\n       <use x=\"374.169922\" xlink:href=\"#DejaVuSans-6c\"/>\n       <use x=\"401.953125\" xlink:href=\"#DejaVuSans-6f\"/>\n       <use x=\"463.134766\" xlink:href=\"#DejaVuSans-75\"/>\n       <use x=\"526.513672\" xlink:href=\"#DejaVuSans-72\"/>\n      </g>\n     </g>\n    </g>\n    <g id=\"ytick_15\">\n     <g id=\"line2d_20\">\n      <g>\n       <use style=\"stroke:#000000;stroke-width:0.8;\" x=\"140.060938\" xlink:href=\"#m29c08ff5d5\" y=\"258.784125\"/>\n      </g>\n     </g>\n     <g id=\"text_21\">\n      <!-- potato -->\n      <g transform=\"translate(100.50625 262.583344)scale(0.1 -0.1)\">\n       <defs>\n        <path d=\"M 1159 525 \nL 1159 -1331 \nL 581 -1331 \nL 581 3500 \nL 1159 3500 \nL 1159 2969 \nQ 1341 3281 1617 3432 \nQ 1894 3584 2278 3584 \nQ 2916 3584 3314 3078 \nQ 3713 2572 3713 1747 \nQ 3713 922 3314 415 \nQ 2916 -91 2278 -91 \nQ 1894 -91 1617 61 \nQ 1341 213 1159 525 \nz\nM 3116 1747 \nQ 3116 2381 2855 2742 \nQ 2594 3103 2138 3103 \nQ 1681 3103 1420 2742 \nQ 1159 2381 1159 1747 \nQ 1159 1113 1420 752 \nQ 1681 391 2138 391 \nQ 2594 391 2855 752 \nQ 3116 1113 3116 1747 \nz\n\" id=\"DejaVuSans-70\" transform=\"scale(0.015625)\"/>\n       </defs>\n       <use xlink:href=\"#DejaVuSans-70\"/>\n       <use x=\"63.476562\" xlink:href=\"#DejaVuSans-6f\"/>\n       <use x=\"124.658203\" xlink:href=\"#DejaVuSans-74\"/>\n       <use x=\"163.867188\" xlink:href=\"#DejaVuSans-61\"/>\n       <use x=\"225.146484\" xlink:href=\"#DejaVuSans-74\"/>\n       <use x=\"264.355469\" xlink:href=\"#DejaVuSans-6f\"/>\n      </g>\n     </g>\n    </g>\n    <g id=\"ytick_16\">\n     <g id=\"line2d_21\">\n      <g>\n       <use style=\"stroke:#000000;stroke-width:0.8;\" x=\"140.060938\" xlink:href=\"#m29c08ff5d5\" y=\"275.092125\"/>\n      </g>\n     </g>\n     <g id=\"text_22\">\n      <!-- coconut -->\n      <g transform=\"translate(93.23125 278.891344)scale(0.1 -0.1)\">\n       <use xlink:href=\"#DejaVuSans-63\"/>\n       <use x=\"54.980469\" xlink:href=\"#DejaVuSans-6f\"/>\n       <use x=\"116.162109\" xlink:href=\"#DejaVuSans-63\"/>\n       <use x=\"171.142578\" xlink:href=\"#DejaVuSans-6f\"/>\n       <use x=\"232.324219\" xlink:href=\"#DejaVuSans-6e\"/>\n       <use x=\"295.703125\" xlink:href=\"#DejaVuSans-75\"/>\n       <use x=\"359.082031\" xlink:href=\"#DejaVuSans-74\"/>\n      </g>\n     </g>\n    </g>\n    <g id=\"ytick_17\">\n     <g id=\"line2d_22\">\n      <g>\n       <use style=\"stroke:#000000;stroke-width:0.8;\" x=\"140.060938\" xlink:href=\"#m29c08ff5d5\" y=\"291.400125\"/>\n      </g>\n     </g>\n     <g id=\"text_23\">\n      <!-- sesame seeds -->\n      <g transform=\"translate(62.215625 295.199344)scale(0.1 -0.1)\">\n       <use xlink:href=\"#DejaVuSans-73\"/>\n       <use x=\"52.099609\" xlink:href=\"#DejaVuSans-65\"/>\n       <use x=\"113.623047\" xlink:href=\"#DejaVuSans-73\"/>\n       <use x=\"165.722656\" xlink:href=\"#DejaVuSans-61\"/>\n       <use x=\"227.001953\" xlink:href=\"#DejaVuSans-6d\"/>\n       <use x=\"324.414062\" xlink:href=\"#DejaVuSans-65\"/>\n       <use x=\"385.9375\" xlink:href=\"#DejaVuSans-20\"/>\n       <use x=\"417.724609\" xlink:href=\"#DejaVuSans-73\"/>\n       <use x=\"469.824219\" xlink:href=\"#DejaVuSans-65\"/>\n       <use x=\"531.347656\" xlink:href=\"#DejaVuSans-65\"/>\n       <use x=\"592.871094\" xlink:href=\"#DejaVuSans-64\"/>\n       <use x=\"656.347656\" xlink:href=\"#DejaVuSans-73\"/>\n      </g>\n     </g>\n    </g>\n    <g id=\"ytick_18\">\n     <g id=\"line2d_23\">\n      <g>\n       <use style=\"stroke:#000000;stroke-width:0.8;\" x=\"140.060938\" xlink:href=\"#m29c08ff5d5\" y=\"307.708125\"/>\n      </g>\n     </g>\n     <g id=\"text_24\">\n      <!-- clarified butter -->\n      <g transform=\"translate(58.998438 311.507344)scale(0.1 -0.1)\">\n       <defs>\n        <path d=\"M 3116 1747 \nQ 3116 2381 2855 2742 \nQ 2594 3103 2138 3103 \nQ 1681 3103 1420 2742 \nQ 1159 2381 1159 1747 \nQ 1159 1113 1420 752 \nQ 1681 391 2138 391 \nQ 2594 391 2855 752 \nQ 3116 1113 3116 1747 \nz\nM 1159 2969 \nQ 1341 3281 1617 3432 \nQ 1894 3584 2278 3584 \nQ 2916 3584 3314 3078 \nQ 3713 2572 3713 1747 \nQ 3713 922 3314 415 \nQ 2916 -91 2278 -91 \nQ 1894 -91 1617 61 \nQ 1341 213 1159 525 \nL 1159 0 \nL 581 0 \nL 581 4863 \nL 1159 4863 \nL 1159 2969 \nz\n\" id=\"DejaVuSans-62\" transform=\"scale(0.015625)\"/>\n       </defs>\n       <use xlink:href=\"#DejaVuSans-63\"/>\n       <use x=\"54.980469\" xlink:href=\"#DejaVuSans-6c\"/>\n       <use x=\"82.763672\" xlink:href=\"#DejaVuSans-61\"/>\n       <use x=\"144.042969\" xlink:href=\"#DejaVuSans-72\"/>\n       <use x=\"185.15625\" xlink:href=\"#DejaVuSans-69\"/>\n       <use x=\"212.939453\" xlink:href=\"#DejaVuSans-66\"/>\n       <use x=\"248.144531\" xlink:href=\"#DejaVuSans-69\"/>\n       <use x=\"275.927734\" xlink:href=\"#DejaVuSans-65\"/>\n       <use x=\"337.451172\" xlink:href=\"#DejaVuSans-64\"/>\n       <use x=\"400.927734\" xlink:href=\"#DejaVuSans-20\"/>\n       <use x=\"432.714844\" xlink:href=\"#DejaVuSans-62\"/>\n       <use x=\"496.191406\" xlink:href=\"#DejaVuSans-75\"/>\n       <use x=\"559.570312\" xlink:href=\"#DejaVuSans-74\"/>\n       <use x=\"598.779297\" xlink:href=\"#DejaVuSans-74\"/>\n       <use x=\"637.988281\" xlink:href=\"#DejaVuSans-65\"/>\n       <use x=\"699.511719\" xlink:href=\"#DejaVuSans-72\"/>\n      </g>\n     </g>\n    </g>\n    <g id=\"ytick_19\">\n     <g id=\"line2d_24\">\n      <g>\n       <use style=\"stroke:#000000;stroke-width:0.8;\" x=\"140.060938\" xlink:href=\"#m29c08ff5d5\" y=\"324.016125\"/>\n      </g>\n     </g>\n     <g id=\"text_25\">\n      <!-- garam masala powder -->\n      <g transform=\"translate(20.878125 327.815344)scale(0.1 -0.1)\">\n       <use xlink:href=\"#DejaVuSans-67\"/>\n       <use x=\"63.476562\" xlink:href=\"#DejaVuSans-61\"/>\n       <use x=\"124.755859\" xlink:href=\"#DejaVuSans-72\"/>\n       <use x=\"165.869141\" xlink:href=\"#DejaVuSans-61\"/>\n       <use x=\"227.148438\" xlink:href=\"#DejaVuSans-6d\"/>\n       <use x=\"324.560547\" xlink:href=\"#DejaVuSans-20\"/>\n       <use x=\"356.347656\" xlink:href=\"#DejaVuSans-6d\"/>\n       <use x=\"453.759766\" xlink:href=\"#DejaVuSans-61\"/>\n       <use x=\"515.039062\" xlink:href=\"#DejaVuSans-73\"/>\n       <use x=\"567.138672\" xlink:href=\"#DejaVuSans-61\"/>\n       <use x=\"628.417969\" xlink:href=\"#DejaVuSans-6c\"/>\n       <use x=\"656.201172\" xlink:href=\"#DejaVuSans-61\"/>\n       <use x=\"717.480469\" xlink:href=\"#DejaVuSans-20\"/>\n       <use x=\"749.267578\" xlink:href=\"#DejaVuSans-70\"/>\n       <use x=\"812.744141\" xlink:href=\"#DejaVuSans-6f\"/>\n       <use x=\"873.925781\" xlink:href=\"#DejaVuSans-77\"/>\n       <use x=\"955.712891\" xlink:href=\"#DejaVuSans-64\"/>\n       <use x=\"1019.189453\" xlink:href=\"#DejaVuSans-65\"/>\n       <use x=\"1080.712891\" xlink:href=\"#DejaVuSans-72\"/>\n      </g>\n     </g>\n    </g>\n    <g id=\"ytick_20\">\n     <g id=\"line2d_25\">\n      <g>\n       <use style=\"stroke:#000000;stroke-width:0.8;\" x=\"140.060938\" xlink:href=\"#m29c08ff5d5\" y=\"340.324125\"/>\n      </g>\n     </g>\n     <g id=\"text_26\">\n      <!-- cardamom -->\n      <g transform=\"translate(79.421875 344.123344)scale(0.1 -0.1)\">\n       <use xlink:href=\"#DejaVuSans-63\"/>\n       <use x=\"54.980469\" xlink:href=\"#DejaVuSans-61\"/>\n       <use x=\"116.259766\" xlink:href=\"#DejaVuSans-72\"/>\n       <use x=\"155.623047\" xlink:href=\"#DejaVuSans-64\"/>\n       <use x=\"219.099609\" xlink:href=\"#DejaVuSans-61\"/>\n       <use x=\"280.378906\" xlink:href=\"#DejaVuSans-6d\"/>\n       <use x=\"377.791016\" xlink:href=\"#DejaVuSans-6f\"/>\n       <use x=\"438.972656\" xlink:href=\"#DejaVuSans-6d\"/>\n      </g>\n     </g>\n    </g>\n    <g id=\"text_27\">\n     <!-- ingredients -->\n     <g transform=\"translate(14.798438 213.523125)rotate(-90)scale(0.1 -0.1)\">\n      <use xlink:href=\"#DejaVuSans-69\"/>\n      <use x=\"27.783203\" xlink:href=\"#DejaVuSans-6e\"/>\n      <use x=\"91.162109\" xlink:href=\"#DejaVuSans-67\"/>\n      <use x=\"154.638672\" xlink:href=\"#DejaVuSans-72\"/>\n      <use x=\"193.501953\" xlink:href=\"#DejaVuSans-65\"/>\n      <use x=\"255.025391\" xlink:href=\"#DejaVuSans-64\"/>\n      <use x=\"318.501953\" xlink:href=\"#DejaVuSans-69\"/>\n      <use x=\"346.285156\" xlink:href=\"#DejaVuSans-65\"/>\n      <use x=\"407.808594\" xlink:href=\"#DejaVuSans-6e\"/>\n      <use x=\"471.1875\" xlink:href=\"#DejaVuSans-74\"/>\n      <use x=\"510.396484\" xlink:href=\"#DejaVuSans-73\"/>\n     </g>\n    </g>\n   </g>\n   <g id=\"line2d_26\">\n    <path clip-path=\"url(#p489beb5c6d)\" d=\"M 0 0 \n\" style=\"fill:none;stroke:#424242;stroke-linecap:square;stroke-width:2.7;\"/>\n   </g>\n   <g id=\"line2d_27\">\n    <path clip-path=\"url(#p489beb5c6d)\" d=\"M 0 0 \n\" style=\"fill:none;stroke:#424242;stroke-linecap:square;stroke-width:2.7;\"/>\n   </g>\n   <g id=\"line2d_28\">\n    <path clip-path=\"url(#p489beb5c6d)\" d=\"M 0 0 \n\" style=\"fill:none;stroke:#424242;stroke-linecap:square;stroke-width:2.7;\"/>\n   </g>\n   <g id=\"line2d_29\">\n    <path clip-path=\"url(#p489beb5c6d)\" d=\"M 0 0 \n\" style=\"fill:none;stroke:#424242;stroke-linecap:square;stroke-width:2.7;\"/>\n   </g>\n   <g id=\"line2d_30\">\n    <path clip-path=\"url(#p489beb5c6d)\" d=\"M 0 0 \n\" style=\"fill:none;stroke:#424242;stroke-linecap:square;stroke-width:2.7;\"/>\n   </g>\n   <g id=\"line2d_31\">\n    <path clip-path=\"url(#p489beb5c6d)\" d=\"M 0 0 \n\" style=\"fill:none;stroke:#424242;stroke-linecap:square;stroke-width:2.7;\"/>\n   </g>\n   <g id=\"line2d_32\">\n    <path clip-path=\"url(#p489beb5c6d)\" d=\"M 0 0 \n\" style=\"fill:none;stroke:#424242;stroke-linecap:square;stroke-width:2.7;\"/>\n   </g>\n   <g id=\"line2d_33\">\n    <path clip-path=\"url(#p489beb5c6d)\" d=\"M 0 0 \n\" style=\"fill:none;stroke:#424242;stroke-linecap:square;stroke-width:2.7;\"/>\n   </g>\n   <g id=\"line2d_34\">\n    <path clip-path=\"url(#p489beb5c6d)\" d=\"M 0 0 \n\" style=\"fill:none;stroke:#424242;stroke-linecap:square;stroke-width:2.7;\"/>\n   </g>\n   <g id=\"line2d_35\">\n    <path clip-path=\"url(#p489beb5c6d)\" d=\"M 0 0 \n\" style=\"fill:none;stroke:#424242;stroke-linecap:square;stroke-width:2.7;\"/>\n   </g>\n   <g id=\"line2d_36\">\n    <path clip-path=\"url(#p489beb5c6d)\" d=\"M 0 0 \n\" style=\"fill:none;stroke:#424242;stroke-linecap:square;stroke-width:2.7;\"/>\n   </g>\n   <g id=\"line2d_37\">\n    <path clip-path=\"url(#p489beb5c6d)\" d=\"M 0 0 \n\" style=\"fill:none;stroke:#424242;stroke-linecap:square;stroke-width:2.7;\"/>\n   </g>\n   <g id=\"line2d_38\">\n    <path clip-path=\"url(#p489beb5c6d)\" d=\"M 0 0 \n\" style=\"fill:none;stroke:#424242;stroke-linecap:square;stroke-width:2.7;\"/>\n   </g>\n   <g id=\"line2d_39\">\n    <path clip-path=\"url(#p489beb5c6d)\" d=\"M 0 0 \n\" style=\"fill:none;stroke:#424242;stroke-linecap:square;stroke-width:2.7;\"/>\n   </g>\n   <g id=\"line2d_40\">\n    <path clip-path=\"url(#p489beb5c6d)\" d=\"M 0 0 \n\" style=\"fill:none;stroke:#424242;stroke-linecap:square;stroke-width:2.7;\"/>\n   </g>\n   <g id=\"line2d_41\">\n    <path clip-path=\"url(#p489beb5c6d)\" d=\"M 0 0 \n\" style=\"fill:none;stroke:#424242;stroke-linecap:square;stroke-width:2.7;\"/>\n   </g>\n   <g id=\"line2d_42\">\n    <path clip-path=\"url(#p489beb5c6d)\" d=\"M 0 0 \n\" style=\"fill:none;stroke:#424242;stroke-linecap:square;stroke-width:2.7;\"/>\n   </g>\n   <g id=\"line2d_43\">\n    <path clip-path=\"url(#p489beb5c6d)\" d=\"M 0 0 \n\" style=\"fill:none;stroke:#424242;stroke-linecap:square;stroke-width:2.7;\"/>\n   </g>\n   <g id=\"line2d_44\">\n    <path clip-path=\"url(#p489beb5c6d)\" d=\"M 0 0 \n\" style=\"fill:none;stroke:#424242;stroke-linecap:square;stroke-width:2.7;\"/>\n   </g>\n   <g id=\"line2d_45\">\n    <path clip-path=\"url(#p489beb5c6d)\" d=\"M 0 0 \n\" style=\"fill:none;stroke:#424242;stroke-linecap:square;stroke-width:2.7;\"/>\n   </g>\n   <g id=\"patch_23\">\n    <path d=\"M 140.060938 348.478125 \nL 140.060938 22.318125 \n\" style=\"fill:none;stroke:#000000;stroke-linecap:square;stroke-linejoin:miter;stroke-width:0.8;\"/>\n   </g>\n   <g id=\"patch_24\">\n    <path d=\"M 809.660938 348.478125 \nL 809.660938 22.318125 \n\" style=\"fill:none;stroke:#000000;stroke-linecap:square;stroke-linejoin:miter;stroke-width:0.8;\"/>\n   </g>\n   <g id=\"patch_25\">\n    <path d=\"M 140.060938 348.478125 \nL 809.660938 348.478125 \n\" style=\"fill:none;stroke:#000000;stroke-linecap:square;stroke-linejoin:miter;stroke-width:0.8;\"/>\n   </g>\n   <g id=\"patch_26\">\n    <path d=\"M 140.060938 22.318125 \nL 809.660938 22.318125 \n\" style=\"fill:none;stroke:#000000;stroke-linecap:square;stroke-linejoin:miter;stroke-width:0.8;\"/>\n   </g>\n   <g id=\"text_28\">\n    <!-- Top 20 Ingredients for Vegetarian Dishes -->\n    <g transform=\"translate(352.956875 16.318125)scale(0.12 -0.12)\">\n     <defs>\n      <path d=\"M -19 4666 \nL 3928 4666 \nL 3928 4134 \nL 2272 4134 \nL 2272 0 \nL 1638 0 \nL 1638 4134 \nL -19 4134 \nL -19 4666 \nz\n\" id=\"DejaVuSans-54\" transform=\"scale(0.015625)\"/>\n      <path d=\"M 628 4666 \nL 1259 4666 \nL 1259 0 \nL 628 0 \nL 628 4666 \nz\n\" id=\"DejaVuSans-49\" transform=\"scale(0.015625)\"/>\n      <path d=\"M 1831 0 \nL 50 4666 \nL 709 4666 \nL 2188 738 \nL 3669 4666 \nL 4325 4666 \nL 2547 0 \nL 1831 0 \nz\n\" id=\"DejaVuSans-56\" transform=\"scale(0.015625)\"/>\n      <path d=\"M 1259 4147 \nL 1259 519 \nL 2022 519 \nQ 2988 519 3436 956 \nQ 3884 1394 3884 2338 \nQ 3884 3275 3436 3711 \nQ 2988 4147 2022 4147 \nL 1259 4147 \nz\nM 628 4666 \nL 1925 4666 \nQ 3281 4666 3915 4102 \nQ 4550 3538 4550 2338 \nQ 4550 1131 3912 565 \nQ 3275 0 1925 0 \nL 628 0 \nL 628 4666 \nz\n\" id=\"DejaVuSans-44\" transform=\"scale(0.015625)\"/>\n     </defs>\n     <use xlink:href=\"#DejaVuSans-54\"/>\n     <use x=\"44.083984\" xlink:href=\"#DejaVuSans-6f\"/>\n     <use x=\"105.265625\" xlink:href=\"#DejaVuSans-70\"/>\n     <use x=\"168.742188\" xlink:href=\"#DejaVuSans-20\"/>\n     <use x=\"200.529297\" xlink:href=\"#DejaVuSans-32\"/>\n     <use x=\"264.152344\" xlink:href=\"#DejaVuSans-30\"/>\n     <use x=\"327.775391\" xlink:href=\"#DejaVuSans-20\"/>\n     <use x=\"359.5625\" xlink:href=\"#DejaVuSans-49\"/>\n     <use x=\"389.054688\" xlink:href=\"#DejaVuSans-6e\"/>\n     <use x=\"452.433594\" xlink:href=\"#DejaVuSans-67\"/>\n     <use x=\"515.910156\" xlink:href=\"#DejaVuSans-72\"/>\n     <use x=\"554.773438\" xlink:href=\"#DejaVuSans-65\"/>\n     <use x=\"616.296875\" xlink:href=\"#DejaVuSans-64\"/>\n     <use x=\"679.773438\" xlink:href=\"#DejaVuSans-69\"/>\n     <use x=\"707.556641\" xlink:href=\"#DejaVuSans-65\"/>\n     <use x=\"769.080078\" xlink:href=\"#DejaVuSans-6e\"/>\n     <use x=\"832.458984\" xlink:href=\"#DejaVuSans-74\"/>\n     <use x=\"871.667969\" xlink:href=\"#DejaVuSans-73\"/>\n     <use x=\"923.767578\" xlink:href=\"#DejaVuSans-20\"/>\n     <use x=\"955.554688\" xlink:href=\"#DejaVuSans-66\"/>\n     <use x=\"990.759766\" xlink:href=\"#DejaVuSans-6f\"/>\n     <use x=\"1051.941406\" xlink:href=\"#DejaVuSans-72\"/>\n     <use x=\"1093.054688\" xlink:href=\"#DejaVuSans-20\"/>\n     <use x=\"1124.841797\" xlink:href=\"#DejaVuSans-56\"/>\n     <use x=\"1185.5\" xlink:href=\"#DejaVuSans-65\"/>\n     <use x=\"1247.023438\" xlink:href=\"#DejaVuSans-67\"/>\n     <use x=\"1310.5\" xlink:href=\"#DejaVuSans-65\"/>\n     <use x=\"1372.023438\" xlink:href=\"#DejaVuSans-74\"/>\n     <use x=\"1411.232422\" xlink:href=\"#DejaVuSans-61\"/>\n     <use x=\"1472.511719\" xlink:href=\"#DejaVuSans-72\"/>\n     <use x=\"1513.625\" xlink:href=\"#DejaVuSans-69\"/>\n     <use x=\"1541.408203\" xlink:href=\"#DejaVuSans-61\"/>\n     <use x=\"1602.6875\" xlink:href=\"#DejaVuSans-6e\"/>\n     <use x=\"1666.066406\" xlink:href=\"#DejaVuSans-20\"/>\n     <use x=\"1697.853516\" xlink:href=\"#DejaVuSans-44\"/>\n     <use x=\"1774.855469\" xlink:href=\"#DejaVuSans-69\"/>\n     <use x=\"1802.638672\" xlink:href=\"#DejaVuSans-73\"/>\n     <use x=\"1854.738281\" xlink:href=\"#DejaVuSans-68\"/>\n     <use x=\"1918.117188\" xlink:href=\"#DejaVuSans-65\"/>\n     <use x=\"1979.640625\" xlink:href=\"#DejaVuSans-73\"/>\n    </g>\n   </g>\n  </g>\n </g>\n <defs>\n  <clipPath id=\"p489beb5c6d\">\n   <rect height=\"326.16\" width=\"669.6\" x=\"140.060938\" y=\"22.318125\"/>\n  </clipPath>\n </defs>\n</svg>\n",
      "image/png": "[encoded data removed]"
     },
     "metadata": {
      "needs_background": "light"
     }
    }
   ],
   "source": [
    "# plotting top 20 vegetarian ingredients\n",
    "\n",
    "sns.barplot(data = final_veg_ingredients.head(20), x = \"count\", y = \"ingredients\")\n",
    "plt.title(\"Top 20 Ingredients for Vegetarian Dishes\")\n",
    "plt.show()"
   ]
  },
  {
   "cell_type": "code",
   "execution_count": 43,
   "metadata": {},
   "outputs": [
    {
     "output_type": "display_data",
     "data": {
      "text/plain": "<Figure size 864x432 with 1 Axes>",
      "image/svg+xml": "<?xml version=\"1.0\" encoding=\"utf-8\" standalone=\"no\"?>\n<!DOCTYPE svg PUBLIC \"-//W3C//DTD SVG 1.1//EN\"\n  \"http://www.w3.org/Graphics/SVG/1.1/DTD/svg11.dtd\">\n<svg height=\"386.034375pt\" version=\"1.1\" viewBox=\"0 0 816.860937 386.034375\" width=\"816.860937pt\" xmlns=\"http://www.w3.org/2000/svg\" xmlns:xlink=\"http://www.w3.org/1999/xlink\">\n <metadata>\n  <rdf:RDF xmlns:cc=\"http://creativecommons.org/ns#\" xmlns:dc=\"http://purl.org/dc/elements/1.1/\" xmlns:rdf=\"http://www.w3.org/1999/02/22-rdf-syntax-ns#\">\n   <cc:Work>\n    <dc:type rdf:resource=\"http://purl.org/dc/dcmitype/StillImage\"/>\n    <dc:date>2021-04-25T19:58:01.089586</dc:date>\n    <dc:format>image/svg+xml</dc:format>\n    <dc:creator>\n     <cc:Agent>\n      <dc:title>Matplotlib v3.4.1, https://matplotlib.org/</dc:title>\n     </cc:Agent>\n    </dc:creator>\n   </cc:Work>\n  </rdf:RDF>\n </metadata>\n <defs>\n  <style type=\"text/css\">*{stroke-linecap:butt;stroke-linejoin:round;}</style>\n </defs>\n <g id=\"figure_1\">\n  <g id=\"patch_1\">\n   <path d=\"M 0 386.034375 \nL 816.860937 386.034375 \nL 816.860937 0 \nL 0 0 \nz\n\" style=\"fill:none;\"/>\n  </g>\n  <g id=\"axes_1\">\n   <g id=\"patch_2\">\n    <path d=\"M 140.060938 348.478125 \nL 809.660938 348.478125 \nL 809.660938 22.318125 \nL 140.060938 22.318125 \nz\n\" style=\"fill:#ffffff;\"/>\n   </g>\n   <g id=\"patch_3\">\n    <path clip-path=\"url(#p6b441994bd)\" d=\"M 140.060938 23.948925 \nL 777.775223 23.948925 \nL 777.775223 36.995325 \nL 140.060938 36.995325 \nz\n\" style=\"fill:#ea96a3;\"/>\n   </g>\n   <g id=\"patch_4\">\n    <path clip-path=\"url(#p6b441994bd)\" d=\"M 140.060938 40.256925 \nL 686.673182 40.256925 \nL 686.673182 53.303325 \nL 140.060938 53.303325 \nz\n\" style=\"fill:#e79683;\"/>\n   </g>\n   <g id=\"patch_5\">\n    <path clip-path=\"url(#p6b441994bd)\" d=\"M 140.060938 56.564925 \nL 686.673182 56.564925 \nL 686.673182 69.611325 \nL 140.060938 69.611325 \nz\n\" style=\"fill:#d7944e;\"/>\n   </g>\n   <g id=\"patch_6\">\n    <path clip-path=\"url(#p6b441994bd)\" d=\"M 140.060938 72.872925 \nL 504.469101 72.872925 \nL 504.469101 85.919325 \nL 140.060938 85.919325 \nz\n\" style=\"fill:#bf9a4a;\"/>\n   </g>\n   <g id=\"patch_7\">\n    <path clip-path=\"url(#p6b441994bd)\" d=\"M 140.060938 89.180925 \nL 504.469101 89.180925 \nL 504.469101 102.227325 \nL 140.060938 102.227325 \nz\n\" style=\"fill:#ab9e47;\"/>\n   </g>\n   <g id=\"patch_8\">\n    <path clip-path=\"url(#p6b441994bd)\" d=\"M 140.060938 105.488925 \nL 504.469101 105.488925 \nL 504.469101 118.535325 \nL 140.060938 118.535325 \nz\n\" style=\"fill:#98a246;\"/>\n   </g>\n   <g id=\"patch_9\">\n    <path clip-path=\"url(#p6b441994bd)\" d=\"M 140.060938 121.796925 \nL 413.36706 121.796925 \nL 413.36706 134.843325 \nL 140.060938 134.843325 \nz\n\" style=\"fill:#7fa946;\"/>\n   </g>\n   <g id=\"patch_10\">\n    <path clip-path=\"url(#p6b441994bd)\" d=\"M 140.060938 138.104925 \nL 413.36706 138.104925 \nL 413.36706 151.151325 \nL 140.060938 151.151325 \nz\n\" style=\"fill:#48b052;\"/>\n   </g>\n   <g id=\"patch_11\">\n    <path clip-path=\"url(#p6b441994bd)\" d=\"M 140.060938 154.412925 \nL 413.36706 154.412925 \nL 413.36706 167.459325 \nL 140.060938 167.459325 \nz\n\" style=\"fill:#49ae83;\"/>\n   </g>\n   <g id=\"patch_12\">\n    <path clip-path=\"url(#p6b441994bd)\" d=\"M 140.060938 170.720925 \nL 413.36706 170.720925 \nL 413.36706 183.767325 \nL 140.060938 183.767325 \nz\n\" style=\"fill:#4aad96;\"/>\n   </g>\n   <g id=\"patch_13\">\n    <path clip-path=\"url(#p6b441994bd)\" d=\"M 140.060938 187.028925 \nL 413.36706 187.028925 \nL 413.36706 200.075325 \nL 140.060938 200.075325 \nz\n\" style=\"fill:#4baba4;\"/>\n   </g>\n   <g id=\"patch_14\">\n    <path clip-path=\"url(#p6b441994bd)\" d=\"M 140.060938 203.336925 \nL 413.36706 203.336925 \nL 413.36706 216.383325 \nL 140.060938 216.383325 \nz\n\" style=\"fill:#4dabb2;\"/>\n   </g>\n   <g id=\"patch_15\">\n    <path clip-path=\"url(#p6b441994bd)\" d=\"M 140.060938 219.644925 \nL 322.265019 219.644925 \nL 322.265019 232.691325 \nL 140.060938 232.691325 \nz\n\" style=\"fill:#50acc3;\"/>\n   </g>\n   <g id=\"patch_16\">\n    <path clip-path=\"url(#p6b441994bd)\" d=\"M 140.060938 235.952925 \nL 322.265019 235.952925 \nL 322.265019 248.999325 \nL 140.060938 248.999325 \nz\n\" style=\"fill:#56addb;\"/>\n   </g>\n   <g id=\"patch_17\">\n    <path clip-path=\"url(#p6b441994bd)\" d=\"M 140.060938 252.260925 \nL 322.265019 252.260925 \nL 322.265019 265.307325 \nL 140.060938 265.307325 \nz\n\" style=\"fill:#94aee8;\"/>\n   </g>\n   <g id=\"patch_18\">\n    <path clip-path=\"url(#p6b441994bd)\" d=\"M 140.060938 268.568925 \nL 322.265019 268.568925 \nL 322.265019 281.615325 \nL 140.060938 281.615325 \nz\n\" style=\"fill:#b6a8eb;\"/>\n   </g>\n   <g id=\"patch_19\">\n    <path clip-path=\"url(#p6b441994bd)\" d=\"M 140.060938 284.876925 \nL 322.265019 284.876925 \nL 322.265019 297.923325 \nL 140.060938 297.923325 \nz\n\" style=\"fill:#ce9be9;\"/>\n   </g>\n   <g id=\"patch_20\">\n    <path clip-path=\"url(#p6b441994bd)\" d=\"M 140.060938 301.184925 \nL 322.265019 301.184925 \nL 322.265019 314.231325 \nL 140.060938 314.231325 \nz\n\" style=\"fill:#e689e4;\"/>\n   </g>\n   <g id=\"patch_21\">\n    <path clip-path=\"url(#p6b441994bd)\" d=\"M 140.060938 317.492925 \nL 322.265019 317.492925 \nL 322.265019 330.539325 \nL 140.060938 330.539325 \nz\n\" style=\"fill:#e88fcc;\"/>\n   </g>\n   <g id=\"patch_22\">\n    <path clip-path=\"url(#p6b441994bd)\" d=\"M 140.060938 333.800925 \nL 322.265019 333.800925 \nL 322.265019 346.847325 \nL 140.060938 346.847325 \nz\n\" style=\"fill:#e993b9;\"/>\n   </g>\n   <g id=\"matplotlib.axis_1\">\n    <g id=\"xtick_1\">\n     <g id=\"line2d_1\">\n      <defs>\n       <path d=\"M 0 0 \nL 0 3.5 \n\" id=\"mcbe3a5a165\" style=\"stroke:#000000;stroke-width:0.8;\"/>\n      </defs>\n      <g>\n       <use style=\"stroke:#000000;stroke-width:0.8;\" x=\"140.060938\" xlink:href=\"#mcbe3a5a165\" y=\"348.478125\"/>\n      </g>\n     </g>\n     <g id=\"text_1\">\n      <!-- 0 -->\n      <g transform=\"translate(136.879688 363.076562)scale(0.1 -0.1)\">\n       <defs>\n        <path d=\"M 2034 4250 \nQ 1547 4250 1301 3770 \nQ 1056 3291 1056 2328 \nQ 1056 1369 1301 889 \nQ 1547 409 2034 409 \nQ 2525 409 2770 889 \nQ 3016 1369 3016 2328 \nQ 3016 3291 2770 3770 \nQ 2525 4250 2034 4250 \nz\nM 2034 4750 \nQ 2819 4750 3233 4129 \nQ 3647 3509 3647 2328 \nQ 3647 1150 3233 529 \nQ 2819 -91 2034 -91 \nQ 1250 -91 836 529 \nQ 422 1150 422 2328 \nQ 422 3509 836 4129 \nQ 1250 4750 2034 4750 \nz\n\" id=\"DejaVuSans-30\" transform=\"scale(0.015625)\"/>\n       </defs>\n       <use xlink:href=\"#DejaVuSans-30\"/>\n      </g>\n     </g>\n    </g>\n    <g id=\"xtick_2\">\n     <g id=\"line2d_2\">\n      <g>\n       <use style=\"stroke:#000000;stroke-width:0.8;\" x=\"231.162978\" xlink:href=\"#mcbe3a5a165\" y=\"348.478125\"/>\n      </g>\n     </g>\n     <g id=\"text_2\">\n      <!-- 1 -->\n      <g transform=\"translate(227.981728 363.076562)scale(0.1 -0.1)\">\n       <defs>\n        <path d=\"M 794 531 \nL 1825 531 \nL 1825 4091 \nL 703 3866 \nL 703 4441 \nL 1819 4666 \nL 2450 4666 \nL 2450 531 \nL 3481 531 \nL 3481 0 \nL 794 0 \nL 794 531 \nz\n\" id=\"DejaVuSans-31\" transform=\"scale(0.015625)\"/>\n       </defs>\n       <use xlink:href=\"#DejaVuSans-31\"/>\n      </g>\n     </g>\n    </g>\n    <g id=\"xtick_3\">\n     <g id=\"line2d_3\">\n      <g>\n       <use style=\"stroke:#000000;stroke-width:0.8;\" x=\"322.265019\" xlink:href=\"#mcbe3a5a165\" y=\"348.478125\"/>\n      </g>\n     </g>\n     <g id=\"text_3\">\n      <!-- 2 -->\n      <g transform=\"translate(319.083769 363.076562)scale(0.1 -0.1)\">\n       <defs>\n        <path d=\"M 1228 531 \nL 3431 531 \nL 3431 0 \nL 469 0 \nL 469 531 \nQ 828 903 1448 1529 \nQ 2069 2156 2228 2338 \nQ 2531 2678 2651 2914 \nQ 2772 3150 2772 3378 \nQ 2772 3750 2511 3984 \nQ 2250 4219 1831 4219 \nQ 1534 4219 1204 4116 \nQ 875 4013 500 3803 \nL 500 4441 \nQ 881 4594 1212 4672 \nQ 1544 4750 1819 4750 \nQ 2544 4750 2975 4387 \nQ 3406 4025 3406 3419 \nQ 3406 3131 3298 2873 \nQ 3191 2616 2906 2266 \nQ 2828 2175 2409 1742 \nQ 1991 1309 1228 531 \nz\n\" id=\"DejaVuSans-32\" transform=\"scale(0.015625)\"/>\n       </defs>\n       <use xlink:href=\"#DejaVuSans-32\"/>\n      </g>\n     </g>\n    </g>\n    <g id=\"xtick_4\">\n     <g id=\"line2d_4\">\n      <g>\n       <use style=\"stroke:#000000;stroke-width:0.8;\" x=\"413.36706\" xlink:href=\"#mcbe3a5a165\" y=\"348.478125\"/>\n      </g>\n     </g>\n     <g id=\"text_4\">\n      <!-- 3 -->\n      <g transform=\"translate(410.18581 363.076562)scale(0.1 -0.1)\">\n       <defs>\n        <path d=\"M 2597 2516 \nQ 3050 2419 3304 2112 \nQ 3559 1806 3559 1356 \nQ 3559 666 3084 287 \nQ 2609 -91 1734 -91 \nQ 1441 -91 1130 -33 \nQ 819 25 488 141 \nL 488 750 \nQ 750 597 1062 519 \nQ 1375 441 1716 441 \nQ 2309 441 2620 675 \nQ 2931 909 2931 1356 \nQ 2931 1769 2642 2001 \nQ 2353 2234 1838 2234 \nL 1294 2234 \nL 1294 2753 \nL 1863 2753 \nQ 2328 2753 2575 2939 \nQ 2822 3125 2822 3475 \nQ 2822 3834 2567 4026 \nQ 2313 4219 1838 4219 \nQ 1578 4219 1281 4162 \nQ 984 4106 628 3988 \nL 628 4550 \nQ 988 4650 1302 4700 \nQ 1616 4750 1894 4750 \nQ 2613 4750 3031 4423 \nQ 3450 4097 3450 3541 \nQ 3450 3153 3228 2886 \nQ 3006 2619 2597 2516 \nz\n\" id=\"DejaVuSans-33\" transform=\"scale(0.015625)\"/>\n       </defs>\n       <use xlink:href=\"#DejaVuSans-33\"/>\n      </g>\n     </g>\n    </g>\n    <g id=\"xtick_5\">\n     <g id=\"line2d_5\">\n      <g>\n       <use style=\"stroke:#000000;stroke-width:0.8;\" x=\"504.469101\" xlink:href=\"#mcbe3a5a165\" y=\"348.478125\"/>\n      </g>\n     </g>\n     <g id=\"text_5\">\n      <!-- 4 -->\n      <g transform=\"translate(501.287851 363.076562)scale(0.1 -0.1)\">\n       <defs>\n        <path d=\"M 2419 4116 \nL 825 1625 \nL 2419 1625 \nL 2419 4116 \nz\nM 2253 4666 \nL 3047 4666 \nL 3047 1625 \nL 3713 1625 \nL 3713 1100 \nL 3047 1100 \nL 3047 0 \nL 2419 0 \nL 2419 1100 \nL 313 1100 \nL 313 1709 \nL 2253 4666 \nz\n\" id=\"DejaVuSans-34\" transform=\"scale(0.015625)\"/>\n       </defs>\n       <use xlink:href=\"#DejaVuSans-34\"/>\n      </g>\n     </g>\n    </g>\n    <g id=\"xtick_6\">\n     <g id=\"line2d_6\">\n      <g>\n       <use style=\"stroke:#000000;stroke-width:0.8;\" x=\"595.571142\" xlink:href=\"#mcbe3a5a165\" y=\"348.478125\"/>\n      </g>\n     </g>\n     <g id=\"text_6\">\n      <!-- 5 -->\n      <g transform=\"translate(592.389892 363.076562)scale(0.1 -0.1)\">\n       <defs>\n        <path d=\"M 691 4666 \nL 3169 4666 \nL 3169 4134 \nL 1269 4134 \nL 1269 2991 \nQ 1406 3038 1543 3061 \nQ 1681 3084 1819 3084 \nQ 2600 3084 3056 2656 \nQ 3513 2228 3513 1497 \nQ 3513 744 3044 326 \nQ 2575 -91 1722 -91 \nQ 1428 -91 1123 -41 \nQ 819 9 494 109 \nL 494 744 \nQ 775 591 1075 516 \nQ 1375 441 1709 441 \nQ 2250 441 2565 725 \nQ 2881 1009 2881 1497 \nQ 2881 1984 2565 2268 \nQ 2250 2553 1709 2553 \nQ 1456 2553 1204 2497 \nQ 953 2441 691 2322 \nL 691 4666 \nz\n\" id=\"DejaVuSans-35\" transform=\"scale(0.015625)\"/>\n       </defs>\n       <use xlink:href=\"#DejaVuSans-35\"/>\n      </g>\n     </g>\n    </g>\n    <g id=\"xtick_7\">\n     <g id=\"line2d_7\">\n      <g>\n       <use style=\"stroke:#000000;stroke-width:0.8;\" x=\"686.673182\" xlink:href=\"#mcbe3a5a165\" y=\"348.478125\"/>\n      </g>\n     </g>\n     <g id=\"text_7\">\n      <!-- 6 -->\n      <g transform=\"translate(683.491932 363.076562)scale(0.1 -0.1)\">\n       <defs>\n        <path d=\"M 2113 2584 \nQ 1688 2584 1439 2293 \nQ 1191 2003 1191 1497 \nQ 1191 994 1439 701 \nQ 1688 409 2113 409 \nQ 2538 409 2786 701 \nQ 3034 994 3034 1497 \nQ 3034 2003 2786 2293 \nQ 2538 2584 2113 2584 \nz\nM 3366 4563 \nL 3366 3988 \nQ 3128 4100 2886 4159 \nQ 2644 4219 2406 4219 \nQ 1781 4219 1451 3797 \nQ 1122 3375 1075 2522 \nQ 1259 2794 1537 2939 \nQ 1816 3084 2150 3084 \nQ 2853 3084 3261 2657 \nQ 3669 2231 3669 1497 \nQ 3669 778 3244 343 \nQ 2819 -91 2113 -91 \nQ 1303 -91 875 529 \nQ 447 1150 447 2328 \nQ 447 3434 972 4092 \nQ 1497 4750 2381 4750 \nQ 2619 4750 2861 4703 \nQ 3103 4656 3366 4563 \nz\n\" id=\"DejaVuSans-36\" transform=\"scale(0.015625)\"/>\n       </defs>\n       <use xlink:href=\"#DejaVuSans-36\"/>\n      </g>\n     </g>\n    </g>\n    <g id=\"xtick_8\">\n     <g id=\"line2d_8\">\n      <g>\n       <use style=\"stroke:#000000;stroke-width:0.8;\" x=\"777.775223\" xlink:href=\"#mcbe3a5a165\" y=\"348.478125\"/>\n      </g>\n     </g>\n     <g id=\"text_8\">\n      <!-- 7 -->\n      <g transform=\"translate(774.593973 363.076562)scale(0.1 -0.1)\">\n       <defs>\n        <path d=\"M 525 4666 \nL 3525 4666 \nL 3525 4397 \nL 1831 0 \nL 1172 0 \nL 2766 4134 \nL 525 4134 \nL 525 4666 \nz\n\" id=\"DejaVuSans-37\" transform=\"scale(0.015625)\"/>\n       </defs>\n       <use xlink:href=\"#DejaVuSans-37\"/>\n      </g>\n     </g>\n    </g>\n    <g id=\"text_9\">\n     <!-- count -->\n     <g transform=\"translate(460.754688 376.754687)scale(0.1 -0.1)\">\n      <defs>\n       <path d=\"M 3122 3366 \nL 3122 2828 \nQ 2878 2963 2633 3030 \nQ 2388 3097 2138 3097 \nQ 1578 3097 1268 2742 \nQ 959 2388 959 1747 \nQ 959 1106 1268 751 \nQ 1578 397 2138 397 \nQ 2388 397 2633 464 \nQ 2878 531 3122 666 \nL 3122 134 \nQ 2881 22 2623 -34 \nQ 2366 -91 2075 -91 \nQ 1284 -91 818 406 \nQ 353 903 353 1747 \nQ 353 2603 823 3093 \nQ 1294 3584 2113 3584 \nQ 2378 3584 2631 3529 \nQ 2884 3475 3122 3366 \nz\n\" id=\"DejaVuSans-63\" transform=\"scale(0.015625)\"/>\n       <path d=\"M 1959 3097 \nQ 1497 3097 1228 2736 \nQ 959 2375 959 1747 \nQ 959 1119 1226 758 \nQ 1494 397 1959 397 \nQ 2419 397 2687 759 \nQ 2956 1122 2956 1747 \nQ 2956 2369 2687 2733 \nQ 2419 3097 1959 3097 \nz\nM 1959 3584 \nQ 2709 3584 3137 3096 \nQ 3566 2609 3566 1747 \nQ 3566 888 3137 398 \nQ 2709 -91 1959 -91 \nQ 1206 -91 779 398 \nQ 353 888 353 1747 \nQ 353 2609 779 3096 \nQ 1206 3584 1959 3584 \nz\n\" id=\"DejaVuSans-6f\" transform=\"scale(0.015625)\"/>\n       <path d=\"M 544 1381 \nL 544 3500 \nL 1119 3500 \nL 1119 1403 \nQ 1119 906 1312 657 \nQ 1506 409 1894 409 \nQ 2359 409 2629 706 \nQ 2900 1003 2900 1516 \nL 2900 3500 \nL 3475 3500 \nL 3475 0 \nL 2900 0 \nL 2900 538 \nQ 2691 219 2414 64 \nQ 2138 -91 1772 -91 \nQ 1169 -91 856 284 \nQ 544 659 544 1381 \nz\nM 1991 3584 \nL 1991 3584 \nz\n\" id=\"DejaVuSans-75\" transform=\"scale(0.015625)\"/>\n       <path d=\"M 3513 2113 \nL 3513 0 \nL 2938 0 \nL 2938 2094 \nQ 2938 2591 2744 2837 \nQ 2550 3084 2163 3084 \nQ 1697 3084 1428 2787 \nQ 1159 2491 1159 1978 \nL 1159 0 \nL 581 0 \nL 581 3500 \nL 1159 3500 \nL 1159 2956 \nQ 1366 3272 1645 3428 \nQ 1925 3584 2291 3584 \nQ 2894 3584 3203 3211 \nQ 3513 2838 3513 2113 \nz\n\" id=\"DejaVuSans-6e\" transform=\"scale(0.015625)\"/>\n       <path d=\"M 1172 4494 \nL 1172 3500 \nL 2356 3500 \nL 2356 3053 \nL 1172 3053 \nL 1172 1153 \nQ 1172 725 1289 603 \nQ 1406 481 1766 481 \nL 2356 481 \nL 2356 0 \nL 1766 0 \nQ 1100 0 847 248 \nQ 594 497 594 1153 \nL 594 3053 \nL 172 3053 \nL 172 3500 \nL 594 3500 \nL 594 4494 \nL 1172 4494 \nz\n\" id=\"DejaVuSans-74\" transform=\"scale(0.015625)\"/>\n      </defs>\n      <use xlink:href=\"#DejaVuSans-63\"/>\n      <use x=\"54.980469\" xlink:href=\"#DejaVuSans-6f\"/>\n      <use x=\"116.162109\" xlink:href=\"#DejaVuSans-75\"/>\n      <use x=\"179.541016\" xlink:href=\"#DejaVuSans-6e\"/>\n      <use x=\"242.919922\" xlink:href=\"#DejaVuSans-74\"/>\n     </g>\n    </g>\n   </g>\n   <g id=\"matplotlib.axis_2\">\n    <g id=\"ytick_1\">\n     <g id=\"line2d_9\">\n      <defs>\n       <path d=\"M 0 0 \nL -3.5 0 \n\" id=\"mc6ba9468b0\" style=\"stroke:#000000;stroke-width:0.8;\"/>\n      </defs>\n      <g>\n       <use style=\"stroke:#000000;stroke-width:0.8;\" x=\"140.060938\" xlink:href=\"#mc6ba9468b0\" y=\"30.472125\"/>\n      </g>\n     </g>\n     <g id=\"text_10\">\n      <!-- mustard oil -->\n      <g transform=\"translate(76.5875 34.271344)scale(0.1 -0.1)\">\n       <defs>\n        <path d=\"M 3328 2828 \nQ 3544 3216 3844 3400 \nQ 4144 3584 4550 3584 \nQ 5097 3584 5394 3201 \nQ 5691 2819 5691 2113 \nL 5691 0 \nL 5113 0 \nL 5113 2094 \nQ 5113 2597 4934 2840 \nQ 4756 3084 4391 3084 \nQ 3944 3084 3684 2787 \nQ 3425 2491 3425 1978 \nL 3425 0 \nL 2847 0 \nL 2847 2094 \nQ 2847 2600 2669 2842 \nQ 2491 3084 2119 3084 \nQ 1678 3084 1418 2786 \nQ 1159 2488 1159 1978 \nL 1159 0 \nL 581 0 \nL 581 3500 \nL 1159 3500 \nL 1159 2956 \nQ 1356 3278 1631 3431 \nQ 1906 3584 2284 3584 \nQ 2666 3584 2933 3390 \nQ 3200 3197 3328 2828 \nz\n\" id=\"DejaVuSans-6d\" transform=\"scale(0.015625)\"/>\n        <path d=\"M 2834 3397 \nL 2834 2853 \nQ 2591 2978 2328 3040 \nQ 2066 3103 1784 3103 \nQ 1356 3103 1142 2972 \nQ 928 2841 928 2578 \nQ 928 2378 1081 2264 \nQ 1234 2150 1697 2047 \nL 1894 2003 \nQ 2506 1872 2764 1633 \nQ 3022 1394 3022 966 \nQ 3022 478 2636 193 \nQ 2250 -91 1575 -91 \nQ 1294 -91 989 -36 \nQ 684 19 347 128 \nL 347 722 \nQ 666 556 975 473 \nQ 1284 391 1588 391 \nQ 1994 391 2212 530 \nQ 2431 669 2431 922 \nQ 2431 1156 2273 1281 \nQ 2116 1406 1581 1522 \nL 1381 1569 \nQ 847 1681 609 1914 \nQ 372 2147 372 2553 \nQ 372 3047 722 3315 \nQ 1072 3584 1716 3584 \nQ 2034 3584 2315 3537 \nQ 2597 3491 2834 3397 \nz\n\" id=\"DejaVuSans-73\" transform=\"scale(0.015625)\"/>\n        <path d=\"M 2194 1759 \nQ 1497 1759 1228 1600 \nQ 959 1441 959 1056 \nQ 959 750 1161 570 \nQ 1363 391 1709 391 \nQ 2188 391 2477 730 \nQ 2766 1069 2766 1631 \nL 2766 1759 \nL 2194 1759 \nz\nM 3341 1997 \nL 3341 0 \nL 2766 0 \nL 2766 531 \nQ 2569 213 2275 61 \nQ 1981 -91 1556 -91 \nQ 1019 -91 701 211 \nQ 384 513 384 1019 \nQ 384 1609 779 1909 \nQ 1175 2209 1959 2209 \nL 2766 2209 \nL 2766 2266 \nQ 2766 2663 2505 2880 \nQ 2244 3097 1772 3097 \nQ 1472 3097 1187 3025 \nQ 903 2953 641 2809 \nL 641 3341 \nQ 956 3463 1253 3523 \nQ 1550 3584 1831 3584 \nQ 2591 3584 2966 3190 \nQ 3341 2797 3341 1997 \nz\n\" id=\"DejaVuSans-61\" transform=\"scale(0.015625)\"/>\n        <path d=\"M 2631 2963 \nQ 2534 3019 2420 3045 \nQ 2306 3072 2169 3072 \nQ 1681 3072 1420 2755 \nQ 1159 2438 1159 1844 \nL 1159 0 \nL 581 0 \nL 581 3500 \nL 1159 3500 \nL 1159 2956 \nQ 1341 3275 1631 3429 \nQ 1922 3584 2338 3584 \nQ 2397 3584 2469 3576 \nQ 2541 3569 2628 3553 \nL 2631 2963 \nz\n\" id=\"DejaVuSans-72\" transform=\"scale(0.015625)\"/>\n        <path d=\"M 2906 2969 \nL 2906 4863 \nL 3481 4863 \nL 3481 0 \nL 2906 0 \nL 2906 525 \nQ 2725 213 2448 61 \nQ 2172 -91 1784 -91 \nQ 1150 -91 751 415 \nQ 353 922 353 1747 \nQ 353 2572 751 3078 \nQ 1150 3584 1784 3584 \nQ 2172 3584 2448 3432 \nQ 2725 3281 2906 2969 \nz\nM 947 1747 \nQ 947 1113 1208 752 \nQ 1469 391 1925 391 \nQ 2381 391 2643 752 \nQ 2906 1113 2906 1747 \nQ 2906 2381 2643 2742 \nQ 2381 3103 1925 3103 \nQ 1469 3103 1208 2742 \nQ 947 2381 947 1747 \nz\n\" id=\"DejaVuSans-64\" transform=\"scale(0.015625)\"/>\n        <path id=\"DejaVuSans-20\" transform=\"scale(0.015625)\"/>\n        <path d=\"M 603 3500 \nL 1178 3500 \nL 1178 0 \nL 603 0 \nL 603 3500 \nz\nM 603 4863 \nL 1178 4863 \nL 1178 4134 \nL 603 4134 \nL 603 4863 \nz\n\" id=\"DejaVuSans-69\" transform=\"scale(0.015625)\"/>\n        <path d=\"M 603 4863 \nL 1178 4863 \nL 1178 0 \nL 603 0 \nL 603 4863 \nz\n\" id=\"DejaVuSans-6c\" transform=\"scale(0.015625)\"/>\n       </defs>\n       <use xlink:href=\"#DejaVuSans-6d\"/>\n       <use x=\"97.412109\" xlink:href=\"#DejaVuSans-75\"/>\n       <use x=\"160.791016\" xlink:href=\"#DejaVuSans-73\"/>\n       <use x=\"212.890625\" xlink:href=\"#DejaVuSans-74\"/>\n       <use x=\"252.099609\" xlink:href=\"#DejaVuSans-61\"/>\n       <use x=\"313.378906\" xlink:href=\"#DejaVuSans-72\"/>\n       <use x=\"352.742188\" xlink:href=\"#DejaVuSans-64\"/>\n       <use x=\"416.21875\" xlink:href=\"#DejaVuSans-20\"/>\n       <use x=\"448.005859\" xlink:href=\"#DejaVuSans-6f\"/>\n       <use x=\"509.1875\" xlink:href=\"#DejaVuSans-69\"/>\n       <use x=\"536.970703\" xlink:href=\"#DejaVuSans-6c\"/>\n      </g>\n     </g>\n    </g>\n    <g id=\"ytick_2\">\n     <g id=\"line2d_10\">\n      <g>\n       <use style=\"stroke:#000000;stroke-width:0.8;\" x=\"140.060938\" xlink:href=\"#mc6ba9468b0\" y=\"46.780125\"/>\n      </g>\n     </g>\n     <g id=\"text_11\">\n      <!-- chicken -->\n      <g transform=\"translate(95.029688 50.579344)scale(0.1 -0.1)\">\n       <defs>\n        <path d=\"M 3513 2113 \nL 3513 0 \nL 2938 0 \nL 2938 2094 \nQ 2938 2591 2744 2837 \nQ 2550 3084 2163 3084 \nQ 1697 3084 1428 2787 \nQ 1159 2491 1159 1978 \nL 1159 0 \nL 581 0 \nL 581 4863 \nL 1159 4863 \nL 1159 2956 \nQ 1366 3272 1645 3428 \nQ 1925 3584 2291 3584 \nQ 2894 3584 3203 3211 \nQ 3513 2838 3513 2113 \nz\n\" id=\"DejaVuSans-68\" transform=\"scale(0.015625)\"/>\n        <path d=\"M 581 4863 \nL 1159 4863 \nL 1159 1991 \nL 2875 3500 \nL 3609 3500 \nL 1753 1863 \nL 3688 0 \nL 2938 0 \nL 1159 1709 \nL 1159 0 \nL 581 0 \nL 581 4863 \nz\n\" id=\"DejaVuSans-6b\" transform=\"scale(0.015625)\"/>\n        <path d=\"M 3597 1894 \nL 3597 1613 \nL 953 1613 \nQ 991 1019 1311 708 \nQ 1631 397 2203 397 \nQ 2534 397 2845 478 \nQ 3156 559 3463 722 \nL 3463 178 \nQ 3153 47 2828 -22 \nQ 2503 -91 2169 -91 \nQ 1331 -91 842 396 \nQ 353 884 353 1716 \nQ 353 2575 817 3079 \nQ 1281 3584 2069 3584 \nQ 2775 3584 3186 3129 \nQ 3597 2675 3597 1894 \nz\nM 3022 2063 \nQ 3016 2534 2758 2815 \nQ 2500 3097 2075 3097 \nQ 1594 3097 1305 2825 \nQ 1016 2553 972 2059 \nL 3022 2063 \nz\n\" id=\"DejaVuSans-65\" transform=\"scale(0.015625)\"/>\n       </defs>\n       <use xlink:href=\"#DejaVuSans-63\"/>\n       <use x=\"54.980469\" xlink:href=\"#DejaVuSans-68\"/>\n       <use x=\"118.359375\" xlink:href=\"#DejaVuSans-69\"/>\n       <use x=\"146.142578\" xlink:href=\"#DejaVuSans-63\"/>\n       <use x=\"201.123047\" xlink:href=\"#DejaVuSans-6b\"/>\n       <use x=\"255.408203\" xlink:href=\"#DejaVuSans-65\"/>\n       <use x=\"316.931641\" xlink:href=\"#DejaVuSans-6e\"/>\n      </g>\n     </g>\n    </g>\n    <g id=\"ytick_3\">\n     <g id=\"line2d_11\">\n      <g>\n       <use style=\"stroke:#000000;stroke-width:0.8;\" x=\"140.060938\" xlink:href=\"#mc6ba9468b0\" y=\"63.088125\"/>\n      </g>\n     </g>\n     <g id=\"text_12\">\n      <!-- ginger -->\n      <g transform=\"translate(100.984375 66.887344)scale(0.1 -0.1)\">\n       <defs>\n        <path d=\"M 2906 1791 \nQ 2906 2416 2648 2759 \nQ 2391 3103 1925 3103 \nQ 1463 3103 1205 2759 \nQ 947 2416 947 1791 \nQ 947 1169 1205 825 \nQ 1463 481 1925 481 \nQ 2391 481 2648 825 \nQ 2906 1169 2906 1791 \nz\nM 3481 434 \nQ 3481 -459 3084 -895 \nQ 2688 -1331 1869 -1331 \nQ 1566 -1331 1297 -1286 \nQ 1028 -1241 775 -1147 \nL 775 -588 \nQ 1028 -725 1275 -790 \nQ 1522 -856 1778 -856 \nQ 2344 -856 2625 -561 \nQ 2906 -266 2906 331 \nL 2906 616 \nQ 2728 306 2450 153 \nQ 2172 0 1784 0 \nQ 1141 0 747 490 \nQ 353 981 353 1791 \nQ 353 2603 747 3093 \nQ 1141 3584 1784 3584 \nQ 2172 3584 2450 3431 \nQ 2728 3278 2906 2969 \nL 2906 3500 \nL 3481 3500 \nL 3481 434 \nz\n\" id=\"DejaVuSans-67\" transform=\"scale(0.015625)\"/>\n       </defs>\n       <use xlink:href=\"#DejaVuSans-67\"/>\n       <use x=\"63.476562\" xlink:href=\"#DejaVuSans-69\"/>\n       <use x=\"91.259766\" xlink:href=\"#DejaVuSans-6e\"/>\n       <use x=\"154.638672\" xlink:href=\"#DejaVuSans-67\"/>\n       <use x=\"218.115234\" xlink:href=\"#DejaVuSans-65\"/>\n       <use x=\"279.638672\" xlink:href=\"#DejaVuSans-72\"/>\n      </g>\n     </g>\n    </g>\n    <g id=\"ytick_4\">\n     <g id=\"line2d_12\">\n      <g>\n       <use style=\"stroke:#000000;stroke-width:0.8;\" x=\"140.060938\" xlink:href=\"#mc6ba9468b0\" y=\"79.396125\"/>\n      </g>\n     </g>\n     <g id=\"text_13\">\n      <!-- garam masala powder -->\n      <g transform=\"translate(20.878125 83.195344)scale(0.1 -0.1)\">\n       <defs>\n        <path d=\"M 1159 525 \nL 1159 -1331 \nL 581 -1331 \nL 581 3500 \nL 1159 3500 \nL 1159 2969 \nQ 1341 3281 1617 3432 \nQ 1894 3584 2278 3584 \nQ 2916 3584 3314 3078 \nQ 3713 2572 3713 1747 \nQ 3713 922 3314 415 \nQ 2916 -91 2278 -91 \nQ 1894 -91 1617 61 \nQ 1341 213 1159 525 \nz\nM 3116 1747 \nQ 3116 2381 2855 2742 \nQ 2594 3103 2138 3103 \nQ 1681 3103 1420 2742 \nQ 1159 2381 1159 1747 \nQ 1159 1113 1420 752 \nQ 1681 391 2138 391 \nQ 2594 391 2855 752 \nQ 3116 1113 3116 1747 \nz\n\" id=\"DejaVuSans-70\" transform=\"scale(0.015625)\"/>\n        <path d=\"M 269 3500 \nL 844 3500 \nL 1563 769 \nL 2278 3500 \nL 2956 3500 \nL 3675 769 \nL 4391 3500 \nL 4966 3500 \nL 4050 0 \nL 3372 0 \nL 2619 2869 \nL 1863 0 \nL 1184 0 \nL 269 3500 \nz\n\" id=\"DejaVuSans-77\" transform=\"scale(0.015625)\"/>\n       </defs>\n       <use xlink:href=\"#DejaVuSans-67\"/>\n       <use x=\"63.476562\" xlink:href=\"#DejaVuSans-61\"/>\n       <use x=\"124.755859\" xlink:href=\"#DejaVuSans-72\"/>\n       <use x=\"165.869141\" xlink:href=\"#DejaVuSans-61\"/>\n       <use x=\"227.148438\" xlink:href=\"#DejaVuSans-6d\"/>\n       <use x=\"324.560547\" xlink:href=\"#DejaVuSans-20\"/>\n       <use x=\"356.347656\" xlink:href=\"#DejaVuSans-6d\"/>\n       <use x=\"453.759766\" xlink:href=\"#DejaVuSans-61\"/>\n       <use x=\"515.039062\" xlink:href=\"#DejaVuSans-73\"/>\n       <use x=\"567.138672\" xlink:href=\"#DejaVuSans-61\"/>\n       <use x=\"628.417969\" xlink:href=\"#DejaVuSans-6c\"/>\n       <use x=\"656.201172\" xlink:href=\"#DejaVuSans-61\"/>\n       <use x=\"717.480469\" xlink:href=\"#DejaVuSans-20\"/>\n       <use x=\"749.267578\" xlink:href=\"#DejaVuSans-70\"/>\n       <use x=\"812.744141\" xlink:href=\"#DejaVuSans-6f\"/>\n       <use x=\"873.925781\" xlink:href=\"#DejaVuSans-77\"/>\n       <use x=\"955.712891\" xlink:href=\"#DejaVuSans-64\"/>\n       <use x=\"1019.189453\" xlink:href=\"#DejaVuSans-65\"/>\n       <use x=\"1080.712891\" xlink:href=\"#DejaVuSans-72\"/>\n      </g>\n     </g>\n    </g>\n    <g id=\"ytick_5\">\n     <g id=\"line2d_13\">\n      <g>\n       <use style=\"stroke:#000000;stroke-width:0.8;\" x=\"140.060938\" xlink:href=\"#mc6ba9468b0\" y=\"95.704125\"/>\n      </g>\n     </g>\n     <g id=\"text_14\">\n      <!-- fish -->\n      <g transform=\"translate(115.215625 99.503344)scale(0.1 -0.1)\">\n       <defs>\n        <path d=\"M 2375 4863 \nL 2375 4384 \nL 1825 4384 \nQ 1516 4384 1395 4259 \nQ 1275 4134 1275 3809 \nL 1275 3500 \nL 2222 3500 \nL 2222 3053 \nL 1275 3053 \nL 1275 0 \nL 697 0 \nL 697 3053 \nL 147 3053 \nL 147 3500 \nL 697 3500 \nL 697 3744 \nQ 697 4328 969 4595 \nQ 1241 4863 1831 4863 \nL 2375 4863 \nz\n\" id=\"DejaVuSans-66\" transform=\"scale(0.015625)\"/>\n       </defs>\n       <use xlink:href=\"#DejaVuSans-66\"/>\n       <use x=\"35.205078\" xlink:href=\"#DejaVuSans-69\"/>\n       <use x=\"62.988281\" xlink:href=\"#DejaVuSans-73\"/>\n       <use x=\"115.087891\" xlink:href=\"#DejaVuSans-68\"/>\n      </g>\n     </g>\n    </g>\n    <g id=\"ytick_6\">\n     <g id=\"line2d_14\">\n      <g>\n       <use style=\"stroke:#000000;stroke-width:0.8;\" x=\"140.060938\" xlink:href=\"#mc6ba9468b0\" y=\"112.012125\"/>\n      </g>\n     </g>\n     <g id=\"text_15\">\n      <!-- garam masala -->\n      <g transform=\"translate(61.314063 115.811344)scale(0.1 -0.1)\">\n       <use xlink:href=\"#DejaVuSans-67\"/>\n       <use x=\"63.476562\" xlink:href=\"#DejaVuSans-61\"/>\n       <use x=\"124.755859\" xlink:href=\"#DejaVuSans-72\"/>\n       <use x=\"165.869141\" xlink:href=\"#DejaVuSans-61\"/>\n       <use x=\"227.148438\" xlink:href=\"#DejaVuSans-6d\"/>\n       <use x=\"324.560547\" xlink:href=\"#DejaVuSans-20\"/>\n       <use x=\"356.347656\" xlink:href=\"#DejaVuSans-6d\"/>\n       <use x=\"453.759766\" xlink:href=\"#DejaVuSans-61\"/>\n       <use x=\"515.039062\" xlink:href=\"#DejaVuSans-73\"/>\n       <use x=\"567.138672\" xlink:href=\"#DejaVuSans-61\"/>\n       <use x=\"628.417969\" xlink:href=\"#DejaVuSans-6c\"/>\n       <use x=\"656.201172\" xlink:href=\"#DejaVuSans-61\"/>\n      </g>\n     </g>\n    </g>\n    <g id=\"ytick_7\">\n     <g id=\"line2d_15\">\n      <g>\n       <use style=\"stroke:#000000;stroke-width:0.8;\" x=\"140.060938\" xlink:href=\"#mc6ba9468b0\" y=\"128.320125\"/>\n      </g>\n     </g>\n     <g id=\"text_16\">\n      <!-- tomatoes -->\n      <g transform=\"translate(85.751563 132.119344)scale(0.1 -0.1)\">\n       <use xlink:href=\"#DejaVuSans-74\"/>\n       <use x=\"39.208984\" xlink:href=\"#DejaVuSans-6f\"/>\n       <use x=\"100.390625\" xlink:href=\"#DejaVuSans-6d\"/>\n       <use x=\"197.802734\" xlink:href=\"#DejaVuSans-61\"/>\n       <use x=\"259.082031\" xlink:href=\"#DejaVuSans-74\"/>\n       <use x=\"298.291016\" xlink:href=\"#DejaVuSans-6f\"/>\n       <use x=\"359.472656\" xlink:href=\"#DejaVuSans-65\"/>\n       <use x=\"420.996094\" xlink:href=\"#DejaVuSans-73\"/>\n      </g>\n     </g>\n    </g>\n    <g id=\"ytick_8\">\n     <g id=\"line2d_16\">\n      <g>\n       <use style=\"stroke:#000000;stroke-width:0.8;\" x=\"140.060938\" xlink:href=\"#mc6ba9468b0\" y=\"144.628125\"/>\n      </g>\n     </g>\n     <g id=\"text_17\">\n      <!-- turmeric -->\n      <g transform=\"translate(90.585938 148.427344)scale(0.1 -0.1)\">\n       <use xlink:href=\"#DejaVuSans-74\"/>\n       <use x=\"39.208984\" xlink:href=\"#DejaVuSans-75\"/>\n       <use x=\"102.587891\" xlink:href=\"#DejaVuSans-72\"/>\n       <use x=\"141.951172\" xlink:href=\"#DejaVuSans-6d\"/>\n       <use x=\"239.363281\" xlink:href=\"#DejaVuSans-65\"/>\n       <use x=\"300.886719\" xlink:href=\"#DejaVuSans-72\"/>\n       <use x=\"342\" xlink:href=\"#DejaVuSans-69\"/>\n       <use x=\"369.783203\" xlink:href=\"#DejaVuSans-63\"/>\n      </g>\n     </g>\n    </g>\n    <g id=\"ytick_9\">\n     <g id=\"line2d_17\">\n      <g>\n       <use style=\"stroke:#000000;stroke-width:0.8;\" x=\"140.060938\" xlink:href=\"#mc6ba9468b0\" y=\"160.936125\"/>\n      </g>\n     </g>\n     <g id=\"text_18\">\n      <!-- rice flour -->\n      <g transform=\"translate(88.476563 164.735344)scale(0.1 -0.1)\">\n       <use xlink:href=\"#DejaVuSans-72\"/>\n       <use x=\"41.113281\" xlink:href=\"#DejaVuSans-69\"/>\n       <use x=\"68.896484\" xlink:href=\"#DejaVuSans-63\"/>\n       <use x=\"123.876953\" xlink:href=\"#DejaVuSans-65\"/>\n       <use x=\"185.400391\" xlink:href=\"#DejaVuSans-20\"/>\n       <use x=\"217.1875\" xlink:href=\"#DejaVuSans-66\"/>\n       <use x=\"252.392578\" xlink:href=\"#DejaVuSans-6c\"/>\n       <use x=\"280.175781\" xlink:href=\"#DejaVuSans-6f\"/>\n       <use x=\"341.357422\" xlink:href=\"#DejaVuSans-75\"/>\n       <use x=\"404.736328\" xlink:href=\"#DejaVuSans-72\"/>\n      </g>\n     </g>\n    </g>\n    <g id=\"ytick_10\">\n     <g id=\"line2d_18\">\n      <g>\n       <use style=\"stroke:#000000;stroke-width:0.8;\" x=\"140.060938\" xlink:href=\"#mc6ba9468b0\" y=\"177.244125\"/>\n      </g>\n     </g>\n     <g id=\"text_19\">\n      <!-- chillies -->\n      <g transform=\"translate(98.75 181.043344)scale(0.1 -0.1)\">\n       <use xlink:href=\"#DejaVuSans-63\"/>\n       <use x=\"54.980469\" xlink:href=\"#DejaVuSans-68\"/>\n       <use x=\"118.359375\" xlink:href=\"#DejaVuSans-69\"/>\n       <use x=\"146.142578\" xlink:href=\"#DejaVuSans-6c\"/>\n       <use x=\"173.925781\" xlink:href=\"#DejaVuSans-6c\"/>\n       <use x=\"201.708984\" xlink:href=\"#DejaVuSans-69\"/>\n       <use x=\"229.492188\" xlink:href=\"#DejaVuSans-65\"/>\n       <use x=\"291.015625\" xlink:href=\"#DejaVuSans-73\"/>\n      </g>\n     </g>\n    </g>\n    <g id=\"ytick_11\">\n     <g id=\"line2d_19\">\n      <g>\n       <use style=\"stroke:#000000;stroke-width:0.8;\" x=\"140.060938\" xlink:href=\"#mc6ba9468b0\" y=\"193.552125\"/>\n      </g>\n     </g>\n     <g id=\"text_20\">\n      <!-- bay leaf -->\n      <g transform=\"translate(92.907813 197.351344)scale(0.1 -0.1)\">\n       <defs>\n        <path d=\"M 3116 1747 \nQ 3116 2381 2855 2742 \nQ 2594 3103 2138 3103 \nQ 1681 3103 1420 2742 \nQ 1159 2381 1159 1747 \nQ 1159 1113 1420 752 \nQ 1681 391 2138 391 \nQ 2594 391 2855 752 \nQ 3116 1113 3116 1747 \nz\nM 1159 2969 \nQ 1341 3281 1617 3432 \nQ 1894 3584 2278 3584 \nQ 2916 3584 3314 3078 \nQ 3713 2572 3713 1747 \nQ 3713 922 3314 415 \nQ 2916 -91 2278 -91 \nQ 1894 -91 1617 61 \nQ 1341 213 1159 525 \nL 1159 0 \nL 581 0 \nL 581 4863 \nL 1159 4863 \nL 1159 2969 \nz\n\" id=\"DejaVuSans-62\" transform=\"scale(0.015625)\"/>\n        <path d=\"M 2059 -325 \nQ 1816 -950 1584 -1140 \nQ 1353 -1331 966 -1331 \nL 506 -1331 \nL 506 -850 \nL 844 -850 \nQ 1081 -850 1212 -737 \nQ 1344 -625 1503 -206 \nL 1606 56 \nL 191 3500 \nL 800 3500 \nL 1894 763 \nL 2988 3500 \nL 3597 3500 \nL 2059 -325 \nz\n\" id=\"DejaVuSans-79\" transform=\"scale(0.015625)\"/>\n       </defs>\n       <use xlink:href=\"#DejaVuSans-62\"/>\n       <use x=\"63.476562\" xlink:href=\"#DejaVuSans-61\"/>\n       <use x=\"124.755859\" xlink:href=\"#DejaVuSans-79\"/>\n       <use x=\"183.935547\" xlink:href=\"#DejaVuSans-20\"/>\n       <use x=\"215.722656\" xlink:href=\"#DejaVuSans-6c\"/>\n       <use x=\"243.505859\" xlink:href=\"#DejaVuSans-65\"/>\n       <use x=\"305.029297\" xlink:href=\"#DejaVuSans-61\"/>\n       <use x=\"366.308594\" xlink:href=\"#DejaVuSans-66\"/>\n      </g>\n     </g>\n    </g>\n    <g id=\"ytick_12\">\n     <g id=\"line2d_20\">\n      <g>\n       <use style=\"stroke:#000000;stroke-width:0.8;\" x=\"140.060938\" xlink:href=\"#mc6ba9468b0\" y=\"209.860125\"/>\n      </g>\n     </g>\n     <g id=\"text_21\">\n      <!-- tomato -->\n      <g transform=\"translate(97.114063 213.659344)scale(0.1 -0.1)\">\n       <use xlink:href=\"#DejaVuSans-74\"/>\n       <use x=\"39.208984\" xlink:href=\"#DejaVuSans-6f\"/>\n       <use x=\"100.390625\" xlink:href=\"#DejaVuSans-6d\"/>\n       <use x=\"197.802734\" xlink:href=\"#DejaVuSans-61\"/>\n       <use x=\"259.082031\" xlink:href=\"#DejaVuSans-74\"/>\n       <use x=\"298.291016\" xlink:href=\"#DejaVuSans-6f\"/>\n      </g>\n     </g>\n    </g>\n    <g id=\"ytick_13\">\n     <g id=\"line2d_21\">\n      <g>\n       <use style=\"stroke:#000000;stroke-width:0.8;\" x=\"140.060938\" xlink:href=\"#mc6ba9468b0\" y=\"226.168125\"/>\n      </g>\n     </g>\n     <g id=\"text_22\">\n      <!-- coconut oil -->\n      <g transform=\"translate(78.378125 229.967344)scale(0.1 -0.1)\">\n       <use xlink:href=\"#DejaVuSans-63\"/>\n       <use x=\"54.980469\" xlink:href=\"#DejaVuSans-6f\"/>\n       <use x=\"116.162109\" xlink:href=\"#DejaVuSans-63\"/>\n       <use x=\"171.142578\" xlink:href=\"#DejaVuSans-6f\"/>\n       <use x=\"232.324219\" xlink:href=\"#DejaVuSans-6e\"/>\n       <use x=\"295.703125\" xlink:href=\"#DejaVuSans-75\"/>\n       <use x=\"359.082031\" xlink:href=\"#DejaVuSans-74\"/>\n       <use x=\"398.291016\" xlink:href=\"#DejaVuSans-20\"/>\n       <use x=\"430.078125\" xlink:href=\"#DejaVuSans-6f\"/>\n       <use x=\"491.259766\" xlink:href=\"#DejaVuSans-69\"/>\n       <use x=\"519.042969\" xlink:href=\"#DejaVuSans-6c\"/>\n      </g>\n     </g>\n    </g>\n    <g id=\"ytick_14\">\n     <g id=\"line2d_22\">\n      <g>\n       <use style=\"stroke:#000000;stroke-width:0.8;\" x=\"140.060938\" xlink:href=\"#mc6ba9468b0\" y=\"242.476125\"/>\n      </g>\n     </g>\n     <g id=\"text_23\">\n      <!-- coconut -->\n      <g transform=\"translate(93.23125 246.275344)scale(0.1 -0.1)\">\n       <use xlink:href=\"#DejaVuSans-63\"/>\n       <use x=\"54.980469\" xlink:href=\"#DejaVuSans-6f\"/>\n       <use x=\"116.162109\" xlink:href=\"#DejaVuSans-63\"/>\n       <use x=\"171.142578\" xlink:href=\"#DejaVuSans-6f\"/>\n       <use x=\"232.324219\" xlink:href=\"#DejaVuSans-6e\"/>\n       <use x=\"295.703125\" xlink:href=\"#DejaVuSans-75\"/>\n       <use x=\"359.082031\" xlink:href=\"#DejaVuSans-74\"/>\n      </g>\n     </g>\n    </g>\n    <g id=\"ytick_15\">\n     <g id=\"line2d_23\">\n      <g>\n       <use style=\"stroke:#000000;stroke-width:0.8;\" x=\"140.060938\" xlink:href=\"#mc6ba9468b0\" y=\"258.784125\"/>\n      </g>\n     </g>\n     <g id=\"text_24\">\n      <!-- potatoes -->\n      <g transform=\"translate(89.14375 262.583344)scale(0.1 -0.1)\">\n       <use xlink:href=\"#DejaVuSans-70\"/>\n       <use x=\"63.476562\" xlink:href=\"#DejaVuSans-6f\"/>\n       <use x=\"124.658203\" xlink:href=\"#DejaVuSans-74\"/>\n       <use x=\"163.867188\" xlink:href=\"#DejaVuSans-61\"/>\n       <use x=\"225.146484\" xlink:href=\"#DejaVuSans-74\"/>\n       <use x=\"264.355469\" xlink:href=\"#DejaVuSans-6f\"/>\n       <use x=\"325.537109\" xlink:href=\"#DejaVuSans-65\"/>\n       <use x=\"387.060547\" xlink:href=\"#DejaVuSans-73\"/>\n      </g>\n     </g>\n    </g>\n    <g id=\"ytick_16\">\n     <g id=\"line2d_24\">\n      <g>\n       <use style=\"stroke:#000000;stroke-width:0.8;\" x=\"140.060938\" xlink:href=\"#mc6ba9468b0\" y=\"275.092125\"/>\n      </g>\n     </g>\n     <g id=\"text_25\">\n      <!-- curd -->\n      <g transform=\"translate(110.940625 278.891344)scale(0.1 -0.1)\">\n       <use xlink:href=\"#DejaVuSans-63\"/>\n       <use x=\"54.980469\" xlink:href=\"#DejaVuSans-75\"/>\n       <use x=\"118.359375\" xlink:href=\"#DejaVuSans-72\"/>\n       <use x=\"157.722656\" xlink:href=\"#DejaVuSans-64\"/>\n      </g>\n     </g>\n    </g>\n    <g id=\"ytick_17\">\n     <g id=\"line2d_25\">\n      <g>\n       <use style=\"stroke:#000000;stroke-width:0.8;\" x=\"140.060938\" xlink:href=\"#mc6ba9468b0\" y=\"291.400125\"/>\n      </g>\n     </g>\n     <g id=\"text_26\">\n      <!-- coconut milk -->\n      <g transform=\"translate(68.965625 295.199344)scale(0.1 -0.1)\">\n       <use xlink:href=\"#DejaVuSans-63\"/>\n       <use x=\"54.980469\" xlink:href=\"#DejaVuSans-6f\"/>\n       <use x=\"116.162109\" xlink:href=\"#DejaVuSans-63\"/>\n       <use x=\"171.142578\" xlink:href=\"#DejaVuSans-6f\"/>\n       <use x=\"232.324219\" xlink:href=\"#DejaVuSans-6e\"/>\n       <use x=\"295.703125\" xlink:href=\"#DejaVuSans-75\"/>\n       <use x=\"359.082031\" xlink:href=\"#DejaVuSans-74\"/>\n       <use x=\"398.291016\" xlink:href=\"#DejaVuSans-20\"/>\n       <use x=\"430.078125\" xlink:href=\"#DejaVuSans-6d\"/>\n       <use x=\"527.490234\" xlink:href=\"#DejaVuSans-69\"/>\n       <use x=\"555.273438\" xlink:href=\"#DejaVuSans-6c\"/>\n       <use x=\"583.056641\" xlink:href=\"#DejaVuSans-6b\"/>\n      </g>\n     </g>\n    </g>\n    <g id=\"ytick_18\">\n     <g id=\"line2d_26\">\n      <g>\n       <use style=\"stroke:#000000;stroke-width:0.8;\" x=\"140.060938\" xlink:href=\"#mc6ba9468b0\" y=\"307.708125\"/>\n      </g>\n     </g>\n     <g id=\"text_27\">\n      <!-- green chilies -->\n      <g transform=\"translate(69.471875 311.507344)scale(0.1 -0.1)\">\n       <use xlink:href=\"#DejaVuSans-67\"/>\n       <use x=\"63.476562\" xlink:href=\"#DejaVuSans-72\"/>\n       <use x=\"102.339844\" xlink:href=\"#DejaVuSans-65\"/>\n       <use x=\"163.863281\" xlink:href=\"#DejaVuSans-65\"/>\n       <use x=\"225.386719\" xlink:href=\"#DejaVuSans-6e\"/>\n       <use x=\"288.765625\" xlink:href=\"#DejaVuSans-20\"/>\n       <use x=\"320.552734\" xlink:href=\"#DejaVuSans-63\"/>\n       <use x=\"375.533203\" xlink:href=\"#DejaVuSans-68\"/>\n       <use x=\"438.912109\" xlink:href=\"#DejaVuSans-69\"/>\n       <use x=\"466.695312\" xlink:href=\"#DejaVuSans-6c\"/>\n       <use x=\"494.478516\" xlink:href=\"#DejaVuSans-69\"/>\n       <use x=\"522.261719\" xlink:href=\"#DejaVuSans-65\"/>\n       <use x=\"583.785156\" xlink:href=\"#DejaVuSans-73\"/>\n      </g>\n     </g>\n    </g>\n    <g id=\"ytick_19\">\n     <g id=\"line2d_27\">\n      <g>\n       <use style=\"stroke:#000000;stroke-width:0.8;\" x=\"140.060938\" xlink:href=\"#mc6ba9468b0\" y=\"324.016125\"/>\n      </g>\n     </g>\n     <g id=\"text_28\">\n      <!-- cashew nuts -->\n      <g transform=\"translate(70.573438 327.815344)scale(0.1 -0.1)\">\n       <use xlink:href=\"#DejaVuSans-63\"/>\n       <use x=\"54.980469\" xlink:href=\"#DejaVuSans-61\"/>\n       <use x=\"116.259766\" xlink:href=\"#DejaVuSans-73\"/>\n       <use x=\"168.359375\" xlink:href=\"#DejaVuSans-68\"/>\n       <use x=\"231.738281\" xlink:href=\"#DejaVuSans-65\"/>\n       <use x=\"293.261719\" xlink:href=\"#DejaVuSans-77\"/>\n       <use x=\"375.048828\" xlink:href=\"#DejaVuSans-20\"/>\n       <use x=\"406.835938\" xlink:href=\"#DejaVuSans-6e\"/>\n       <use x=\"470.214844\" xlink:href=\"#DejaVuSans-75\"/>\n       <use x=\"533.59375\" xlink:href=\"#DejaVuSans-74\"/>\n       <use x=\"572.802734\" xlink:href=\"#DejaVuSans-73\"/>\n      </g>\n     </g>\n    </g>\n    <g id=\"ytick_20\">\n     <g id=\"line2d_28\">\n      <g>\n       <use style=\"stroke:#000000;stroke-width:0.8;\" x=\"140.060938\" xlink:href=\"#mc6ba9468b0\" y=\"340.324125\"/>\n      </g>\n     </g>\n     <g id=\"text_29\">\n      <!-- cinnamon -->\n      <g transform=\"translate(83.784375 344.123344)scale(0.1 -0.1)\">\n       <use xlink:href=\"#DejaVuSans-63\"/>\n       <use x=\"54.980469\" xlink:href=\"#DejaVuSans-69\"/>\n       <use x=\"82.763672\" xlink:href=\"#DejaVuSans-6e\"/>\n       <use x=\"146.142578\" xlink:href=\"#DejaVuSans-6e\"/>\n       <use x=\"209.521484\" xlink:href=\"#DejaVuSans-61\"/>\n       <use x=\"270.800781\" xlink:href=\"#DejaVuSans-6d\"/>\n       <use x=\"368.212891\" xlink:href=\"#DejaVuSans-6f\"/>\n       <use x=\"429.394531\" xlink:href=\"#DejaVuSans-6e\"/>\n      </g>\n     </g>\n    </g>\n    <g id=\"text_30\">\n     <!-- ingredients -->\n     <g transform=\"translate(14.798438 213.523125)rotate(-90)scale(0.1 -0.1)\">\n      <use xlink:href=\"#DejaVuSans-69\"/>\n      <use x=\"27.783203\" xlink:href=\"#DejaVuSans-6e\"/>\n      <use x=\"91.162109\" xlink:href=\"#DejaVuSans-67\"/>\n      <use x=\"154.638672\" xlink:href=\"#DejaVuSans-72\"/>\n      <use x=\"193.501953\" xlink:href=\"#DejaVuSans-65\"/>\n      <use x=\"255.025391\" xlink:href=\"#DejaVuSans-64\"/>\n      <use x=\"318.501953\" xlink:href=\"#DejaVuSans-69\"/>\n      <use x=\"346.285156\" xlink:href=\"#DejaVuSans-65\"/>\n      <use x=\"407.808594\" xlink:href=\"#DejaVuSans-6e\"/>\n      <use x=\"471.1875\" xlink:href=\"#DejaVuSans-74\"/>\n      <use x=\"510.396484\" xlink:href=\"#DejaVuSans-73\"/>\n     </g>\n    </g>\n   </g>\n   <g id=\"line2d_29\">\n    <path clip-path=\"url(#p6b441994bd)\" d=\"M 0 0 \n\" style=\"fill:none;stroke:#424242;stroke-linecap:square;stroke-width:2.7;\"/>\n   </g>\n   <g id=\"line2d_30\">\n    <path clip-path=\"url(#p6b441994bd)\" d=\"M 0 0 \n\" style=\"fill:none;stroke:#424242;stroke-linecap:square;stroke-width:2.7;\"/>\n   </g>\n   <g id=\"line2d_31\">\n    <path clip-path=\"url(#p6b441994bd)\" d=\"M 0 0 \n\" style=\"fill:none;stroke:#424242;stroke-linecap:square;stroke-width:2.7;\"/>\n   </g>\n   <g id=\"line2d_32\">\n    <path clip-path=\"url(#p6b441994bd)\" d=\"M 0 0 \n\" style=\"fill:none;stroke:#424242;stroke-linecap:square;stroke-width:2.7;\"/>\n   </g>\n   <g id=\"line2d_33\">\n    <path clip-path=\"url(#p6b441994bd)\" d=\"M 0 0 \n\" style=\"fill:none;stroke:#424242;stroke-linecap:square;stroke-width:2.7;\"/>\n   </g>\n   <g id=\"line2d_34\">\n    <path clip-path=\"url(#p6b441994bd)\" d=\"M 0 0 \n\" style=\"fill:none;stroke:#424242;stroke-linecap:square;stroke-width:2.7;\"/>\n   </g>\n   <g id=\"line2d_35\">\n    <path clip-path=\"url(#p6b441994bd)\" d=\"M 0 0 \n\" style=\"fill:none;stroke:#424242;stroke-linecap:square;stroke-width:2.7;\"/>\n   </g>\n   <g id=\"line2d_36\">\n    <path clip-path=\"url(#p6b441994bd)\" d=\"M 0 0 \n\" style=\"fill:none;stroke:#424242;stroke-linecap:square;stroke-width:2.7;\"/>\n   </g>\n   <g id=\"line2d_37\">\n    <path clip-path=\"url(#p6b441994bd)\" d=\"M 0 0 \n\" style=\"fill:none;stroke:#424242;stroke-linecap:square;stroke-width:2.7;\"/>\n   </g>\n   <g id=\"line2d_38\">\n    <path clip-path=\"url(#p6b441994bd)\" d=\"M 0 0 \n\" style=\"fill:none;stroke:#424242;stroke-linecap:square;stroke-width:2.7;\"/>\n   </g>\n   <g id=\"line2d_39\">\n    <path clip-path=\"url(#p6b441994bd)\" d=\"M 0 0 \n\" style=\"fill:none;stroke:#424242;stroke-linecap:square;stroke-width:2.7;\"/>\n   </g>\n   <g id=\"line2d_40\">\n    <path clip-path=\"url(#p6b441994bd)\" d=\"M 0 0 \n\" style=\"fill:none;stroke:#424242;stroke-linecap:square;stroke-width:2.7;\"/>\n   </g>\n   <g id=\"line2d_41\">\n    <path clip-path=\"url(#p6b441994bd)\" d=\"M 0 0 \n\" style=\"fill:none;stroke:#424242;stroke-linecap:square;stroke-width:2.7;\"/>\n   </g>\n   <g id=\"line2d_42\">\n    <path clip-path=\"url(#p6b441994bd)\" d=\"M 0 0 \n\" style=\"fill:none;stroke:#424242;stroke-linecap:square;stroke-width:2.7;\"/>\n   </g>\n   <g id=\"line2d_43\">\n    <path clip-path=\"url(#p6b441994bd)\" d=\"M 0 0 \n\" style=\"fill:none;stroke:#424242;stroke-linecap:square;stroke-width:2.7;\"/>\n   </g>\n   <g id=\"line2d_44\">\n    <path clip-path=\"url(#p6b441994bd)\" d=\"M 0 0 \n\" style=\"fill:none;stroke:#424242;stroke-linecap:square;stroke-width:2.7;\"/>\n   </g>\n   <g id=\"line2d_45\">\n    <path clip-path=\"url(#p6b441994bd)\" d=\"M 0 0 \n\" style=\"fill:none;stroke:#424242;stroke-linecap:square;stroke-width:2.7;\"/>\n   </g>\n   <g id=\"line2d_46\">\n    <path clip-path=\"url(#p6b441994bd)\" d=\"M 0 0 \n\" style=\"fill:none;stroke:#424242;stroke-linecap:square;stroke-width:2.7;\"/>\n   </g>\n   <g id=\"line2d_47\">\n    <path clip-path=\"url(#p6b441994bd)\" d=\"M 0 0 \n\" style=\"fill:none;stroke:#424242;stroke-linecap:square;stroke-width:2.7;\"/>\n   </g>\n   <g id=\"line2d_48\">\n    <path clip-path=\"url(#p6b441994bd)\" d=\"M 0 0 \n\" style=\"fill:none;stroke:#424242;stroke-linecap:square;stroke-width:2.7;\"/>\n   </g>\n   <g id=\"patch_23\">\n    <path d=\"M 140.060938 348.478125 \nL 140.060938 22.318125 \n\" style=\"fill:none;stroke:#000000;stroke-linecap:square;stroke-linejoin:miter;stroke-width:0.8;\"/>\n   </g>\n   <g id=\"patch_24\">\n    <path d=\"M 809.660938 348.478125 \nL 809.660938 22.318125 \n\" style=\"fill:none;stroke:#000000;stroke-linecap:square;stroke-linejoin:miter;stroke-width:0.8;\"/>\n   </g>\n   <g id=\"patch_25\">\n    <path d=\"M 140.060938 348.478125 \nL 809.660938 348.478125 \n\" style=\"fill:none;stroke:#000000;stroke-linecap:square;stroke-linejoin:miter;stroke-width:0.8;\"/>\n   </g>\n   <g id=\"patch_26\">\n    <path d=\"M 140.060938 22.318125 \nL 809.660938 22.318125 \n\" style=\"fill:none;stroke:#000000;stroke-linecap:square;stroke-linejoin:miter;stroke-width:0.8;\"/>\n   </g>\n   <g id=\"text_31\">\n    <!-- Top 20 Ingredients for Non-Vegetarian Dishes -->\n    <g transform=\"translate(339.182188 16.318125)scale(0.12 -0.12)\">\n     <defs>\n      <path d=\"M -19 4666 \nL 3928 4666 \nL 3928 4134 \nL 2272 4134 \nL 2272 0 \nL 1638 0 \nL 1638 4134 \nL -19 4134 \nL -19 4666 \nz\n\" id=\"DejaVuSans-54\" transform=\"scale(0.015625)\"/>\n      <path d=\"M 628 4666 \nL 1259 4666 \nL 1259 0 \nL 628 0 \nL 628 4666 \nz\n\" id=\"DejaVuSans-49\" transform=\"scale(0.015625)\"/>\n      <path d=\"M 628 4666 \nL 1478 4666 \nL 3547 763 \nL 3547 4666 \nL 4159 4666 \nL 4159 0 \nL 3309 0 \nL 1241 3903 \nL 1241 0 \nL 628 0 \nL 628 4666 \nz\n\" id=\"DejaVuSans-4e\" transform=\"scale(0.015625)\"/>\n      <path d=\"M 313 2009 \nL 1997 2009 \nL 1997 1497 \nL 313 1497 \nL 313 2009 \nz\n\" id=\"DejaVuSans-2d\" transform=\"scale(0.015625)\"/>\n      <path d=\"M 1831 0 \nL 50 4666 \nL 709 4666 \nL 2188 738 \nL 3669 4666 \nL 4325 4666 \nL 2547 0 \nL 1831 0 \nz\n\" id=\"DejaVuSans-56\" transform=\"scale(0.015625)\"/>\n      <path d=\"M 1259 4147 \nL 1259 519 \nL 2022 519 \nQ 2988 519 3436 956 \nQ 3884 1394 3884 2338 \nQ 3884 3275 3436 3711 \nQ 2988 4147 2022 4147 \nL 1259 4147 \nz\nM 628 4666 \nL 1925 4666 \nQ 3281 4666 3915 4102 \nQ 4550 3538 4550 2338 \nQ 4550 1131 3912 565 \nQ 3275 0 1925 0 \nL 628 0 \nL 628 4666 \nz\n\" id=\"DejaVuSans-44\" transform=\"scale(0.015625)\"/>\n     </defs>\n     <use xlink:href=\"#DejaVuSans-54\"/>\n     <use x=\"44.083984\" xlink:href=\"#DejaVuSans-6f\"/>\n     <use x=\"105.265625\" xlink:href=\"#DejaVuSans-70\"/>\n     <use x=\"168.742188\" xlink:href=\"#DejaVuSans-20\"/>\n     <use x=\"200.529297\" xlink:href=\"#DejaVuSans-32\"/>\n     <use x=\"264.152344\" xlink:href=\"#DejaVuSans-30\"/>\n     <use x=\"327.775391\" xlink:href=\"#DejaVuSans-20\"/>\n     <use x=\"359.5625\" xlink:href=\"#DejaVuSans-49\"/>\n     <use x=\"389.054688\" xlink:href=\"#DejaVuSans-6e\"/>\n     <use x=\"452.433594\" xlink:href=\"#DejaVuSans-67\"/>\n     <use x=\"515.910156\" xlink:href=\"#DejaVuSans-72\"/>\n     <use x=\"554.773438\" xlink:href=\"#DejaVuSans-65\"/>\n     <use x=\"616.296875\" xlink:href=\"#DejaVuSans-64\"/>\n     <use x=\"679.773438\" xlink:href=\"#DejaVuSans-69\"/>\n     <use x=\"707.556641\" xlink:href=\"#DejaVuSans-65\"/>\n     <use x=\"769.080078\" xlink:href=\"#DejaVuSans-6e\"/>\n     <use x=\"832.458984\" xlink:href=\"#DejaVuSans-74\"/>\n     <use x=\"871.667969\" xlink:href=\"#DejaVuSans-73\"/>\n     <use x=\"923.767578\" xlink:href=\"#DejaVuSans-20\"/>\n     <use x=\"955.554688\" xlink:href=\"#DejaVuSans-66\"/>\n     <use x=\"990.759766\" xlink:href=\"#DejaVuSans-6f\"/>\n     <use x=\"1051.941406\" xlink:href=\"#DejaVuSans-72\"/>\n     <use x=\"1093.054688\" xlink:href=\"#DejaVuSans-20\"/>\n     <use x=\"1124.841797\" xlink:href=\"#DejaVuSans-4e\"/>\n     <use x=\"1199.646484\" xlink:href=\"#DejaVuSans-6f\"/>\n     <use x=\"1260.828125\" xlink:href=\"#DejaVuSans-6e\"/>\n     <use x=\"1324.207031\" xlink:href=\"#DejaVuSans-2d\"/>\n     <use x=\"1354.416016\" xlink:href=\"#DejaVuSans-56\"/>\n     <use x=\"1415.074219\" xlink:href=\"#DejaVuSans-65\"/>\n     <use x=\"1476.597656\" xlink:href=\"#DejaVuSans-67\"/>\n     <use x=\"1540.074219\" xlink:href=\"#DejaVuSans-65\"/>\n     <use x=\"1601.597656\" xlink:href=\"#DejaVuSans-74\"/>\n     <use x=\"1640.806641\" xlink:href=\"#DejaVuSans-61\"/>\n     <use x=\"1702.085938\" xlink:href=\"#DejaVuSans-72\"/>\n     <use x=\"1743.199219\" xlink:href=\"#DejaVuSans-69\"/>\n     <use x=\"1770.982422\" xlink:href=\"#DejaVuSans-61\"/>\n     <use x=\"1832.261719\" xlink:href=\"#DejaVuSans-6e\"/>\n     <use x=\"1895.640625\" xlink:href=\"#DejaVuSans-20\"/>\n     <use x=\"1927.427734\" xlink:href=\"#DejaVuSans-44\"/>\n     <use x=\"2004.429688\" xlink:href=\"#DejaVuSans-69\"/>\n     <use x=\"2032.212891\" xlink:href=\"#DejaVuSans-73\"/>\n     <use x=\"2084.3125\" xlink:href=\"#DejaVuSans-68\"/>\n     <use x=\"2147.691406\" xlink:href=\"#DejaVuSans-65\"/>\n     <use x=\"2209.214844\" xlink:href=\"#DejaVuSans-73\"/>\n    </g>\n   </g>\n  </g>\n </g>\n <defs>\n  <clipPath id=\"p6b441994bd\">\n   <rect height=\"326.16\" width=\"669.6\" x=\"140.060938\" y=\"22.318125\"/>\n  </clipPath>\n </defs>\n</svg>\n",
      "image/png": "[encoded data removed]"
     },
     "metadata": {
      "needs_background": "light"
     }
    }
   ],
   "source": [
    "# plotting top 20 non vegetarian ingredients\n",
    "\n",
    "sns.barplot(data = final_non_veg_ingredients.head(20), x = \"count\", y = \"ingredients\")\n",
    "plt.title(\"Top 20 Ingredients for Non-Vegetarian Dishes\")\n",
    "plt.show()"
   ]
  },
  {
   "source": [
    "## Feature Engineering"
   ],
   "cell_type": "markdown",
   "metadata": {}
  },
  {
   "cell_type": "code",
   "execution_count": 44,
   "metadata": {},
   "outputs": [
    {
     "output_type": "execute_result",
     "data": {
      "text/plain": [
       "               name                                        ingredients  \\\n",
       "19      sohan papdi            gram flour, ghee, sugar, milk, cardamom   \n",
       "21    chhena kheeri                                chhena, sugar, milk   \n",
       "65      pork bharta   boiled pork, onions, chillies, ginger and garlic   \n",
       "132  kaara kozhambu  sesame oil, drumstick, tamarind paste, sambar ...   \n",
       "134  keerai masiyal  urad dal, curry leaves, sugar, mustard seeds, ...   \n",
       "148      paravannam                           raw rice,  jaggery, milk   \n",
       "152         poriyal       chana dal, urad dal, beans, coconut, mustard   \n",
       "167     kolim jawla  baingan, fish, coconut oil, fresh coconut, ginger   \n",
       "172      bombil fry  bombay duck, malvani masala, rice flour, bomba...   \n",
       "185        ghooghra            dry fruits, semolina, all purpose flour   \n",
       "187        halvasan  whole wheat rava, chia seed, lemon, edible gum...   \n",
       "213      mag dhokli      moong beans, jaggery, red chillies, oil, salt   \n",
       "216      farsi puri  semolina, clarified butter, oil, white flour, ...   \n",
       "220      cheera doi                                  rice, mango, curd   \n",
       "223     kumol sawul                       rice, eggs, carrot, beetroot   \n",
       "227  bengena pitika     brinjal, onions, salt, sesame seeds, coriander   \n",
       "229      black rice  forbidden black rice, chicken, olive oil, sliv...   \n",
       "230      bora sawul  biryani masala, mixed vegetables, yellow moong...   \n",
       "234      hando guri                                   jaggery, raisins   \n",
       "237        kabiraji            fish fillet, besan, lemon, mint, ginger   \n",
       "238         khorisa  fermented bamboo shoot, potato, ginger, green,...   \n",
       "239  koldil chicken  banana flower, chicken, green chili, mustard o...   \n",
       "240       konir dom  aloo, tomatoes, mustard oil, bay leaf, cinnamo...   \n",
       "241     koldil duck  rice flour, mutton, banana, gram flour, olive ...   \n",
       "242      masor koni  fish roe, pumpkin flowers, mustard oil, turmer...   \n",
       "244         pakhala        curd, cooked rice, curry leaves, dry chilli   \n",
       "246          payokh  basmati rice, rose water, sugar, clarified but...   \n",
       "248        red rice  red pepper, red onion, butter, watercress, oli...   \n",
       "252          shufta  cottage cheese, dry dates, dried rose petals, ...   \n",
       "254          pinaca  brown rice, fennel seeds, grated coconut, blac...   \n",
       "\n",
       "               diet  prep_time  cook_time flavor_profile       course  \\\n",
       "19       vegetarian         -1         60          sweet      dessert   \n",
       "21       vegetarian         -1         60          sweet      dessert   \n",
       "65   non-vegetarian         -1         -1          spicy  main course   \n",
       "132      vegetarian         -1         -1          spicy  main course   \n",
       "134      vegetarian         -1         -1          spicy  main course   \n",
       "148      vegetarian         -1         -1          spicy  main course   \n",
       "152      vegetarian         -1         -1          spicy  main course   \n",
       "167  non-vegetarian         -1         -1          spicy  main course   \n",
       "172  non-vegetarian         -1         -1          spicy  main course   \n",
       "185      vegetarian         -1         -1          spicy        snack   \n",
       "187      vegetarian         -1         -1          sweet      dessert   \n",
       "213      vegetarian         -1         -1          spicy        snack   \n",
       "216      vegetarian         -1         -1          other        snack   \n",
       "220      vegetarian         -1         -1          sweet      dessert   \n",
       "223  non-vegetarian         -1         -1          spicy  main course   \n",
       "227      vegetarian         -1         -1          other  main course   \n",
       "229  non-vegetarian         -1         -1          other  main course   \n",
       "230      vegetarian         -1         -1          spicy  main course   \n",
       "234      vegetarian         -1         -1          sweet      dessert   \n",
       "237  non-vegetarian         -1         -1          spicy  main course   \n",
       "238      vegetarian         -1         -1          spicy  main course   \n",
       "239  non-vegetarian         -1         -1          spicy  main course   \n",
       "240  non-vegetarian         -1         -1          spicy  main course   \n",
       "241  non-vegetarian         -1         -1          spicy  main course   \n",
       "242  non-vegetarian         -1         -1          spicy  main course   \n",
       "244      vegetarian         -1         -1          other  main course   \n",
       "246      vegetarian         -1         -1          sweet      dessert   \n",
       "248      vegetarian         -1         -1          other  main course   \n",
       "252      vegetarian         -1         -1          sweet      dessert   \n",
       "254      vegetarian         -1         -1          sweet      dessert   \n",
       "\n",
       "               state      region  \n",
       "19       Maharashtra        West  \n",
       "21            Odisha        East  \n",
       "65           Tripura  North East  \n",
       "132       Tamil Nadu       South  \n",
       "134       Tamil Nadu       South  \n",
       "148           Kerala       South  \n",
       "152       Tamil Nadu       South  \n",
       "167      Maharashtra        West  \n",
       "172      Maharashtra        West  \n",
       "185          Gujarat        West  \n",
       "187          Gujarat        West  \n",
       "213          Gujarat        West  \n",
       "216          Gujarat        West  \n",
       "220      West Bengal        East  \n",
       "223            Assam  North East  \n",
       "227            Assam  North East  \n",
       "229          Manipur  North East  \n",
       "230            Assam  North East  \n",
       "234            Assam  North East  \n",
       "237      West Bengal        East  \n",
       "238            Assam  North East  \n",
       "239            Assam  North East  \n",
       "240            Assam  North East  \n",
       "241            Assam  North East  \n",
       "242            Assam  North East  \n",
       "244           Odisha        East  \n",
       "246            Assam  North East  \n",
       "248        All State  All Region  \n",
       "252  Jammu & Kashmir       North  \n",
       "254              Goa        West  "
      ],
      "text/html": "<div>\n<style scoped>\n    .dataframe tbody tr th:only-of-type {\n        vertical-align: middle;\n    }\n\n    .dataframe tbody tr th {\n        vertical-align: top;\n    }\n\n    .dataframe thead th {\n        text-align: right;\n    }\n</style>\n<table border=\"1\" class=\"dataframe\">\n  <thead>\n    <tr style=\"text-align: right;\">\n      <th></th>\n      <th>name</th>\n      <th>ingredients</th>\n      <th>diet</th>\n      <th>prep_time</th>\n      <th>cook_time</th>\n      <th>flavor_profile</th>\n      <th>course</th>\n      <th>state</th>\n      <th>region</th>\n    </tr>\n  </thead>\n  <tbody>\n    <tr>\n      <th>19</th>\n      <td>sohan papdi</td>\n      <td>gram flour, ghee, sugar, milk, cardamom</td>\n      <td>vegetarian</td>\n      <td>-1</td>\n      <td>60</td>\n      <td>sweet</td>\n      <td>dessert</td>\n      <td>Maharashtra</td>\n      <td>West</td>\n    </tr>\n    <tr>\n      <th>21</th>\n      <td>chhena kheeri</td>\n      <td>chhena, sugar, milk</td>\n      <td>vegetarian</td>\n      <td>-1</td>\n      <td>60</td>\n      <td>sweet</td>\n      <td>dessert</td>\n      <td>Odisha</td>\n      <td>East</td>\n    </tr>\n    <tr>\n      <th>65</th>\n      <td>pork bharta</td>\n      <td>boiled pork, onions, chillies, ginger and garlic</td>\n      <td>non-vegetarian</td>\n      <td>-1</td>\n      <td>-1</td>\n      <td>spicy</td>\n      <td>main course</td>\n      <td>Tripura</td>\n      <td>North East</td>\n    </tr>\n    <tr>\n      <th>132</th>\n      <td>kaara kozhambu</td>\n      <td>sesame oil, drumstick, tamarind paste, sambar ...</td>\n      <td>vegetarian</td>\n      <td>-1</td>\n      <td>-1</td>\n      <td>spicy</td>\n      <td>main course</td>\n      <td>Tamil Nadu</td>\n      <td>South</td>\n    </tr>\n    <tr>\n      <th>134</th>\n      <td>keerai masiyal</td>\n      <td>urad dal, curry leaves, sugar, mustard seeds, ...</td>\n      <td>vegetarian</td>\n      <td>-1</td>\n      <td>-1</td>\n      <td>spicy</td>\n      <td>main course</td>\n      <td>Tamil Nadu</td>\n      <td>South</td>\n    </tr>\n    <tr>\n      <th>148</th>\n      <td>paravannam</td>\n      <td>raw rice,  jaggery, milk</td>\n      <td>vegetarian</td>\n      <td>-1</td>\n      <td>-1</td>\n      <td>spicy</td>\n      <td>main course</td>\n      <td>Kerala</td>\n      <td>South</td>\n    </tr>\n    <tr>\n      <th>152</th>\n      <td>poriyal</td>\n      <td>chana dal, urad dal, beans, coconut, mustard</td>\n      <td>vegetarian</td>\n      <td>-1</td>\n      <td>-1</td>\n      <td>spicy</td>\n      <td>main course</td>\n      <td>Tamil Nadu</td>\n      <td>South</td>\n    </tr>\n    <tr>\n      <th>167</th>\n      <td>kolim jawla</td>\n      <td>baingan, fish, coconut oil, fresh coconut, ginger</td>\n      <td>non-vegetarian</td>\n      <td>-1</td>\n      <td>-1</td>\n      <td>spicy</td>\n      <td>main course</td>\n      <td>Maharashtra</td>\n      <td>West</td>\n    </tr>\n    <tr>\n      <th>172</th>\n      <td>bombil fry</td>\n      <td>bombay duck, malvani masala, rice flour, bomba...</td>\n      <td>non-vegetarian</td>\n      <td>-1</td>\n      <td>-1</td>\n      <td>spicy</td>\n      <td>main course</td>\n      <td>Maharashtra</td>\n      <td>West</td>\n    </tr>\n    <tr>\n      <th>185</th>\n      <td>ghooghra</td>\n      <td>dry fruits, semolina, all purpose flour</td>\n      <td>vegetarian</td>\n      <td>-1</td>\n      <td>-1</td>\n      <td>spicy</td>\n      <td>snack</td>\n      <td>Gujarat</td>\n      <td>West</td>\n    </tr>\n    <tr>\n      <th>187</th>\n      <td>halvasan</td>\n      <td>whole wheat rava, chia seed, lemon, edible gum...</td>\n      <td>vegetarian</td>\n      <td>-1</td>\n      <td>-1</td>\n      <td>sweet</td>\n      <td>dessert</td>\n      <td>Gujarat</td>\n      <td>West</td>\n    </tr>\n    <tr>\n      <th>213</th>\n      <td>mag dhokli</td>\n      <td>moong beans, jaggery, red chillies, oil, salt</td>\n      <td>vegetarian</td>\n      <td>-1</td>\n      <td>-1</td>\n      <td>spicy</td>\n      <td>snack</td>\n      <td>Gujarat</td>\n      <td>West</td>\n    </tr>\n    <tr>\n      <th>216</th>\n      <td>farsi puri</td>\n      <td>semolina, clarified butter, oil, white flour, ...</td>\n      <td>vegetarian</td>\n      <td>-1</td>\n      <td>-1</td>\n      <td>other</td>\n      <td>snack</td>\n      <td>Gujarat</td>\n      <td>West</td>\n    </tr>\n    <tr>\n      <th>220</th>\n      <td>cheera doi</td>\n      <td>rice, mango, curd</td>\n      <td>vegetarian</td>\n      <td>-1</td>\n      <td>-1</td>\n      <td>sweet</td>\n      <td>dessert</td>\n      <td>West Bengal</td>\n      <td>East</td>\n    </tr>\n    <tr>\n      <th>223</th>\n      <td>kumol sawul</td>\n      <td>rice, eggs, carrot, beetroot</td>\n      <td>non-vegetarian</td>\n      <td>-1</td>\n      <td>-1</td>\n      <td>spicy</td>\n      <td>main course</td>\n      <td>Assam</td>\n      <td>North East</td>\n    </tr>\n    <tr>\n      <th>227</th>\n      <td>bengena pitika</td>\n      <td>brinjal, onions, salt, sesame seeds, coriander</td>\n      <td>vegetarian</td>\n      <td>-1</td>\n      <td>-1</td>\n      <td>other</td>\n      <td>main course</td>\n      <td>Assam</td>\n      <td>North East</td>\n    </tr>\n    <tr>\n      <th>229</th>\n      <td>black rice</td>\n      <td>forbidden black rice, chicken, olive oil, sliv...</td>\n      <td>non-vegetarian</td>\n      <td>-1</td>\n      <td>-1</td>\n      <td>other</td>\n      <td>main course</td>\n      <td>Manipur</td>\n      <td>North East</td>\n    </tr>\n    <tr>\n      <th>230</th>\n      <td>bora sawul</td>\n      <td>biryani masala, mixed vegetables, yellow moong...</td>\n      <td>vegetarian</td>\n      <td>-1</td>\n      <td>-1</td>\n      <td>spicy</td>\n      <td>main course</td>\n      <td>Assam</td>\n      <td>North East</td>\n    </tr>\n    <tr>\n      <th>234</th>\n      <td>hando guri</td>\n      <td>jaggery, raisins</td>\n      <td>vegetarian</td>\n      <td>-1</td>\n      <td>-1</td>\n      <td>sweet</td>\n      <td>dessert</td>\n      <td>Assam</td>\n      <td>North East</td>\n    </tr>\n    <tr>\n      <th>237</th>\n      <td>kabiraji</td>\n      <td>fish fillet, besan, lemon, mint, ginger</td>\n      <td>non-vegetarian</td>\n      <td>-1</td>\n      <td>-1</td>\n      <td>spicy</td>\n      <td>main course</td>\n      <td>West Bengal</td>\n      <td>East</td>\n    </tr>\n    <tr>\n      <th>238</th>\n      <td>khorisa</td>\n      <td>fermented bamboo shoot, potato, ginger, green,...</td>\n      <td>vegetarian</td>\n      <td>-1</td>\n      <td>-1</td>\n      <td>spicy</td>\n      <td>main course</td>\n      <td>Assam</td>\n      <td>North East</td>\n    </tr>\n    <tr>\n      <th>239</th>\n      <td>koldil chicken</td>\n      <td>banana flower, chicken, green chili, mustard o...</td>\n      <td>non-vegetarian</td>\n      <td>-1</td>\n      <td>-1</td>\n      <td>spicy</td>\n      <td>main course</td>\n      <td>Assam</td>\n      <td>North East</td>\n    </tr>\n    <tr>\n      <th>240</th>\n      <td>konir dom</td>\n      <td>aloo, tomatoes, mustard oil, bay leaf, cinnamo...</td>\n      <td>non-vegetarian</td>\n      <td>-1</td>\n      <td>-1</td>\n      <td>spicy</td>\n      <td>main course</td>\n      <td>Assam</td>\n      <td>North East</td>\n    </tr>\n    <tr>\n      <th>241</th>\n      <td>koldil duck</td>\n      <td>rice flour, mutton, banana, gram flour, olive ...</td>\n      <td>non-vegetarian</td>\n      <td>-1</td>\n      <td>-1</td>\n      <td>spicy</td>\n      <td>main course</td>\n      <td>Assam</td>\n      <td>North East</td>\n    </tr>\n    <tr>\n      <th>242</th>\n      <td>masor koni</td>\n      <td>fish roe, pumpkin flowers, mustard oil, turmer...</td>\n      <td>non-vegetarian</td>\n      <td>-1</td>\n      <td>-1</td>\n      <td>spicy</td>\n      <td>main course</td>\n      <td>Assam</td>\n      <td>North East</td>\n    </tr>\n    <tr>\n      <th>244</th>\n      <td>pakhala</td>\n      <td>curd, cooked rice, curry leaves, dry chilli</td>\n      <td>vegetarian</td>\n      <td>-1</td>\n      <td>-1</td>\n      <td>other</td>\n      <td>main course</td>\n      <td>Odisha</td>\n      <td>East</td>\n    </tr>\n    <tr>\n      <th>246</th>\n      <td>payokh</td>\n      <td>basmati rice, rose water, sugar, clarified but...</td>\n      <td>vegetarian</td>\n      <td>-1</td>\n      <td>-1</td>\n      <td>sweet</td>\n      <td>dessert</td>\n      <td>Assam</td>\n      <td>North East</td>\n    </tr>\n    <tr>\n      <th>248</th>\n      <td>red rice</td>\n      <td>red pepper, red onion, butter, watercress, oli...</td>\n      <td>vegetarian</td>\n      <td>-1</td>\n      <td>-1</td>\n      <td>other</td>\n      <td>main course</td>\n      <td>All State</td>\n      <td>All Region</td>\n    </tr>\n    <tr>\n      <th>252</th>\n      <td>shufta</td>\n      <td>cottage cheese, dry dates, dried rose petals, ...</td>\n      <td>vegetarian</td>\n      <td>-1</td>\n      <td>-1</td>\n      <td>sweet</td>\n      <td>dessert</td>\n      <td>Jammu &amp; Kashmir</td>\n      <td>North</td>\n    </tr>\n    <tr>\n      <th>254</th>\n      <td>pinaca</td>\n      <td>brown rice, fennel seeds, grated coconut, blac...</td>\n      <td>vegetarian</td>\n      <td>-1</td>\n      <td>-1</td>\n      <td>sweet</td>\n      <td>dessert</td>\n      <td>Goa</td>\n      <td>West</td>\n    </tr>\n  </tbody>\n</table>\n</div>"
     },
     "metadata": {},
     "execution_count": 44
    }
   ],
   "source": [
    "data.loc[(data.prep_time==-1) | (data.cook_time==-1)]"
   ]
  },
  {
   "cell_type": "code",
   "execution_count": 45,
   "metadata": {},
   "outputs": [
    {
     "output_type": "execute_result",
     "data": {
      "text/plain": [
       "             name                                        ingredients  \\\n",
       "0      balu shahi                    maida flour, yogurt, oil, sugar   \n",
       "1          boondi                            gram flour, ghee, sugar   \n",
       "2  gajar ka halwa       carrots, milk, sugar, ghee, cashews, raisins   \n",
       "3          ghevar  flour, ghee, kewra, milk, clarified butter, su...   \n",
       "4     gulab jamun  milk powder, plain flour, baking powder, ghee,...   \n",
       "\n",
       "         diet  prep_time  cook_time flavor_profile   course        state  \\\n",
       "0  vegetarian         45         25          sweet  dessert  West Bengal   \n",
       "1  vegetarian         80         30          sweet  dessert    Rajasthan   \n",
       "2  vegetarian         15         60          sweet  dessert       Punjab   \n",
       "3  vegetarian         15         30          sweet  dessert    Rajasthan   \n",
       "4  vegetarian         15         40          sweet  dessert  West Bengal   \n",
       "\n",
       "  region  \n",
       "0   East  \n",
       "1   West  \n",
       "2  North  \n",
       "3   West  \n",
       "4   East  "
      ],
      "text/html": "<div>\n<style scoped>\n    .dataframe tbody tr th:only-of-type {\n        vertical-align: middle;\n    }\n\n    .dataframe tbody tr th {\n        vertical-align: top;\n    }\n\n    .dataframe thead th {\n        text-align: right;\n    }\n</style>\n<table border=\"1\" class=\"dataframe\">\n  <thead>\n    <tr style=\"text-align: right;\">\n      <th></th>\n      <th>name</th>\n      <th>ingredients</th>\n      <th>diet</th>\n      <th>prep_time</th>\n      <th>cook_time</th>\n      <th>flavor_profile</th>\n      <th>course</th>\n      <th>state</th>\n      <th>region</th>\n    </tr>\n  </thead>\n  <tbody>\n    <tr>\n      <th>0</th>\n      <td>balu shahi</td>\n      <td>maida flour, yogurt, oil, sugar</td>\n      <td>vegetarian</td>\n      <td>45</td>\n      <td>25</td>\n      <td>sweet</td>\n      <td>dessert</td>\n      <td>West Bengal</td>\n      <td>East</td>\n    </tr>\n    <tr>\n      <th>1</th>\n      <td>boondi</td>\n      <td>gram flour, ghee, sugar</td>\n      <td>vegetarian</td>\n      <td>80</td>\n      <td>30</td>\n      <td>sweet</td>\n      <td>dessert</td>\n      <td>Rajasthan</td>\n      <td>West</td>\n    </tr>\n    <tr>\n      <th>2</th>\n      <td>gajar ka halwa</td>\n      <td>carrots, milk, sugar, ghee, cashews, raisins</td>\n      <td>vegetarian</td>\n      <td>15</td>\n      <td>60</td>\n      <td>sweet</td>\n      <td>dessert</td>\n      <td>Punjab</td>\n      <td>North</td>\n    </tr>\n    <tr>\n      <th>3</th>\n      <td>ghevar</td>\n      <td>flour, ghee, kewra, milk, clarified butter, su...</td>\n      <td>vegetarian</td>\n      <td>15</td>\n      <td>30</td>\n      <td>sweet</td>\n      <td>dessert</td>\n      <td>Rajasthan</td>\n      <td>West</td>\n    </tr>\n    <tr>\n      <th>4</th>\n      <td>gulab jamun</td>\n      <td>milk powder, plain flour, baking powder, ghee,...</td>\n      <td>vegetarian</td>\n      <td>15</td>\n      <td>40</td>\n      <td>sweet</td>\n      <td>dessert</td>\n      <td>West Bengal</td>\n      <td>East</td>\n    </tr>\n  </tbody>\n</table>\n</div>"
     },
     "metadata": {},
     "execution_count": 45
    }
   ],
   "source": [
    "#### using all the features except prep_time and cook_time as there are some value missing in prep _time and cook_time columns\n",
    "\n",
    "cdata = data.copy()\n",
    "cdata.head()"
   ]
  },
  {
   "source": [
    "#### feature selection of ingredients\n",
    "##### using only top 20 vegetarian ingredients and top 20 non-vegetarian ingredients as features"
   ],
   "cell_type": "markdown",
   "metadata": {}
  },
  {
   "cell_type": "code",
   "execution_count": 46,
   "metadata": {},
   "outputs": [
    {
     "output_type": "execute_result",
     "data": {
      "text/plain": [
       "            ingredients  count\n",
       "0                 sugar     47\n",
       "1              urad dal     25\n",
       "2                  ghee     25\n",
       "3          curry leaves     24\n",
       "4          garam masala     23\n",
       "5                ginger     23\n",
       "6               jaggery     21\n",
       "7                  milk     21\n",
       "8            rice flour     18\n",
       "9             chana dal     16\n",
       "10               tomato     13\n",
       "11    whole wheat flour     12\n",
       "12           gram flour     12\n",
       "13          wheat flour     12\n",
       "14               potato     11\n",
       "15              coconut     10\n",
       "16         sesame seeds     10\n",
       "17     clarified butter      9\n",
       "18  garam masala powder      9\n",
       "19             cardamom      9\n",
       "20          mustard oil      7\n",
       "21              chicken      6\n",
       "22               ginger      6\n",
       "23  garam masala powder      4\n",
       "24                 fish      4\n",
       "25         garam masala      4\n",
       "26             tomatoes      3\n",
       "27             turmeric      3\n",
       "28           rice flour      3\n",
       "29             chillies      3\n",
       "30             bay leaf      3\n",
       "31               tomato      3\n",
       "32          coconut oil      2\n",
       "33              coconut      2\n",
       "34             potatoes      2\n",
       "35                 curd      2\n",
       "36         coconut milk      2\n",
       "37        green chilies      2\n",
       "38          cashew nuts      2\n",
       "39             cinnamon      2"
      ],
      "text/html": "<div>\n<style scoped>\n    .dataframe tbody tr th:only-of-type {\n        vertical-align: middle;\n    }\n\n    .dataframe tbody tr th {\n        vertical-align: top;\n    }\n\n    .dataframe thead th {\n        text-align: right;\n    }\n</style>\n<table border=\"1\" class=\"dataframe\">\n  <thead>\n    <tr style=\"text-align: right;\">\n      <th></th>\n      <th>ingredients</th>\n      <th>count</th>\n    </tr>\n  </thead>\n  <tbody>\n    <tr>\n      <th>0</th>\n      <td>sugar</td>\n      <td>47</td>\n    </tr>\n    <tr>\n      <th>1</th>\n      <td>urad dal</td>\n      <td>25</td>\n    </tr>\n    <tr>\n      <th>2</th>\n      <td>ghee</td>\n      <td>25</td>\n    </tr>\n    <tr>\n      <th>3</th>\n      <td>curry leaves</td>\n      <td>24</td>\n    </tr>\n    <tr>\n      <th>4</th>\n      <td>garam masala</td>\n      <td>23</td>\n    </tr>\n    <tr>\n      <th>5</th>\n      <td>ginger</td>\n      <td>23</td>\n    </tr>\n    <tr>\n      <th>6</th>\n      <td>jaggery</td>\n      <td>21</td>\n    </tr>\n    <tr>\n      <th>7</th>\n      <td>milk</td>\n      <td>21</td>\n    </tr>\n    <tr>\n      <th>8</th>\n      <td>rice flour</td>\n      <td>18</td>\n    </tr>\n    <tr>\n      <th>9</th>\n      <td>chana dal</td>\n      <td>16</td>\n    </tr>\n    <tr>\n      <th>10</th>\n      <td>tomato</td>\n      <td>13</td>\n    </tr>\n    <tr>\n      <th>11</th>\n      <td>whole wheat flour</td>\n      <td>12</td>\n    </tr>\n    <tr>\n      <th>12</th>\n      <td>gram flour</td>\n      <td>12</td>\n    </tr>\n    <tr>\n      <th>13</th>\n      <td>wheat flour</td>\n      <td>12</td>\n    </tr>\n    <tr>\n      <th>14</th>\n      <td>potato</td>\n      <td>11</td>\n    </tr>\n    <tr>\n      <th>15</th>\n      <td>coconut</td>\n      <td>10</td>\n    </tr>\n    <tr>\n      <th>16</th>\n      <td>sesame seeds</td>\n      <td>10</td>\n    </tr>\n    <tr>\n      <th>17</th>\n      <td>clarified butter</td>\n      <td>9</td>\n    </tr>\n    <tr>\n      <th>18</th>\n      <td>garam masala powder</td>\n      <td>9</td>\n    </tr>\n    <tr>\n      <th>19</th>\n      <td>cardamom</td>\n      <td>9</td>\n    </tr>\n    <tr>\n      <th>20</th>\n      <td>mustard oil</td>\n      <td>7</td>\n    </tr>\n    <tr>\n      <th>21</th>\n      <td>chicken</td>\n      <td>6</td>\n    </tr>\n    <tr>\n      <th>22</th>\n      <td>ginger</td>\n      <td>6</td>\n    </tr>\n    <tr>\n      <th>23</th>\n      <td>garam masala powder</td>\n      <td>4</td>\n    </tr>\n    <tr>\n      <th>24</th>\n      <td>fish</td>\n      <td>4</td>\n    </tr>\n    <tr>\n      <th>25</th>\n      <td>garam masala</td>\n      <td>4</td>\n    </tr>\n    <tr>\n      <th>26</th>\n      <td>tomatoes</td>\n      <td>3</td>\n    </tr>\n    <tr>\n      <th>27</th>\n      <td>turmeric</td>\n      <td>3</td>\n    </tr>\n    <tr>\n      <th>28</th>\n      <td>rice flour</td>\n      <td>3</td>\n    </tr>\n    <tr>\n      <th>29</th>\n      <td>chillies</td>\n      <td>3</td>\n    </tr>\n    <tr>\n      <th>30</th>\n      <td>bay leaf</td>\n      <td>3</td>\n    </tr>\n    <tr>\n      <th>31</th>\n      <td>tomato</td>\n      <td>3</td>\n    </tr>\n    <tr>\n      <th>32</th>\n      <td>coconut oil</td>\n      <td>2</td>\n    </tr>\n    <tr>\n      <th>33</th>\n      <td>coconut</td>\n      <td>2</td>\n    </tr>\n    <tr>\n      <th>34</th>\n      <td>potatoes</td>\n      <td>2</td>\n    </tr>\n    <tr>\n      <th>35</th>\n      <td>curd</td>\n      <td>2</td>\n    </tr>\n    <tr>\n      <th>36</th>\n      <td>coconut milk</td>\n      <td>2</td>\n    </tr>\n    <tr>\n      <th>37</th>\n      <td>green chilies</td>\n      <td>2</td>\n    </tr>\n    <tr>\n      <th>38</th>\n      <td>cashew nuts</td>\n      <td>2</td>\n    </tr>\n    <tr>\n      <th>39</th>\n      <td>cinnamon</td>\n      <td>2</td>\n    </tr>\n  </tbody>\n</table>\n</div>"
     },
     "metadata": {},
     "execution_count": 46
    }
   ],
   "source": [
    "# taking top 20 veg and non-veg ingredients and merging it to make our final ingredient feature\n",
    "\n",
    "top_veg_ingredients = final_veg_ingredients.head(20)\n",
    "top_non_veg_ingredients = final_non_veg_ingredients.head(20)\n",
    "\n",
    "# appending both and making our final ingredients\n",
    "final_ingredients = top_veg_ingredients.append(top_non_veg_ingredients).reset_index(drop = True)\n",
    "final_ingredients"
   ]
  },
  {
   "cell_type": "code",
   "execution_count": 47,
   "metadata": {},
   "outputs": [
    {
     "output_type": "execute_result",
     "data": {
      "text/plain": [
       "            ingredients  count\n",
       "0          garam masala     23\n",
       "1                ginger     23\n",
       "2            rice flour     18\n",
       "3                tomato     13\n",
       "4               coconut     10\n",
       "5   garam masala powder      9\n",
       "6                ginger      6\n",
       "7   garam masala powder      4\n",
       "8          garam masala      4\n",
       "9            rice flour      3\n",
       "10               tomato      3\n",
       "11              coconut      2"
      ],
      "text/html": "<div>\n<style scoped>\n    .dataframe tbody tr th:only-of-type {\n        vertical-align: middle;\n    }\n\n    .dataframe tbody tr th {\n        vertical-align: top;\n    }\n\n    .dataframe thead th {\n        text-align: right;\n    }\n</style>\n<table border=\"1\" class=\"dataframe\">\n  <thead>\n    <tr style=\"text-align: right;\">\n      <th></th>\n      <th>ingredients</th>\n      <th>count</th>\n    </tr>\n  </thead>\n  <tbody>\n    <tr>\n      <th>0</th>\n      <td>garam masala</td>\n      <td>23</td>\n    </tr>\n    <tr>\n      <th>1</th>\n      <td>ginger</td>\n      <td>23</td>\n    </tr>\n    <tr>\n      <th>2</th>\n      <td>rice flour</td>\n      <td>18</td>\n    </tr>\n    <tr>\n      <th>3</th>\n      <td>tomato</td>\n      <td>13</td>\n    </tr>\n    <tr>\n      <th>4</th>\n      <td>coconut</td>\n      <td>10</td>\n    </tr>\n    <tr>\n      <th>5</th>\n      <td>garam masala powder</td>\n      <td>9</td>\n    </tr>\n    <tr>\n      <th>6</th>\n      <td>ginger</td>\n      <td>6</td>\n    </tr>\n    <tr>\n      <th>7</th>\n      <td>garam masala powder</td>\n      <td>4</td>\n    </tr>\n    <tr>\n      <th>8</th>\n      <td>garam masala</td>\n      <td>4</td>\n    </tr>\n    <tr>\n      <th>9</th>\n      <td>rice flour</td>\n      <td>3</td>\n    </tr>\n    <tr>\n      <th>10</th>\n      <td>tomato</td>\n      <td>3</td>\n    </tr>\n    <tr>\n      <th>11</th>\n      <td>coconut</td>\n      <td>2</td>\n    </tr>\n  </tbody>\n</table>\n</div>"
     },
     "metadata": {},
     "execution_count": 47
    }
   ],
   "source": [
    "final_ingredients[final_ingredients.ingredients.duplicated(keep = False )].reset_index(drop = True)"
   ]
  },
  {
   "cell_type": "code",
   "execution_count": 48,
   "metadata": {},
   "outputs": [
    {
     "output_type": "execute_result",
     "data": {
      "text/plain": [
       "            ingredients  count\n",
       "0                 sugar     47\n",
       "1                ginger     29\n",
       "2          garam masala     27\n",
       "3              urad dal     25\n",
       "4                  ghee     25\n",
       "5          curry leaves     24\n",
       "6            rice flour     21\n",
       "7                  milk     21\n",
       "8               jaggery     21\n",
       "9             chana dal     16\n",
       "10               tomato     16\n",
       "11  garam masala powder     13\n",
       "12          wheat flour     12\n",
       "13           gram flour     12\n",
       "14    whole wheat flour     12\n",
       "15              coconut     12\n",
       "16               potato     11\n",
       "17         sesame seeds     10\n",
       "18             cardamom      9\n",
       "19     clarified butter      9\n",
       "20          mustard oil      7\n",
       "21              chicken      6\n",
       "22                 fish      4\n",
       "23             turmeric      3\n",
       "24             tomatoes      3\n",
       "25             chillies      3\n",
       "26             bay leaf      3\n",
       "27             cinnamon      2\n",
       "28                 curd      2\n",
       "29         coconut milk      2\n",
       "30        green chilies      2\n",
       "31          coconut oil      2\n",
       "32          cashew nuts      2\n",
       "33             potatoes      2"
      ],
      "text/html": "<div>\n<style scoped>\n    .dataframe tbody tr th:only-of-type {\n        vertical-align: middle;\n    }\n\n    .dataframe tbody tr th {\n        vertical-align: top;\n    }\n\n    .dataframe thead th {\n        text-align: right;\n    }\n</style>\n<table border=\"1\" class=\"dataframe\">\n  <thead>\n    <tr style=\"text-align: right;\">\n      <th></th>\n      <th>ingredients</th>\n      <th>count</th>\n    </tr>\n  </thead>\n  <tbody>\n    <tr>\n      <th>0</th>\n      <td>sugar</td>\n      <td>47</td>\n    </tr>\n    <tr>\n      <th>1</th>\n      <td>ginger</td>\n      <td>29</td>\n    </tr>\n    <tr>\n      <th>2</th>\n      <td>garam masala</td>\n      <td>27</td>\n    </tr>\n    <tr>\n      <th>3</th>\n      <td>urad dal</td>\n      <td>25</td>\n    </tr>\n    <tr>\n      <th>4</th>\n      <td>ghee</td>\n      <td>25</td>\n    </tr>\n    <tr>\n      <th>5</th>\n      <td>curry leaves</td>\n      <td>24</td>\n    </tr>\n    <tr>\n      <th>6</th>\n      <td>rice flour</td>\n      <td>21</td>\n    </tr>\n    <tr>\n      <th>7</th>\n      <td>milk</td>\n      <td>21</td>\n    </tr>\n    <tr>\n      <th>8</th>\n      <td>jaggery</td>\n      <td>21</td>\n    </tr>\n    <tr>\n      <th>9</th>\n      <td>chana dal</td>\n      <td>16</td>\n    </tr>\n    <tr>\n      <th>10</th>\n      <td>tomato</td>\n      <td>16</td>\n    </tr>\n    <tr>\n      <th>11</th>\n      <td>garam masala powder</td>\n      <td>13</td>\n    </tr>\n    <tr>\n      <th>12</th>\n      <td>wheat flour</td>\n      <td>12</td>\n    </tr>\n    <tr>\n      <th>13</th>\n      <td>gram flour</td>\n      <td>12</td>\n    </tr>\n    <tr>\n      <th>14</th>\n      <td>whole wheat flour</td>\n      <td>12</td>\n    </tr>\n    <tr>\n      <th>15</th>\n      <td>coconut</td>\n      <td>12</td>\n    </tr>\n    <tr>\n      <th>16</th>\n      <td>potato</td>\n      <td>11</td>\n    </tr>\n    <tr>\n      <th>17</th>\n      <td>sesame seeds</td>\n      <td>10</td>\n    </tr>\n    <tr>\n      <th>18</th>\n      <td>cardamom</td>\n      <td>9</td>\n    </tr>\n    <tr>\n      <th>19</th>\n      <td>clarified butter</td>\n      <td>9</td>\n    </tr>\n    <tr>\n      <th>20</th>\n      <td>mustard oil</td>\n      <td>7</td>\n    </tr>\n    <tr>\n      <th>21</th>\n      <td>chicken</td>\n      <td>6</td>\n    </tr>\n    <tr>\n      <th>22</th>\n      <td>fish</td>\n      <td>4</td>\n    </tr>\n    <tr>\n      <th>23</th>\n      <td>turmeric</td>\n      <td>3</td>\n    </tr>\n    <tr>\n      <th>24</th>\n      <td>tomatoes</td>\n      <td>3</td>\n    </tr>\n    <tr>\n      <th>25</th>\n      <td>chillies</td>\n      <td>3</td>\n    </tr>\n    <tr>\n      <th>26</th>\n      <td>bay leaf</td>\n      <td>3</td>\n    </tr>\n    <tr>\n      <th>27</th>\n      <td>cinnamon</td>\n      <td>2</td>\n    </tr>\n    <tr>\n      <th>28</th>\n      <td>curd</td>\n      <td>2</td>\n    </tr>\n    <tr>\n      <th>29</th>\n      <td>coconut milk</td>\n      <td>2</td>\n    </tr>\n    <tr>\n      <th>30</th>\n      <td>green chilies</td>\n      <td>2</td>\n    </tr>\n    <tr>\n      <th>31</th>\n      <td>coconut oil</td>\n      <td>2</td>\n    </tr>\n    <tr>\n      <th>32</th>\n      <td>cashew nuts</td>\n      <td>2</td>\n    </tr>\n    <tr>\n      <th>33</th>\n      <td>potatoes</td>\n      <td>2</td>\n    </tr>\n  </tbody>\n</table>\n</div>"
     },
     "metadata": {},
     "execution_count": 48
    }
   ],
   "source": [
    "# we see above that some of the ingredients are found as duplicated\n",
    "# we merge it using group by\n",
    "\n",
    "final_ingredients = final_ingredients.groupby(\"ingredients\")[\"count\"].sum().reset_index()\n",
    "# sorting it by count in descending order\n",
    "final_ingredients = final_ingredients.sort_values(\"count\", ascending = False).reset_index(drop = True)\n",
    "final_ingredients"
   ]
  },
  {
   "cell_type": "code",
   "execution_count": 49,
   "metadata": {},
   "outputs": [
    {
     "output_type": "execute_result",
     "data": {
      "text/plain": [
       "34"
      ]
     },
     "metadata": {},
     "execution_count": 49
    }
   ],
   "source": [
    "# getting the count of all ingredients\n",
    "final_ingredients.ingredients.nunique()\n"
   ]
  },
  {
   "cell_type": "code",
   "execution_count": 50,
   "metadata": {},
   "outputs": [],
   "source": [
    "# doing one hot encoding to ingredients\n",
    "\n",
    "for i in final_ingredients.ingredients:\n",
    "    cdata[i] = 0 #creating a column of all ingredients and assigning value as 0\n",
    "    cdata.loc[cdata.ingredients.str.contains(i), [i]] =1  # changing value to 1 on that column whose dishes include that particular ingredients"
   ]
  },
  {
   "cell_type": "code",
   "execution_count": 51,
   "metadata": {},
   "outputs": [
    {
     "output_type": "execute_result",
     "data": {
      "text/plain": [
       "               name                                        ingredients  \\\n",
       "0        balu shahi                    maida flour, yogurt, oil, sugar   \n",
       "1            boondi                            gram flour, ghee, sugar   \n",
       "2    gajar ka halwa       carrots, milk, sugar, ghee, cashews, raisins   \n",
       "3            ghevar  flour, ghee, kewra, milk, clarified butter, su...   \n",
       "4       gulab jamun  milk powder, plain flour, baking powder, ghee,...   \n",
       "..              ...                                                ...   \n",
       "250       til pitha            glutinous rice, black sesame seeds, gur   \n",
       "251         bebinca  coconut milk, egg yolks, clarified butter, all...   \n",
       "252          shufta  cottage cheese, dry dates, dried rose petals, ...   \n",
       "253       mawa bati  milk powder, dry fruits, arrowroot powder, all...   \n",
       "254          pinaca  brown rice, fennel seeds, grated coconut, blac...   \n",
       "\n",
       "           diet  prep_time  cook_time flavor_profile   course  \\\n",
       "0    vegetarian         45         25          sweet  dessert   \n",
       "1    vegetarian         80         30          sweet  dessert   \n",
       "2    vegetarian         15         60          sweet  dessert   \n",
       "3    vegetarian         15         30          sweet  dessert   \n",
       "4    vegetarian         15         40          sweet  dessert   \n",
       "..          ...        ...        ...            ...      ...   \n",
       "250  vegetarian          5         30          sweet  dessert   \n",
       "251  vegetarian         20         60          sweet  dessert   \n",
       "252  vegetarian         -1         -1          sweet  dessert   \n",
       "253  vegetarian         20         45          sweet  dessert   \n",
       "254  vegetarian         -1         -1          sweet  dessert   \n",
       "\n",
       "               state      region  sugar  ...  tomatoes  chillies  bay leaf  \\\n",
       "0        West Bengal        East      1  ...         0         0         0   \n",
       "1          Rajasthan        West      1  ...         0         0         0   \n",
       "2             Punjab       North      1  ...         0         0         0   \n",
       "3          Rajasthan        West      1  ...         0         0         0   \n",
       "4        West Bengal        East      1  ...         0         0         0   \n",
       "..               ...         ...    ...  ...       ...       ...       ...   \n",
       "250            Assam  North East      0  ...         0         0         0   \n",
       "251              Goa        West      0  ...         0         0         0   \n",
       "252  Jammu & Kashmir       North      0  ...         0         0         0   \n",
       "253   Madhya Pradesh     Central      0  ...         0         0         0   \n",
       "254              Goa        West      0  ...         0         0         0   \n",
       "\n",
       "     cinnamon  curd  coconut milk  green chilies  coconut oil  cashew nuts  \\\n",
       "0           0     0             0              0            0            0   \n",
       "1           0     0             0              0            0            0   \n",
       "2           0     0             0              0            0            0   \n",
       "3           0     0             0              0            0            0   \n",
       "4           0     0             0              0            0            0   \n",
       "..        ...   ...           ...            ...          ...          ...   \n",
       "250         0     0             0              0            0            0   \n",
       "251         0     0             1              0            0            0   \n",
       "252         0     0             0              0            0            0   \n",
       "253         0     0             0              0            0            0   \n",
       "254         0     0             0              0            0            0   \n",
       "\n",
       "     potatoes  \n",
       "0           0  \n",
       "1           0  \n",
       "2           0  \n",
       "3           0  \n",
       "4           0  \n",
       "..        ...  \n",
       "250         0  \n",
       "251         0  \n",
       "252         0  \n",
       "253         0  \n",
       "254         0  \n",
       "\n",
       "[255 rows x 43 columns]"
      ],
      "text/html": "<div>\n<style scoped>\n    .dataframe tbody tr th:only-of-type {\n        vertical-align: middle;\n    }\n\n    .dataframe tbody tr th {\n        vertical-align: top;\n    }\n\n    .dataframe thead th {\n        text-align: right;\n    }\n</style>\n<table border=\"1\" class=\"dataframe\">\n  <thead>\n    <tr style=\"text-align: right;\">\n      <th></th>\n      <th>name</th>\n      <th>ingredients</th>\n      <th>diet</th>\n      <th>prep_time</th>\n      <th>cook_time</th>\n      <th>flavor_profile</th>\n      <th>course</th>\n      <th>state</th>\n      <th>region</th>\n      <th>sugar</th>\n      <th>...</th>\n      <th>tomatoes</th>\n      <th>chillies</th>\n      <th>bay leaf</th>\n      <th>cinnamon</th>\n      <th>curd</th>\n      <th>coconut milk</th>\n      <th>green chilies</th>\n      <th>coconut oil</th>\n      <th>cashew nuts</th>\n      <th>potatoes</th>\n    </tr>\n  </thead>\n  <tbody>\n    <tr>\n      <th>0</th>\n      <td>balu shahi</td>\n      <td>maida flour, yogurt, oil, sugar</td>\n      <td>vegetarian</td>\n      <td>45</td>\n      <td>25</td>\n      <td>sweet</td>\n      <td>dessert</td>\n      <td>West Bengal</td>\n      <td>East</td>\n      <td>1</td>\n      <td>...</td>\n      <td>0</td>\n      <td>0</td>\n      <td>0</td>\n      <td>0</td>\n      <td>0</td>\n      <td>0</td>\n      <td>0</td>\n      <td>0</td>\n      <td>0</td>\n      <td>0</td>\n    </tr>\n    <tr>\n      <th>1</th>\n      <td>boondi</td>\n      <td>gram flour, ghee, sugar</td>\n      <td>vegetarian</td>\n      <td>80</td>\n      <td>30</td>\n      <td>sweet</td>\n      <td>dessert</td>\n      <td>Rajasthan</td>\n      <td>West</td>\n      <td>1</td>\n      <td>...</td>\n      <td>0</td>\n      <td>0</td>\n      <td>0</td>\n      <td>0</td>\n      <td>0</td>\n      <td>0</td>\n      <td>0</td>\n      <td>0</td>\n      <td>0</td>\n      <td>0</td>\n    </tr>\n    <tr>\n      <th>2</th>\n      <td>gajar ka halwa</td>\n      <td>carrots, milk, sugar, ghee, cashews, raisins</td>\n      <td>vegetarian</td>\n      <td>15</td>\n      <td>60</td>\n      <td>sweet</td>\n      <td>dessert</td>\n      <td>Punjab</td>\n      <td>North</td>\n      <td>1</td>\n      <td>...</td>\n      <td>0</td>\n      <td>0</td>\n      <td>0</td>\n      <td>0</td>\n      <td>0</td>\n      <td>0</td>\n      <td>0</td>\n      <td>0</td>\n      <td>0</td>\n      <td>0</td>\n    </tr>\n    <tr>\n      <th>3</th>\n      <td>ghevar</td>\n      <td>flour, ghee, kewra, milk, clarified butter, su...</td>\n      <td>vegetarian</td>\n      <td>15</td>\n      <td>30</td>\n      <td>sweet</td>\n      <td>dessert</td>\n      <td>Rajasthan</td>\n      <td>West</td>\n      <td>1</td>\n      <td>...</td>\n      <td>0</td>\n      <td>0</td>\n      <td>0</td>\n      <td>0</td>\n      <td>0</td>\n      <td>0</td>\n      <td>0</td>\n      <td>0</td>\n      <td>0</td>\n      <td>0</td>\n    </tr>\n    <tr>\n      <th>4</th>\n      <td>gulab jamun</td>\n      <td>milk powder, plain flour, baking powder, ghee,...</td>\n      <td>vegetarian</td>\n      <td>15</td>\n      <td>40</td>\n      <td>sweet</td>\n      <td>dessert</td>\n      <td>West Bengal</td>\n      <td>East</td>\n      <td>1</td>\n      <td>...</td>\n      <td>0</td>\n      <td>0</td>\n      <td>0</td>\n      <td>0</td>\n      <td>0</td>\n      <td>0</td>\n      <td>0</td>\n      <td>0</td>\n      <td>0</td>\n      <td>0</td>\n    </tr>\n    <tr>\n      <th>...</th>\n      <td>...</td>\n      <td>...</td>\n      <td>...</td>\n      <td>...</td>\n      <td>...</td>\n      <td>...</td>\n      <td>...</td>\n      <td>...</td>\n      <td>...</td>\n      <td>...</td>\n      <td>...</td>\n      <td>...</td>\n      <td>...</td>\n      <td>...</td>\n      <td>...</td>\n      <td>...</td>\n      <td>...</td>\n      <td>...</td>\n      <td>...</td>\n      <td>...</td>\n      <td>...</td>\n    </tr>\n    <tr>\n      <th>250</th>\n      <td>til pitha</td>\n      <td>glutinous rice, black sesame seeds, gur</td>\n      <td>vegetarian</td>\n      <td>5</td>\n      <td>30</td>\n      <td>sweet</td>\n      <td>dessert</td>\n      <td>Assam</td>\n      <td>North East</td>\n      <td>0</td>\n      <td>...</td>\n      <td>0</td>\n      <td>0</td>\n      <td>0</td>\n      <td>0</td>\n      <td>0</td>\n      <td>0</td>\n      <td>0</td>\n      <td>0</td>\n      <td>0</td>\n      <td>0</td>\n    </tr>\n    <tr>\n      <th>251</th>\n      <td>bebinca</td>\n      <td>coconut milk, egg yolks, clarified butter, all...</td>\n      <td>vegetarian</td>\n      <td>20</td>\n      <td>60</td>\n      <td>sweet</td>\n      <td>dessert</td>\n      <td>Goa</td>\n      <td>West</td>\n      <td>0</td>\n      <td>...</td>\n      <td>0</td>\n      <td>0</td>\n      <td>0</td>\n      <td>0</td>\n      <td>0</td>\n      <td>1</td>\n      <td>0</td>\n      <td>0</td>\n      <td>0</td>\n      <td>0</td>\n    </tr>\n    <tr>\n      <th>252</th>\n      <td>shufta</td>\n      <td>cottage cheese, dry dates, dried rose petals, ...</td>\n      <td>vegetarian</td>\n      <td>-1</td>\n      <td>-1</td>\n      <td>sweet</td>\n      <td>dessert</td>\n      <td>Jammu &amp; Kashmir</td>\n      <td>North</td>\n      <td>0</td>\n      <td>...</td>\n      <td>0</td>\n      <td>0</td>\n      <td>0</td>\n      <td>0</td>\n      <td>0</td>\n      <td>0</td>\n      <td>0</td>\n      <td>0</td>\n      <td>0</td>\n      <td>0</td>\n    </tr>\n    <tr>\n      <th>253</th>\n      <td>mawa bati</td>\n      <td>milk powder, dry fruits, arrowroot powder, all...</td>\n      <td>vegetarian</td>\n      <td>20</td>\n      <td>45</td>\n      <td>sweet</td>\n      <td>dessert</td>\n      <td>Madhya Pradesh</td>\n      <td>Central</td>\n      <td>0</td>\n      <td>...</td>\n      <td>0</td>\n      <td>0</td>\n      <td>0</td>\n      <td>0</td>\n      <td>0</td>\n      <td>0</td>\n      <td>0</td>\n      <td>0</td>\n      <td>0</td>\n      <td>0</td>\n    </tr>\n    <tr>\n      <th>254</th>\n      <td>pinaca</td>\n      <td>brown rice, fennel seeds, grated coconut, blac...</td>\n      <td>vegetarian</td>\n      <td>-1</td>\n      <td>-1</td>\n      <td>sweet</td>\n      <td>dessert</td>\n      <td>Goa</td>\n      <td>West</td>\n      <td>0</td>\n      <td>...</td>\n      <td>0</td>\n      <td>0</td>\n      <td>0</td>\n      <td>0</td>\n      <td>0</td>\n      <td>0</td>\n      <td>0</td>\n      <td>0</td>\n      <td>0</td>\n      <td>0</td>\n    </tr>\n  </tbody>\n</table>\n<p>255 rows × 43 columns</p>\n</div>"
     },
     "metadata": {},
     "execution_count": 51
    }
   ],
   "source": [
    "cdata"
   ]
  },
  {
   "cell_type": "code",
   "execution_count": 55,
   "metadata": {},
   "outputs": [
    {
     "output_type": "execute_result",
     "data": {
      "text/plain": [
       "     vegetarian\n",
       "0             1\n",
       "1             1\n",
       "2             1\n",
       "3             1\n",
       "4             1\n",
       "..          ...\n",
       "250           1\n",
       "251           1\n",
       "252           1\n",
       "253           1\n",
       "254           1\n",
       "\n",
       "[226 rows x 1 columns]"
      ],
      "text/html": "<div>\n<style scoped>\n    .dataframe tbody tr th:only-of-type {\n        vertical-align: middle;\n    }\n\n    .dataframe tbody tr th {\n        vertical-align: top;\n    }\n\n    .dataframe thead th {\n        text-align: right;\n    }\n</style>\n<table border=\"1\" class=\"dataframe\">\n  <thead>\n    <tr style=\"text-align: right;\">\n      <th></th>\n      <th>vegetarian</th>\n    </tr>\n  </thead>\n  <tbody>\n    <tr>\n      <th>0</th>\n      <td>1</td>\n    </tr>\n    <tr>\n      <th>1</th>\n      <td>1</td>\n    </tr>\n    <tr>\n      <th>2</th>\n      <td>1</td>\n    </tr>\n    <tr>\n      <th>3</th>\n      <td>1</td>\n    </tr>\n    <tr>\n      <th>4</th>\n      <td>1</td>\n    </tr>\n    <tr>\n      <th>...</th>\n      <td>...</td>\n    </tr>\n    <tr>\n      <th>250</th>\n      <td>1</td>\n    </tr>\n    <tr>\n      <th>251</th>\n      <td>1</td>\n    </tr>\n    <tr>\n      <th>252</th>\n      <td>1</td>\n    </tr>\n    <tr>\n      <th>253</th>\n      <td>1</td>\n    </tr>\n    <tr>\n      <th>254</th>\n      <td>1</td>\n    </tr>\n  </tbody>\n</table>\n<p>226 rows × 1 columns</p>\n</div>"
     },
     "metadata": {},
     "execution_count": 55
    }
   ],
   "source": [
    "# Encoding veg and non veg using label encoding\n",
    "\n",
    "# dropping first column of non-veg for preventing dummy variable trap\n",
    "# print(data.diet)\n",
    "diet_encoding = pd.get_dummies(data.diet, drop_first=True)\n",
    "diet_encoding[diet_encoding.vegetarian==1]\n",
    "# diet_encoding\n"
   ]
  },
  {
   "cell_type": "code",
   "execution_count": 59,
   "metadata": {},
   "outputs": [
    {
     "output_type": "execute_result",
     "data": {
      "text/plain": [
       "               name                                        ingredients  \\\n",
       "0        balu shahi                    maida flour, yogurt, oil, sugar   \n",
       "1            boondi                            gram flour, ghee, sugar   \n",
       "2    gajar ka halwa       carrots, milk, sugar, ghee, cashews, raisins   \n",
       "3            ghevar  flour, ghee, kewra, milk, clarified butter, su...   \n",
       "4       gulab jamun  milk powder, plain flour, baking powder, ghee,...   \n",
       "..              ...                                                ...   \n",
       "250       til pitha            glutinous rice, black sesame seeds, gur   \n",
       "251         bebinca  coconut milk, egg yolks, clarified butter, all...   \n",
       "252          shufta  cottage cheese, dry dates, dried rose petals, ...   \n",
       "253       mawa bati  milk powder, dry fruits, arrowroot powder, all...   \n",
       "254          pinaca  brown rice, fennel seeds, grated coconut, blac...   \n",
       "\n",
       "           diet  prep_time  cook_time flavor_profile   course  \\\n",
       "0    vegetarian         45         25          sweet  dessert   \n",
       "1    vegetarian         80         30          sweet  dessert   \n",
       "2    vegetarian         15         60          sweet  dessert   \n",
       "3    vegetarian         15         30          sweet  dessert   \n",
       "4    vegetarian         15         40          sweet  dessert   \n",
       "..          ...        ...        ...            ...      ...   \n",
       "250  vegetarian          5         30          sweet  dessert   \n",
       "251  vegetarian         20         60          sweet  dessert   \n",
       "252  vegetarian         -1         -1          sweet  dessert   \n",
       "253  vegetarian         20         45          sweet  dessert   \n",
       "254  vegetarian         -1         -1          sweet  dessert   \n",
       "\n",
       "               state      region  sugar  ...  chillies  bay leaf  cinnamon  \\\n",
       "0        West Bengal        East      1  ...         0         0         0   \n",
       "1          Rajasthan        West      1  ...         0         0         0   \n",
       "2             Punjab       North      1  ...         0         0         0   \n",
       "3          Rajasthan        West      1  ...         0         0         0   \n",
       "4        West Bengal        East      1  ...         0         0         0   \n",
       "..               ...         ...    ...  ...       ...       ...       ...   \n",
       "250            Assam  North East      0  ...         0         0         0   \n",
       "251              Goa        West      0  ...         0         0         0   \n",
       "252  Jammu & Kashmir       North      0  ...         0         0         0   \n",
       "253   Madhya Pradesh     Central      0  ...         0         0         0   \n",
       "254              Goa        West      0  ...         0         0         0   \n",
       "\n",
       "     curd  coconut milk  green chilies  coconut oil  cashew nuts  potatoes  \\\n",
       "0       0             0              0            0            0         0   \n",
       "1       0             0              0            0            0         0   \n",
       "2       0             0              0            0            0         0   \n",
       "3       0             0              0            0            0         0   \n",
       "4       0             0              0            0            0         0   \n",
       "..    ...           ...            ...          ...          ...       ...   \n",
       "250     0             0              0            0            0         0   \n",
       "251     0             1              0            0            0         0   \n",
       "252     0             0              0            0            0         0   \n",
       "253     0             0              0            0            0         0   \n",
       "254     0             0              0            0            0         0   \n",
       "\n",
       "     vegetarian  \n",
       "0             1  \n",
       "1             1  \n",
       "2             1  \n",
       "3             1  \n",
       "4             1  \n",
       "..          ...  \n",
       "250           1  \n",
       "251           1  \n",
       "252           1  \n",
       "253           1  \n",
       "254           1  \n",
       "\n",
       "[255 rows x 44 columns]"
      ],
      "text/html": "<div>\n<style scoped>\n    .dataframe tbody tr th:only-of-type {\n        vertical-align: middle;\n    }\n\n    .dataframe tbody tr th {\n        vertical-align: top;\n    }\n\n    .dataframe thead th {\n        text-align: right;\n    }\n</style>\n<table border=\"1\" class=\"dataframe\">\n  <thead>\n    <tr style=\"text-align: right;\">\n      <th></th>\n      <th>name</th>\n      <th>ingredients</th>\n      <th>diet</th>\n      <th>prep_time</th>\n      <th>cook_time</th>\n      <th>flavor_profile</th>\n      <th>course</th>\n      <th>state</th>\n      <th>region</th>\n      <th>sugar</th>\n      <th>...</th>\n      <th>chillies</th>\n      <th>bay leaf</th>\n      <th>cinnamon</th>\n      <th>curd</th>\n      <th>coconut milk</th>\n      <th>green chilies</th>\n      <th>coconut oil</th>\n      <th>cashew nuts</th>\n      <th>potatoes</th>\n      <th>vegetarian</th>\n    </tr>\n  </thead>\n  <tbody>\n    <tr>\n      <th>0</th>\n      <td>balu shahi</td>\n      <td>maida flour, yogurt, oil, sugar</td>\n      <td>vegetarian</td>\n      <td>45</td>\n      <td>25</td>\n      <td>sweet</td>\n      <td>dessert</td>\n      <td>West Bengal</td>\n      <td>East</td>\n      <td>1</td>\n      <td>...</td>\n      <td>0</td>\n      <td>0</td>\n      <td>0</td>\n      <td>0</td>\n      <td>0</td>\n      <td>0</td>\n      <td>0</td>\n      <td>0</td>\n      <td>0</td>\n      <td>1</td>\n    </tr>\n    <tr>\n      <th>1</th>\n      <td>boondi</td>\n      <td>gram flour, ghee, sugar</td>\n      <td>vegetarian</td>\n      <td>80</td>\n      <td>30</td>\n      <td>sweet</td>\n      <td>dessert</td>\n      <td>Rajasthan</td>\n      <td>West</td>\n      <td>1</td>\n      <td>...</td>\n      <td>0</td>\n      <td>0</td>\n      <td>0</td>\n      <td>0</td>\n      <td>0</td>\n      <td>0</td>\n      <td>0</td>\n      <td>0</td>\n      <td>0</td>\n      <td>1</td>\n    </tr>\n    <tr>\n      <th>2</th>\n      <td>gajar ka halwa</td>\n      <td>carrots, milk, sugar, ghee, cashews, raisins</td>\n      <td>vegetarian</td>\n      <td>15</td>\n      <td>60</td>\n      <td>sweet</td>\n      <td>dessert</td>\n      <td>Punjab</td>\n      <td>North</td>\n      <td>1</td>\n      <td>...</td>\n      <td>0</td>\n      <td>0</td>\n      <td>0</td>\n      <td>0</td>\n      <td>0</td>\n      <td>0</td>\n      <td>0</td>\n      <td>0</td>\n      <td>0</td>\n      <td>1</td>\n    </tr>\n    <tr>\n      <th>3</th>\n      <td>ghevar</td>\n      <td>flour, ghee, kewra, milk, clarified butter, su...</td>\n      <td>vegetarian</td>\n      <td>15</td>\n      <td>30</td>\n      <td>sweet</td>\n      <td>dessert</td>\n      <td>Rajasthan</td>\n      <td>West</td>\n      <td>1</td>\n      <td>...</td>\n      <td>0</td>\n      <td>0</td>\n      <td>0</td>\n      <td>0</td>\n      <td>0</td>\n      <td>0</td>\n      <td>0</td>\n      <td>0</td>\n      <td>0</td>\n      <td>1</td>\n    </tr>\n    <tr>\n      <th>4</th>\n      <td>gulab jamun</td>\n      <td>milk powder, plain flour, baking powder, ghee,...</td>\n      <td>vegetarian</td>\n      <td>15</td>\n      <td>40</td>\n      <td>sweet</td>\n      <td>dessert</td>\n      <td>West Bengal</td>\n      <td>East</td>\n      <td>1</td>\n      <td>...</td>\n      <td>0</td>\n      <td>0</td>\n      <td>0</td>\n      <td>0</td>\n      <td>0</td>\n      <td>0</td>\n      <td>0</td>\n      <td>0</td>\n      <td>0</td>\n      <td>1</td>\n    </tr>\n    <tr>\n      <th>...</th>\n      <td>...</td>\n      <td>...</td>\n      <td>...</td>\n      <td>...</td>\n      <td>...</td>\n      <td>...</td>\n      <td>...</td>\n      <td>...</td>\n      <td>...</td>\n      <td>...</td>\n      <td>...</td>\n      <td>...</td>\n      <td>...</td>\n      <td>...</td>\n      <td>...</td>\n      <td>...</td>\n      <td>...</td>\n      <td>...</td>\n      <td>...</td>\n      <td>...</td>\n      <td>...</td>\n    </tr>\n    <tr>\n      <th>250</th>\n      <td>til pitha</td>\n      <td>glutinous rice, black sesame seeds, gur</td>\n      <td>vegetarian</td>\n      <td>5</td>\n      <td>30</td>\n      <td>sweet</td>\n      <td>dessert</td>\n      <td>Assam</td>\n      <td>North East</td>\n      <td>0</td>\n      <td>...</td>\n      <td>0</td>\n      <td>0</td>\n      <td>0</td>\n      <td>0</td>\n      <td>0</td>\n      <td>0</td>\n      <td>0</td>\n      <td>0</td>\n      <td>0</td>\n      <td>1</td>\n    </tr>\n    <tr>\n      <th>251</th>\n      <td>bebinca</td>\n      <td>coconut milk, egg yolks, clarified butter, all...</td>\n      <td>vegetarian</td>\n      <td>20</td>\n      <td>60</td>\n      <td>sweet</td>\n      <td>dessert</td>\n      <td>Goa</td>\n      <td>West</td>\n      <td>0</td>\n      <td>...</td>\n      <td>0</td>\n      <td>0</td>\n      <td>0</td>\n      <td>0</td>\n      <td>1</td>\n      <td>0</td>\n      <td>0</td>\n      <td>0</td>\n      <td>0</td>\n      <td>1</td>\n    </tr>\n    <tr>\n      <th>252</th>\n      <td>shufta</td>\n      <td>cottage cheese, dry dates, dried rose petals, ...</td>\n      <td>vegetarian</td>\n      <td>-1</td>\n      <td>-1</td>\n      <td>sweet</td>\n      <td>dessert</td>\n      <td>Jammu &amp; Kashmir</td>\n      <td>North</td>\n      <td>0</td>\n      <td>...</td>\n      <td>0</td>\n      <td>0</td>\n      <td>0</td>\n      <td>0</td>\n      <td>0</td>\n      <td>0</td>\n      <td>0</td>\n      <td>0</td>\n      <td>0</td>\n      <td>1</td>\n    </tr>\n    <tr>\n      <th>253</th>\n      <td>mawa bati</td>\n      <td>milk powder, dry fruits, arrowroot powder, all...</td>\n      <td>vegetarian</td>\n      <td>20</td>\n      <td>45</td>\n      <td>sweet</td>\n      <td>dessert</td>\n      <td>Madhya Pradesh</td>\n      <td>Central</td>\n      <td>0</td>\n      <td>...</td>\n      <td>0</td>\n      <td>0</td>\n      <td>0</td>\n      <td>0</td>\n      <td>0</td>\n      <td>0</td>\n      <td>0</td>\n      <td>0</td>\n      <td>0</td>\n      <td>1</td>\n    </tr>\n    <tr>\n      <th>254</th>\n      <td>pinaca</td>\n      <td>brown rice, fennel seeds, grated coconut, blac...</td>\n      <td>vegetarian</td>\n      <td>-1</td>\n      <td>-1</td>\n      <td>sweet</td>\n      <td>dessert</td>\n      <td>Goa</td>\n      <td>West</td>\n      <td>0</td>\n      <td>...</td>\n      <td>0</td>\n      <td>0</td>\n      <td>0</td>\n      <td>0</td>\n      <td>0</td>\n      <td>0</td>\n      <td>0</td>\n      <td>0</td>\n      <td>0</td>\n      <td>1</td>\n    </tr>\n  </tbody>\n</table>\n<p>255 rows × 44 columns</p>\n</div>"
     },
     "metadata": {},
     "execution_count": 59
    }
   ],
   "source": [
    "# concatinating it with our dataframe\n",
    "cdata = pd.concat([cdata, diet_encoding], axis = 1)\n",
    "# cdata.loc[(cdata.vegetarian==0),'vegetarian']\n",
    "cdata"
   ]
  },
  {
   "source": [
    "### feature selection of flavor_profile"
   ],
   "cell_type": "markdown",
   "metadata": {}
  },
  {
   "cell_type": "code",
   "execution_count": 60,
   "metadata": {},
   "outputs": [
    {
     "output_type": "execute_result",
     "data": {
      "text/plain": [
       "     other  sour  spicy  sweet\n",
       "0        0     0      0      1\n",
       "1        0     0      0      1\n",
       "2        0     0      0      1\n",
       "3        0     0      0      1\n",
       "4        0     0      0      1\n",
       "..     ...   ...    ...    ...\n",
       "250      0     0      0      1\n",
       "251      0     0      0      1\n",
       "252      0     0      0      1\n",
       "253      0     0      0      1\n",
       "254      0     0      0      1\n",
       "\n",
       "[255 rows x 4 columns]"
      ],
      "text/html": "<div>\n<style scoped>\n    .dataframe tbody tr th:only-of-type {\n        vertical-align: middle;\n    }\n\n    .dataframe tbody tr th {\n        vertical-align: top;\n    }\n\n    .dataframe thead th {\n        text-align: right;\n    }\n</style>\n<table border=\"1\" class=\"dataframe\">\n  <thead>\n    <tr style=\"text-align: right;\">\n      <th></th>\n      <th>other</th>\n      <th>sour</th>\n      <th>spicy</th>\n      <th>sweet</th>\n    </tr>\n  </thead>\n  <tbody>\n    <tr>\n      <th>0</th>\n      <td>0</td>\n      <td>0</td>\n      <td>0</td>\n      <td>1</td>\n    </tr>\n    <tr>\n      <th>1</th>\n      <td>0</td>\n      <td>0</td>\n      <td>0</td>\n      <td>1</td>\n    </tr>\n    <tr>\n      <th>2</th>\n      <td>0</td>\n      <td>0</td>\n      <td>0</td>\n      <td>1</td>\n    </tr>\n    <tr>\n      <th>3</th>\n      <td>0</td>\n      <td>0</td>\n      <td>0</td>\n      <td>1</td>\n    </tr>\n    <tr>\n      <th>4</th>\n      <td>0</td>\n      <td>0</td>\n      <td>0</td>\n      <td>1</td>\n    </tr>\n    <tr>\n      <th>...</th>\n      <td>...</td>\n      <td>...</td>\n      <td>...</td>\n      <td>...</td>\n    </tr>\n    <tr>\n      <th>250</th>\n      <td>0</td>\n      <td>0</td>\n      <td>0</td>\n      <td>1</td>\n    </tr>\n    <tr>\n      <th>251</th>\n      <td>0</td>\n      <td>0</td>\n      <td>0</td>\n      <td>1</td>\n    </tr>\n    <tr>\n      <th>252</th>\n      <td>0</td>\n      <td>0</td>\n      <td>0</td>\n      <td>1</td>\n    </tr>\n    <tr>\n      <th>253</th>\n      <td>0</td>\n      <td>0</td>\n      <td>0</td>\n      <td>1</td>\n    </tr>\n    <tr>\n      <th>254</th>\n      <td>0</td>\n      <td>0</td>\n      <td>0</td>\n      <td>1</td>\n    </tr>\n  </tbody>\n</table>\n<p>255 rows × 4 columns</p>\n</div>"
     },
     "metadata": {},
     "execution_count": 60
    }
   ],
   "source": [
    "# encoding flavor_profile using one hot encoding\n",
    "\n",
    "# dropping the first column which is bitter for preventing dummy variable trap\n",
    "flavor_profile_encoding = pd.get_dummies(data.flavor_profile, drop_first=True)\n",
    "flavor_profile_encoding"
   ]
  },
  {
   "cell_type": "code",
   "execution_count": 61,
   "metadata": {},
   "outputs": [
    {
     "output_type": "execute_result",
     "data": {
      "text/plain": [
       "             name                                        ingredients  \\\n",
       "0      balu shahi                    maida flour, yogurt, oil, sugar   \n",
       "1          boondi                            gram flour, ghee, sugar   \n",
       "2  gajar ka halwa       carrots, milk, sugar, ghee, cashews, raisins   \n",
       "3          ghevar  flour, ghee, kewra, milk, clarified butter, su...   \n",
       "4     gulab jamun  milk powder, plain flour, baking powder, ghee,...   \n",
       "\n",
       "         diet  prep_time  cook_time flavor_profile   course        state  \\\n",
       "0  vegetarian         45         25          sweet  dessert  West Bengal   \n",
       "1  vegetarian         80         30          sweet  dessert    Rajasthan   \n",
       "2  vegetarian         15         60          sweet  dessert       Punjab   \n",
       "3  vegetarian         15         30          sweet  dessert    Rajasthan   \n",
       "4  vegetarian         15         40          sweet  dessert  West Bengal   \n",
       "\n",
       "  region  sugar  ...  coconut milk  green chilies  coconut oil  cashew nuts  \\\n",
       "0   East      1  ...             0              0            0            0   \n",
       "1   West      1  ...             0              0            0            0   \n",
       "2  North      1  ...             0              0            0            0   \n",
       "3   West      1  ...             0              0            0            0   \n",
       "4   East      1  ...             0              0            0            0   \n",
       "\n",
       "   potatoes  vegetarian  other  sour  spicy  sweet  \n",
       "0         0           1      0     0      0      1  \n",
       "1         0           1      0     0      0      1  \n",
       "2         0           1      0     0      0      1  \n",
       "3         0           1      0     0      0      1  \n",
       "4         0           1      0     0      0      1  \n",
       "\n",
       "[5 rows x 48 columns]"
      ],
      "text/html": "<div>\n<style scoped>\n    .dataframe tbody tr th:only-of-type {\n        vertical-align: middle;\n    }\n\n    .dataframe tbody tr th {\n        vertical-align: top;\n    }\n\n    .dataframe thead th {\n        text-align: right;\n    }\n</style>\n<table border=\"1\" class=\"dataframe\">\n  <thead>\n    <tr style=\"text-align: right;\">\n      <th></th>\n      <th>name</th>\n      <th>ingredients</th>\n      <th>diet</th>\n      <th>prep_time</th>\n      <th>cook_time</th>\n      <th>flavor_profile</th>\n      <th>course</th>\n      <th>state</th>\n      <th>region</th>\n      <th>sugar</th>\n      <th>...</th>\n      <th>coconut milk</th>\n      <th>green chilies</th>\n      <th>coconut oil</th>\n      <th>cashew nuts</th>\n      <th>potatoes</th>\n      <th>vegetarian</th>\n      <th>other</th>\n      <th>sour</th>\n      <th>spicy</th>\n      <th>sweet</th>\n    </tr>\n  </thead>\n  <tbody>\n    <tr>\n      <th>0</th>\n      <td>balu shahi</td>\n      <td>maida flour, yogurt, oil, sugar</td>\n      <td>vegetarian</td>\n      <td>45</td>\n      <td>25</td>\n      <td>sweet</td>\n      <td>dessert</td>\n      <td>West Bengal</td>\n      <td>East</td>\n      <td>1</td>\n      <td>...</td>\n      <td>0</td>\n      <td>0</td>\n      <td>0</td>\n      <td>0</td>\n      <td>0</td>\n      <td>1</td>\n      <td>0</td>\n      <td>0</td>\n      <td>0</td>\n      <td>1</td>\n    </tr>\n    <tr>\n      <th>1</th>\n      <td>boondi</td>\n      <td>gram flour, ghee, sugar</td>\n      <td>vegetarian</td>\n      <td>80</td>\n      <td>30</td>\n      <td>sweet</td>\n      <td>dessert</td>\n      <td>Rajasthan</td>\n      <td>West</td>\n      <td>1</td>\n      <td>...</td>\n      <td>0</td>\n      <td>0</td>\n      <td>0</td>\n      <td>0</td>\n      <td>0</td>\n      <td>1</td>\n      <td>0</td>\n      <td>0</td>\n      <td>0</td>\n      <td>1</td>\n    </tr>\n    <tr>\n      <th>2</th>\n      <td>gajar ka halwa</td>\n      <td>carrots, milk, sugar, ghee, cashews, raisins</td>\n      <td>vegetarian</td>\n      <td>15</td>\n      <td>60</td>\n      <td>sweet</td>\n      <td>dessert</td>\n      <td>Punjab</td>\n      <td>North</td>\n      <td>1</td>\n      <td>...</td>\n      <td>0</td>\n      <td>0</td>\n      <td>0</td>\n      <td>0</td>\n      <td>0</td>\n      <td>1</td>\n      <td>0</td>\n      <td>0</td>\n      <td>0</td>\n      <td>1</td>\n    </tr>\n    <tr>\n      <th>3</th>\n      <td>ghevar</td>\n      <td>flour, ghee, kewra, milk, clarified butter, su...</td>\n      <td>vegetarian</td>\n      <td>15</td>\n      <td>30</td>\n      <td>sweet</td>\n      <td>dessert</td>\n      <td>Rajasthan</td>\n      <td>West</td>\n      <td>1</td>\n      <td>...</td>\n      <td>0</td>\n      <td>0</td>\n      <td>0</td>\n      <td>0</td>\n      <td>0</td>\n      <td>1</td>\n      <td>0</td>\n      <td>0</td>\n      <td>0</td>\n      <td>1</td>\n    </tr>\n    <tr>\n      <th>4</th>\n      <td>gulab jamun</td>\n      <td>milk powder, plain flour, baking powder, ghee,...</td>\n      <td>vegetarian</td>\n      <td>15</td>\n      <td>40</td>\n      <td>sweet</td>\n      <td>dessert</td>\n      <td>West Bengal</td>\n      <td>East</td>\n      <td>1</td>\n      <td>...</td>\n      <td>0</td>\n      <td>0</td>\n      <td>0</td>\n      <td>0</td>\n      <td>0</td>\n      <td>1</td>\n      <td>0</td>\n      <td>0</td>\n      <td>0</td>\n      <td>1</td>\n    </tr>\n  </tbody>\n</table>\n<p>5 rows × 48 columns</p>\n</div>"
     },
     "metadata": {},
     "execution_count": 61
    }
   ],
   "source": [
    "# concatinating it with our data frame\n",
    "\n",
    "cdata = pd.concat([cdata, flavor_profile_encoding], axis = 1)\n",
    "cdata.head()"
   ]
  },
  {
   "source": [
    "### feature selection of course"
   ],
   "cell_type": "markdown",
   "metadata": {}
  },
  {
   "cell_type": "code",
   "execution_count": 64,
   "metadata": {},
   "outputs": [
    {
     "output_type": "execute_result",
     "data": {
      "text/plain": [
       "   main course  snack  starter\n",
       "0            0      0        0\n",
       "1            0      0        0\n",
       "2            0      0        0\n",
       "3            0      0        0\n",
       "4            0      0        0"
      ],
      "text/html": "<div>\n<style scoped>\n    .dataframe tbody tr th:only-of-type {\n        vertical-align: middle;\n    }\n\n    .dataframe tbody tr th {\n        vertical-align: top;\n    }\n\n    .dataframe thead th {\n        text-align: right;\n    }\n</style>\n<table border=\"1\" class=\"dataframe\">\n  <thead>\n    <tr style=\"text-align: right;\">\n      <th></th>\n      <th>main course</th>\n      <th>snack</th>\n      <th>starter</th>\n    </tr>\n  </thead>\n  <tbody>\n    <tr>\n      <th>0</th>\n      <td>0</td>\n      <td>0</td>\n      <td>0</td>\n    </tr>\n    <tr>\n      <th>1</th>\n      <td>0</td>\n      <td>0</td>\n      <td>0</td>\n    </tr>\n    <tr>\n      <th>2</th>\n      <td>0</td>\n      <td>0</td>\n      <td>0</td>\n    </tr>\n    <tr>\n      <th>3</th>\n      <td>0</td>\n      <td>0</td>\n      <td>0</td>\n    </tr>\n    <tr>\n      <th>4</th>\n      <td>0</td>\n      <td>0</td>\n      <td>0</td>\n    </tr>\n  </tbody>\n</table>\n</div>"
     },
     "metadata": {},
     "execution_count": 64
    }
   ],
   "source": [
    "\n",
    "# dropping the first column which is dessert for preventing dummy variable trap\n",
    "course_encoding = pd.get_dummies(data.course, drop_first = True)\n",
    "course_encoding.head()"
   ]
  },
  {
   "cell_type": "code",
   "execution_count": 66,
   "metadata": {},
   "outputs": [
    {
     "output_type": "execute_result",
     "data": {
      "text/plain": [
       "             name                                        ingredients  \\\n",
       "0      balu shahi                    maida flour, yogurt, oil, sugar   \n",
       "1          boondi                            gram flour, ghee, sugar   \n",
       "2  gajar ka halwa       carrots, milk, sugar, ghee, cashews, raisins   \n",
       "3          ghevar  flour, ghee, kewra, milk, clarified butter, su...   \n",
       "4     gulab jamun  milk powder, plain flour, baking powder, ghee,...   \n",
       "\n",
       "         diet  prep_time  cook_time flavor_profile   course        state  \\\n",
       "0  vegetarian         45         25          sweet  dessert  West Bengal   \n",
       "1  vegetarian         80         30          sweet  dessert    Rajasthan   \n",
       "2  vegetarian         15         60          sweet  dessert       Punjab   \n",
       "3  vegetarian         15         30          sweet  dessert    Rajasthan   \n",
       "4  vegetarian         15         40          sweet  dessert  West Bengal   \n",
       "\n",
       "  region  sugar  ...  other  sour  spicy  sweet  main course  snack  starter  \\\n",
       "0   East      1  ...      0     0      0      1            0      0        0   \n",
       "1   West      1  ...      0     0      0      1            0      0        0   \n",
       "2  North      1  ...      0     0      0      1            0      0        0   \n",
       "3   West      1  ...      0     0      0      1            0      0        0   \n",
       "4   East      1  ...      0     0      0      1            0      0        0   \n",
       "\n",
       "   main course  snack  starter  \n",
       "0            0      0        0  \n",
       "1            0      0        0  \n",
       "2            0      0        0  \n",
       "3            0      0        0  \n",
       "4            0      0        0  \n",
       "\n",
       "[5 rows x 54 columns]"
      ],
      "text/html": "<div>\n<style scoped>\n    .dataframe tbody tr th:only-of-type {\n        vertical-align: middle;\n    }\n\n    .dataframe tbody tr th {\n        vertical-align: top;\n    }\n\n    .dataframe thead th {\n        text-align: right;\n    }\n</style>\n<table border=\"1\" class=\"dataframe\">\n  <thead>\n    <tr style=\"text-align: right;\">\n      <th></th>\n      <th>name</th>\n      <th>ingredients</th>\n      <th>diet</th>\n      <th>prep_time</th>\n      <th>cook_time</th>\n      <th>flavor_profile</th>\n      <th>course</th>\n      <th>state</th>\n      <th>region</th>\n      <th>sugar</th>\n      <th>...</th>\n      <th>other</th>\n      <th>sour</th>\n      <th>spicy</th>\n      <th>sweet</th>\n      <th>main course</th>\n      <th>snack</th>\n      <th>starter</th>\n      <th>main course</th>\n      <th>snack</th>\n      <th>starter</th>\n    </tr>\n  </thead>\n  <tbody>\n    <tr>\n      <th>0</th>\n      <td>balu shahi</td>\n      <td>maida flour, yogurt, oil, sugar</td>\n      <td>vegetarian</td>\n      <td>45</td>\n      <td>25</td>\n      <td>sweet</td>\n      <td>dessert</td>\n      <td>West Bengal</td>\n      <td>East</td>\n      <td>1</td>\n      <td>...</td>\n      <td>0</td>\n      <td>0</td>\n      <td>0</td>\n      <td>1</td>\n      <td>0</td>\n      <td>0</td>\n      <td>0</td>\n      <td>0</td>\n      <td>0</td>\n      <td>0</td>\n    </tr>\n    <tr>\n      <th>1</th>\n      <td>boondi</td>\n      <td>gram flour, ghee, sugar</td>\n      <td>vegetarian</td>\n      <td>80</td>\n      <td>30</td>\n      <td>sweet</td>\n      <td>dessert</td>\n      <td>Rajasthan</td>\n      <td>West</td>\n      <td>1</td>\n      <td>...</td>\n      <td>0</td>\n      <td>0</td>\n      <td>0</td>\n      <td>1</td>\n      <td>0</td>\n      <td>0</td>\n      <td>0</td>\n      <td>0</td>\n      <td>0</td>\n      <td>0</td>\n    </tr>\n    <tr>\n      <th>2</th>\n      <td>gajar ka halwa</td>\n      <td>carrots, milk, sugar, ghee, cashews, raisins</td>\n      <td>vegetarian</td>\n      <td>15</td>\n      <td>60</td>\n      <td>sweet</td>\n      <td>dessert</td>\n      <td>Punjab</td>\n      <td>North</td>\n      <td>1</td>\n      <td>...</td>\n      <td>0</td>\n      <td>0</td>\n      <td>0</td>\n      <td>1</td>\n      <td>0</td>\n      <td>0</td>\n      <td>0</td>\n      <td>0</td>\n      <td>0</td>\n      <td>0</td>\n    </tr>\n    <tr>\n      <th>3</th>\n      <td>ghevar</td>\n      <td>flour, ghee, kewra, milk, clarified butter, su...</td>\n      <td>vegetarian</td>\n      <td>15</td>\n      <td>30</td>\n      <td>sweet</td>\n      <td>dessert</td>\n      <td>Rajasthan</td>\n      <td>West</td>\n      <td>1</td>\n      <td>...</td>\n      <td>0</td>\n      <td>0</td>\n      <td>0</td>\n      <td>1</td>\n      <td>0</td>\n      <td>0</td>\n      <td>0</td>\n      <td>0</td>\n      <td>0</td>\n      <td>0</td>\n    </tr>\n    <tr>\n      <th>4</th>\n      <td>gulab jamun</td>\n      <td>milk powder, plain flour, baking powder, ghee,...</td>\n      <td>vegetarian</td>\n      <td>15</td>\n      <td>40</td>\n      <td>sweet</td>\n      <td>dessert</td>\n      <td>West Bengal</td>\n      <td>East</td>\n      <td>1</td>\n      <td>...</td>\n      <td>0</td>\n      <td>0</td>\n      <td>0</td>\n      <td>1</td>\n      <td>0</td>\n      <td>0</td>\n      <td>0</td>\n      <td>0</td>\n      <td>0</td>\n      <td>0</td>\n    </tr>\n  </tbody>\n</table>\n<p>5 rows × 54 columns</p>\n</div>"
     },
     "metadata": {},
     "execution_count": 66
    }
   ],
   "source": [
    "# concatinating it with our data frame\n",
    "\n",
    "cdata = pd.concat([cdata, course_encoding], axis = 1)\n",
    "cdata.head()"
   ]
  },
  {
   "source": [
    "### feature selection of state"
   ],
   "cell_type": "markdown",
   "metadata": {}
  },
  {
   "cell_type": "code",
   "execution_count": 68,
   "metadata": {},
   "outputs": [
    {
     "output_type": "execute_result",
     "data": {
      "text/plain": [
       "   Andhra Pradesh  Assam  Bihar  Chhattisgarh  Goa  Gujarat  Haryana  \\\n",
       "0               0      0      0             0    0        0        0   \n",
       "1               0      0      0             0    0        0        0   \n",
       "2               0      0      0             0    0        0        0   \n",
       "3               0      0      0             0    0        0        0   \n",
       "4               0      0      0             0    0        0        0   \n",
       "\n",
       "   Jammu & Kashmir  Karnataka  Kerala  ...  Nagaland  Odisha  Punjab  \\\n",
       "0                0          0       0  ...         0       0       0   \n",
       "1                0          0       0  ...         0       0       0   \n",
       "2                0          0       0  ...         0       0       1   \n",
       "3                0          0       0  ...         0       0       0   \n",
       "4                0          0       0  ...         0       0       0   \n",
       "\n",
       "   Rajasthan  Tamil Nadu  Telangana  Tripura  Uttar Pradesh  Uttarakhand  \\\n",
       "0          0           0          0        0              0            0   \n",
       "1          1           0          0        0              0            0   \n",
       "2          0           0          0        0              0            0   \n",
       "3          1           0          0        0              0            0   \n",
       "4          0           0          0        0              0            0   \n",
       "\n",
       "   West Bengal  \n",
       "0            1  \n",
       "1            0  \n",
       "2            0  \n",
       "3            0  \n",
       "4            1  \n",
       "\n",
       "[5 rows x 24 columns]"
      ],
      "text/html": "<div>\n<style scoped>\n    .dataframe tbody tr th:only-of-type {\n        vertical-align: middle;\n    }\n\n    .dataframe tbody tr th {\n        vertical-align: top;\n    }\n\n    .dataframe thead th {\n        text-align: right;\n    }\n</style>\n<table border=\"1\" class=\"dataframe\">\n  <thead>\n    <tr style=\"text-align: right;\">\n      <th></th>\n      <th>Andhra Pradesh</th>\n      <th>Assam</th>\n      <th>Bihar</th>\n      <th>Chhattisgarh</th>\n      <th>Goa</th>\n      <th>Gujarat</th>\n      <th>Haryana</th>\n      <th>Jammu &amp; Kashmir</th>\n      <th>Karnataka</th>\n      <th>Kerala</th>\n      <th>...</th>\n      <th>Nagaland</th>\n      <th>Odisha</th>\n      <th>Punjab</th>\n      <th>Rajasthan</th>\n      <th>Tamil Nadu</th>\n      <th>Telangana</th>\n      <th>Tripura</th>\n      <th>Uttar Pradesh</th>\n      <th>Uttarakhand</th>\n      <th>West Bengal</th>\n    </tr>\n  </thead>\n  <tbody>\n    <tr>\n      <th>0</th>\n      <td>0</td>\n      <td>0</td>\n      <td>0</td>\n      <td>0</td>\n      <td>0</td>\n      <td>0</td>\n      <td>0</td>\n      <td>0</td>\n      <td>0</td>\n      <td>0</td>\n      <td>...</td>\n      <td>0</td>\n      <td>0</td>\n      <td>0</td>\n      <td>0</td>\n      <td>0</td>\n      <td>0</td>\n      <td>0</td>\n      <td>0</td>\n      <td>0</td>\n      <td>1</td>\n    </tr>\n    <tr>\n      <th>1</th>\n      <td>0</td>\n      <td>0</td>\n      <td>0</td>\n      <td>0</td>\n      <td>0</td>\n      <td>0</td>\n      <td>0</td>\n      <td>0</td>\n      <td>0</td>\n      <td>0</td>\n      <td>...</td>\n      <td>0</td>\n      <td>0</td>\n      <td>0</td>\n      <td>1</td>\n      <td>0</td>\n      <td>0</td>\n      <td>0</td>\n      <td>0</td>\n      <td>0</td>\n      <td>0</td>\n    </tr>\n    <tr>\n      <th>2</th>\n      <td>0</td>\n      <td>0</td>\n      <td>0</td>\n      <td>0</td>\n      <td>0</td>\n      <td>0</td>\n      <td>0</td>\n      <td>0</td>\n      <td>0</td>\n      <td>0</td>\n      <td>...</td>\n      <td>0</td>\n      <td>0</td>\n      <td>1</td>\n      <td>0</td>\n      <td>0</td>\n      <td>0</td>\n      <td>0</td>\n      <td>0</td>\n      <td>0</td>\n      <td>0</td>\n    </tr>\n    <tr>\n      <th>3</th>\n      <td>0</td>\n      <td>0</td>\n      <td>0</td>\n      <td>0</td>\n      <td>0</td>\n      <td>0</td>\n      <td>0</td>\n      <td>0</td>\n      <td>0</td>\n      <td>0</td>\n      <td>...</td>\n      <td>0</td>\n      <td>0</td>\n      <td>0</td>\n      <td>1</td>\n      <td>0</td>\n      <td>0</td>\n      <td>0</td>\n      <td>0</td>\n      <td>0</td>\n      <td>0</td>\n    </tr>\n    <tr>\n      <th>4</th>\n      <td>0</td>\n      <td>0</td>\n      <td>0</td>\n      <td>0</td>\n      <td>0</td>\n      <td>0</td>\n      <td>0</td>\n      <td>0</td>\n      <td>0</td>\n      <td>0</td>\n      <td>...</td>\n      <td>0</td>\n      <td>0</td>\n      <td>0</td>\n      <td>0</td>\n      <td>0</td>\n      <td>0</td>\n      <td>0</td>\n      <td>0</td>\n      <td>0</td>\n      <td>1</td>\n    </tr>\n  </tbody>\n</table>\n<p>5 rows × 24 columns</p>\n</div>"
     },
     "metadata": {},
     "execution_count": 68
    }
   ],
   "source": [
    "# Encoding the state using one hot encoding\n",
    "\n",
    "# dropping first column which is All State for preventing dummy variable trap\n",
    "state_encoding = pd.get_dummies(data.state, drop_first = True)\n",
    "state_encoding.head()"
   ]
  },
  {
   "cell_type": "code",
   "execution_count": 69,
   "metadata": {},
   "outputs": [
    {
     "output_type": "execute_result",
     "data": {
      "text/plain": [
       "             name                                        ingredients  \\\n",
       "0      balu shahi                    maida flour, yogurt, oil, sugar   \n",
       "1          boondi                            gram flour, ghee, sugar   \n",
       "2  gajar ka halwa       carrots, milk, sugar, ghee, cashews, raisins   \n",
       "3          ghevar  flour, ghee, kewra, milk, clarified butter, su...   \n",
       "4     gulab jamun  milk powder, plain flour, baking powder, ghee,...   \n",
       "\n",
       "         diet  prep_time  cook_time flavor_profile   course        state  \\\n",
       "0  vegetarian         45         25          sweet  dessert  West Bengal   \n",
       "1  vegetarian         80         30          sweet  dessert    Rajasthan   \n",
       "2  vegetarian         15         60          sweet  dessert       Punjab   \n",
       "3  vegetarian         15         30          sweet  dessert    Rajasthan   \n",
       "4  vegetarian         15         40          sweet  dessert  West Bengal   \n",
       "\n",
       "  region  sugar  ...  Nagaland  Odisha  Punjab  Rajasthan  Tamil Nadu  \\\n",
       "0   East      1  ...         0       0       0          0           0   \n",
       "1   West      1  ...         0       0       0          1           0   \n",
       "2  North      1  ...         0       0       1          0           0   \n",
       "3   West      1  ...         0       0       0          1           0   \n",
       "4   East      1  ...         0       0       0          0           0   \n",
       "\n",
       "   Telangana  Tripura  Uttar Pradesh  Uttarakhand  West Bengal  \n",
       "0          0        0              0            0            1  \n",
       "1          0        0              0            0            0  \n",
       "2          0        0              0            0            0  \n",
       "3          0        0              0            0            0  \n",
       "4          0        0              0            0            1  \n",
       "\n",
       "[5 rows x 78 columns]"
      ],
      "text/html": "<div>\n<style scoped>\n    .dataframe tbody tr th:only-of-type {\n        vertical-align: middle;\n    }\n\n    .dataframe tbody tr th {\n        vertical-align: top;\n    }\n\n    .dataframe thead th {\n        text-align: right;\n    }\n</style>\n<table border=\"1\" class=\"dataframe\">\n  <thead>\n    <tr style=\"text-align: right;\">\n      <th></th>\n      <th>name</th>\n      <th>ingredients</th>\n      <th>diet</th>\n      <th>prep_time</th>\n      <th>cook_time</th>\n      <th>flavor_profile</th>\n      <th>course</th>\n      <th>state</th>\n      <th>region</th>\n      <th>sugar</th>\n      <th>...</th>\n      <th>Nagaland</th>\n      <th>Odisha</th>\n      <th>Punjab</th>\n      <th>Rajasthan</th>\n      <th>Tamil Nadu</th>\n      <th>Telangana</th>\n      <th>Tripura</th>\n      <th>Uttar Pradesh</th>\n      <th>Uttarakhand</th>\n      <th>West Bengal</th>\n    </tr>\n  </thead>\n  <tbody>\n    <tr>\n      <th>0</th>\n      <td>balu shahi</td>\n      <td>maida flour, yogurt, oil, sugar</td>\n      <td>vegetarian</td>\n      <td>45</td>\n      <td>25</td>\n      <td>sweet</td>\n      <td>dessert</td>\n      <td>West Bengal</td>\n      <td>East</td>\n      <td>1</td>\n      <td>...</td>\n      <td>0</td>\n      <td>0</td>\n      <td>0</td>\n      <td>0</td>\n      <td>0</td>\n      <td>0</td>\n      <td>0</td>\n      <td>0</td>\n      <td>0</td>\n      <td>1</td>\n    </tr>\n    <tr>\n      <th>1</th>\n      <td>boondi</td>\n      <td>gram flour, ghee, sugar</td>\n      <td>vegetarian</td>\n      <td>80</td>\n      <td>30</td>\n      <td>sweet</td>\n      <td>dessert</td>\n      <td>Rajasthan</td>\n      <td>West</td>\n      <td>1</td>\n      <td>...</td>\n      <td>0</td>\n      <td>0</td>\n      <td>0</td>\n      <td>1</td>\n      <td>0</td>\n      <td>0</td>\n      <td>0</td>\n      <td>0</td>\n      <td>0</td>\n      <td>0</td>\n    </tr>\n    <tr>\n      <th>2</th>\n      <td>gajar ka halwa</td>\n      <td>carrots, milk, sugar, ghee, cashews, raisins</td>\n      <td>vegetarian</td>\n      <td>15</td>\n      <td>60</td>\n      <td>sweet</td>\n      <td>dessert</td>\n      <td>Punjab</td>\n      <td>North</td>\n      <td>1</td>\n      <td>...</td>\n      <td>0</td>\n      <td>0</td>\n      <td>1</td>\n      <td>0</td>\n      <td>0</td>\n      <td>0</td>\n      <td>0</td>\n      <td>0</td>\n      <td>0</td>\n      <td>0</td>\n    </tr>\n    <tr>\n      <th>3</th>\n      <td>ghevar</td>\n      <td>flour, ghee, kewra, milk, clarified butter, su...</td>\n      <td>vegetarian</td>\n      <td>15</td>\n      <td>30</td>\n      <td>sweet</td>\n      <td>dessert</td>\n      <td>Rajasthan</td>\n      <td>West</td>\n      <td>1</td>\n      <td>...</td>\n      <td>0</td>\n      <td>0</td>\n      <td>0</td>\n      <td>1</td>\n      <td>0</td>\n      <td>0</td>\n      <td>0</td>\n      <td>0</td>\n      <td>0</td>\n      <td>0</td>\n    </tr>\n    <tr>\n      <th>4</th>\n      <td>gulab jamun</td>\n      <td>milk powder, plain flour, baking powder, ghee,...</td>\n      <td>vegetarian</td>\n      <td>15</td>\n      <td>40</td>\n      <td>sweet</td>\n      <td>dessert</td>\n      <td>West Bengal</td>\n      <td>East</td>\n      <td>1</td>\n      <td>...</td>\n      <td>0</td>\n      <td>0</td>\n      <td>0</td>\n      <td>0</td>\n      <td>0</td>\n      <td>0</td>\n      <td>0</td>\n      <td>0</td>\n      <td>0</td>\n      <td>1</td>\n    </tr>\n  </tbody>\n</table>\n<p>5 rows × 78 columns</p>\n</div>"
     },
     "metadata": {},
     "execution_count": 69
    }
   ],
   "source": [
    "# concatinating it with our data frame\n",
    "cdata = pd.concat([cdata, state_encoding], axis = 1)\n",
    "cdata.head()"
   ]
  },
  {
   "source": [
    "### feature selection region"
   ],
   "cell_type": "markdown",
   "metadata": {}
  },
  {
   "cell_type": "code",
   "execution_count": 70,
   "metadata": {},
   "outputs": [
    {
     "output_type": "execute_result",
     "data": {
      "text/plain": [
       "   Central  East  North  North East  South  West\n",
       "0        0     1      0           0      0     0\n",
       "1        0     0      0           0      0     1\n",
       "2        0     0      1           0      0     0\n",
       "3        0     0      0           0      0     1\n",
       "4        0     1      0           0      0     0"
      ],
      "text/html": "<div>\n<style scoped>\n    .dataframe tbody tr th:only-of-type {\n        vertical-align: middle;\n    }\n\n    .dataframe tbody tr th {\n        vertical-align: top;\n    }\n\n    .dataframe thead th {\n        text-align: right;\n    }\n</style>\n<table border=\"1\" class=\"dataframe\">\n  <thead>\n    <tr style=\"text-align: right;\">\n      <th></th>\n      <th>Central</th>\n      <th>East</th>\n      <th>North</th>\n      <th>North East</th>\n      <th>South</th>\n      <th>West</th>\n    </tr>\n  </thead>\n  <tbody>\n    <tr>\n      <th>0</th>\n      <td>0</td>\n      <td>1</td>\n      <td>0</td>\n      <td>0</td>\n      <td>0</td>\n      <td>0</td>\n    </tr>\n    <tr>\n      <th>1</th>\n      <td>0</td>\n      <td>0</td>\n      <td>0</td>\n      <td>0</td>\n      <td>0</td>\n      <td>1</td>\n    </tr>\n    <tr>\n      <th>2</th>\n      <td>0</td>\n      <td>0</td>\n      <td>1</td>\n      <td>0</td>\n      <td>0</td>\n      <td>0</td>\n    </tr>\n    <tr>\n      <th>3</th>\n      <td>0</td>\n      <td>0</td>\n      <td>0</td>\n      <td>0</td>\n      <td>0</td>\n      <td>1</td>\n    </tr>\n    <tr>\n      <th>4</th>\n      <td>0</td>\n      <td>1</td>\n      <td>0</td>\n      <td>0</td>\n      <td>0</td>\n      <td>0</td>\n    </tr>\n  </tbody>\n</table>\n</div>"
     },
     "metadata": {},
     "execution_count": 70
    }
   ],
   "source": [
    "# Encoding region using one hot encoding\n",
    "\n",
    "# dropping the first column which is All Region for preventing dummy variable trap\n",
    "region_encoding = pd.get_dummies(data.region, drop_first = True)\n",
    "region_encoding.head()"
   ]
  },
  {
   "cell_type": "code",
   "execution_count": 71,
   "metadata": {},
   "outputs": [
    {
     "output_type": "execute_result",
     "data": {
      "text/plain": [
       "             name                                        ingredients  \\\n",
       "0      balu shahi                    maida flour, yogurt, oil, sugar   \n",
       "1          boondi                            gram flour, ghee, sugar   \n",
       "2  gajar ka halwa       carrots, milk, sugar, ghee, cashews, raisins   \n",
       "3          ghevar  flour, ghee, kewra, milk, clarified butter, su...   \n",
       "4     gulab jamun  milk powder, plain flour, baking powder, ghee,...   \n",
       "\n",
       "         diet  prep_time  cook_time flavor_profile   course        state  \\\n",
       "0  vegetarian         45         25          sweet  dessert  West Bengal   \n",
       "1  vegetarian         80         30          sweet  dessert    Rajasthan   \n",
       "2  vegetarian         15         60          sweet  dessert       Punjab   \n",
       "3  vegetarian         15         30          sweet  dessert    Rajasthan   \n",
       "4  vegetarian         15         40          sweet  dessert  West Bengal   \n",
       "\n",
       "  region  sugar  ...  Tripura  Uttar Pradesh  Uttarakhand  West Bengal  \\\n",
       "0   East      1  ...        0              0            0            1   \n",
       "1   West      1  ...        0              0            0            0   \n",
       "2  North      1  ...        0              0            0            0   \n",
       "3   West      1  ...        0              0            0            0   \n",
       "4   East      1  ...        0              0            0            1   \n",
       "\n",
       "   Central  East  North  North East  South  West  \n",
       "0        0     1      0           0      0     0  \n",
       "1        0     0      0           0      0     1  \n",
       "2        0     0      1           0      0     0  \n",
       "3        0     0      0           0      0     1  \n",
       "4        0     1      0           0      0     0  \n",
       "\n",
       "[5 rows x 84 columns]"
      ],
      "text/html": "<div>\n<style scoped>\n    .dataframe tbody tr th:only-of-type {\n        vertical-align: middle;\n    }\n\n    .dataframe tbody tr th {\n        vertical-align: top;\n    }\n\n    .dataframe thead th {\n        text-align: right;\n    }\n</style>\n<table border=\"1\" class=\"dataframe\">\n  <thead>\n    <tr style=\"text-align: right;\">\n      <th></th>\n      <th>name</th>\n      <th>ingredients</th>\n      <th>diet</th>\n      <th>prep_time</th>\n      <th>cook_time</th>\n      <th>flavor_profile</th>\n      <th>course</th>\n      <th>state</th>\n      <th>region</th>\n      <th>sugar</th>\n      <th>...</th>\n      <th>Tripura</th>\n      <th>Uttar Pradesh</th>\n      <th>Uttarakhand</th>\n      <th>West Bengal</th>\n      <th>Central</th>\n      <th>East</th>\n      <th>North</th>\n      <th>North East</th>\n      <th>South</th>\n      <th>West</th>\n    </tr>\n  </thead>\n  <tbody>\n    <tr>\n      <th>0</th>\n      <td>balu shahi</td>\n      <td>maida flour, yogurt, oil, sugar</td>\n      <td>vegetarian</td>\n      <td>45</td>\n      <td>25</td>\n      <td>sweet</td>\n      <td>dessert</td>\n      <td>West Bengal</td>\n      <td>East</td>\n      <td>1</td>\n      <td>...</td>\n      <td>0</td>\n      <td>0</td>\n      <td>0</td>\n      <td>1</td>\n      <td>0</td>\n      <td>1</td>\n      <td>0</td>\n      <td>0</td>\n      <td>0</td>\n      <td>0</td>\n    </tr>\n    <tr>\n      <th>1</th>\n      <td>boondi</td>\n      <td>gram flour, ghee, sugar</td>\n      <td>vegetarian</td>\n      <td>80</td>\n      <td>30</td>\n      <td>sweet</td>\n      <td>dessert</td>\n      <td>Rajasthan</td>\n      <td>West</td>\n      <td>1</td>\n      <td>...</td>\n      <td>0</td>\n      <td>0</td>\n      <td>0</td>\n      <td>0</td>\n      <td>0</td>\n      <td>0</td>\n      <td>0</td>\n      <td>0</td>\n      <td>0</td>\n      <td>1</td>\n    </tr>\n    <tr>\n      <th>2</th>\n      <td>gajar ka halwa</td>\n      <td>carrots, milk, sugar, ghee, cashews, raisins</td>\n      <td>vegetarian</td>\n      <td>15</td>\n      <td>60</td>\n      <td>sweet</td>\n      <td>dessert</td>\n      <td>Punjab</td>\n      <td>North</td>\n      <td>1</td>\n      <td>...</td>\n      <td>0</td>\n      <td>0</td>\n      <td>0</td>\n      <td>0</td>\n      <td>0</td>\n      <td>0</td>\n      <td>1</td>\n      <td>0</td>\n      <td>0</td>\n      <td>0</td>\n    </tr>\n    <tr>\n      <th>3</th>\n      <td>ghevar</td>\n      <td>flour, ghee, kewra, milk, clarified butter, su...</td>\n      <td>vegetarian</td>\n      <td>15</td>\n      <td>30</td>\n      <td>sweet</td>\n      <td>dessert</td>\n      <td>Rajasthan</td>\n      <td>West</td>\n      <td>1</td>\n      <td>...</td>\n      <td>0</td>\n      <td>0</td>\n      <td>0</td>\n      <td>0</td>\n      <td>0</td>\n      <td>0</td>\n      <td>0</td>\n      <td>0</td>\n      <td>0</td>\n      <td>1</td>\n    </tr>\n    <tr>\n      <th>4</th>\n      <td>gulab jamun</td>\n      <td>milk powder, plain flour, baking powder, ghee,...</td>\n      <td>vegetarian</td>\n      <td>15</td>\n      <td>40</td>\n      <td>sweet</td>\n      <td>dessert</td>\n      <td>West Bengal</td>\n      <td>East</td>\n      <td>1</td>\n      <td>...</td>\n      <td>0</td>\n      <td>0</td>\n      <td>0</td>\n      <td>1</td>\n      <td>0</td>\n      <td>1</td>\n      <td>0</td>\n      <td>0</td>\n      <td>0</td>\n      <td>0</td>\n    </tr>\n  </tbody>\n</table>\n<p>5 rows × 84 columns</p>\n</div>"
     },
     "metadata": {},
     "execution_count": 71
    }
   ],
   "source": [
    "# concatinating it with our data frame\n",
    "cdata = pd.concat([cdata, region_encoding], axis = 1)\n",
    "cdata.head()"
   ]
  },
  {
   "source": [
    "### creating final data frame"
   ],
   "cell_type": "markdown",
   "metadata": {}
  },
  {
   "cell_type": "code",
   "execution_count": 72,
   "metadata": {},
   "outputs": [
    {
     "output_type": "execute_result",
     "data": {
      "text/plain": [
       "             name  sugar  ginger  garam masala  urad dal  ghee  curry leaves  \\\n",
       "0      balu shahi      1       0             0         0     0             0   \n",
       "1          boondi      1       0             0         0     1             0   \n",
       "2  gajar ka halwa      1       0             0         0     1             0   \n",
       "3          ghevar      1       0             0         0     1             0   \n",
       "4     gulab jamun      1       0             0         0     1             0   \n",
       "\n",
       "   rice flour  milk  jaggery  ...  Tripura  Uttar Pradesh  Uttarakhand  \\\n",
       "0           0     0        0  ...        0              0            0   \n",
       "1           0     0        0  ...        0              0            0   \n",
       "2           0     1        0  ...        0              0            0   \n",
       "3           0     1        0  ...        0              0            0   \n",
       "4           0     1        0  ...        0              0            0   \n",
       "\n",
       "   West Bengal  Central  East  North  North East  South  West  \n",
       "0            1        0     1      0           0      0     0  \n",
       "1            0        0     0      0           0      0     1  \n",
       "2            0        0     0      1           0      0     0  \n",
       "3            0        0     0      0           0      0     1  \n",
       "4            1        0     1      0           0      0     0  \n",
       "\n",
       "[5 rows x 76 columns]"
      ],
      "text/html": "<div>\n<style scoped>\n    .dataframe tbody tr th:only-of-type {\n        vertical-align: middle;\n    }\n\n    .dataframe tbody tr th {\n        vertical-align: top;\n    }\n\n    .dataframe thead th {\n        text-align: right;\n    }\n</style>\n<table border=\"1\" class=\"dataframe\">\n  <thead>\n    <tr style=\"text-align: right;\">\n      <th></th>\n      <th>name</th>\n      <th>sugar</th>\n      <th>ginger</th>\n      <th>garam masala</th>\n      <th>urad dal</th>\n      <th>ghee</th>\n      <th>curry leaves</th>\n      <th>rice flour</th>\n      <th>milk</th>\n      <th>jaggery</th>\n      <th>...</th>\n      <th>Tripura</th>\n      <th>Uttar Pradesh</th>\n      <th>Uttarakhand</th>\n      <th>West Bengal</th>\n      <th>Central</th>\n      <th>East</th>\n      <th>North</th>\n      <th>North East</th>\n      <th>South</th>\n      <th>West</th>\n    </tr>\n  </thead>\n  <tbody>\n    <tr>\n      <th>0</th>\n      <td>balu shahi</td>\n      <td>1</td>\n      <td>0</td>\n      <td>0</td>\n      <td>0</td>\n      <td>0</td>\n      <td>0</td>\n      <td>0</td>\n      <td>0</td>\n      <td>0</td>\n      <td>...</td>\n      <td>0</td>\n      <td>0</td>\n      <td>0</td>\n      <td>1</td>\n      <td>0</td>\n      <td>1</td>\n      <td>0</td>\n      <td>0</td>\n      <td>0</td>\n      <td>0</td>\n    </tr>\n    <tr>\n      <th>1</th>\n      <td>boondi</td>\n      <td>1</td>\n      <td>0</td>\n      <td>0</td>\n      <td>0</td>\n      <td>1</td>\n      <td>0</td>\n      <td>0</td>\n      <td>0</td>\n      <td>0</td>\n      <td>...</td>\n      <td>0</td>\n      <td>0</td>\n      <td>0</td>\n      <td>0</td>\n      <td>0</td>\n      <td>0</td>\n      <td>0</td>\n      <td>0</td>\n      <td>0</td>\n      <td>1</td>\n    </tr>\n    <tr>\n      <th>2</th>\n      <td>gajar ka halwa</td>\n      <td>1</td>\n      <td>0</td>\n      <td>0</td>\n      <td>0</td>\n      <td>1</td>\n      <td>0</td>\n      <td>0</td>\n      <td>1</td>\n      <td>0</td>\n      <td>...</td>\n      <td>0</td>\n      <td>0</td>\n      <td>0</td>\n      <td>0</td>\n      <td>0</td>\n      <td>0</td>\n      <td>1</td>\n      <td>0</td>\n      <td>0</td>\n      <td>0</td>\n    </tr>\n    <tr>\n      <th>3</th>\n      <td>ghevar</td>\n      <td>1</td>\n      <td>0</td>\n      <td>0</td>\n      <td>0</td>\n      <td>1</td>\n      <td>0</td>\n      <td>0</td>\n      <td>1</td>\n      <td>0</td>\n      <td>...</td>\n      <td>0</td>\n      <td>0</td>\n      <td>0</td>\n      <td>0</td>\n      <td>0</td>\n      <td>0</td>\n      <td>0</td>\n      <td>0</td>\n      <td>0</td>\n      <td>1</td>\n    </tr>\n    <tr>\n      <th>4</th>\n      <td>gulab jamun</td>\n      <td>1</td>\n      <td>0</td>\n      <td>0</td>\n      <td>0</td>\n      <td>1</td>\n      <td>0</td>\n      <td>0</td>\n      <td>1</td>\n      <td>0</td>\n      <td>...</td>\n      <td>0</td>\n      <td>0</td>\n      <td>0</td>\n      <td>1</td>\n      <td>0</td>\n      <td>1</td>\n      <td>0</td>\n      <td>0</td>\n      <td>0</td>\n      <td>0</td>\n    </tr>\n  </tbody>\n</table>\n<p>5 rows × 76 columns</p>\n</div>"
     },
     "metadata": {},
     "execution_count": 72
    }
   ],
   "source": [
    "# removing unnecessary columns which are not required anymore\n",
    "\n",
    "final_data = cdata.drop(columns = ['ingredients', 'diet', 'prep_time', 'cook_time',\n",
    "       'flavor_profile', 'course', 'state', 'region'])\n",
    "\n",
    "final_data.head()"
   ]
  },
  {
   "cell_type": "code",
   "execution_count": 79,
   "metadata": {},
   "outputs": [
    {
     "output_type": "execute_result",
     "data": {
      "text/plain": [
       "                sugar  ginger  garam masala  urad dal  ghee  curry leaves  \\\n",
       "name                                                                        \n",
       "balu shahi          1       0             0         0     0             0   \n",
       "boondi              1       0             0         0     1             0   \n",
       "gajar ka halwa      1       0             0         0     1             0   \n",
       "ghevar              1       0             0         0     1             0   \n",
       "gulab jamun         1       0             0         0     1             0   \n",
       "\n",
       "                rice flour  milk  jaggery  chana dal  ...  Tripura  \\\n",
       "name                                                  ...            \n",
       "balu shahi               0     0        0          0  ...        0   \n",
       "boondi                   0     0        0          0  ...        0   \n",
       "gajar ka halwa           0     1        0          0  ...        0   \n",
       "ghevar                   0     1        0          0  ...        0   \n",
       "gulab jamun              0     1        0          0  ...        0   \n",
       "\n",
       "                Uttar Pradesh  Uttarakhand  West Bengal  Central  East  North  \\\n",
       "name                                                                            \n",
       "balu shahi                  0            0            1        0     1      0   \n",
       "boondi                      0            0            0        0     0      0   \n",
       "gajar ka halwa              0            0            0        0     0      1   \n",
       "ghevar                      0            0            0        0     0      0   \n",
       "gulab jamun                 0            0            1        0     1      0   \n",
       "\n",
       "                North East  South  West  \n",
       "name                                     \n",
       "balu shahi               0      0     0  \n",
       "boondi                   0      0     1  \n",
       "gajar ka halwa           0      0     0  \n",
       "ghevar                   0      0     1  \n",
       "gulab jamun              0      0     0  \n",
       "\n",
       "[5 rows x 75 columns]"
      ],
      "text/html": "<div>\n<style scoped>\n    .dataframe tbody tr th:only-of-type {\n        vertical-align: middle;\n    }\n\n    .dataframe tbody tr th {\n        vertical-align: top;\n    }\n\n    .dataframe thead th {\n        text-align: right;\n    }\n</style>\n<table border=\"1\" class=\"dataframe\">\n  <thead>\n    <tr style=\"text-align: right;\">\n      <th></th>\n      <th>sugar</th>\n      <th>ginger</th>\n      <th>garam masala</th>\n      <th>urad dal</th>\n      <th>ghee</th>\n      <th>curry leaves</th>\n      <th>rice flour</th>\n      <th>milk</th>\n      <th>jaggery</th>\n      <th>chana dal</th>\n      <th>...</th>\n      <th>Tripura</th>\n      <th>Uttar Pradesh</th>\n      <th>Uttarakhand</th>\n      <th>West Bengal</th>\n      <th>Central</th>\n      <th>East</th>\n      <th>North</th>\n      <th>North East</th>\n      <th>South</th>\n      <th>West</th>\n    </tr>\n    <tr>\n      <th>name</th>\n      <th></th>\n      <th></th>\n      <th></th>\n      <th></th>\n      <th></th>\n      <th></th>\n      <th></th>\n      <th></th>\n      <th></th>\n      <th></th>\n      <th></th>\n      <th></th>\n      <th></th>\n      <th></th>\n      <th></th>\n      <th></th>\n      <th></th>\n      <th></th>\n      <th></th>\n      <th></th>\n      <th></th>\n    </tr>\n  </thead>\n  <tbody>\n    <tr>\n      <th>balu shahi</th>\n      <td>1</td>\n      <td>0</td>\n      <td>0</td>\n      <td>0</td>\n      <td>0</td>\n      <td>0</td>\n      <td>0</td>\n      <td>0</td>\n      <td>0</td>\n      <td>0</td>\n      <td>...</td>\n      <td>0</td>\n      <td>0</td>\n      <td>0</td>\n      <td>1</td>\n      <td>0</td>\n      <td>1</td>\n      <td>0</td>\n      <td>0</td>\n      <td>0</td>\n      <td>0</td>\n    </tr>\n    <tr>\n      <th>boondi</th>\n      <td>1</td>\n      <td>0</td>\n      <td>0</td>\n      <td>0</td>\n      <td>1</td>\n      <td>0</td>\n      <td>0</td>\n      <td>0</td>\n      <td>0</td>\n      <td>0</td>\n      <td>...</td>\n      <td>0</td>\n      <td>0</td>\n      <td>0</td>\n      <td>0</td>\n      <td>0</td>\n      <td>0</td>\n      <td>0</td>\n      <td>0</td>\n      <td>0</td>\n      <td>1</td>\n    </tr>\n    <tr>\n      <th>gajar ka halwa</th>\n      <td>1</td>\n      <td>0</td>\n      <td>0</td>\n      <td>0</td>\n      <td>1</td>\n      <td>0</td>\n      <td>0</td>\n      <td>1</td>\n      <td>0</td>\n      <td>0</td>\n      <td>...</td>\n      <td>0</td>\n      <td>0</td>\n      <td>0</td>\n      <td>0</td>\n      <td>0</td>\n      <td>0</td>\n      <td>1</td>\n      <td>0</td>\n      <td>0</td>\n      <td>0</td>\n    </tr>\n    <tr>\n      <th>ghevar</th>\n      <td>1</td>\n      <td>0</td>\n      <td>0</td>\n      <td>0</td>\n      <td>1</td>\n      <td>0</td>\n      <td>0</td>\n      <td>1</td>\n      <td>0</td>\n      <td>0</td>\n      <td>...</td>\n      <td>0</td>\n      <td>0</td>\n      <td>0</td>\n      <td>0</td>\n      <td>0</td>\n      <td>0</td>\n      <td>0</td>\n      <td>0</td>\n      <td>0</td>\n      <td>1</td>\n    </tr>\n    <tr>\n      <th>gulab jamun</th>\n      <td>1</td>\n      <td>0</td>\n      <td>0</td>\n      <td>0</td>\n      <td>1</td>\n      <td>0</td>\n      <td>0</td>\n      <td>1</td>\n      <td>0</td>\n      <td>0</td>\n      <td>...</td>\n      <td>0</td>\n      <td>0</td>\n      <td>0</td>\n      <td>1</td>\n      <td>0</td>\n      <td>1</td>\n      <td>0</td>\n      <td>0</td>\n      <td>0</td>\n      <td>0</td>\n    </tr>\n  </tbody>\n</table>\n<p>5 rows × 75 columns</p>\n</div>"
     },
     "metadata": {},
     "execution_count": 79
    }
   ],
   "source": [
    "# as wer are going to use Nearest Neighbors using cosine similarity for model purpose we take name column as a index\n",
    "\n",
    "final_data.set_index(\"name\", inplace = True)\n",
    "final_data.head()"
   ]
  },
  {
   "source": [
    "## Model Builiding"
   ],
   "cell_type": "markdown",
   "metadata": {}
  },
  {
   "cell_type": "code",
   "execution_count": 80,
   "metadata": {},
   "outputs": [
    {
     "output_type": "execute_result",
     "data": {
      "text/plain": [
       "NearestNeighbors(algorithm='brute', metric='cosine')"
      ]
     },
     "metadata": {},
     "execution_count": 80
    }
   ],
   "source": [
    "# We use cosine similarity to recommend the dishes\n",
    "# We use Nearest Neighbors for implementing cosine distance\n",
    "# consine distance = 1 - cosine similarity\n",
    "\n",
    "# we use Nearest Neighbors with metric cosine and brute algorithm\n",
    "\n",
    "from sklearn.neighbors import NearestNeighbors\n",
    "\n",
    "model = NearestNeighbors(metric = \"1\", algorithm = \"brute\")\n",
    "model.fit(final_data)\n"
   ]
  },
  {
   "cell_type": "code",
   "execution_count": 87,
   "metadata": {},
   "outputs": [
    {
     "output_type": "execute_result",
     "data": {
      "text/plain": [
       "'nankhatai'"
      ]
     },
     "metadata": {},
     "execution_count": 87
    }
   ],
   "source": [
    "# the model is ready for testing\n",
    "picked_dish = final_data.index[np.random.choice(final_data.shape[0])]\n",
    "picked_dish"
   ]
  },
  {
   "cell_type": "code",
   "execution_count": 88,
   "metadata": {},
   "outputs": [],
   "source": [
    "# findig the recommened dish using our model\n",
    "# the model return distance and index\n",
    "# distance indicates  how far that similarity of that recommended dish with our picked dish\n",
    "# index indicates a index of our final data which is a name of dish\n",
    "\n",
    "# we take 10 recommended dishes for my the chosen dish\n",
    "distance, dish_index = model.kneighbors(final_data[final_data.index == picked_dish], n_neighbors = 11)"
   ]
  },
  {
   "cell_type": "code",
   "execution_count": 89,
   "metadata": {},
   "outputs": [
    {
     "output_type": "execute_result",
     "data": {
      "text/plain": [
       "array([[1.11022302e-16, 1.11022302e-16, 2.00000000e-01, 2.09430585e-01,\n",
       "        2.25403331e-01, 2.54644008e-01, 2.54644008e-01, 2.69703257e-01,\n",
       "        2.69703257e-01, 2.69703257e-01, 2.69703257e-01]])"
      ]
     },
     "metadata": {},
     "execution_count": 89
    }
   ],
   "source": [
    "distance"
   ]
  },
  {
   "cell_type": "code",
   "execution_count": 90,
   "metadata": {},
   "outputs": [
    {
     "output_type": "execute_result",
     "data": {
      "text/plain": [
       "array([[ 7, 12, 10, 38, 96,  3, 19, 30, 25, 63, 28]])"
      ]
     },
     "metadata": {},
     "execution_count": 90
    }
   ],
   "source": [
    "dish_index"
   ]
  },
  {
   "cell_type": "code",
   "execution_count": 92,
   "metadata": {},
   "outputs": [
    {
     "output_type": "stream",
     "name": "stdout",
     "text": [
      "Recommendations for  nankhatai  are following\n1 .  kaju katli  with distance  1.1102230246251565e-16\n2 .  laddu  with distance  0.20000000000000007\n3 .  bandar laddu  with distance  0.20943058495790523\n4 .  kulfi falooda  with distance  0.2254033307585166\n5 .  ghevar  with distance  0.2546440075000702\n6 .  sohan papdi  with distance  0.2546440075000702\n7 .  pantua  with distance  0.26970325665977846\n8 .  ledikeni  with distance  0.26970325665977846\n9 .  sutar feni  with distance  0.26970325665977846\n10 .  mihidana  with distance  0.26970325665977846\n"
     ]
    }
   ],
   "source": [
    "\n",
    "# we get 2D arrays so we convert it into 1D\n",
    "\n",
    "distance = distance.flatten()\n",
    "dish_index = dish_index.flatten()\n",
    "\n",
    "# probably first one is always our picked dish, so wer negleect it\n",
    "print(\"Recommendations for \", picked_dish, \" are following\")\n",
    "\n",
    "count = 1\n",
    "for i in range(dish_index.size):\n",
    "    if final_data.index[dish_index[i]] == picked_dish:\n",
    "        continue\n",
    "    print(count, \". \", final_data.index[dish_index[i]], \" with distance \", distance[i])\n",
    "    count += 1"
   ]
  },
  {
   "cell_type": "code",
   "execution_count": 303,
   "metadata": {},
   "outputs": [],
   "source": [
    "# exporting our main data for showing data on web app\n",
    "data.to_csv(\"cleaned_data.csv\", index = False)\n",
    "# exporting our final_data for usage on frontend part for getting recommendation\n",
    "final_data.to_csv(\"model_data.csv\")"
   ]
  },
  {
   "cell_type": "code",
   "execution_count": 304,
   "metadata": {},
   "outputs": [],
   "source": [
    "# exporting model using pickle file\n",
    "\n",
    "import pickle   \n",
    "with open(\"model.pickle\", \"wb\") as f:\n",
    "    pickle.dump(model, f)"
   ]
  },
  {
   "cell_type": "code",
   "execution_count": null,
   "metadata": {},
   "outputs": [],
   "source": []
  }
 ],
 "metadata": {
  "kernelspec": {
   "name": "python385jvsc74a57bd08aa5ded8f4da2a3adc734187758fd51794e844a6b8eb08a1145552ce4633619a",
   "display_name": "Python 3.8.5 64-bit ('myvenv': venv)"
  },
  "language_info": {
   "codemirror_mode": {
    "name": "ipython",
    "version": 3
   },
   "file_extension": ".py",
   "mimetype": "text/x-python",
   "name": "python",
   "nbconvert_exporter": "python",
   "pygments_lexer": "ipython3",
   "version": "3.8.5"
  },
  "metadata": {
   "interpreter": {
    "hash": "8aa5ded8f4da2a3adc734187758fd51794e844a6b8eb08a1145552ce4633619a"
   }
  }
 },
 "nbformat": 4,
 "nbformat_minor": 2
}